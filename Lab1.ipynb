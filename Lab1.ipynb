{
  "nbformat": 4,
  "nbformat_minor": 0,
  "metadata": {
    "colab": {
      "provenance": [],
      "include_colab_link": true
    },
    "kernelspec": {
      "name": "python3",
      "display_name": "Python 3"
    },
    "language_info": {
      "name": "python"
    },
    "widgets": {
      "application/vnd.jupyter.widget-state+json": {
        "aa10f5d0cc0a46759c14603f157ee796": {
          "model_module": "@jupyter-widgets/controls",
          "model_name": "HBoxModel",
          "model_module_version": "1.5.0",
          "state": {
            "_dom_classes": [],
            "_model_module": "@jupyter-widgets/controls",
            "_model_module_version": "1.5.0",
            "_model_name": "HBoxModel",
            "_view_count": null,
            "_view_module": "@jupyter-widgets/controls",
            "_view_module_version": "1.5.0",
            "_view_name": "HBoxView",
            "box_style": "",
            "children": [
              "IPY_MODEL_bf96a32585fd43db99d8f3741ad227af",
              "IPY_MODEL_41b8e6fa5b534065ae800af5982c5cc4",
              "IPY_MODEL_919578a69b7d477abbc10d6c027d8050"
            ],
            "layout": "IPY_MODEL_8bab253e0faa43029aa70e5bdc1280bd"
          }
        },
        "bf96a32585fd43db99d8f3741ad227af": {
          "model_module": "@jupyter-widgets/controls",
          "model_name": "HTMLModel",
          "model_module_version": "1.5.0",
          "state": {
            "_dom_classes": [],
            "_model_module": "@jupyter-widgets/controls",
            "_model_module_version": "1.5.0",
            "_model_name": "HTMLModel",
            "_view_count": null,
            "_view_module": "@jupyter-widgets/controls",
            "_view_module_version": "1.5.0",
            "_view_name": "HTMLView",
            "description": "",
            "description_tooltip": null,
            "layout": "IPY_MODEL_39f9c440d9004d4ca9a596749df28006",
            "placeholder": "​",
            "style": "IPY_MODEL_71fd7e8f3a594bf689d098c619b4cbf5",
            "value": "100%"
          }
        },
        "41b8e6fa5b534065ae800af5982c5cc4": {
          "model_module": "@jupyter-widgets/controls",
          "model_name": "FloatProgressModel",
          "model_module_version": "1.5.0",
          "state": {
            "_dom_classes": [],
            "_model_module": "@jupyter-widgets/controls",
            "_model_module_version": "1.5.0",
            "_model_name": "FloatProgressModel",
            "_view_count": null,
            "_view_module": "@jupyter-widgets/controls",
            "_view_module_version": "1.5.0",
            "_view_name": "ProgressView",
            "bar_style": "success",
            "description": "",
            "description_tooltip": null,
            "layout": "IPY_MODEL_e6aaca09e8f34f838a3d9866791a76c0",
            "max": 100,
            "min": 0,
            "orientation": "horizontal",
            "style": "IPY_MODEL_031a9eb517f4474fa7cd28ced109af21",
            "value": 100
          }
        },
        "919578a69b7d477abbc10d6c027d8050": {
          "model_module": "@jupyter-widgets/controls",
          "model_name": "HTMLModel",
          "model_module_version": "1.5.0",
          "state": {
            "_dom_classes": [],
            "_model_module": "@jupyter-widgets/controls",
            "_model_module_version": "1.5.0",
            "_model_name": "HTMLModel",
            "_view_count": null,
            "_view_module": "@jupyter-widgets/controls",
            "_view_module_version": "1.5.0",
            "_view_name": "HTMLView",
            "description": "",
            "description_tooltip": null,
            "layout": "IPY_MODEL_f7ed4e96b6f44026a5b3ac29e3019479",
            "placeholder": "​",
            "style": "IPY_MODEL_1f1314c3ddce42c6a8943a9d19023525",
            "value": " 100/100 [00:03&lt;00:00, 27.91it/s]"
          }
        },
        "8bab253e0faa43029aa70e5bdc1280bd": {
          "model_module": "@jupyter-widgets/base",
          "model_name": "LayoutModel",
          "model_module_version": "1.2.0",
          "state": {
            "_model_module": "@jupyter-widgets/base",
            "_model_module_version": "1.2.0",
            "_model_name": "LayoutModel",
            "_view_count": null,
            "_view_module": "@jupyter-widgets/base",
            "_view_module_version": "1.2.0",
            "_view_name": "LayoutView",
            "align_content": null,
            "align_items": null,
            "align_self": null,
            "border": null,
            "bottom": null,
            "display": null,
            "flex": null,
            "flex_flow": null,
            "grid_area": null,
            "grid_auto_columns": null,
            "grid_auto_flow": null,
            "grid_auto_rows": null,
            "grid_column": null,
            "grid_gap": null,
            "grid_row": null,
            "grid_template_areas": null,
            "grid_template_columns": null,
            "grid_template_rows": null,
            "height": null,
            "justify_content": null,
            "justify_items": null,
            "left": null,
            "margin": null,
            "max_height": null,
            "max_width": null,
            "min_height": null,
            "min_width": null,
            "object_fit": null,
            "object_position": null,
            "order": null,
            "overflow": null,
            "overflow_x": null,
            "overflow_y": null,
            "padding": null,
            "right": null,
            "top": null,
            "visibility": null,
            "width": null
          }
        },
        "39f9c440d9004d4ca9a596749df28006": {
          "model_module": "@jupyter-widgets/base",
          "model_name": "LayoutModel",
          "model_module_version": "1.2.0",
          "state": {
            "_model_module": "@jupyter-widgets/base",
            "_model_module_version": "1.2.0",
            "_model_name": "LayoutModel",
            "_view_count": null,
            "_view_module": "@jupyter-widgets/base",
            "_view_module_version": "1.2.0",
            "_view_name": "LayoutView",
            "align_content": null,
            "align_items": null,
            "align_self": null,
            "border": null,
            "bottom": null,
            "display": null,
            "flex": null,
            "flex_flow": null,
            "grid_area": null,
            "grid_auto_columns": null,
            "grid_auto_flow": null,
            "grid_auto_rows": null,
            "grid_column": null,
            "grid_gap": null,
            "grid_row": null,
            "grid_template_areas": null,
            "grid_template_columns": null,
            "grid_template_rows": null,
            "height": null,
            "justify_content": null,
            "justify_items": null,
            "left": null,
            "margin": null,
            "max_height": null,
            "max_width": null,
            "min_height": null,
            "min_width": null,
            "object_fit": null,
            "object_position": null,
            "order": null,
            "overflow": null,
            "overflow_x": null,
            "overflow_y": null,
            "padding": null,
            "right": null,
            "top": null,
            "visibility": null,
            "width": null
          }
        },
        "71fd7e8f3a594bf689d098c619b4cbf5": {
          "model_module": "@jupyter-widgets/controls",
          "model_name": "DescriptionStyleModel",
          "model_module_version": "1.5.0",
          "state": {
            "_model_module": "@jupyter-widgets/controls",
            "_model_module_version": "1.5.0",
            "_model_name": "DescriptionStyleModel",
            "_view_count": null,
            "_view_module": "@jupyter-widgets/base",
            "_view_module_version": "1.2.0",
            "_view_name": "StyleView",
            "description_width": ""
          }
        },
        "e6aaca09e8f34f838a3d9866791a76c0": {
          "model_module": "@jupyter-widgets/base",
          "model_name": "LayoutModel",
          "model_module_version": "1.2.0",
          "state": {
            "_model_module": "@jupyter-widgets/base",
            "_model_module_version": "1.2.0",
            "_model_name": "LayoutModel",
            "_view_count": null,
            "_view_module": "@jupyter-widgets/base",
            "_view_module_version": "1.2.0",
            "_view_name": "LayoutView",
            "align_content": null,
            "align_items": null,
            "align_self": null,
            "border": null,
            "bottom": null,
            "display": null,
            "flex": null,
            "flex_flow": null,
            "grid_area": null,
            "grid_auto_columns": null,
            "grid_auto_flow": null,
            "grid_auto_rows": null,
            "grid_column": null,
            "grid_gap": null,
            "grid_row": null,
            "grid_template_areas": null,
            "grid_template_columns": null,
            "grid_template_rows": null,
            "height": null,
            "justify_content": null,
            "justify_items": null,
            "left": null,
            "margin": null,
            "max_height": null,
            "max_width": null,
            "min_height": null,
            "min_width": null,
            "object_fit": null,
            "object_position": null,
            "order": null,
            "overflow": null,
            "overflow_x": null,
            "overflow_y": null,
            "padding": null,
            "right": null,
            "top": null,
            "visibility": null,
            "width": null
          }
        },
        "031a9eb517f4474fa7cd28ced109af21": {
          "model_module": "@jupyter-widgets/controls",
          "model_name": "ProgressStyleModel",
          "model_module_version": "1.5.0",
          "state": {
            "_model_module": "@jupyter-widgets/controls",
            "_model_module_version": "1.5.0",
            "_model_name": "ProgressStyleModel",
            "_view_count": null,
            "_view_module": "@jupyter-widgets/base",
            "_view_module_version": "1.2.0",
            "_view_name": "StyleView",
            "bar_color": null,
            "description_width": ""
          }
        },
        "f7ed4e96b6f44026a5b3ac29e3019479": {
          "model_module": "@jupyter-widgets/base",
          "model_name": "LayoutModel",
          "model_module_version": "1.2.0",
          "state": {
            "_model_module": "@jupyter-widgets/base",
            "_model_module_version": "1.2.0",
            "_model_name": "LayoutModel",
            "_view_count": null,
            "_view_module": "@jupyter-widgets/base",
            "_view_module_version": "1.2.0",
            "_view_name": "LayoutView",
            "align_content": null,
            "align_items": null,
            "align_self": null,
            "border": null,
            "bottom": null,
            "display": null,
            "flex": null,
            "flex_flow": null,
            "grid_area": null,
            "grid_auto_columns": null,
            "grid_auto_flow": null,
            "grid_auto_rows": null,
            "grid_column": null,
            "grid_gap": null,
            "grid_row": null,
            "grid_template_areas": null,
            "grid_template_columns": null,
            "grid_template_rows": null,
            "height": null,
            "justify_content": null,
            "justify_items": null,
            "left": null,
            "margin": null,
            "max_height": null,
            "max_width": null,
            "min_height": null,
            "min_width": null,
            "object_fit": null,
            "object_position": null,
            "order": null,
            "overflow": null,
            "overflow_x": null,
            "overflow_y": null,
            "padding": null,
            "right": null,
            "top": null,
            "visibility": null,
            "width": null
          }
        },
        "1f1314c3ddce42c6a8943a9d19023525": {
          "model_module": "@jupyter-widgets/controls",
          "model_name": "DescriptionStyleModel",
          "model_module_version": "1.5.0",
          "state": {
            "_model_module": "@jupyter-widgets/controls",
            "_model_module_version": "1.5.0",
            "_model_name": "DescriptionStyleModel",
            "_view_count": null,
            "_view_module": "@jupyter-widgets/base",
            "_view_module_version": "1.2.0",
            "_view_name": "StyleView",
            "description_width": ""
          }
        }
      }
    }
  },
  "cells": [
    {
      "cell_type": "markdown",
      "metadata": {
        "id": "view-in-github",
        "colab_type": "text"
      },
      "source": [
        "<a href=\"https://colab.research.google.com/github/StarGonich/The-basics-of-Neural-networks/blob/main/Lab1.ipynb\" target=\"_parent\"><img src=\"https://colab.research.google.com/assets/colab-badge.svg\" alt=\"Open In Colab\"/></a>"
      ]
    },
    {
      "cell_type": "code",
      "execution_count": null,
      "metadata": {
        "colab": {
          "base_uri": "https://localhost:8080/"
        },
        "id": "fdcb4ND-4CW_",
        "outputId": "71820d57-7d66-4b09-a841-1d0137c13f22"
      },
      "outputs": [
        {
          "output_type": "stream",
          "name": "stderr",
          "text": [
            "<ipython-input-129-efb065ca8ec2>:9: DeprecationWarning: `set_matplotlib_formats` is deprecated since IPython 7.23, directly use `matplotlib_inline.backend_inline.set_matplotlib_formats()`\n",
            "  set_matplotlib_formats('svg', 'pdf') # For export\n"
          ]
        }
      ],
      "source": [
        "import os\n",
        "import math\n",
        "import numpy as np\n",
        "import time\n",
        "## Imports for plotting\n",
        "import matplotlib.pyplot as plt\n",
        "%matplotlib inline\n",
        "from IPython.display import set_matplotlib_formats\n",
        "set_matplotlib_formats('svg', 'pdf') # For export\n",
        "from matplotlib.colors import to_rgba\n",
        "import seaborn as sns\n",
        "sns.set()\n",
        "## Progress bar\n",
        "from tqdm.notebook import tqdm"
      ]
    },
    {
      "cell_type": "code",
      "source": [
        "import torch\n",
        "print(\"Using torch\", torch.__version__)"
      ],
      "metadata": {
        "colab": {
          "base_uri": "https://localhost:8080/"
        },
        "id": "UliEa3_-5PrK",
        "outputId": "c9e24270-2a9c-468c-fa55-6d3a0f4f8b97"
      },
      "execution_count": null,
      "outputs": [
        {
          "output_type": "stream",
          "name": "stdout",
          "text": [
            "Using torch 2.4.0+cu121\n"
          ]
        }
      ]
    },
    {
      "cell_type": "code",
      "source": [
        "torch.manual_seed(42) # Setting the seed"
      ],
      "metadata": {
        "colab": {
          "base_uri": "https://localhost:8080/"
        },
        "id": "CeLYOPAo5ms2",
        "outputId": "3c6db449-cb9e-468a-8880-4f686e44f512"
      },
      "execution_count": null,
      "outputs": [
        {
          "output_type": "execute_result",
          "data": {
            "text/plain": [
              "<torch._C.Generator at 0x79ee3a1ffdb0>"
            ]
          },
          "metadata": {},
          "execution_count": 131
        }
      ]
    },
    {
      "cell_type": "code",
      "source": [
        "x = torch.Tensor(2, 3, 4)\n",
        "print(x)"
      ],
      "metadata": {
        "colab": {
          "base_uri": "https://localhost:8080/"
        },
        "id": "b7Rib62b5phw",
        "outputId": "829a83fc-5d8e-4d30-f431-d0174326acc5"
      },
      "execution_count": null,
      "outputs": [
        {
          "output_type": "stream",
          "name": "stdout",
          "text": [
            "tensor([[[-1.9114e-32,  4.3740e-41, -1.9114e-32,  4.3740e-41],\n",
            "         [ 0.0000e+00,  0.0000e+00,  0.0000e+00,  0.0000e+00],\n",
            "         [ 0.0000e+00,  0.0000e+00,  0.0000e+00,  0.0000e+00]],\n",
            "\n",
            "        [[ 0.0000e+00,  0.0000e+00,  0.0000e+00,  0.0000e+00],\n",
            "         [ 0.0000e+00,  0.0000e+00,  0.0000e+00,  0.0000e+00],\n",
            "         [ 0.0000e+00,  0.0000e+00,  0.0000e+00,  0.0000e+00]]])\n"
          ]
        }
      ]
    },
    {
      "cell_type": "code",
      "source": [
        "x = torch.Tensor([[1, 2], [3, 4]])\n",
        "print(x)"
      ],
      "metadata": {
        "colab": {
          "base_uri": "https://localhost:8080/"
        },
        "id": "_FB4Hn1t6Dmn",
        "outputId": "c872192f-2402-4f80-f76f-c621efe7f9ff"
      },
      "execution_count": null,
      "outputs": [
        {
          "output_type": "stream",
          "name": "stdout",
          "text": [
            "tensor([[1., 2.],\n",
            "        [3., 4.]])\n"
          ]
        }
      ]
    },
    {
      "cell_type": "code",
      "source": [
        "x = torch.rand(2, 3, 4)\n",
        "print(x)"
      ],
      "metadata": {
        "colab": {
          "base_uri": "https://localhost:8080/"
        },
        "id": "sUIZhMhl_GF7",
        "outputId": "de734dd8-190a-439b-dd10-971e26911c92"
      },
      "execution_count": null,
      "outputs": [
        {
          "output_type": "stream",
          "name": "stdout",
          "text": [
            "tensor([[[0.8823, 0.9150, 0.3829, 0.9593],\n",
            "         [0.3904, 0.6009, 0.2566, 0.7936],\n",
            "         [0.9408, 0.1332, 0.9346, 0.5936]],\n",
            "\n",
            "        [[0.8694, 0.5677, 0.7411, 0.4294],\n",
            "         [0.8854, 0.5739, 0.2666, 0.6274],\n",
            "         [0.2696, 0.4414, 0.2969, 0.8317]]])\n"
          ]
        }
      ]
    },
    {
      "cell_type": "code",
      "source": [
        "shape = x.shape\n",
        "print(\"Shape:\", x.shape)\n",
        "size = x.size()\n",
        "print(\"Size:\", size)\n",
        "dim1, dim2, dim3 = x.size()\n",
        "print(\"Size:\", dim1, dim2, dim3)"
      ],
      "metadata": {
        "colab": {
          "base_uri": "https://localhost:8080/"
        },
        "id": "5zsd5Nmt_XRB",
        "outputId": "79172a60-1295-4390-a5b5-523f908ecd68"
      },
      "execution_count": null,
      "outputs": [
        {
          "output_type": "stream",
          "name": "stdout",
          "text": [
            "Shape: torch.Size([2, 3, 4])\n",
            "Size: torch.Size([2, 3, 4])\n",
            "Size: 2 3 4\n"
          ]
        }
      ]
    },
    {
      "cell_type": "code",
      "source": [
        "np_arr = np.array([[1, 2], [3, 4]])\n",
        "tensor = torch.from_numpy(np_arr)\n",
        "print(\"Numpy array:\", np_arr)\n",
        "print(\"PyTorch tensor:\", tensor)"
      ],
      "metadata": {
        "colab": {
          "base_uri": "https://localhost:8080/"
        },
        "id": "EDNwS1Dk_x-F",
        "outputId": "d650ceba-abab-4e21-bee0-10029b5bf2cc"
      },
      "execution_count": null,
      "outputs": [
        {
          "output_type": "stream",
          "name": "stdout",
          "text": [
            "Numpy array: [[1 2]\n",
            " [3 4]]\n",
            "PyTorch tensor: tensor([[1, 2],\n",
            "        [3, 4]])\n"
          ]
        }
      ]
    },
    {
      "cell_type": "code",
      "source": [
        "x = torch.arange(6)\n",
        "x = x.view(2, 3)\n",
        "print(\"X\", x)\n",
        "W = torch.arange(9).view(3, 3) # We can also stack multiple operations in a single line\n",
        "print(\"W\", W)\n",
        "h = torch.matmul(x, W)\n",
        "print(\"h\", h)"
      ],
      "metadata": {
        "colab": {
          "base_uri": "https://localhost:8080/"
        },
        "id": "KrUUYfZSAczi",
        "outputId": "1af9e07b-eb9e-4d3e-9e5b-c41c5ad3cd15"
      },
      "execution_count": null,
      "outputs": [
        {
          "output_type": "stream",
          "name": "stdout",
          "text": [
            "X tensor([[0, 1, 2],\n",
            "        [3, 4, 5]])\n",
            "W tensor([[0, 1, 2],\n",
            "        [3, 4, 5],\n",
            "        [6, 7, 8]])\n",
            "h tensor([[15, 18, 21],\n",
            "        [42, 54, 66]])\n"
          ]
        }
      ]
    },
    {
      "cell_type": "markdown",
      "source": [
        "## Индексация"
      ],
      "metadata": {
        "id": "pizXdwM1DcQP"
      }
    },
    {
      "cell_type": "code",
      "source": [
        "x = torch.arange(12).view(3, 4)\n",
        "print(\"X\", x)\n",
        "print(x[:, 1]) #второй столбец\n",
        "print(x[0])      # Первая строка\n",
        "print(x[:2, -1]) # Первые две строки, последний столбец\n",
        "print(x[1:3, :]) # две строки в середине"
      ],
      "metadata": {
        "colab": {
          "base_uri": "https://localhost:8080/"
        },
        "id": "oaJ-8gu5Dfgh",
        "outputId": "65ac91ec-e4c7-48a7-fffc-f95ff15cf961"
      },
      "execution_count": null,
      "outputs": [
        {
          "output_type": "stream",
          "name": "stdout",
          "text": [
            "X tensor([[ 0,  1,  2,  3],\n",
            "        [ 4,  5,  6,  7],\n",
            "        [ 8,  9, 10, 11]])\n",
            "tensor([1, 5, 9])\n",
            "tensor([0, 1, 2, 3])\n",
            "tensor([3, 7])\n",
            "tensor([[ 4,  5,  6,  7],\n",
            "        [ 8,  9, 10, 11]])\n"
          ]
        }
      ]
    },
    {
      "cell_type": "markdown",
      "source": [
        "## Динамический граф вычислений и обратное распространение"
      ],
      "metadata": {
        "id": "4WPjzTVKEgdz"
      }
    },
    {
      "cell_type": "code",
      "source": [
        "x = torch.ones((3,))\n",
        "print(x)\n",
        "print(x.requires_grad)"
      ],
      "metadata": {
        "colab": {
          "base_uri": "https://localhost:8080/"
        },
        "id": "yOAkdN8oEmCu",
        "outputId": "e3afb794-2b19-439e-e8be-2657585e3266"
      },
      "execution_count": null,
      "outputs": [
        {
          "output_type": "stream",
          "name": "stdout",
          "text": [
            "tensor([1., 1., 1.])\n",
            "False\n"
          ]
        }
      ]
    },
    {
      "cell_type": "code",
      "source": [
        "x.requires_grad_(True)\n",
        "print(x.requires_grad)"
      ],
      "metadata": {
        "colab": {
          "base_uri": "https://localhost:8080/"
        },
        "id": "rYM-syx6FE7K",
        "outputId": "ffbfa71d-a83e-48fc-c50c-5ed28d1f3bcc"
      },
      "execution_count": null,
      "outputs": [
        {
          "output_type": "stream",
          "name": "stdout",
          "text": [
            "True\n"
          ]
        }
      ]
    },
    {
      "cell_type": "code",
      "source": [
        "x = torch.arange(3, dtype=torch.float32, requires_grad=True) # Only float tensors can have gradients\n",
        "print(\"X\", x)"
      ],
      "metadata": {
        "colab": {
          "base_uri": "https://localhost:8080/"
        },
        "id": "F_-BAROwFDGz",
        "outputId": "ef1a2a34-10b6-43d9-8090-a438d4de4161"
      },
      "execution_count": null,
      "outputs": [
        {
          "output_type": "stream",
          "name": "stdout",
          "text": [
            "X tensor([0., 1., 2.], requires_grad=True)\n"
          ]
        }
      ]
    },
    {
      "cell_type": "code",
      "source": [
        "a = x + 2\n",
        "b = a ** 2\n",
        "c = b + 3\n",
        "print(\"c =\", c)\n",
        "y = c.mean()\n",
        "print(\"Y =\", y)"
      ],
      "metadata": {
        "colab": {
          "base_uri": "https://localhost:8080/"
        },
        "id": "zXeRW2U4FawR",
        "outputId": "bb86e4c0-4a03-436f-8564-23341a0df378"
      },
      "execution_count": null,
      "outputs": [
        {
          "output_type": "stream",
          "name": "stdout",
          "text": [
            "c = tensor([ 7., 12., 19.], grad_fn=<AddBackward0>)\n",
            "Y = tensor(12.6667, grad_fn=<MeanBackward0>)\n"
          ]
        }
      ]
    },
    {
      "cell_type": "code",
      "source": [
        "y.backward()\n",
        "print(y)"
      ],
      "metadata": {
        "colab": {
          "base_uri": "https://localhost:8080/"
        },
        "id": "483qgeOuGaF1",
        "outputId": "f2b2cfaa-e0de-4a0e-e403-e313f226df4b"
      },
      "execution_count": null,
      "outputs": [
        {
          "output_type": "stream",
          "name": "stdout",
          "text": [
            "tensor(12.6667, grad_fn=<MeanBackward0>)\n"
          ]
        }
      ]
    },
    {
      "cell_type": "code",
      "source": [
        "print(x.grad)"
      ],
      "metadata": {
        "colab": {
          "base_uri": "https://localhost:8080/"
        },
        "id": "LQd4omvlGyom",
        "outputId": "5b4d8488-d163-423b-f576-72acee36eb54"
      },
      "execution_count": null,
      "outputs": [
        {
          "output_type": "stream",
          "name": "stdout",
          "text": [
            "tensor([1.3333, 2.0000, 2.6667])\n"
          ]
        }
      ]
    },
    {
      "cell_type": "markdown",
      "source": [
        "## Поддержка GPU"
      ],
      "metadata": {
        "id": "dSrsLOoUL5Nc"
      }
    },
    {
      "cell_type": "code",
      "source": [
        "gpu_avail = torch.cuda.is_available()\n",
        "print(f\"Is the GPU available? {gpu_avail}\")"
      ],
      "metadata": {
        "colab": {
          "base_uri": "https://localhost:8080/"
        },
        "id": "XDavZaxyL-wr",
        "outputId": "6743226e-01a4-45a7-cb49-8f5e309dee73"
      },
      "execution_count": null,
      "outputs": [
        {
          "output_type": "stream",
          "name": "stdout",
          "text": [
            "Is the GPU available? False\n"
          ]
        }
      ]
    },
    {
      "cell_type": "code",
      "source": [
        "device = torch.device(\"cuda\") if torch.cuda.is_available() else torch.device(\"cpu\")\n",
        "print(\"Device\", device)"
      ],
      "metadata": {
        "colab": {
          "base_uri": "https://localhost:8080/"
        },
        "id": "0Lr0OmyNOFh7",
        "outputId": "9c69c9c3-d7b6-4ca1-d6b2-d485f12942a6"
      },
      "execution_count": null,
      "outputs": [
        {
          "output_type": "stream",
          "name": "stdout",
          "text": [
            "Device cpu\n"
          ]
        }
      ]
    },
    {
      "cell_type": "code",
      "source": [
        "x = torch.zeros(2, 3)\n",
        "x = x.to(device)\n",
        "print(\"X\", x)"
      ],
      "metadata": {
        "colab": {
          "base_uri": "https://localhost:8080/"
        },
        "id": "aKGM8inlOQHv",
        "outputId": "dd8f064b-1589-4b46-cb17-544e5242cf4e"
      },
      "execution_count": null,
      "outputs": [
        {
          "output_type": "stream",
          "name": "stdout",
          "text": [
            "X tensor([[0., 0., 0.],\n",
            "        [0., 0., 0.]])\n"
          ]
        }
      ]
    },
    {
      "cell_type": "code",
      "source": [
        "x = torch.randn(5000, 5000)\n",
        "## CPU version\n",
        "start_time = time.time()\n",
        "_ = torch.matmul(x, x)\n",
        "end_time = time.time()\n",
        "print(f\"CPU time: {(end_time - start_time):6.5f}s\")\n",
        "## GPU version\n",
        "x = x.to(device)\n",
        "_ = torch.matmul(x, x)  # First operation to 'burn in' GPU\n",
        "# CUDA is asynchronous, so we need to use different timing functions\n",
        "start = torch.cuda.Event(enable_timing=True)\n",
        "end = torch.cuda.Event(enable_timing=True)\n",
        "start.record()\n",
        "_ = torch.matmul(x, x)\n",
        "end.record()\n",
        "torch.cuda.synchronize()  # Waits for everything to finish running on the GPU\n",
        "print(f\"GPU time: {0.001 * start.elapsed_time(end):6.5f}s\")  # Milliseconds to seconds"
      ],
      "metadata": {
        "colab": {
          "base_uri": "https://localhost:8080/",
          "height": 228
        },
        "id": "wBJ7blGR92Mc",
        "outputId": "3e5714ea-5f77-4021-99ee-c29146ce19a8"
      },
      "execution_count": null,
      "outputs": [
        {
          "output_type": "stream",
          "name": "stdout",
          "text": [
            "CPU time: 5.64167s\n"
          ]
        },
        {
          "output_type": "error",
          "ename": "KeyboardInterrupt",
          "evalue": "",
          "traceback": [
            "\u001b[0;31m---------------------------------------------------------------------------\u001b[0m",
            "\u001b[0;31mKeyboardInterrupt\u001b[0m                         Traceback (most recent call last)",
            "\u001b[0;32m<ipython-input-148-17256e3290e3>\u001b[0m in \u001b[0;36m<cell line: 9>\u001b[0;34m()\u001b[0m\n\u001b[1;32m      7\u001b[0m \u001b[0;31m## GPU version\u001b[0m\u001b[0;34m\u001b[0m\u001b[0;34m\u001b[0m\u001b[0m\n\u001b[1;32m      8\u001b[0m \u001b[0mx\u001b[0m \u001b[0;34m=\u001b[0m \u001b[0mx\u001b[0m\u001b[0;34m.\u001b[0m\u001b[0mto\u001b[0m\u001b[0;34m(\u001b[0m\u001b[0mdevice\u001b[0m\u001b[0;34m)\u001b[0m\u001b[0;34m\u001b[0m\u001b[0;34m\u001b[0m\u001b[0m\n\u001b[0;32m----> 9\u001b[0;31m \u001b[0m_\u001b[0m \u001b[0;34m=\u001b[0m \u001b[0mtorch\u001b[0m\u001b[0;34m.\u001b[0m\u001b[0mmatmul\u001b[0m\u001b[0;34m(\u001b[0m\u001b[0mx\u001b[0m\u001b[0;34m,\u001b[0m \u001b[0mx\u001b[0m\u001b[0;34m)\u001b[0m  \u001b[0;31m# First operation to 'burn in' GPU\u001b[0m\u001b[0;34m\u001b[0m\u001b[0;34m\u001b[0m\u001b[0m\n\u001b[0m\u001b[1;32m     10\u001b[0m \u001b[0;31m# CUDA is asynchronous, so we need to use different timing functions\u001b[0m\u001b[0;34m\u001b[0m\u001b[0;34m\u001b[0m\u001b[0m\n\u001b[1;32m     11\u001b[0m \u001b[0mstart\u001b[0m \u001b[0;34m=\u001b[0m \u001b[0mtorch\u001b[0m\u001b[0;34m.\u001b[0m\u001b[0mcuda\u001b[0m\u001b[0;34m.\u001b[0m\u001b[0mEvent\u001b[0m\u001b[0;34m(\u001b[0m\u001b[0menable_timing\u001b[0m\u001b[0;34m=\u001b[0m\u001b[0;32mTrue\u001b[0m\u001b[0;34m)\u001b[0m\u001b[0;34m\u001b[0m\u001b[0;34m\u001b[0m\u001b[0m\n",
            "\u001b[0;31mKeyboardInterrupt\u001b[0m: "
          ]
        }
      ]
    },
    {
      "cell_type": "markdown",
      "source": [
        "## Генерация случайных чисел"
      ],
      "metadata": {
        "id": "fYDzH2nR__lL"
      }
    },
    {
      "cell_type": "code",
      "source": [
        "# GPU operations have a separate seed we also want to set\n",
        "if torch.cuda.is_available():\n",
        "    torch.cuda.manual_seed(42)\n",
        "    torch.cuda.manual_seed_all(42)\n",
        "# Additionally, some operations on a GPU are implemented stochastic for efficiency\n",
        "# We want to ensure that all operations are deterministic on GPU (if used) for reproducibility\n",
        "torch.backends.cudnn.deterministic = True\n",
        "torch.backends.cudnn.benchmark = False"
      ],
      "metadata": {
        "id": "6YPKap7Z_8sw"
      },
      "execution_count": null,
      "outputs": []
    },
    {
      "cell_type": "markdown",
      "source": [
        "## Модель"
      ],
      "metadata": {
        "id": "DjmT7_VuBawk"
      }
    },
    {
      "cell_type": "code",
      "source": [
        "import torch.nn as nn\n",
        "import torch.nn.functional as F"
      ],
      "metadata": {
        "id": "lnhPsIbABdYC"
      },
      "execution_count": null,
      "outputs": []
    },
    {
      "cell_type": "code",
      "source": [
        "class SimpleClassifier(nn.Module):\n",
        "    def __init__(self, num_inputs, num_outputs):\n",
        "        super().__init__()\n",
        "        # Initialize the modules we need to build the network\n",
        "        self.linear1 = nn.Linear(num_inputs, num_outputs)\n",
        "        self.act_fn = nn.Tanh()\n",
        "    def forward(self, x):\n",
        "        # Perform the calculation of the model to determine the prediction\n",
        "        x = self.linear1(x)\n",
        "        x = self.act_fn(x)\n",
        "        return x"
      ],
      "metadata": {
        "id": "Qf0gkGlXFa-a"
      },
      "execution_count": null,
      "outputs": []
    },
    {
      "cell_type": "code",
      "source": [
        "model = SimpleClassifier(num_inputs=2, num_outputs=1)\n",
        "# Printing a module shows all its submodules\n",
        "print(model)"
      ],
      "metadata": {
        "colab": {
          "base_uri": "https://localhost:8080/"
        },
        "id": "5vZ2yh91GKbl",
        "outputId": "0c69251f-b201-4553-a780-20cd6f28f40c"
      },
      "execution_count": null,
      "outputs": [
        {
          "output_type": "stream",
          "name": "stdout",
          "text": [
            "SimpleClassifier(\n",
            "  (linear1): Linear(in_features=2, out_features=1, bias=True)\n",
            "  (act_fn): Tanh()\n",
            ")\n"
          ]
        }
      ]
    },
    {
      "cell_type": "code",
      "source": [
        "for name, param in model.named_parameters():\n",
        "    print(f\"Parameter {name}, shape {param.shape}\")"
      ],
      "metadata": {
        "colab": {
          "base_uri": "https://localhost:8080/"
        },
        "id": "WbEo8MKoGyHh",
        "outputId": "c9cfa6c9-d496-4641-84fd-a7cdbb7398d9"
      },
      "execution_count": null,
      "outputs": [
        {
          "output_type": "stream",
          "name": "stdout",
          "text": [
            "Parameter linear1.weight, shape torch.Size([1, 2])\n",
            "Parameter linear1.bias, shape torch.Size([1])\n"
          ]
        }
      ]
    },
    {
      "cell_type": "markdown",
      "source": [
        "## Данные"
      ],
      "metadata": {
        "id": "U4d3TwYnIXxk"
      }
    },
    {
      "cell_type": "code",
      "source": [
        "import torch.utils.data as data"
      ],
      "metadata": {
        "id": "SJzkRFd2IaWh"
      },
      "execution_count": null,
      "outputs": []
    },
    {
      "cell_type": "markdown",
      "source": [
        "## Определение своего класса данных"
      ],
      "metadata": {
        "id": "Ryn2iDSKI-op"
      }
    },
    {
      "cell_type": "code",
      "source": [
        "class XORDataset(data.Dataset):\n",
        "    def __init__(self, size, std=0.1):\n",
        "        \"\"\"\n",
        "        Inputs:\n",
        "            size - Number of data points we want to generate\n",
        "            std - Standard deviation of the noise (see generate_continuous_xor function)\n",
        "        \"\"\"\n",
        "        super().__init__()\n",
        "        self.size = size\n",
        "        self.std = std\n",
        "        self.generate_continuous_xor()\n",
        "    def generate_continuous_xor(self):\n",
        "        # Each data point in the XOR dataset has two variables, x and y, that can be either 0 or 1\n",
        "        # The label is their XOR combination, i.e. 1 if only x or only y is 1 while the other is 0.\n",
        "        # If x=y, the label is 0.\n",
        "        data = torch.randint(low=0, high=2, size=(self.size, 2), dtype=torch.float32)\n",
        "        label = (data.sum(dim=1) == 1).to(torch.float32)\n",
        "        # To make it slightly more challenging, we add a bit of gaussian noise to the data points.\n",
        "        data += self.std * torch.randn(data.shape)\n",
        "        self.data = data\n",
        "        self.label = label\n",
        "    def __len__(self):\n",
        "        # Number of data point we have. Alternatively self.data.shape[0], or self.label.shape[0]\n",
        "        return self.size\n",
        "    def __getitem__(self, idx):\n",
        "        # Return the idx-th data point of the dataset\n",
        "        # If we have multiple things to return (data point and label), we can return them as tuple\n",
        "        data_point = self.data[idx]\n",
        "        data_label = self.label[idx]\n",
        "        return data_point, data_label"
      ],
      "metadata": {
        "id": "mNi-j6iKI_wK"
      },
      "execution_count": null,
      "outputs": []
    },
    {
      "cell_type": "code",
      "source": [
        "dataset = XORDataset(size=200)\n",
        "print(\"Size of dataset:\", len(dataset))\n",
        "for el in dataset:\n",
        "  print(el)"
      ],
      "metadata": {
        "colab": {
          "base_uri": "https://localhost:8080/"
        },
        "id": "sd1ZNIQnKiTG",
        "outputId": "bbbd48e4-2569-463f-b588-a49d922c4f37"
      },
      "execution_count": null,
      "outputs": [
        {
          "output_type": "stream",
          "name": "stdout",
          "text": [
            "Size of dataset: 200\n",
            "(tensor([0.8345, 0.0308]), tensor(1.))\n",
            "(tensor([-0.0801,  1.0252]), tensor(1.))\n",
            "(tensor([1.0399, 1.0742]), tensor(0.))\n",
            "(tensor([0.0060, 1.0655]), tensor(1.))\n",
            "(tensor([0.9494, 0.0144]), tensor(1.))\n",
            "(tensor([1.0324, 0.0048]), tensor(1.))\n",
            "(tensor([0.0522, 1.1192]), tensor(1.))\n",
            "(tensor([1.0562, 0.0482]), tensor(1.))\n",
            "(tensor([-0.0578, -0.0363]), tensor(0.))\n",
            "(tensor([1.0032, 0.0658]), tensor(1.))\n",
            "(tensor([ 0.9543, -0.1451]), tensor(1.))\n",
            "(tensor([-0.2090,  1.0137]), tensor(1.))\n",
            "(tensor([1.0938, 1.0012]), tensor(0.))\n",
            "(tensor([-0.0765,  1.0752]), tensor(1.))\n",
            "(tensor([ 1.0510, -0.0827]), tensor(1.))\n",
            "(tensor([0.9797, 0.9929]), tensor(0.))\n",
            "(tensor([1.1164, 0.8534]), tensor(0.))\n",
            "(tensor([1.0947, 1.1427]), tensor(0.))\n",
            "(tensor([1.1033, 0.9103]), tensor(0.))\n",
            "(tensor([0.9632, 0.1117]), tensor(1.))\n",
            "(tensor([1.1615, 0.0324]), tensor(1.))\n",
            "(tensor([1.0501, 0.0513]), tensor(1.))\n",
            "(tensor([0.1595, 1.0658]), tensor(1.))\n",
            "(tensor([ 1.1061, -0.0381]), tensor(1.))\n",
            "(tensor([-0.2801, -0.0241]), tensor(0.))\n",
            "(tensor([1.1397, 1.1080]), tensor(0.))\n",
            "(tensor([-0.0762,  0.9006]), tensor(1.))\n",
            "(tensor([1.1658, 0.9603]), tensor(0.))\n",
            "(tensor([ 0.9787, -0.0072]), tensor(1.))\n",
            "(tensor([-0.0081,  1.0982]), tensor(1.))\n",
            "(tensor([ 1.0754, -0.2142]), tensor(1.))\n",
            "(tensor([ 0.0839, -0.0585]), tensor(0.))\n",
            "(tensor([-0.0623,  0.0734]), tensor(0.))\n",
            "(tensor([ 0.2046, -0.0558]), tensor(0.))\n",
            "(tensor([1.0414, 1.0293]), tensor(0.))\n",
            "(tensor([0.8473, 0.0781]), tensor(1.))\n",
            "(tensor([ 0.9080, -0.1102]), tensor(1.))\n",
            "(tensor([1.0546, 0.9412]), tensor(0.))\n",
            "(tensor([0.0090, 0.1144]), tensor(0.))\n",
            "(tensor([-0.2274,  1.0995]), tensor(1.))\n",
            "(tensor([0.0652, 1.0126]), tensor(1.))\n",
            "(tensor([0.0089, 0.8376]), tensor(1.))\n",
            "(tensor([1.0828, 1.0891]), tensor(0.))\n",
            "(tensor([-0.0035,  1.1174]), tensor(1.))\n",
            "(tensor([-0.0533,  0.9612]), tensor(1.))\n",
            "(tensor([1.1228, 0.0811]), tensor(1.))\n",
            "(tensor([0.0661, 0.0533]), tensor(0.))\n",
            "(tensor([1.1412, 1.1891]), tensor(0.))\n",
            "(tensor([ 1.0544, -0.0105]), tensor(1.))\n",
            "(tensor([0.8441, 0.0846]), tensor(1.))\n",
            "(tensor([1.0271, 1.0645]), tensor(0.))\n",
            "(tensor([0.0765, 0.9931]), tensor(1.))\n",
            "(tensor([1.1276, 1.0467]), tensor(0.))\n",
            "(tensor([ 0.0317, -0.0168]), tensor(0.))\n",
            "(tensor([ 0.9823, -0.1256]), tensor(1.))\n",
            "(tensor([ 1.1522, -0.0305]), tensor(1.))\n",
            "(tensor([-0.1181, -0.0501]), tensor(0.))\n",
            "(tensor([0.9589, 1.0665]), tensor(0.))\n",
            "(tensor([1.0233, 1.0863]), tensor(0.))\n",
            "(tensor([ 1.0905, -0.0128]), tensor(1.))\n",
            "(tensor([0.9061, 0.0552]), tensor(1.))\n",
            "(tensor([0.9300, 0.8654]), tensor(0.))\n",
            "(tensor([ 0.9028, -0.1499]), tensor(1.))\n",
            "(tensor([-0.1099, -0.0932]), tensor(0.))\n",
            "(tensor([0.1273, 1.1477]), tensor(1.))\n",
            "(tensor([0.9136, 0.9631]), tensor(0.))\n",
            "(tensor([0.9944, 0.0284]), tensor(1.))\n",
            "(tensor([1.0661, 0.9880]), tensor(0.))\n",
            "(tensor([-0.0620,  1.0288]), tensor(1.))\n",
            "(tensor([-0.0233, -0.0673]), tensor(0.))\n",
            "(tensor([1.0483, 0.9603]), tensor(0.))\n",
            "(tensor([0.9722, 0.1280]), tensor(1.))\n",
            "(tensor([-0.1852,  0.9849]), tensor(1.))\n",
            "(tensor([-0.0076, -0.0155]), tensor(0.))\n",
            "(tensor([0.8668, 1.0048]), tensor(0.))\n",
            "(tensor([-0.0147,  0.9433]), tensor(1.))\n",
            "(tensor([ 1.0006, -0.0328]), tensor(1.))\n",
            "(tensor([ 0.9797, -0.0019]), tensor(1.))\n",
            "(tensor([0.0485, 1.0284]), tensor(1.))\n",
            "(tensor([1.0588, 0.0904]), tensor(1.))\n",
            "(tensor([ 0.1317, -0.0623]), tensor(0.))\n",
            "(tensor([0.1049, 0.8684]), tensor(1.))\n",
            "(tensor([0.9299, 0.9310]), tensor(0.))\n",
            "(tensor([1.0751, 0.9767]), tensor(0.))\n",
            "(tensor([1.0385, 0.9311]), tensor(0.))\n",
            "(tensor([0.0429, 0.1666]), tensor(0.))\n",
            "(tensor([-0.0048,  0.0453]), tensor(0.))\n",
            "(tensor([-0.0715,  0.1935]), tensor(0.))\n",
            "(tensor([-0.0098,  0.7925]), tensor(1.))\n",
            "(tensor([ 0.0986, -0.2080]), tensor(0.))\n",
            "(tensor([ 0.0434, -0.1026]), tensor(0.))\n",
            "(tensor([-0.0280,  0.0046]), tensor(0.))\n",
            "(tensor([-0.0148,  0.0103]), tensor(0.))\n",
            "(tensor([0.9405, 0.1099]), tensor(1.))\n",
            "(tensor([0.9548, 0.9256]), tensor(0.))\n",
            "(tensor([0.9680, 0.1178]), tensor(1.))\n",
            "(tensor([0.0601, 1.1108]), tensor(1.))\n",
            "(tensor([0.9714, 1.0121]), tensor(0.))\n",
            "(tensor([-0.0467,  0.9916]), tensor(1.))\n",
            "(tensor([1.0160, 0.9604]), tensor(0.))\n",
            "(tensor([-0.2017,  0.9749]), tensor(1.))\n",
            "(tensor([1.0347, 0.1297]), tensor(1.))\n",
            "(tensor([0.0884, 1.0008]), tensor(1.))\n",
            "(tensor([-0.0284, -0.0657]), tensor(0.))\n",
            "(tensor([1.0004, 1.0789]), tensor(0.))\n",
            "(tensor([0.9995, 0.9669]), tensor(0.))\n",
            "(tensor([ 0.0992, -0.1400]), tensor(0.))\n",
            "(tensor([0.9505, 0.0803]), tensor(1.))\n",
            "(tensor([-0.2194, -0.1724]), tensor(0.))\n",
            "(tensor([-0.0549, -0.1088]), tensor(0.))\n",
            "(tensor([0.0608, 0.9175]), tensor(1.))\n",
            "(tensor([0.9528, 0.9017]), tensor(0.))\n",
            "(tensor([1.0428, 1.0384]), tensor(0.))\n",
            "(tensor([-0.2297, -0.0937]), tensor(0.))\n",
            "(tensor([0.9103, 0.9155]), tensor(0.))\n",
            "(tensor([0.0757, 1.0592]), tensor(1.))\n",
            "(tensor([0.1893, 1.0949]), tensor(1.))\n",
            "(tensor([ 0.9109, -0.2090]), tensor(1.))\n",
            "(tensor([ 0.1627, -0.1043]), tensor(0.))\n",
            "(tensor([1.0456, 1.1789]), tensor(0.))\n",
            "(tensor([ 0.2202, -0.0534]), tensor(0.))\n",
            "(tensor([1.1045, 0.8321]), tensor(0.))\n",
            "(tensor([0.1255, 1.0462]), tensor(1.))\n",
            "(tensor([0.0593, 1.0735]), tensor(1.))\n",
            "(tensor([ 0.8639, -0.0258]), tensor(1.))\n",
            "(tensor([1.0795, 1.0858]), tensor(0.))\n",
            "(tensor([-0.1159,  0.1508]), tensor(0.))\n",
            "(tensor([ 1.0202, -0.1033]), tensor(1.))\n",
            "(tensor([1.1356, 0.9897]), tensor(0.))\n",
            "(tensor([0.0294, 0.9641]), tensor(1.))\n",
            "(tensor([0.9050, 1.1863]), tensor(0.))\n",
            "(tensor([0.0862, 0.9312]), tensor(1.))\n",
            "(tensor([0.9832, 0.0462]), tensor(1.))\n",
            "(tensor([ 0.9469, -0.0341]), tensor(1.))\n",
            "(tensor([ 0.0490, -0.0634]), tensor(0.))\n",
            "(tensor([0.0659, 0.9705]), tensor(1.))\n",
            "(tensor([-0.0445,  1.1621]), tensor(1.))\n",
            "(tensor([-0.1127,  0.8373]), tensor(1.))\n",
            "(tensor([-0.1226, -0.0277]), tensor(0.))\n",
            "(tensor([-0.0231, -0.0256]), tensor(0.))\n",
            "(tensor([-0.1438,  0.0536]), tensor(0.))\n",
            "(tensor([0.0504, 0.9827]), tensor(1.))\n",
            "(tensor([0.0069, 1.1636]), tensor(1.))\n",
            "(tensor([1.1845, 0.9460]), tensor(0.))\n",
            "(tensor([-1.3577e-04,  1.0380e+00]), tensor(1.))\n",
            "(tensor([1.1428, 1.0258]), tensor(0.))\n",
            "(tensor([-0.0389,  1.0823]), tensor(1.))\n",
            "(tensor([1.1268, 1.1349]), tensor(0.))\n",
            "(tensor([ 0.8782, -0.0944]), tensor(1.))\n",
            "(tensor([-0.1632,  0.8194]), tensor(1.))\n",
            "(tensor([-0.0849, -0.1258]), tensor(0.))\n",
            "(tensor([1.1591, 0.0820]), tensor(1.))\n",
            "(tensor([0.9667, 0.0190]), tensor(1.))\n",
            "(tensor([1.1253, 0.2106]), tensor(1.))\n",
            "(tensor([0.9583, 0.9955]), tensor(0.))\n",
            "(tensor([ 0.8732, -0.2240]), tensor(1.))\n",
            "(tensor([0.0134, 0.9198]), tensor(1.))\n",
            "(tensor([0.9308, 0.9923]), tensor(0.))\n",
            "(tensor([-0.1061, -0.1846]), tensor(0.))\n",
            "(tensor([ 0.0825, -0.0778]), tensor(0.))\n",
            "(tensor([0.8339, 0.0472]), tensor(1.))\n",
            "(tensor([0.9189, 0.0694]), tensor(1.))\n",
            "(tensor([-0.1704, -0.0564]), tensor(0.))\n",
            "(tensor([-0.0106,  0.0625]), tensor(0.))\n",
            "(tensor([0.0313, 0.9780]), tensor(1.))\n",
            "(tensor([0.1665, 1.0677]), tensor(1.))\n",
            "(tensor([1.2281, 0.0947]), tensor(1.))\n",
            "(tensor([1.0255, 1.0321]), tensor(0.))\n",
            "(tensor([1.1136, 0.9546]), tensor(0.))\n",
            "(tensor([0.0307, 1.0213]), tensor(1.))\n",
            "(tensor([0.0361, 1.2411]), tensor(1.))\n",
            "(tensor([-0.0170,  0.0059]), tensor(0.))\n",
            "(tensor([0.0729, 0.8244]), tensor(1.))\n",
            "(tensor([ 0.2282, -0.0791]), tensor(0.))\n",
            "(tensor([ 1.0227, -0.0718]), tensor(1.))\n",
            "(tensor([0.0814, 0.0161]), tensor(0.))\n",
            "(tensor([1.0338, 0.9521]), tensor(0.))\n",
            "(tensor([1.0274, 0.9464]), tensor(0.))\n",
            "(tensor([0.9118, 0.0532]), tensor(1.))\n",
            "(tensor([1.0819, 0.0808]), tensor(1.))\n",
            "(tensor([-0.0274, -0.0692]), tensor(0.))\n",
            "(tensor([-0.0043,  1.0355]), tensor(1.))\n",
            "(tensor([0.9408, 0.9766]), tensor(0.))\n",
            "(tensor([ 0.8396, -0.1249]), tensor(1.))\n",
            "(tensor([ 0.9346, -0.1000]), tensor(1.))\n",
            "(tensor([0.7802, 0.8663]), tensor(0.))\n",
            "(tensor([1.0102, 0.9852]), tensor(0.))\n",
            "(tensor([-0.0638,  0.0245]), tensor(0.))\n",
            "(tensor([1.0389, 0.1050]), tensor(1.))\n",
            "(tensor([0.1879, 1.0947]), tensor(1.))\n",
            "(tensor([1.0481, 1.0528]), tensor(0.))\n",
            "(tensor([ 0.0091, -0.1172]), tensor(0.))\n",
            "(tensor([-0.1328,  0.9676]), tensor(1.))\n",
            "(tensor([ 0.0669, -0.1344]), tensor(0.))\n",
            "(tensor([ 0.1585, -0.0388]), tensor(0.))\n",
            "(tensor([0.8330, 1.0323]), tensor(0.))\n",
            "(tensor([1.0531, 1.1153]), tensor(0.))\n",
            "(tensor([ 0.9330, -0.0091]), tensor(1.))\n",
            "(tensor([0.9783, 0.9953]), tensor(0.))\n",
            "(tensor([-0.0767,  0.9389]), tensor(1.))\n"
          ]
        }
      ]
    },
    {
      "cell_type": "code",
      "source": [
        "def visualize_samples(data, label):\n",
        "    if isinstance(data, torch.Tensor):\n",
        "        data = data.cpu().numpy()\n",
        "    if isinstance(label, torch.Tensor):\n",
        "        label = label.cpu().numpy()\n",
        "    data_0 = data[label == 0]\n",
        "    data_1 = data[label == 1]\n",
        "    plt.figure(figsize=(4,4))\n",
        "    plt.scatter(data_0[:,0], data_0[:,1], edgecolor=\"#333\", label=\"Class 0\")\n",
        "    plt.scatter(data_1[:,0], data_1[:,1], edgecolor=\"#333\", label=\"Class 1\")\n",
        "    plt.title(\"Dataset samples\")\n",
        "    plt.ylabel(r\"$x_2$\")\n",
        "    plt.xlabel(r\"$x_1$\")\n",
        "    plt.legend()\n",
        "visualize_samples(dataset.data, dataset.label)\n",
        "plt.show()"
      ],
      "metadata": {
        "colab": {
          "base_uri": "https://localhost:8080/",
          "height": 404
        },
        "id": "mqhtW2uEM5tF",
        "outputId": "b4ef7999-93ca-494e-dcc8-2d577041868e"
      },
      "execution_count": null,
      "outputs": [
        {
          "output_type": "display_data",
          "data": {
            "text/plain": [
              "<Figure size 400x400 with 1 Axes>"
            ],
            "image/svg+xml": "<?xml version=\"1.0\" encoding=\"utf-8\" standalone=\"no\"?>\n<!DOCTYPE svg PUBLIC \"-//W3C//DTD SVG 1.1//EN\"\n  \"http://www.w3.org/Graphics/SVG/1.1/DTD/svg11.dtd\">\n<svg xmlns:xlink=\"http://www.w3.org/1999/xlink\" width=\"289.424844pt\" height=\"287.037813pt\" viewBox=\"0 0 289.424844 287.037813\" xmlns=\"http://www.w3.org/2000/svg\" version=\"1.1\">\n <metadata>\n  <rdf:RDF xmlns:dc=\"http://purl.org/dc/elements/1.1/\" xmlns:cc=\"http://creativecommons.org/ns#\" xmlns:rdf=\"http://www.w3.org/1999/02/22-rdf-syntax-ns#\">\n   <cc:Work>\n    <dc:type rdf:resource=\"http://purl.org/dc/dcmitype/StillImage\"/>\n    <dc:date>2024-09-11T17:19:41.314080</dc:date>\n    <dc:format>image/svg+xml</dc:format>\n    <dc:creator>\n     <cc:Agent>\n      <dc:title>Matplotlib v3.7.1, https://matplotlib.org/</dc:title>\n     </cc:Agent>\n    </dc:creator>\n   </cc:Work>\n  </rdf:RDF>\n </metadata>\n <defs>\n  <style type=\"text/css\">*{stroke-linejoin: round; stroke-linecap: butt}</style>\n </defs>\n <g id=\"figure_1\">\n  <g id=\"patch_1\">\n   <path d=\"M 0 287.037813 \nL 289.424844 287.037813 \nL 289.424844 0 \nL 0 0 \nz\n\" style=\"fill: #ffffff\"/>\n  </g>\n  <g id=\"axes_1\">\n   <g id=\"patch_2\">\n    <path d=\"M 59.024844 244.078125 \nL 282.224844 244.078125 \nL 282.224844 22.318125 \nL 59.024844 22.318125 \nz\n\" style=\"fill: #eaeaf2\"/>\n   </g>\n   <g id=\"matplotlib.axis_1\">\n    <g id=\"xtick_1\">\n     <g id=\"line2d_1\">\n      <path d=\"M 106.854327 244.078125 \nL 106.854327 22.318125 \n\" clip-path=\"url(#p379dd0f1e3)\" style=\"fill: none; stroke: #ffffff; stroke-linecap: round\"/>\n     </g>\n     <g id=\"text_1\">\n      <!-- 0.0 -->\n      <g style=\"fill: #262626\" transform=\"translate(98.107609 261.936406) scale(0.11 -0.11)\">\n       <defs>\n        <path id=\"DejaVuSans-30\" d=\"M 2034 4250 \nQ 1547 4250 1301 3770 \nQ 1056 3291 1056 2328 \nQ 1056 1369 1301 889 \nQ 1547 409 2034 409 \nQ 2525 409 2770 889 \nQ 3016 1369 3016 2328 \nQ 3016 3291 2770 3770 \nQ 2525 4250 2034 4250 \nz\nM 2034 4750 \nQ 2819 4750 3233 4129 \nQ 3647 3509 3647 2328 \nQ 3647 1150 3233 529 \nQ 2819 -91 2034 -91 \nQ 1250 -91 836 529 \nQ 422 1150 422 2328 \nQ 422 3509 836 4129 \nQ 1250 4750 2034 4750 \nz\n\" transform=\"scale(0.015625)\"/>\n        <path id=\"DejaVuSans-2e\" d=\"M 684 794 \nL 1344 794 \nL 1344 0 \nL 684 0 \nL 684 794 \nz\n\" transform=\"scale(0.015625)\"/>\n       </defs>\n       <use xlink:href=\"#DejaVuSans-30\"/>\n       <use xlink:href=\"#DejaVuSans-2e\" x=\"63.623047\"/>\n       <use xlink:href=\"#DejaVuSans-30\" x=\"95.410156\"/>\n      </g>\n     </g>\n    </g>\n    <g id=\"xtick_2\">\n     <g id=\"line2d_2\">\n      <path d=\"M 174.122241 244.078125 \nL 174.122241 22.318125 \n\" clip-path=\"url(#p379dd0f1e3)\" style=\"fill: none; stroke: #ffffff; stroke-linecap: round\"/>\n     </g>\n     <g id=\"text_2\">\n      <!-- 0.5 -->\n      <g style=\"fill: #262626\" transform=\"translate(165.375522 261.936406) scale(0.11 -0.11)\">\n       <defs>\n        <path id=\"DejaVuSans-35\" d=\"M 691 4666 \nL 3169 4666 \nL 3169 4134 \nL 1269 4134 \nL 1269 2991 \nQ 1406 3038 1543 3061 \nQ 1681 3084 1819 3084 \nQ 2600 3084 3056 2656 \nQ 3513 2228 3513 1497 \nQ 3513 744 3044 326 \nQ 2575 -91 1722 -91 \nQ 1428 -91 1123 -41 \nQ 819 9 494 109 \nL 494 744 \nQ 775 591 1075 516 \nQ 1375 441 1709 441 \nQ 2250 441 2565 725 \nQ 2881 1009 2881 1497 \nQ 2881 1984 2565 2268 \nQ 2250 2553 1709 2553 \nQ 1456 2553 1204 2497 \nQ 953 2441 691 2322 \nL 691 4666 \nz\n\" transform=\"scale(0.015625)\"/>\n       </defs>\n       <use xlink:href=\"#DejaVuSans-30\"/>\n       <use xlink:href=\"#DejaVuSans-2e\" x=\"63.623047\"/>\n       <use xlink:href=\"#DejaVuSans-35\" x=\"95.410156\"/>\n      </g>\n     </g>\n    </g>\n    <g id=\"xtick_3\">\n     <g id=\"line2d_3\">\n      <path d=\"M 241.390155 244.078125 \nL 241.390155 22.318125 \n\" clip-path=\"url(#p379dd0f1e3)\" style=\"fill: none; stroke: #ffffff; stroke-linecap: round\"/>\n     </g>\n     <g id=\"text_3\">\n      <!-- 1.0 -->\n      <g style=\"fill: #262626\" transform=\"translate(232.643436 261.936406) scale(0.11 -0.11)\">\n       <defs>\n        <path id=\"DejaVuSans-31\" d=\"M 794 531 \nL 1825 531 \nL 1825 4091 \nL 703 3866 \nL 703 4441 \nL 1819 4666 \nL 2450 4666 \nL 2450 531 \nL 3481 531 \nL 3481 0 \nL 794 0 \nL 794 531 \nz\n\" transform=\"scale(0.015625)\"/>\n       </defs>\n       <use xlink:href=\"#DejaVuSans-31\"/>\n       <use xlink:href=\"#DejaVuSans-2e\" x=\"63.623047\"/>\n       <use xlink:href=\"#DejaVuSans-30\" x=\"95.410156\"/>\n      </g>\n     </g>\n    </g>\n    <g id=\"text_4\">\n     <!-- $x_1$ -->\n     <g style=\"fill: #262626\" transform=\"translate(164.204844 277.342188) scale(0.12 -0.12)\">\n      <defs>\n       <path id=\"DejaVuSans-Oblique-78\" d=\"M 3841 3500 \nL 2234 1784 \nL 3219 0 \nL 2559 0 \nL 1819 1388 \nL 531 0 \nL -166 0 \nL 1556 1844 \nL 641 3500 \nL 1300 3500 \nL 1972 2234 \nL 3144 3500 \nL 3841 3500 \nz\n\" transform=\"scale(0.015625)\"/>\n      </defs>\n      <use xlink:href=\"#DejaVuSans-Oblique-78\" transform=\"translate(0 0.3125)\"/>\n      <use xlink:href=\"#DejaVuSans-31\" transform=\"translate(59.179688 -16.09375) scale(0.7)\"/>\n     </g>\n    </g>\n   </g>\n   <g id=\"matplotlib.axis_2\">\n    <g id=\"ytick_1\">\n     <g id=\"line2d_4\">\n      <path d=\"M 59.024844 230.697413 \nL 282.224844 230.697413 \n\" clip-path=\"url(#p379dd0f1e3)\" style=\"fill: none; stroke: #ffffff; stroke-linecap: round\"/>\n     </g>\n     <g id=\"text_5\">\n      <!-- −0.2 -->\n      <g style=\"fill: #262626\" transform=\"translate(22.81375 234.876553) scale(0.11 -0.11)\">\n       <defs>\n        <path id=\"DejaVuSans-2212\" d=\"M 678 2272 \nL 4684 2272 \nL 4684 1741 \nL 678 1741 \nL 678 2272 \nz\n\" transform=\"scale(0.015625)\"/>\n        <path id=\"DejaVuSans-32\" d=\"M 1228 531 \nL 3431 531 \nL 3431 0 \nL 469 0 \nL 469 531 \nQ 828 903 1448 1529 \nQ 2069 2156 2228 2338 \nQ 2531 2678 2651 2914 \nQ 2772 3150 2772 3378 \nQ 2772 3750 2511 3984 \nQ 2250 4219 1831 4219 \nQ 1534 4219 1204 4116 \nQ 875 4013 500 3803 \nL 500 4441 \nQ 881 4594 1212 4672 \nQ 1544 4750 1819 4750 \nQ 2544 4750 2975 4387 \nQ 3406 4025 3406 3419 \nQ 3406 3131 3298 2873 \nQ 3191 2616 2906 2266 \nQ 2828 2175 2409 1742 \nQ 1991 1309 1228 531 \nz\n\" transform=\"scale(0.015625)\"/>\n       </defs>\n       <use xlink:href=\"#DejaVuSans-2212\"/>\n       <use xlink:href=\"#DejaVuSans-30\" x=\"83.789062\"/>\n       <use xlink:href=\"#DejaVuSans-2e\" x=\"147.412109\"/>\n       <use xlink:href=\"#DejaVuSans-32\" x=\"179.199219\"/>\n      </g>\n     </g>\n    </g>\n    <g id=\"ytick_2\">\n     <g id=\"line2d_5\">\n      <path d=\"M 59.024844 203.176088 \nL 282.224844 203.176088 \n\" clip-path=\"url(#p379dd0f1e3)\" style=\"fill: none; stroke: #ffffff; stroke-linecap: round\"/>\n     </g>\n     <g id=\"text_6\">\n      <!-- 0.0 -->\n      <g style=\"fill: #262626\" transform=\"translate(32.031406 207.355229) scale(0.11 -0.11)\">\n       <use xlink:href=\"#DejaVuSans-30\"/>\n       <use xlink:href=\"#DejaVuSans-2e\" x=\"63.623047\"/>\n       <use xlink:href=\"#DejaVuSans-30\" x=\"95.410156\"/>\n      </g>\n     </g>\n    </g>\n    <g id=\"ytick_3\">\n     <g id=\"line2d_6\">\n      <path d=\"M 59.024844 175.654763 \nL 282.224844 175.654763 \n\" clip-path=\"url(#p379dd0f1e3)\" style=\"fill: none; stroke: #ffffff; stroke-linecap: round\"/>\n     </g>\n     <g id=\"text_7\">\n      <!-- 0.2 -->\n      <g style=\"fill: #262626\" transform=\"translate(32.031406 179.833904) scale(0.11 -0.11)\">\n       <use xlink:href=\"#DejaVuSans-30\"/>\n       <use xlink:href=\"#DejaVuSans-2e\" x=\"63.623047\"/>\n       <use xlink:href=\"#DejaVuSans-32\" x=\"95.410156\"/>\n      </g>\n     </g>\n    </g>\n    <g id=\"ytick_4\">\n     <g id=\"line2d_7\">\n      <path d=\"M 59.024844 148.133439 \nL 282.224844 148.133439 \n\" clip-path=\"url(#p379dd0f1e3)\" style=\"fill: none; stroke: #ffffff; stroke-linecap: round\"/>\n     </g>\n     <g id=\"text_8\">\n      <!-- 0.4 -->\n      <g style=\"fill: #262626\" transform=\"translate(32.031406 152.31258) scale(0.11 -0.11)\">\n       <defs>\n        <path id=\"DejaVuSans-34\" d=\"M 2419 4116 \nL 825 1625 \nL 2419 1625 \nL 2419 4116 \nz\nM 2253 4666 \nL 3047 4666 \nL 3047 1625 \nL 3713 1625 \nL 3713 1100 \nL 3047 1100 \nL 3047 0 \nL 2419 0 \nL 2419 1100 \nL 313 1100 \nL 313 1709 \nL 2253 4666 \nz\n\" transform=\"scale(0.015625)\"/>\n       </defs>\n       <use xlink:href=\"#DejaVuSans-30\"/>\n       <use xlink:href=\"#DejaVuSans-2e\" x=\"63.623047\"/>\n       <use xlink:href=\"#DejaVuSans-34\" x=\"95.410156\"/>\n      </g>\n     </g>\n    </g>\n    <g id=\"ytick_5\">\n     <g id=\"line2d_8\">\n      <path d=\"M 59.024844 120.612114 \nL 282.224844 120.612114 \n\" clip-path=\"url(#p379dd0f1e3)\" style=\"fill: none; stroke: #ffffff; stroke-linecap: round\"/>\n     </g>\n     <g id=\"text_9\">\n      <!-- 0.6 -->\n      <g style=\"fill: #262626\" transform=\"translate(32.031406 124.791255) scale(0.11 -0.11)\">\n       <defs>\n        <path id=\"DejaVuSans-36\" d=\"M 2113 2584 \nQ 1688 2584 1439 2293 \nQ 1191 2003 1191 1497 \nQ 1191 994 1439 701 \nQ 1688 409 2113 409 \nQ 2538 409 2786 701 \nQ 3034 994 3034 1497 \nQ 3034 2003 2786 2293 \nQ 2538 2584 2113 2584 \nz\nM 3366 4563 \nL 3366 3988 \nQ 3128 4100 2886 4159 \nQ 2644 4219 2406 4219 \nQ 1781 4219 1451 3797 \nQ 1122 3375 1075 2522 \nQ 1259 2794 1537 2939 \nQ 1816 3084 2150 3084 \nQ 2853 3084 3261 2657 \nQ 3669 2231 3669 1497 \nQ 3669 778 3244 343 \nQ 2819 -91 2113 -91 \nQ 1303 -91 875 529 \nQ 447 1150 447 2328 \nQ 447 3434 972 4092 \nQ 1497 4750 2381 4750 \nQ 2619 4750 2861 4703 \nQ 3103 4656 3366 4563 \nz\n\" transform=\"scale(0.015625)\"/>\n       </defs>\n       <use xlink:href=\"#DejaVuSans-30\"/>\n       <use xlink:href=\"#DejaVuSans-2e\" x=\"63.623047\"/>\n       <use xlink:href=\"#DejaVuSans-36\" x=\"95.410156\"/>\n      </g>\n     </g>\n    </g>\n    <g id=\"ytick_6\">\n     <g id=\"line2d_9\">\n      <path d=\"M 59.024844 93.09079 \nL 282.224844 93.09079 \n\" clip-path=\"url(#p379dd0f1e3)\" style=\"fill: none; stroke: #ffffff; stroke-linecap: round\"/>\n     </g>\n     <g id=\"text_10\">\n      <!-- 0.8 -->\n      <g style=\"fill: #262626\" transform=\"translate(32.031406 97.26993) scale(0.11 -0.11)\">\n       <defs>\n        <path id=\"DejaVuSans-38\" d=\"M 2034 2216 \nQ 1584 2216 1326 1975 \nQ 1069 1734 1069 1313 \nQ 1069 891 1326 650 \nQ 1584 409 2034 409 \nQ 2484 409 2743 651 \nQ 3003 894 3003 1313 \nQ 3003 1734 2745 1975 \nQ 2488 2216 2034 2216 \nz\nM 1403 2484 \nQ 997 2584 770 2862 \nQ 544 3141 544 3541 \nQ 544 4100 942 4425 \nQ 1341 4750 2034 4750 \nQ 2731 4750 3128 4425 \nQ 3525 4100 3525 3541 \nQ 3525 3141 3298 2862 \nQ 3072 2584 2669 2484 \nQ 3125 2378 3379 2068 \nQ 3634 1759 3634 1313 \nQ 3634 634 3220 271 \nQ 2806 -91 2034 -91 \nQ 1263 -91 848 271 \nQ 434 634 434 1313 \nQ 434 1759 690 2068 \nQ 947 2378 1403 2484 \nz\nM 1172 3481 \nQ 1172 3119 1398 2916 \nQ 1625 2713 2034 2713 \nQ 2441 2713 2670 2916 \nQ 2900 3119 2900 3481 \nQ 2900 3844 2670 4047 \nQ 2441 4250 2034 4250 \nQ 1625 4250 1398 4047 \nQ 1172 3844 1172 3481 \nz\n\" transform=\"scale(0.015625)\"/>\n       </defs>\n       <use xlink:href=\"#DejaVuSans-30\"/>\n       <use xlink:href=\"#DejaVuSans-2e\" x=\"63.623047\"/>\n       <use xlink:href=\"#DejaVuSans-38\" x=\"95.410156\"/>\n      </g>\n     </g>\n    </g>\n    <g id=\"ytick_7\">\n     <g id=\"line2d_10\">\n      <path d=\"M 59.024844 65.569465 \nL 282.224844 65.569465 \n\" clip-path=\"url(#p379dd0f1e3)\" style=\"fill: none; stroke: #ffffff; stroke-linecap: round\"/>\n     </g>\n     <g id=\"text_11\">\n      <!-- 1.0 -->\n      <g style=\"fill: #262626\" transform=\"translate(32.031406 69.748606) scale(0.11 -0.11)\">\n       <use xlink:href=\"#DejaVuSans-31\"/>\n       <use xlink:href=\"#DejaVuSans-2e\" x=\"63.623047\"/>\n       <use xlink:href=\"#DejaVuSans-30\" x=\"95.410156\"/>\n      </g>\n     </g>\n    </g>\n    <g id=\"ytick_8\">\n     <g id=\"line2d_11\">\n      <path d=\"M 59.024844 38.048141 \nL 282.224844 38.048141 \n\" clip-path=\"url(#p379dd0f1e3)\" style=\"fill: none; stroke: #ffffff; stroke-linecap: round\"/>\n     </g>\n     <g id=\"text_12\">\n      <!-- 1.2 -->\n      <g style=\"fill: #262626\" transform=\"translate(32.031406 42.227281) scale(0.11 -0.11)\">\n       <use xlink:href=\"#DejaVuSans-31\"/>\n       <use xlink:href=\"#DejaVuSans-2e\" x=\"63.623047\"/>\n       <use xlink:href=\"#DejaVuSans-32\" x=\"95.410156\"/>\n      </g>\n     </g>\n    </g>\n    <g id=\"text_13\">\n     <!-- $x_2$ -->\n     <g style=\"fill: #262626\" transform=\"translate(16.318125 139.618125) rotate(-90) scale(0.12 -0.12)\">\n      <use xlink:href=\"#DejaVuSans-Oblique-78\" transform=\"translate(0 0.3125)\"/>\n      <use xlink:href=\"#DejaVuSans-32\" transform=\"translate(59.179688 -16.09375) scale(0.7)\"/>\n     </g>\n    </g>\n   </g>\n   <g id=\"PathCollection_1\">\n    <defs>\n     <path id=\"mb65ca84a79\" d=\"M 0 3 \nC 0.795609 3 1.55874 2.683901 2.12132 2.12132 \nC 2.683901 1.55874 3 0.795609 3 0 \nC 3 -0.795609 2.683901 -1.55874 2.12132 -2.12132 \nC 1.55874 -2.683901 0.795609 -3 0 -3 \nC -0.795609 -3 -1.55874 -2.683901 -2.12132 -2.12132 \nC -2.683901 -1.55874 -3 -0.795609 -3 0 \nC -3 0.795609 -2.683901 1.55874 -2.12132 2.12132 \nC -1.55874 2.683901 -0.795609 3 0 3 \nz\n\" style=\"stroke: #333333\"/>\n    </defs>\n    <g clip-path=\"url(#p379dd0f1e3)\">\n     <use xlink:href=\"#mb65ca84a79\" x=\"246.763387\" y=\"55.356867\" style=\"fill: #4c72b0; stroke: #333333\"/>\n     <use xlink:href=\"#mb65ca84a79\" x=\"99.074825\" y=\"208.174443\" style=\"fill: #4c72b0; stroke: #333333\"/>\n     <use xlink:href=\"#mb65ca84a79\" x=\"254.010763\" y=\"65.400406\" style=\"fill: #4c72b0; stroke: #333333\"/>\n     <use xlink:href=\"#mb65ca84a79\" x=\"238.664919\" y=\"66.547799\" style=\"fill: #4c72b0; stroke: #333333\"/>\n     <use xlink:href=\"#mb65ca84a79\" x=\"257.0563\" y=\"85.737643\" style=\"fill: #4c72b0; stroke: #333333\"/>\n     <use xlink:href=\"#mb65ca84a79\" x=\"254.13209\" y=\"45.934925\" style=\"fill: #4c72b0; stroke: #333333\"/>\n     <use xlink:href=\"#mb65ca84a79\" x=\"255.284543\" y=\"77.913655\" style=\"fill: #4c72b0; stroke: #333333\"/>\n     <use xlink:href=\"#mb65ca84a79\" x=\"69.170298\" y=\"206.495351\" style=\"fill: #4c72b0; stroke: #333333\"/>\n     <use xlink:href=\"#mb65ca84a79\" x=\"260.180343\" y=\"50.703154\" style=\"fill: #4c72b0; stroke: #333333\"/>\n     <use xlink:href=\"#mb65ca84a79\" x=\"263.701901\" y=\"71.032559\" style=\"fill: #4c72b0; stroke: #333333\"/>\n     <use xlink:href=\"#mb65ca84a79\" x=\"118.145558\" y=\"211.224977\" style=\"fill: #4c72b0; stroke: #333333\"/>\n     <use xlink:href=\"#mb65ca84a79\" x=\"98.474653\" y=\"193.081755\" style=\"fill: #4c72b0; stroke: #333333\"/>\n     <use xlink:href=\"#mb65ca84a79\" x=\"134.376616\" y=\"210.850965\" style=\"fill: #4c72b0; stroke: #333333\"/>\n     <use xlink:href=\"#mb65ca84a79\" x=\"246.957543\" y=\"61.531771\" style=\"fill: #4c72b0; stroke: #333333\"/>\n     <use xlink:href=\"#mb65ca84a79\" x=\"248.734753\" y=\"73.667548\" style=\"fill: #4c72b0; stroke: #333333\"/>\n     <use xlink:href=\"#mb65ca84a79\" x=\"108.060072\" y=\"187.436368\" style=\"fill: #4c72b0; stroke: #333333\"/>\n     <use xlink:href=\"#mb65ca84a79\" x=\"252.527592\" y=\"53.305352\" style=\"fill: #4c72b0; stroke: #333333\"/>\n     <use xlink:href=\"#mb65ca84a79\" x=\"115.749366\" y=\"195.837532\" style=\"fill: #4c72b0; stroke: #333333\"/>\n     <use xlink:href=\"#mb65ca84a79\" x=\"260.380464\" y=\"39.55192\" style=\"fill: #4c72b0; stroke: #333333\"/>\n     <use xlink:href=\"#mb65ca84a79\" x=\"245.032816\" y=\"56.688297\" style=\"fill: #4c72b0; stroke: #333333\"/>\n     <use xlink:href=\"#mb65ca84a79\" x=\"258.556295\" y=\"59.145762\" style=\"fill: #4c72b0; stroke: #333333\"/>\n     <use xlink:href=\"#mb65ca84a79\" x=\"111.123675\" y=\"205.481479\" style=\"fill: #4c72b0; stroke: #333333\"/>\n     <use xlink:href=\"#mb65ca84a79\" x=\"90.969059\" y=\"210.064672\" style=\"fill: #4c72b0; stroke: #333333\"/>\n     <use xlink:href=\"#mb65ca84a79\" x=\"235.855036\" y=\"56.418189\" style=\"fill: #4c72b0; stroke: #333333\"/>\n     <use xlink:href=\"#mb65ca84a79\" x=\"244.519987\" y=\"53.69411\" style=\"fill: #4c72b0; stroke: #333333\"/>\n     <use xlink:href=\"#mb65ca84a79\" x=\"231.969937\" y=\"84.093906\" style=\"fill: #4c72b0; stroke: #333333\"/>\n     <use xlink:href=\"#mb65ca84a79\" x=\"92.063185\" y=\"216.002759\" style=\"fill: #4c72b0; stroke: #333333\"/>\n     <use xlink:href=\"#mb65ca84a79\" x=\"229.768444\" y=\"70.652192\" style=\"fill: #4c72b0; stroke: #333333\"/>\n     <use xlink:href=\"#mb65ca84a79\" x=\"250.288939\" y=\"67.219772\" style=\"fill: #4c72b0; stroke: #333333\"/>\n     <use xlink:href=\"#mb65ca84a79\" x=\"103.719928\" y=\"212.435963\" style=\"fill: #4c72b0; stroke: #333333\"/>\n     <use xlink:href=\"#mb65ca84a79\" x=\"247.891302\" y=\"71.030172\" style=\"fill: #4c72b0; stroke: #333333\"/>\n     <use xlink:href=\"#mb65ca84a79\" x=\"105.837665\" y=\"205.305687\" style=\"fill: #4c72b0; stroke: #333333\"/>\n     <use xlink:href=\"#mb65ca84a79\" x=\"223.471002\" y=\"64.908138\" style=\"fill: #4c72b0; stroke: #333333\"/>\n     <use xlink:href=\"#mb65ca84a79\" x=\"124.570506\" y=\"211.755226\" style=\"fill: #4c72b0; stroke: #333333\"/>\n     <use xlink:href=\"#mb65ca84a79\" x=\"231.959184\" y=\"75.059205\" style=\"fill: #4c72b0; stroke: #333333\"/>\n     <use xlink:href=\"#mb65ca84a79\" x=\"251.496883\" y=\"68.771885\" style=\"fill: #4c72b0; stroke: #333333\"/>\n     <use xlink:href=\"#mb65ca84a79\" x=\"246.57329\" y=\"75.051036\" style=\"fill: #4c72b0; stroke: #333333\"/>\n     <use xlink:href=\"#mb65ca84a79\" x=\"112.624729\" y=\"180.247226\" style=\"fill: #4c72b0; stroke: #333333\"/>\n     <use xlink:href=\"#mb65ca84a79\" x=\"106.203653\" y=\"196.935788\" style=\"fill: #4c72b0; stroke: #333333\"/>\n     <use xlink:href=\"#mb65ca84a79\" x=\"97.24033\" y=\"176.549016\" style=\"fill: #4c72b0; stroke: #333333\"/>\n     <use xlink:href=\"#mb65ca84a79\" x=\"120.120348\" y=\"231.800112\" style=\"fill: #4c72b0; stroke: #333333\"/>\n     <use xlink:href=\"#mb65ca84a79\" x=\"112.690881\" y=\"217.287684\" style=\"fill: #4c72b0; stroke: #333333\"/>\n     <use xlink:href=\"#mb65ca84a79\" x=\"103.085526\" y=\"202.544291\" style=\"fill: #4c72b0; stroke: #333333\"/>\n     <use xlink:href=\"#mb65ca84a79\" x=\"104.868515\" y=\"201.759527\" style=\"fill: #4c72b0; stroke: #333333\"/>\n     <use xlink:href=\"#mb65ca84a79\" x=\"235.309329\" y=\"75.814133\" style=\"fill: #4c72b0; stroke: #333333\"/>\n     <use xlink:href=\"#mb65ca84a79\" x=\"237.538841\" y=\"63.900802\" style=\"fill: #4c72b0; stroke: #333333\"/>\n     <use xlink:href=\"#mb65ca84a79\" x=\"243.549436\" y=\"71.011947\" style=\"fill: #4c72b0; stroke: #333333\"/>\n     <use xlink:href=\"#mb65ca84a79\" x=\"103.035111\" y=\"212.222895\" style=\"fill: #4c72b0; stroke: #333333\"/>\n     <use xlink:href=\"#mb65ca84a79\" x=\"241.446496\" y=\"54.715652\" style=\"fill: #4c72b0; stroke: #333333\"/>\n     <use xlink:href=\"#mb65ca84a79\" x=\"241.323742\" y=\"70.123729\" style=\"fill: #4c72b0; stroke: #333333\"/>\n     <use xlink:href=\"#mb65ca84a79\" x=\"120.2015\" y=\"222.445695\" style=\"fill: #4c72b0; stroke: #333333\"/>\n     <use xlink:href=\"#mb65ca84a79\" x=\"77.343854\" y=\"226.900901\" style=\"fill: #4c72b0; stroke: #333333\"/>\n     <use xlink:href=\"#mb65ca84a79\" x=\"99.467426\" y=\"218.1427\" style=\"fill: #4c72b0; stroke: #333333\"/>\n     <use xlink:href=\"#mb65ca84a79\" x=\"235.041704\" y=\"79.095062\" style=\"fill: #4c72b0; stroke: #333333\"/>\n     <use xlink:href=\"#mb65ca84a79\" x=\"247.14416\" y=\"60.279425\" style=\"fill: #4c72b0; stroke: #333333\"/>\n     <use xlink:href=\"#mb65ca84a79\" x=\"75.94629\" y=\"216.075166\" style=\"fill: #4c72b0; stroke: #333333\"/>\n     <use xlink:href=\"#mb65ca84a79\" x=\"229.327859\" y=\"77.203378\" style=\"fill: #4c72b0; stroke: #333333\"/>\n     <use xlink:href=\"#mb65ca84a79\" x=\"128.74594\" y=\"217.527661\" style=\"fill: #4c72b0; stroke: #333333\"/>\n     <use xlink:href=\"#mb65ca84a79\" x=\"247.520361\" y=\"40.955052\" style=\"fill: #4c72b0; stroke: #333333\"/>\n     <use xlink:href=\"#mb65ca84a79\" x=\"136.483214\" y=\"210.52637\" style=\"fill: #4c72b0; stroke: #333333\"/>\n     <use xlink:href=\"#mb65ca84a79\" x=\"255.445371\" y=\"88.6697\" style=\"fill: #4c72b0; stroke: #333333\"/>\n     <use xlink:href=\"#mb65ca84a79\" x=\"252.088121\" y=\"53.760956\" style=\"fill: #4c72b0; stroke: #333333\"/>\n     <use xlink:href=\"#mb65ca84a79\" x=\"91.263435\" y=\"182.422997\" style=\"fill: #4c72b0; stroke: #333333\"/>\n     <use xlink:href=\"#mb65ca84a79\" x=\"259.630435\" y=\"66.988558\" style=\"fill: #4c72b0; stroke: #333333\"/>\n     <use xlink:href=\"#mb65ca84a79\" x=\"228.610731\" y=\"39.936364\" style=\"fill: #4c72b0; stroke: #333333\"/>\n     <use xlink:href=\"#mb65ca84a79\" x=\"113.441572\" y=\"211.900661\" style=\"fill: #4c72b0; stroke: #333333\"/>\n     <use xlink:href=\"#mb65ca84a79\" x=\"90.366175\" y=\"206.991721\" style=\"fill: #4c72b0; stroke: #333333\"/>\n     <use xlink:href=\"#mb65ca84a79\" x=\"103.743547\" y=\"206.701733\" style=\"fill: #4c72b0; stroke: #333333\"/>\n     <use xlink:href=\"#mb65ca84a79\" x=\"87.512623\" y=\"195.794302\" style=\"fill: #4c72b0; stroke: #333333\"/>\n     <use xlink:href=\"#mb65ca84a79\" x=\"266.206976\" y=\"72.998585\" style=\"fill: #4c72b0; stroke: #333333\"/>\n     <use xlink:href=\"#mb65ca84a79\" x=\"260.608475\" y=\"62.015738\" style=\"fill: #4c72b0; stroke: #333333\"/>\n     <use xlink:href=\"#mb65ca84a79\" x=\"258.451166\" y=\"47.006795\" style=\"fill: #4c72b0; stroke: #333333\"/>\n     <use xlink:href=\"#mb65ca84a79\" x=\"95.433639\" y=\"220.489663\" style=\"fill: #4c72b0; stroke: #333333\"/>\n     <use xlink:href=\"#mb65ca84a79\" x=\"235.78604\" y=\"66.187059\" style=\"fill: #4c72b0; stroke: #333333\"/>\n     <use xlink:href=\"#mb65ca84a79\" x=\"232.076622\" y=\"66.622396\" style=\"fill: #4c72b0; stroke: #333333\"/>\n     <use xlink:href=\"#mb65ca84a79\" x=\"92.5796\" y=\"228.576304\" style=\"fill: #4c72b0; stroke: #333333\"/>\n     <use xlink:href=\"#mb65ca84a79\" x=\"117.948987\" y=\"213.877683\" style=\"fill: #4c72b0; stroke: #333333\"/>\n     <use xlink:href=\"#mb65ca84a79\" x=\"83.927729\" y=\"210.939693\" style=\"fill: #4c72b0; stroke: #333333\"/>\n     <use xlink:href=\"#mb65ca84a79\" x=\"105.430443\" y=\"194.578807\" style=\"fill: #4c72b0; stroke: #333333\"/>\n     <use xlink:href=\"#mb65ca84a79\" x=\"244.816913\" y=\"61.152298\" style=\"fill: #4c72b0; stroke: #333333\"/>\n     <use xlink:href=\"#mb65ca84a79\" x=\"256.671695\" y=\"71.818671\" style=\"fill: #4c72b0; stroke: #333333\"/>\n     <use xlink:href=\"#mb65ca84a79\" x=\"104.569667\" y=\"202.364557\" style=\"fill: #4c72b0; stroke: #333333\"/>\n     <use xlink:href=\"#mb65ca84a79\" x=\"137.556707\" y=\"214.060353\" style=\"fill: #4c72b0; stroke: #333333\"/>\n     <use xlink:href=\"#mb65ca84a79\" x=\"117.810527\" y=\"200.965161\" style=\"fill: #4c72b0; stroke: #333333\"/>\n     <use xlink:href=\"#mb65ca84a79\" x=\"245.937114\" y=\"72.167461\" style=\"fill: #4c72b0; stroke: #333333\"/>\n     <use xlink:href=\"#mb65ca84a79\" x=\"245.070569\" y=\"72.944657\" style=\"fill: #4c72b0; stroke: #333333\"/>\n     <use xlink:href=\"#mb65ca84a79\" x=\"103.169853\" y=\"212.701962\" style=\"fill: #4c72b0; stroke: #333333\"/>\n     <use xlink:href=\"#mb65ca84a79\" x=\"233.419453\" y=\"68.793448\" style=\"fill: #4c72b0; stroke: #333333\"/>\n     <use xlink:href=\"#mb65ca84a79\" x=\"211.818924\" y=\"83.96762\" style=\"fill: #4c72b0; stroke: #333333\"/>\n     <use xlink:href=\"#mb65ca84a79\" x=\"242.760467\" y=\"67.605052\" style=\"fill: #4c72b0; stroke: #333333\"/>\n     <use xlink:href=\"#mb65ca84a79\" x=\"98.276824\" y=\"199.804015\" style=\"fill: #4c72b0; stroke: #333333\"/>\n     <use xlink:href=\"#mb65ca84a79\" x=\"247.863605\" y=\"58.307617\" style=\"fill: #4c72b0; stroke: #333333\"/>\n     <use xlink:href=\"#mb65ca84a79\" x=\"108.080051\" y=\"219.305652\" style=\"fill: #4c72b0; stroke: #333333\"/>\n     <use xlink:href=\"#mb65ca84a79\" x=\"115.851402\" y=\"221.673325\" style=\"fill: #4c72b0; stroke: #333333\"/>\n     <use xlink:href=\"#mb65ca84a79\" x=\"128.177432\" y=\"208.50999\" style=\"fill: #4c72b0; stroke: #333333\"/>\n     <use xlink:href=\"#mb65ca84a79\" x=\"218.926714\" y=\"61.124313\" style=\"fill: #4c72b0; stroke: #333333\"/>\n     <use xlink:href=\"#mb65ca84a79\" x=\"248.533942\" y=\"49.700346\" style=\"fill: #4c72b0; stroke: #333333\"/>\n     <use xlink:href=\"#mb65ca84a79\" x=\"238.467468\" y=\"66.210582\" style=\"fill: #4c72b0; stroke: #333333\"/>\n    </g>\n   </g>\n   <g id=\"PathCollection_2\">\n    <defs>\n     <path id=\"mc48b0d1568\" d=\"M 0 3 \nC 0.795609 3 1.55874 2.683901 2.12132 2.12132 \nC 2.683901 1.55874 3 0.795609 3 0 \nC 3 -0.795609 2.683901 -1.55874 2.12132 -2.12132 \nC 1.55874 -2.683901 0.795609 -3 0 -3 \nC -0.795609 -3 -1.55874 -2.683901 -2.12132 -2.12132 \nC -2.683901 -1.55874 -3 -0.795609 -3 0 \nC -3 0.795609 -2.683901 1.55874 -2.12132 2.12132 \nC -1.55874 2.683901 -0.795609 3 0 3 \nz\n\" style=\"stroke: #333333\"/>\n    </defs>\n    <g clip-path=\"url(#p379dd0f1e3)\">\n     <use xlink:href=\"#mc48b0d1568\" x=\"219.128094\" y=\"198.935159\" style=\"fill: #dd8452; stroke: #333333\"/>\n     <use xlink:href=\"#mc48b0d1568\" x=\"96.076286\" y=\"62.104517\" style=\"fill: #dd8452; stroke: #333333\"/>\n     <use xlink:href=\"#mc48b0d1568\" x=\"107.660411\" y=\"56.558\" style=\"fill: #dd8452; stroke: #333333\"/>\n     <use xlink:href=\"#mc48b0d1568\" x=\"234.585939\" y=\"201.188792\" style=\"fill: #dd8452; stroke: #333333\"/>\n     <use xlink:href=\"#mc48b0d1568\" x=\"245.749133\" y=\"202.513615\" style=\"fill: #dd8452; stroke: #333333\"/>\n     <use xlink:href=\"#mc48b0d1568\" x=\"113.876237\" y=\"49.162754\" style=\"fill: #dd8452; stroke: #333333\"/>\n     <use xlink:href=\"#mc48b0d1568\" x=\"248.955226\" y=\"196.545344\" style=\"fill: #dd8452; stroke: #333333\"/>\n     <use xlink:href=\"#mc48b0d1568\" x=\"241.824478\" y=\"194.117113\" style=\"fill: #dd8452; stroke: #333333\"/>\n     <use xlink:href=\"#mc48b0d1568\" x=\"235.240615\" y=\"223.140012\" style=\"fill: #dd8452; stroke: #333333\"/>\n     <use xlink:href=\"#mc48b0d1568\" x=\"78.730521\" y=\"63.679004\" style=\"fill: #dd8452; stroke: #333333\"/>\n     <use xlink:href=\"#mc48b0d1568\" x=\"96.564884\" y=\"55.22429\" style=\"fill: #dd8452; stroke: #333333\"/>\n     <use xlink:href=\"#mc48b0d1568\" x=\"248.252893\" y=\"214.553944\" style=\"fill: #dd8452; stroke: #333333\"/>\n     <use xlink:href=\"#mc48b0d1568\" x=\"236.444044\" y=\"187.801918\" style=\"fill: #dd8452; stroke: #333333\"/>\n     <use xlink:href=\"#mc48b0d1568\" x=\"263.119276\" y=\"198.719435\" style=\"fill: #dd8452; stroke: #333333\"/>\n     <use xlink:href=\"#mc48b0d1568\" x=\"248.135127\" y=\"196.1186\" style=\"fill: #dd8452; stroke: #333333\"/>\n     <use xlink:href=\"#mc48b0d1568\" x=\"128.31443\" y=\"56.513349\" style=\"fill: #dd8452; stroke: #333333\"/>\n     <use xlink:href=\"#mc48b0d1568\" x=\"255.658114\" y=\"208.423852\" style=\"fill: #dd8452; stroke: #333333\"/>\n     <use xlink:href=\"#mc48b0d1568\" x=\"96.599018\" y=\"79.241828\" style=\"fill: #dd8452; stroke: #333333\"/>\n     <use xlink:href=\"#mc48b0d1568\" x=\"238.528356\" y=\"204.172068\" style=\"fill: #dd8452; stroke: #333333\"/>\n     <use xlink:href=\"#mc48b0d1568\" x=\"105.760424\" y=\"52.059272\" style=\"fill: #dd8452; stroke: #333333\"/>\n     <use xlink:href=\"#mc48b0d1568\" x=\"251.538277\" y=\"232.656394\" style=\"fill: #dd8452; stroke: #333333\"/>\n     <use xlink:href=\"#mc48b0d1568\" x=\"220.847375\" y=\"192.431848\" style=\"fill: #dd8452; stroke: #333333\"/>\n     <use xlink:href=\"#mc48b0d1568\" x=\"229.006226\" y=\"218.339698\" style=\"fill: #dd8452; stroke: #333333\"/>\n     <use xlink:href=\"#mc48b0d1568\" x=\"76.261028\" y=\"51.878566\" style=\"fill: #dd8452; stroke: #333333\"/>\n     <use xlink:href=\"#mc48b0d1568\" x=\"115.627979\" y=\"63.829035\" style=\"fill: #dd8452; stroke: #333333\"/>\n     <use xlink:href=\"#mc48b0d1568\" x=\"108.050331\" y=\"87.911926\" style=\"fill: #dd8452; stroke: #333333\"/>\n     <use xlink:href=\"#mc48b0d1568\" x=\"106.384952\" y=\"49.410914\" style=\"fill: #dd8452; stroke: #333333\"/>\n     <use xlink:href=\"#mc48b0d1568\" x=\"99.688863\" y=\"70.90209\" style=\"fill: #dd8452; stroke: #333333\"/>\n     <use xlink:href=\"#mc48b0d1568\" x=\"257.91481\" y=\"192.01516\" style=\"fill: #dd8452; stroke: #333333\"/>\n     <use xlink:href=\"#mc48b0d1568\" x=\"248.703719\" y=\"204.620021\" style=\"fill: #dd8452; stroke: #333333\"/>\n     <use xlink:href=\"#mc48b0d1568\" x=\"220.418433\" y=\"191.529948\" style=\"fill: #dd8452; stroke: #333333\"/>\n     <use xlink:href=\"#mc48b0d1568\" x=\"117.151822\" y=\"66.525178\" style=\"fill: #dd8452; stroke: #333333\"/>\n     <use xlink:href=\"#mc48b0d1568\" x=\"239.006022\" y=\"220.460574\" style=\"fill: #dd8452; stroke: #333333\"/>\n     <use xlink:href=\"#mc48b0d1568\" x=\"261.868671\" y=\"207.369944\" style=\"fill: #dd8452; stroke: #333333\"/>\n     <use xlink:href=\"#mc48b0d1568\" x=\"253.564636\" y=\"204.942881\" style=\"fill: #dd8452; stroke: #333333\"/>\n     <use xlink:href=\"#mc48b0d1568\" x=\"228.75237\" y=\"195.584276\" style=\"fill: #dd8452; stroke: #333333\"/>\n     <use xlink:href=\"#mc48b0d1568\" x=\"228.313187\" y=\"223.803633\" style=\"fill: #dd8452; stroke: #333333\"/>\n     <use xlink:href=\"#mc48b0d1568\" x=\"123.981621\" y=\"45.238461\" style=\"fill: #dd8452; stroke: #333333\"/>\n     <use xlink:href=\"#mc48b0d1568\" x=\"240.631409\" y=\"199.262879\" style=\"fill: #dd8452; stroke: #333333\"/>\n     <use xlink:href=\"#mc48b0d1568\" x=\"98.508064\" y=\"61.607755\" style=\"fill: #dd8452; stroke: #333333\"/>\n     <use xlink:href=\"#mc48b0d1568\" x=\"237.655789\" y=\"185.564396\" style=\"fill: #dd8452; stroke: #333333\"/>\n     <use xlink:href=\"#mc48b0d1568\" x=\"81.938297\" y=\"67.642716\" style=\"fill: #dd8452; stroke: #333333\"/>\n     <use xlink:href=\"#mc48b0d1568\" x=\"104.870163\" y=\"73.365075\" style=\"fill: #dd8452; stroke: #333333\"/>\n     <use xlink:href=\"#mc48b0d1568\" x=\"241.469944\" y=\"207.684724\" style=\"fill: #dd8452; stroke: #333333\"/>\n     <use xlink:href=\"#mc48b0d1568\" x=\"238.663765\" y=\"203.433484\" style=\"fill: #dd8452; stroke: #333333\"/>\n     <use xlink:href=\"#mc48b0d1568\" x=\"113.372849\" y=\"61.656048\" style=\"fill: #dd8452; stroke: #333333\"/>\n     <use xlink:href=\"#mc48b0d1568\" x=\"249.295968\" y=\"190.738803\" style=\"fill: #dd8452; stroke: #333333\"/>\n     <use xlink:href=\"#mc48b0d1568\" x=\"120.962856\" y=\"83.679952\" style=\"fill: #dd8452; stroke: #333333\"/>\n     <use xlink:href=\"#mc48b0d1568\" x=\"105.530214\" y=\"94.116562\" style=\"fill: #dd8452; stroke: #333333\"/>\n     <use xlink:href=\"#mc48b0d1568\" x=\"233.385645\" y=\"188.051928\" style=\"fill: #dd8452; stroke: #333333\"/>\n     <use xlink:href=\"#mc48b0d1568\" x=\"237.083452\" y=\"186.965536\" style=\"fill: #dd8452; stroke: #333333\"/>\n     <use xlink:href=\"#mc48b0d1568\" x=\"114.936929\" y=\"50.324862\" style=\"fill: #dd8452; stroke: #333333\"/>\n     <use xlink:href=\"#mc48b0d1568\" x=\"100.572391\" y=\"66.7273\" style=\"fill: #dd8452; stroke: #333333\"/>\n     <use xlink:href=\"#mc48b0d1568\" x=\"79.715939\" y=\"69.020831\" style=\"fill: #dd8452; stroke: #333333\"/>\n     <use xlink:href=\"#mc48b0d1568\" x=\"246.054143\" y=\"185.332603\" style=\"fill: #dd8452; stroke: #333333\"/>\n     <use xlink:href=\"#mc48b0d1568\" x=\"118.75302\" y=\"65.453374\" style=\"fill: #dd8452; stroke: #333333\"/>\n     <use xlink:href=\"#mc48b0d1568\" x=\"234.731082\" y=\"192.12952\" style=\"fill: #dd8452; stroke: #333333\"/>\n     <use xlink:href=\"#mc48b0d1568\" x=\"115.032493\" y=\"76.922608\" style=\"fill: #dd8452; stroke: #333333\"/>\n     <use xlink:href=\"#mc48b0d1568\" x=\"117.040936\" y=\"57.422687\" style=\"fill: #dd8452; stroke: #333333\"/>\n     <use xlink:href=\"#mc48b0d1568\" x=\"132.323423\" y=\"52.512153\" style=\"fill: #dd8452; stroke: #333333\"/>\n     <use xlink:href=\"#mc48b0d1568\" x=\"229.404985\" y=\"231.929359\" style=\"fill: #dd8452; stroke: #333333\"/>\n     <use xlink:href=\"#mc48b0d1568\" x=\"123.741702\" y=\"59.205784\" style=\"fill: #dd8452; stroke: #333333\"/>\n     <use xlink:href=\"#mc48b0d1568\" x=\"114.826521\" y=\"55.462197\" style=\"fill: #dd8452; stroke: #333333\"/>\n     <use xlink:href=\"#mc48b0d1568\" x=\"223.07756\" y=\"206.721536\" style=\"fill: #dd8452; stroke: #333333\"/>\n     <use xlink:href=\"#mc48b0d1568\" x=\"244.109994\" y=\"217.388234\" style=\"fill: #dd8452; stroke: #333333\"/>\n     <use xlink:href=\"#mc48b0d1568\" x=\"110.81395\" y=\"70.511511\" style=\"fill: #dd8452; stroke: #333333\"/>\n     <use xlink:href=\"#mc48b0d1568\" x=\"118.449879\" y=\"75.030883\" style=\"fill: #dd8452; stroke: #333333\"/>\n     <use xlink:href=\"#mc48b0d1568\" x=\"239.136145\" y=\"196.818576\" style=\"fill: #dd8452; stroke: #333333\"/>\n     <use xlink:href=\"#mc48b0d1568\" x=\"234.247667\" y=\"207.868969\" style=\"fill: #dd8452; stroke: #333333\"/>\n     <use xlink:href=\"#mc48b0d1568\" x=\"115.716677\" y=\"69.626516\" style=\"fill: #dd8452; stroke: #333333\"/>\n     <use xlink:href=\"#mc48b0d1568\" x=\"100.867544\" y=\"43.261715\" style=\"fill: #dd8452; stroke: #333333\"/>\n     <use xlink:href=\"#mc48b0d1568\" x=\"91.688221\" y=\"87.958817\" style=\"fill: #dd8452; stroke: #333333\"/>\n     <use xlink:href=\"#mc48b0d1568\" x=\"113.629358\" y=\"67.953276\" style=\"fill: #dd8452; stroke: #333333\"/>\n     <use xlink:href=\"#mc48b0d1568\" x=\"107.785727\" y=\"43.053713\" style=\"fill: #dd8452; stroke: #333333\"/>\n     <use xlink:href=\"#mc48b0d1568\" x=\"106.836061\" y=\"60.346567\" style=\"fill: #dd8452; stroke: #333333\"/>\n     <use xlink:href=\"#mc48b0d1568\" x=\"101.623369\" y=\"54.248762\" style=\"fill: #dd8452; stroke: #333333\"/>\n     <use xlink:href=\"#mc48b0d1568\" x=\"224.998326\" y=\"216.163305\" style=\"fill: #dd8452; stroke: #333333\"/>\n     <use xlink:href=\"#mc48b0d1568\" x=\"84.903025\" y=\"90.417635\" style=\"fill: #dd8452; stroke: #333333\"/>\n     <use xlink:href=\"#mc48b0d1568\" x=\"262.798934\" y=\"191.888398\" style=\"fill: #dd8452; stroke: #333333\"/>\n     <use xlink:href=\"#mc48b0d1568\" x=\"236.912063\" y=\"200.562012\" style=\"fill: #dd8452; stroke: #333333\"/>\n     <use xlink:href=\"#mc48b0d1568\" x=\"258.25228\" y=\"174.189772\" style=\"fill: #dd8452; stroke: #333333\"/>\n     <use xlink:href=\"#mc48b0d1568\" x=\"224.330138\" y=\"233.998125\" style=\"fill: #dd8452; stroke: #333333\"/>\n     <use xlink:href=\"#mc48b0d1568\" x=\"108.654954\" y=\"76.60989\" style=\"fill: #dd8452; stroke: #333333\"/>\n     <use xlink:href=\"#mc48b0d1568\" x=\"219.039709\" y=\"196.67781\" style=\"fill: #dd8452; stroke: #333333\"/>\n     <use xlink:href=\"#mc48b0d1568\" x=\"230.481578\" y=\"193.621244\" style=\"fill: #dd8452; stroke: #333333\"/>\n     <use xlink:href=\"#mc48b0d1568\" x=\"111.059699\" y=\"68.601226\" style=\"fill: #dd8452; stroke: #333333\"/>\n     <use xlink:href=\"#mc48b0d1568\" x=\"129.25008\" y=\"56.253969\" style=\"fill: #dd8452; stroke: #333333\"/>\n     <use xlink:href=\"#mc48b0d1568\" x=\"272.079389\" y=\"190.140728\" style=\"fill: #dd8452; stroke: #333333\"/>\n     <use xlink:href=\"#mc48b0d1568\" x=\"110.979954\" y=\"62.631659\" style=\"fill: #dd8452; stroke: #333333\"/>\n     <use xlink:href=\"#mc48b0d1568\" x=\"111.708655\" y=\"32.398125\" style=\"fill: #dd8452; stroke: #333333\"/>\n     <use xlink:href=\"#mc48b0d1568\" x=\"116.655298\" y=\"89.735779\" style=\"fill: #dd8452; stroke: #333333\"/>\n     <use xlink:href=\"#mc48b0d1568\" x=\"244.440471\" y=\"213.049792\" style=\"fill: #dd8452; stroke: #333333\"/>\n     <use xlink:href=\"#mc48b0d1568\" x=\"229.523946\" y=\"195.854483\" style=\"fill: #dd8452; stroke: #333333\"/>\n     <use xlink:href=\"#mc48b0d1568\" x=\"252.412248\" y=\"192.055077\" style=\"fill: #dd8452; stroke: #333333\"/>\n     <use xlink:href=\"#mc48b0d1568\" x=\"106.275492\" y=\"60.687622\" style=\"fill: #dd8452; stroke: #333333\"/>\n     <use xlink:href=\"#mc48b0d1568\" x=\"219.809032\" y=\"220.365089\" style=\"fill: #dd8452; stroke: #333333\"/>\n     <use xlink:href=\"#mc48b0d1568\" x=\"232.587053\" y=\"216.937732\" style=\"fill: #dd8452; stroke: #333333\"/>\n     <use xlink:href=\"#mc48b0d1568\" x=\"246.622382\" y=\"188.731858\" style=\"fill: #dd8452; stroke: #333333\"/>\n     <use xlink:href=\"#mc48b0d1568\" x=\"132.131122\" y=\"52.541943\" style=\"fill: #dd8452; stroke: #333333\"/>\n     <use xlink:href=\"#mc48b0d1568\" x=\"88.993944\" y=\"70.027077\" style=\"fill: #dd8452; stroke: #333333\"/>\n     <use xlink:href=\"#mc48b0d1568\" x=\"232.381639\" y=\"204.422324\" style=\"fill: #dd8452; stroke: #333333\"/>\n     <use xlink:href=\"#mc48b0d1568\" x=\"96.541263\" y=\"73.977428\" style=\"fill: #dd8452; stroke: #333333\"/>\n    </g>\n   </g>\n   <g id=\"patch_3\">\n    <path d=\"M 59.024844 244.078125 \nL 59.024844 22.318125 \n\" style=\"fill: none; stroke: #ffffff; stroke-width: 1.25; stroke-linejoin: miter; stroke-linecap: square\"/>\n   </g>\n   <g id=\"patch_4\">\n    <path d=\"M 282.224844 244.078125 \nL 282.224844 22.318125 \n\" style=\"fill: none; stroke: #ffffff; stroke-width: 1.25; stroke-linejoin: miter; stroke-linecap: square\"/>\n   </g>\n   <g id=\"patch_5\">\n    <path d=\"M 59.024844 244.078125 \nL 282.224844 244.078125 \n\" style=\"fill: none; stroke: #ffffff; stroke-width: 1.25; stroke-linejoin: miter; stroke-linecap: square\"/>\n   </g>\n   <g id=\"patch_6\">\n    <path d=\"M 59.024844 22.318125 \nL 282.224844 22.318125 \n\" style=\"fill: none; stroke: #ffffff; stroke-width: 1.25; stroke-linejoin: miter; stroke-linecap: square\"/>\n   </g>\n   <g id=\"text_14\">\n    <!-- Dataset samples -->\n    <g style=\"fill: #262626\" transform=\"translate(120.282031 16.318125) scale(0.12 -0.12)\">\n     <defs>\n      <path id=\"DejaVuSans-44\" d=\"M 1259 4147 \nL 1259 519 \nL 2022 519 \nQ 2988 519 3436 956 \nQ 3884 1394 3884 2338 \nQ 3884 3275 3436 3711 \nQ 2988 4147 2022 4147 \nL 1259 4147 \nz\nM 628 4666 \nL 1925 4666 \nQ 3281 4666 3915 4102 \nQ 4550 3538 4550 2338 \nQ 4550 1131 3912 565 \nQ 3275 0 1925 0 \nL 628 0 \nL 628 4666 \nz\n\" transform=\"scale(0.015625)\"/>\n      <path id=\"DejaVuSans-61\" d=\"M 2194 1759 \nQ 1497 1759 1228 1600 \nQ 959 1441 959 1056 \nQ 959 750 1161 570 \nQ 1363 391 1709 391 \nQ 2188 391 2477 730 \nQ 2766 1069 2766 1631 \nL 2766 1759 \nL 2194 1759 \nz\nM 3341 1997 \nL 3341 0 \nL 2766 0 \nL 2766 531 \nQ 2569 213 2275 61 \nQ 1981 -91 1556 -91 \nQ 1019 -91 701 211 \nQ 384 513 384 1019 \nQ 384 1609 779 1909 \nQ 1175 2209 1959 2209 \nL 2766 2209 \nL 2766 2266 \nQ 2766 2663 2505 2880 \nQ 2244 3097 1772 3097 \nQ 1472 3097 1187 3025 \nQ 903 2953 641 2809 \nL 641 3341 \nQ 956 3463 1253 3523 \nQ 1550 3584 1831 3584 \nQ 2591 3584 2966 3190 \nQ 3341 2797 3341 1997 \nz\n\" transform=\"scale(0.015625)\"/>\n      <path id=\"DejaVuSans-74\" d=\"M 1172 4494 \nL 1172 3500 \nL 2356 3500 \nL 2356 3053 \nL 1172 3053 \nL 1172 1153 \nQ 1172 725 1289 603 \nQ 1406 481 1766 481 \nL 2356 481 \nL 2356 0 \nL 1766 0 \nQ 1100 0 847 248 \nQ 594 497 594 1153 \nL 594 3053 \nL 172 3053 \nL 172 3500 \nL 594 3500 \nL 594 4494 \nL 1172 4494 \nz\n\" transform=\"scale(0.015625)\"/>\n      <path id=\"DejaVuSans-73\" d=\"M 2834 3397 \nL 2834 2853 \nQ 2591 2978 2328 3040 \nQ 2066 3103 1784 3103 \nQ 1356 3103 1142 2972 \nQ 928 2841 928 2578 \nQ 928 2378 1081 2264 \nQ 1234 2150 1697 2047 \nL 1894 2003 \nQ 2506 1872 2764 1633 \nQ 3022 1394 3022 966 \nQ 3022 478 2636 193 \nQ 2250 -91 1575 -91 \nQ 1294 -91 989 -36 \nQ 684 19 347 128 \nL 347 722 \nQ 666 556 975 473 \nQ 1284 391 1588 391 \nQ 1994 391 2212 530 \nQ 2431 669 2431 922 \nQ 2431 1156 2273 1281 \nQ 2116 1406 1581 1522 \nL 1381 1569 \nQ 847 1681 609 1914 \nQ 372 2147 372 2553 \nQ 372 3047 722 3315 \nQ 1072 3584 1716 3584 \nQ 2034 3584 2315 3537 \nQ 2597 3491 2834 3397 \nz\n\" transform=\"scale(0.015625)\"/>\n      <path id=\"DejaVuSans-65\" d=\"M 3597 1894 \nL 3597 1613 \nL 953 1613 \nQ 991 1019 1311 708 \nQ 1631 397 2203 397 \nQ 2534 397 2845 478 \nQ 3156 559 3463 722 \nL 3463 178 \nQ 3153 47 2828 -22 \nQ 2503 -91 2169 -91 \nQ 1331 -91 842 396 \nQ 353 884 353 1716 \nQ 353 2575 817 3079 \nQ 1281 3584 2069 3584 \nQ 2775 3584 3186 3129 \nQ 3597 2675 3597 1894 \nz\nM 3022 2063 \nQ 3016 2534 2758 2815 \nQ 2500 3097 2075 3097 \nQ 1594 3097 1305 2825 \nQ 1016 2553 972 2059 \nL 3022 2063 \nz\n\" transform=\"scale(0.015625)\"/>\n      <path id=\"DejaVuSans-20\" transform=\"scale(0.015625)\"/>\n      <path id=\"DejaVuSans-6d\" d=\"M 3328 2828 \nQ 3544 3216 3844 3400 \nQ 4144 3584 4550 3584 \nQ 5097 3584 5394 3201 \nQ 5691 2819 5691 2113 \nL 5691 0 \nL 5113 0 \nL 5113 2094 \nQ 5113 2597 4934 2840 \nQ 4756 3084 4391 3084 \nQ 3944 3084 3684 2787 \nQ 3425 2491 3425 1978 \nL 3425 0 \nL 2847 0 \nL 2847 2094 \nQ 2847 2600 2669 2842 \nQ 2491 3084 2119 3084 \nQ 1678 3084 1418 2786 \nQ 1159 2488 1159 1978 \nL 1159 0 \nL 581 0 \nL 581 3500 \nL 1159 3500 \nL 1159 2956 \nQ 1356 3278 1631 3431 \nQ 1906 3584 2284 3584 \nQ 2666 3584 2933 3390 \nQ 3200 3197 3328 2828 \nz\n\" transform=\"scale(0.015625)\"/>\n      <path id=\"DejaVuSans-70\" d=\"M 1159 525 \nL 1159 -1331 \nL 581 -1331 \nL 581 3500 \nL 1159 3500 \nL 1159 2969 \nQ 1341 3281 1617 3432 \nQ 1894 3584 2278 3584 \nQ 2916 3584 3314 3078 \nQ 3713 2572 3713 1747 \nQ 3713 922 3314 415 \nQ 2916 -91 2278 -91 \nQ 1894 -91 1617 61 \nQ 1341 213 1159 525 \nz\nM 3116 1747 \nQ 3116 2381 2855 2742 \nQ 2594 3103 2138 3103 \nQ 1681 3103 1420 2742 \nQ 1159 2381 1159 1747 \nQ 1159 1113 1420 752 \nQ 1681 391 2138 391 \nQ 2594 391 2855 752 \nQ 3116 1113 3116 1747 \nz\n\" transform=\"scale(0.015625)\"/>\n      <path id=\"DejaVuSans-6c\" d=\"M 603 4863 \nL 1178 4863 \nL 1178 0 \nL 603 0 \nL 603 4863 \nz\n\" transform=\"scale(0.015625)\"/>\n     </defs>\n     <use xlink:href=\"#DejaVuSans-44\"/>\n     <use xlink:href=\"#DejaVuSans-61\" x=\"77.001953\"/>\n     <use xlink:href=\"#DejaVuSans-74\" x=\"138.28125\"/>\n     <use xlink:href=\"#DejaVuSans-61\" x=\"177.490234\"/>\n     <use xlink:href=\"#DejaVuSans-73\" x=\"238.769531\"/>\n     <use xlink:href=\"#DejaVuSans-65\" x=\"290.869141\"/>\n     <use xlink:href=\"#DejaVuSans-74\" x=\"352.392578\"/>\n     <use xlink:href=\"#DejaVuSans-20\" x=\"391.601562\"/>\n     <use xlink:href=\"#DejaVuSans-73\" x=\"423.388672\"/>\n     <use xlink:href=\"#DejaVuSans-61\" x=\"475.488281\"/>\n     <use xlink:href=\"#DejaVuSans-6d\" x=\"536.767578\"/>\n     <use xlink:href=\"#DejaVuSans-70\" x=\"634.179688\"/>\n     <use xlink:href=\"#DejaVuSans-6c\" x=\"697.65625\"/>\n     <use xlink:href=\"#DejaVuSans-65\" x=\"725.439453\"/>\n     <use xlink:href=\"#DejaVuSans-73\" x=\"786.962891\"/>\n    </g>\n   </g>\n   <g id=\"legend_1\">\n    <g id=\"patch_7\">\n     <path d=\"M 199.891562 150.994063 \nL 274.524844 150.994063 \nQ 276.724844 150.994063 276.724844 148.794063 \nL 276.724844 117.602188 \nQ 276.724844 115.402188 274.524844 115.402188 \nL 199.891562 115.402188 \nQ 197.691562 115.402188 197.691562 117.602188 \nL 197.691562 148.794063 \nQ 197.691562 150.994063 199.891562 150.994063 \nz\n\" style=\"fill: #eaeaf2; opacity: 0.8; stroke: #cccccc; stroke-linejoin: miter\"/>\n    </g>\n    <g id=\"PathCollection_3\">\n     <g>\n      <use xlink:href=\"#mb65ca84a79\" x=\"213.091562\" y=\"125.272969\" style=\"fill: #4c72b0; stroke: #333333\"/>\n     </g>\n    </g>\n    <g id=\"text_15\">\n     <!-- Class 0 -->\n     <g style=\"fill: #262626\" transform=\"translate(232.891562 128.160469) scale(0.11 -0.11)\">\n      <defs>\n       <path id=\"DejaVuSans-43\" d=\"M 4122 4306 \nL 4122 3641 \nQ 3803 3938 3442 4084 \nQ 3081 4231 2675 4231 \nQ 1875 4231 1450 3742 \nQ 1025 3253 1025 2328 \nQ 1025 1406 1450 917 \nQ 1875 428 2675 428 \nQ 3081 428 3442 575 \nQ 3803 722 4122 1019 \nL 4122 359 \nQ 3791 134 3420 21 \nQ 3050 -91 2638 -91 \nQ 1578 -91 968 557 \nQ 359 1206 359 2328 \nQ 359 3453 968 4101 \nQ 1578 4750 2638 4750 \nQ 3056 4750 3426 4639 \nQ 3797 4528 4122 4306 \nz\n\" transform=\"scale(0.015625)\"/>\n      </defs>\n      <use xlink:href=\"#DejaVuSans-43\"/>\n      <use xlink:href=\"#DejaVuSans-6c\" x=\"69.824219\"/>\n      <use xlink:href=\"#DejaVuSans-61\" x=\"97.607422\"/>\n      <use xlink:href=\"#DejaVuSans-73\" x=\"158.886719\"/>\n      <use xlink:href=\"#DejaVuSans-73\" x=\"210.986328\"/>\n      <use xlink:href=\"#DejaVuSans-20\" x=\"263.085938\"/>\n      <use xlink:href=\"#DejaVuSans-30\" x=\"294.873047\"/>\n     </g>\n    </g>\n    <g id=\"PathCollection_4\">\n     <g>\n      <use xlink:href=\"#mc48b0d1568\" x=\"213.091562\" y=\"141.418906\" style=\"fill: #dd8452; stroke: #333333\"/>\n     </g>\n    </g>\n    <g id=\"text_16\">\n     <!-- Class 1 -->\n     <g style=\"fill: #262626\" transform=\"translate(232.891562 144.306406) scale(0.11 -0.11)\">\n      <use xlink:href=\"#DejaVuSans-43\"/>\n      <use xlink:href=\"#DejaVuSans-6c\" x=\"69.824219\"/>\n      <use xlink:href=\"#DejaVuSans-61\" x=\"97.607422\"/>\n      <use xlink:href=\"#DejaVuSans-73\" x=\"158.886719\"/>\n      <use xlink:href=\"#DejaVuSans-73\" x=\"210.986328\"/>\n      <use xlink:href=\"#DejaVuSans-20\" x=\"263.085938\"/>\n      <use xlink:href=\"#DejaVuSans-31\" x=\"294.873047\"/>\n     </g>\n    </g>\n   </g>\n  </g>\n </g>\n <defs>\n  <clipPath id=\"p379dd0f1e3\">\n   <rect x=\"59.024844\" y=\"22.318125\" width=\"223.2\" height=\"221.76\"/>\n  </clipPath>\n </defs>\n</svg>\n",
            "application/pdf": "[encoded data removed]"
          },
          "metadata": {}
        }
      ]
    },
    {
      "cell_type": "code",
      "source": [
        "data_loader = data.DataLoader(dataset, batch_size=8, shuffle=True)"
      ],
      "metadata": {
        "id": "zwH2t6quQc7m"
      },
      "execution_count": null,
      "outputs": []
    },
    {
      "cell_type": "code",
      "source": [
        "data_inputs, data_labels = next(iter(data_loader))\n",
        "# The shape of the outputs are [batch_size, d_1,...,d_N] where d_1,...,d_N are the\n",
        "# dimensions of the data point returned from the dataset class\n",
        "print(\"Data inputs\", data_inputs.shape, \"\\n\", data_inputs)\n",
        "print(\"Data labels\", data_labels.shape, \"\\n\", data_labels)"
      ],
      "metadata": {
        "colab": {
          "base_uri": "https://localhost:8080/"
        },
        "id": "subsXKraQpA1",
        "outputId": "6668a35e-d367-4887-93de-effb13be778b"
      },
      "execution_count": null,
      "outputs": [
        {
          "output_type": "stream",
          "name": "stdout",
          "text": [
            "Data inputs torch.Size([8, 2]) \n",
            " tensor([[ 1.0271,  1.0645],\n",
            "        [ 1.0828,  1.0891],\n",
            "        [ 1.0947,  1.1427],\n",
            "        [ 0.9028, -0.1499],\n",
            "        [ 1.0428,  1.0384],\n",
            "        [ 0.1273,  1.1477],\n",
            "        [ 1.0399,  1.0742],\n",
            "        [-0.0620,  1.0288]])\n",
            "Data labels torch.Size([8]) \n",
            " tensor([0., 0., 0., 1., 0., 1., 0., 1.])\n"
          ]
        }
      ]
    },
    {
      "cell_type": "markdown",
      "source": [
        "## Функция ошибки"
      ],
      "metadata": {
        "id": "3R5eiABjWqxt"
      }
    },
    {
      "cell_type": "code",
      "source": [
        "loss_module = nn.BCEWithLogitsLoss()"
      ],
      "metadata": {
        "id": "GTsDHBhTWtUT"
      },
      "execution_count": null,
      "outputs": []
    },
    {
      "cell_type": "markdown",
      "source": [
        "## Стохастический градиентный спуск"
      ],
      "metadata": {
        "id": "ZMrPc9aSXyjq"
      }
    },
    {
      "cell_type": "code",
      "source": [
        "# Input to the optimizer are the parameters of the model: model.parameters()\n",
        "optimizer = torch.optim.SGD(model.parameters(), lr=0.1)"
      ],
      "metadata": {
        "id": "KGOidM4uXzwe"
      },
      "execution_count": null,
      "outputs": []
    },
    {
      "cell_type": "markdown",
      "source": [
        "## Обучение"
      ],
      "metadata": {
        "id": "oXeDfOZYYK_3"
      }
    },
    {
      "cell_type": "code",
      "source": [
        "train_dataset = XORDataset(size=2500)\n",
        "train_data_loader = data.DataLoader(train_dataset, batch_size=128, shuffle=True)"
      ],
      "metadata": {
        "id": "LTZ3o3A4YNyX"
      },
      "execution_count": null,
      "outputs": []
    },
    {
      "cell_type": "code",
      "source": [
        "# Push model to device. Has to be only done once\n",
        "model.to(device)"
      ],
      "metadata": {
        "colab": {
          "base_uri": "https://localhost:8080/"
        },
        "id": "ekl0gMaXYhXC",
        "outputId": "c5e1dbe6-2fc2-4793-e2fb-aa3f0c332c08"
      },
      "execution_count": null,
      "outputs": [
        {
          "output_type": "execute_result",
          "data": {
            "text/plain": [
              "SimpleClassifier(\n",
              "  (linear1): Linear(in_features=2, out_features=1, bias=True)\n",
              "  (act_fn): Tanh()\n",
              ")"
            ]
          },
          "metadata": {},
          "execution_count": 163
        }
      ]
    },
    {
      "cell_type": "code",
      "source": [
        "def train_model(model, optimizer, data_loader, loss_module, num_epochs=100):\n",
        "    # Set model to train mode\n",
        "    model.train()\n",
        "    # Training loop\n",
        "    for epoch in tqdm(range(num_epochs)):\n",
        "        for data_inputs, data_labels in data_loader:\n",
        "            ## Step 1: Move input data to device (only strictly necessary if we use GPU)\n",
        "            data_inputs = data_inputs.to(device)\n",
        "            data_labels = data_labels.to(device)\n",
        "            ## Step 2: Run the model on the input data\n",
        "            preds = model(data_inputs)\n",
        "            preds = preds.squeeze(dim=1) # Output is [Batch size, 1], but we want [Batch size]\n",
        "            ## Step 3: Calculate the loss\n",
        "            loss = loss_module(preds, data_labels.float())\n",
        "            ## Step 4: Perform backpropagation\n",
        "            # Before calculating the gradients, we need to ensure that they are all zero.\n",
        "            # The gradients would not be overwritten, but actually added to the existing ones.\n",
        "            optimizer.zero_grad()\n",
        "            # Perform backpropagation\n",
        "            loss.backward()\n",
        "            ## Step 5: Update the parameters\n",
        "            optimizer.step()\n",
        "train_model(model, optimizer, train_data_loader, loss_module)\n"
      ],
      "metadata": {
        "colab": {
          "base_uri": "https://localhost:8080/",
          "height": 49,
          "referenced_widgets": [
            "aa10f5d0cc0a46759c14603f157ee796",
            "bf96a32585fd43db99d8f3741ad227af",
            "41b8e6fa5b534065ae800af5982c5cc4",
            "919578a69b7d477abbc10d6c027d8050",
            "8bab253e0faa43029aa70e5bdc1280bd",
            "39f9c440d9004d4ca9a596749df28006",
            "71fd7e8f3a594bf689d098c619b4cbf5",
            "e6aaca09e8f34f838a3d9866791a76c0",
            "031a9eb517f4474fa7cd28ced109af21",
            "f7ed4e96b6f44026a5b3ac29e3019479",
            "1f1314c3ddce42c6a8943a9d19023525"
          ]
        },
        "id": "w-lzUxUVY-Cu",
        "outputId": "c07ae9d3-d212-40a6-95dd-c253f4f1a6b8"
      },
      "execution_count": null,
      "outputs": [
        {
          "output_type": "display_data",
          "data": {
            "text/plain": [
              "  0%|          | 0/100 [00:00<?, ?it/s]"
            ],
            "application/vnd.jupyter.widget-view+json": {
              "version_major": 2,
              "version_minor": 0,
              "model_id": "aa10f5d0cc0a46759c14603f157ee796"
            }
          },
          "metadata": {}
        }
      ]
    },
    {
      "cell_type": "code",
      "source": [
        "state_dict = model.state_dict()\n",
        "print(state_dict)"
      ],
      "metadata": {
        "colab": {
          "base_uri": "https://localhost:8080/"
        },
        "id": "5a60FTGRZtKM",
        "outputId": "153cf549-a656-40e9-9cbb-1ae68732fb4b"
      },
      "execution_count": null,
      "outputs": [
        {
          "output_type": "stream",
          "name": "stdout",
          "text": [
            "OrderedDict([('linear1.weight', tensor([[ 3.3042, -3.5038]])), ('linear1.bias', tensor([-1.7451]))])\n"
          ]
        }
      ]
    },
    {
      "cell_type": "code",
      "source": [
        "# torch.save(object, filename). For the filename, any extension can be used\n",
        "torch.save(state_dict, \"our_model.pth\")"
      ],
      "metadata": {
        "id": "juhOkHika_jr"
      },
      "execution_count": null,
      "outputs": []
    },
    {
      "cell_type": "code",
      "source": [
        "# Load state dict from the disk (make sure it is the same name as above)\n",
        "state_dict = torch.load(\"our_model.pth\")\n",
        "# Create a new model and load the state\n",
        "new_model = SimpleClassifier(num_inputs=2,  num_outputs=1)\n",
        "new_model.load_state_dict(state_dict)\n",
        "# Verify that the parameters are the same\n",
        "print(\"Original model\\n\", model.state_dict())\n",
        "print(\"\\nLoaded model\\n\", new_model.state_dict())"
      ],
      "metadata": {
        "colab": {
          "base_uri": "https://localhost:8080/"
        },
        "id": "jAI1dJOlbHtB",
        "outputId": "d327c1ba-49e7-448d-9472-19a255eebf01"
      },
      "execution_count": null,
      "outputs": [
        {
          "output_type": "stream",
          "name": "stdout",
          "text": [
            "Original model\n",
            " OrderedDict([('linear1.weight', tensor([[ 3.3042, -3.5038]])), ('linear1.bias', tensor([-1.7451]))])\n",
            "\n",
            "Loaded model\n",
            " OrderedDict([('linear1.weight', tensor([[ 3.3042, -3.5038]])), ('linear1.bias', tensor([-1.7451]))])\n"
          ]
        },
        {
          "output_type": "stream",
          "name": "stderr",
          "text": [
            "<ipython-input-167-5cad4acbb4d4>:2: FutureWarning: You are using `torch.load` with `weights_only=False` (the current default value), which uses the default pickle module implicitly. It is possible to construct malicious pickle data which will execute arbitrary code during unpickling (See https://github.com/pytorch/pytorch/blob/main/SECURITY.md#untrusted-models for more details). In a future release, the default value for `weights_only` will be flipped to `True`. This limits the functions that could be executed during unpickling. Arbitrary objects will no longer be allowed to be loaded via this mode unless they are explicitly allowlisted by the user via `torch.serialization.add_safe_globals`. We recommend you start setting `weights_only=True` for any use case where you don't have full control of the loaded file. Please open an issue on GitHub for any issues related to this experimental feature.\n",
            "  state_dict = torch.load(\"our_model.pth\")\n"
          ]
        }
      ]
    },
    {
      "cell_type": "code",
      "source": [
        "test_dataset = XORDataset(size=500)\n",
        "# drop_last -> Don't drop the last batch although it is smaller than 128\n",
        "test_data_loader = data.DataLoader(test_dataset, batch_size=128, shuffle=False, drop_last=False)"
      ],
      "metadata": {
        "id": "tO3k7zngbYP0"
      },
      "execution_count": null,
      "outputs": []
    },
    {
      "cell_type": "code",
      "source": [
        "def eval_model(model, data_loader):\n",
        "    model.eval() # Set model to eval mode\n",
        "    true_preds, num_preds = 0., 0.\n",
        "    with torch.no_grad(): # Deactivate gradients for the following code\n",
        "        for data_inputs, data_labels in data_loader:\n",
        "            # Determine prediction of model on dev set\n",
        "            data_inputs, data_labels = data_inputs.to(device), data_labels.to(device)\n",
        "            preds = model(data_inputs)\n",
        "            preds = preds.squeeze(dim=1)\n",
        "            preds = torch.sigmoid(preds) # Sigmoid to map predictions between 0 and 1\n",
        "            pred_labels = (preds >= 0.5).long() # Binarize predictions to 0 and 1\n",
        "            # Keep records of predictions for the accuracy metric (true_preds=TP+TN, num_preds=TP+TN+FP+FN)\n",
        "            true_preds += (pred_labels == data_labels).sum()\n",
        "            num_preds += data_labels.shape[0]\n",
        "    acc = true_preds / num_preds\n",
        "    print(f\"Accuracy of the model: {100.0*acc:4.2f}%\")\n",
        "eval_model(model, test_data_loader)"
      ],
      "metadata": {
        "colab": {
          "base_uri": "https://localhost:8080/"
        },
        "id": "D2BrsXnNbpXX",
        "outputId": "b7d81e89-28a0-4d71-8901-9edb8808c0c4"
      },
      "execution_count": null,
      "outputs": [
        {
          "output_type": "stream",
          "name": "stdout",
          "text": [
            "Accuracy of the model: 74.60%\n"
          ]
        }
      ]
    },
    {
      "cell_type": "markdown",
      "source": [
        "# Задания"
      ],
      "metadata": {
        "id": "jamu-VyUcQ5V"
      }
    },
    {
      "cell_type": "markdown",
      "source": [
        "### Задание 1: Создайте два вещественных тензора: a размером (5, 4) и b размером (12,)"
      ],
      "metadata": {
        "id": "7hBAVvoycUvn"
      }
    },
    {
      "cell_type": "code",
      "source": [
        "a = torch.Tensor(5, 4)\n",
        "print(a)\n",
        "b = torch.Tensor(12,)\n",
        "print(b)"
      ],
      "metadata": {
        "colab": {
          "base_uri": "https://localhost:8080/"
        },
        "id": "IRVojIkSc6lP",
        "outputId": "c845ed6d-bf24-4c46-d14f-0a0b25c427a9"
      },
      "execution_count": null,
      "outputs": [
        {
          "output_type": "stream",
          "name": "stdout",
          "text": [
            "tensor([[ 3.3717e+21,  3.2292e-41, -4.2347e-30,  4.3739e-41],\n",
            "        [ 0.0000e+00,  0.0000e+00,  0.0000e+00,  0.0000e+00],\n",
            "        [ 0.0000e+00,  0.0000e+00,  0.0000e+00,  0.0000e+00],\n",
            "        [ 0.0000e+00,  0.0000e+00,  0.0000e+00,  0.0000e+00],\n",
            "        [ 1.4013e-45,  0.0000e+00,  0.0000e+00,  0.0000e+00]])\n",
            "tensor([-1.9114e-32,  4.3740e-41,  3.4355e+22,  3.2292e-41,  4.4842e-44,\n",
            "         0.0000e+00,  4.4842e-44,  0.0000e+00, -7.0465e+03,  3.2287e-41,\n",
            "         0.0000e+00,  1.4013e-45])\n"
          ]
        }
      ]
    },
    {
      "cell_type": "markdown",
      "source": [
        "## Задание 2: Создайте тензор c, являющийся тензором b, но размера (2, 2, 3)"
      ],
      "metadata": {
        "id": "hd-i5rvxiHDJ"
      }
    },
    {
      "cell_type": "code",
      "source": [
        "c = b.view(2, 2, 3)\n",
        "print(c)"
      ],
      "metadata": {
        "colab": {
          "base_uri": "https://localhost:8080/"
        },
        "id": "TRtCak-dicoA",
        "outputId": "56bde027-ab9a-419c-9ef9-a2951b55ec46"
      },
      "execution_count": null,
      "outputs": [
        {
          "output_type": "stream",
          "name": "stdout",
          "text": [
            "tensor([[[-1.9114e-32,  4.3740e-41,  3.4355e+22],\n",
            "         [ 3.2292e-41,  4.4842e-44,  0.0000e+00]],\n",
            "\n",
            "        [[ 4.4842e-44,  0.0000e+00, -7.0465e+03],\n",
            "         [ 3.2287e-41,  0.0000e+00,  1.4013e-45]]])\n"
          ]
        }
      ]
    },
    {
      "cell_type": "markdown",
      "source": [
        "## Задание 3: Выведите второй столбец матрицы a с помощью индексации"
      ],
      "metadata": {
        "id": "jbpPX61gkSrE"
      }
    },
    {
      "cell_type": "code",
      "source": [
        "print(a[:, 1])"
      ],
      "metadata": {
        "colab": {
          "base_uri": "https://localhost:8080/"
        },
        "id": "uF-suuj2kjZq",
        "outputId": "2d675b8d-9a45-4c25-ec08-7aa35da65972"
      },
      "execution_count": null,
      "outputs": [
        {
          "output_type": "stream",
          "name": "stdout",
          "text": [
            "tensor([3.2292e-41, 0.0000e+00, 0.0000e+00, 0.0000e+00, 0.0000e+00])\n"
          ]
        }
      ]
    },
    {
      "cell_type": "markdown",
      "source": [
        "## Задание 4: Создайте два вещественных тензора: a размером (6, 2) и b размером (1,12)\n"
      ],
      "metadata": {
        "id": "VMSSht1FlPVx"
      }
    },
    {
      "cell_type": "code",
      "source": [
        "a = torch.Tensor(6, 2)\n",
        "print(a)\n",
        "b = torch.Tensor(1, 12)\n",
        "print(b)"
      ],
      "metadata": {
        "colab": {
          "base_uri": "https://localhost:8080/"
        },
        "id": "DiWcULZklU8t",
        "outputId": "7bafdaf6-5f5b-45c4-96ce-d0b09ad1b24c"
      },
      "execution_count": null,
      "outputs": [
        {
          "output_type": "stream",
          "name": "stdout",
          "text": [
            "tensor([[4.3874e+22, 3.2292e-41],\n",
            "        [7.4814e+22, 3.2292e-41],\n",
            "        [0.0000e+00, 0.0000e+00],\n",
            "        [0.0000e+00, 0.0000e+00],\n",
            "        [0.0000e+00, 0.0000e+00],\n",
            "        [3.7779e+22, 0.0000e+00]])\n",
            "tensor([[-2.9666e+03,  3.2287e-41,  0.0000e+00,  1.1755e-38,  1.6349e+19,\n",
            "          3.2292e-41,  1.0842e-19,  0.0000e+00,  4.7866e+22,  3.2292e-41,\n",
            "          2.0193e+22,  3.2292e-41]])\n"
          ]
        }
      ]
    },
    {
      "cell_type": "markdown",
      "source": [
        "## Задание 5: Создайте тензор c, являющийся тензором b, но размера (6, 2), произведите все арифметические операции с тензорами a и c"
      ],
      "metadata": {
        "id": "1FupIKHxliVD"
      }
    },
    {
      "cell_type": "code",
      "source": [
        "c = b.view(6, 2)\n",
        "print(c)\n",
        "\n",
        "print()\n",
        "sum = a + c\n",
        "print(f\"a = {a}\\nc = {c}\\nsum={sum}\")"
      ],
      "metadata": {
        "colab": {
          "base_uri": "https://localhost:8080/"
        },
        "id": "LjhaPG-6lsKu",
        "outputId": "f10e4af6-e85b-44bb-9b98-7a6a63598a5f"
      },
      "execution_count": null,
      "outputs": [
        {
          "output_type": "stream",
          "name": "stdout",
          "text": [
            "tensor([[-2.9666e+03,  3.2287e-41],\n",
            "        [ 0.0000e+00,  1.1755e-38],\n",
            "        [ 1.6349e+19,  3.2292e-41],\n",
            "        [ 1.0842e-19,  0.0000e+00],\n",
            "        [ 4.7866e+22,  3.2292e-41],\n",
            "        [ 2.0193e+22,  3.2292e-41]])\n",
            "\n",
            "a = tensor([[4.3874e+22, 3.2292e-41],\n",
            "        [7.4814e+22, 3.2292e-41],\n",
            "        [0.0000e+00, 0.0000e+00],\n",
            "        [0.0000e+00, 0.0000e+00],\n",
            "        [0.0000e+00, 0.0000e+00],\n",
            "        [3.7779e+22, 0.0000e+00]])\n",
            "c = tensor([[-2.9666e+03,  3.2287e-41],\n",
            "        [ 0.0000e+00,  1.1755e-38],\n",
            "        [ 1.6349e+19,  3.2292e-41],\n",
            "        [ 1.0842e-19,  0.0000e+00],\n",
            "        [ 4.7866e+22,  3.2292e-41],\n",
            "        [ 2.0193e+22,  3.2292e-41]])\n",
            "sum=tensor([[4.3874e+22, 6.4579e-41],\n",
            "        [7.4814e+22, 1.1787e-38],\n",
            "        [1.6349e+19, 3.2292e-41],\n",
            "        [1.0842e-19, 0.0000e+00],\n",
            "        [4.7866e+22, 3.2292e-41],\n",
            "        [5.7972e+22, 3.2292e-41]])\n"
          ]
        }
      ]
    },
    {
      "cell_type": "code",
      "source": [
        "# Данные XOR\n",
        "# X = torch.tensor([[0., 0.],\n",
        "#                   [0., 1.],\n",
        "#                   [1., 0.],\n",
        "#                   [1., 1.],\n",
        "#                   [1.5, 1],\n",
        "#                   [0.5, 0]])\n",
        "# y = torch.tensor([[0.], [1.], [1.], [0.], [1.], [0.]])\n",
        "\n",
        "X = torch.Tensor(dataset[0:][0])\n",
        "y = torch.Tensor(dataset[0:][1]).view(200, 1)\n",
        "print(X)\n",
        "print(y)"
      ],
      "metadata": {
        "id": "6PwDM0PGqPvM",
        "colab": {
          "base_uri": "https://localhost:8080/"
        },
        "outputId": "17170c95-ac9d-468a-a422-e7f5829d00a9"
      },
      "execution_count": null,
      "outputs": [
        {
          "output_type": "stream",
          "name": "stdout",
          "text": [
            "tensor([[ 8.3453e-01,  3.0819e-02],\n",
            "        [-8.0113e-02,  1.0252e+00],\n",
            "        [ 1.0399e+00,  1.0742e+00],\n",
            "        [ 5.9916e-03,  1.0655e+00],\n",
            "        [ 9.4942e-01,  1.4442e-02],\n",
            "        [ 1.0324e+00,  4.8143e-03],\n",
            "        [ 5.2194e-02,  1.1192e+00],\n",
            "        [ 1.0562e+00,  4.8186e-02],\n",
            "        [-5.7825e-02, -3.6324e-02],\n",
            "        [ 1.0032e+00,  6.5832e-02],\n",
            "        [ 9.5429e-01, -1.4508e-01],\n",
            "        [-2.0904e-01,  1.0137e+00],\n",
            "        [ 1.0938e+00,  1.0012e+00],\n",
            "        [-7.6481e-02,  1.0752e+00],\n",
            "        [ 1.0510e+00, -8.2684e-02],\n",
            "        [ 9.7974e-01,  9.9289e-01],\n",
            "        [ 1.1164e+00,  8.5344e-01],\n",
            "        [ 1.0947e+00,  1.1427e+00],\n",
            "        [ 1.1033e+00,  9.1029e-01],\n",
            "        [ 9.6324e-01,  1.1173e-01],\n",
            "        [ 1.1615e+00,  3.2387e-02],\n",
            "        [ 1.0501e+00,  5.1287e-02],\n",
            "        [ 1.5951e-01,  1.0658e+00],\n",
            "        [ 1.1061e+00, -3.8136e-02],\n",
            "        [-2.8010e-01, -2.4121e-02],\n",
            "        [ 1.1397e+00,  1.1080e+00],\n",
            "        [-7.6227e-02,  9.0064e-01],\n",
            "        [ 1.1658e+00,  9.6030e-01],\n",
            "        [ 9.7873e-01, -7.2379e-03],\n",
            "        [-8.1309e-03,  1.0982e+00],\n",
            "        [ 1.0754e+00, -2.1424e-01],\n",
            "        [ 8.3927e-02, -5.8492e-02],\n",
            "        [-6.2286e-02,  7.3356e-02],\n",
            "        [ 2.0457e-01, -5.5774e-02],\n",
            "        [ 1.0414e+00,  1.0293e+00],\n",
            "        [ 8.4731e-01,  7.8079e-02],\n",
            "        [ 9.0795e-01, -1.1020e-01],\n",
            "        [ 1.0546e+00,  9.4115e-01],\n",
            "        [ 8.9623e-03,  1.1438e-01],\n",
            "        [-2.2740e-01,  1.0995e+00],\n",
            "        [ 6.5214e-02,  1.0126e+00],\n",
            "        [ 8.8898e-03,  8.3764e-01],\n",
            "        [ 1.0828e+00,  1.0891e+00],\n",
            "        [-3.4888e-03,  1.1174e+00],\n",
            "        [-5.3261e-02,  9.6125e-01],\n",
            "        [ 1.1228e+00,  8.1107e-02],\n",
            "        [ 6.6117e-02,  5.3330e-02],\n",
            "        [ 1.1412e+00,  1.1891e+00],\n",
            "        [ 1.0544e+00, -1.0493e-02],\n",
            "        [ 8.4412e-01,  8.4634e-02],\n",
            "        [ 1.0271e+00,  1.0645e+00],\n",
            "        [ 7.6541e-02,  9.9305e-01],\n",
            "        [ 1.1276e+00,  1.0467e+00],\n",
            "        [ 3.1734e-02, -1.6753e-02],\n",
            "        [ 9.8228e-01, -1.2561e-01],\n",
            "        [ 1.1522e+00, -3.0477e-02],\n",
            "        [-1.1807e-01, -5.0060e-02],\n",
            "        [ 9.5886e-01,  1.0665e+00],\n",
            "        [ 1.0233e+00,  1.0863e+00],\n",
            "        [ 1.0905e+00, -1.2839e-02],\n",
            "        [ 9.0606e-01,  5.5170e-02],\n",
            "        [ 9.2998e-01,  8.6538e-01],\n",
            "        [ 9.0280e-01, -1.4990e-01],\n",
            "        [-1.0994e-01, -9.3213e-02],\n",
            "        [ 1.2731e-01,  1.1477e+00],\n",
            "        [ 9.1362e-01,  9.6306e-01],\n",
            "        [ 9.9436e-01,  2.8438e-02],\n",
            "        [ 1.0661e+00,  9.8801e-01],\n",
            "        [-6.2037e-02,  1.0288e+00],\n",
            "        [-2.3298e-02, -6.7292e-02],\n",
            "        [ 1.0483e+00,  9.6032e-01],\n",
            "        [ 9.7224e-01,  1.2799e-01],\n",
            "        [-1.8520e-01,  9.8493e-01],\n",
            "        [-7.5568e-03, -1.5476e-02],\n",
            "        [ 8.6681e-01,  1.0048e+00],\n",
            "        [-1.4748e-02,  9.4335e-01],\n",
            "        [ 1.0006e+00, -3.2765e-02],\n",
            "        [ 9.7973e-01, -1.8705e-03],\n",
            "        [ 4.8452e-02,  1.0284e+00],\n",
            "        [ 1.0588e+00,  9.0383e-02],\n",
            "        [ 1.3168e-01, -6.2345e-02],\n",
            "        [ 1.0487e-01,  8.6839e-01],\n",
            "        [ 9.2990e-01,  9.3104e-01],\n",
            "        [ 1.0751e+00,  9.7673e-01],\n",
            "        [ 1.0385e+00,  9.3110e-01],\n",
            "        [ 4.2891e-02,  1.6663e-01],\n",
            "        [-4.8364e-03,  4.5349e-02],\n",
            "        [-7.1461e-02,  1.9350e-01],\n",
            "        [-9.8421e-03,  7.9255e-01],\n",
            "        [ 9.8606e-02, -2.0801e-01],\n",
            "        [ 4.3383e-02, -1.0255e-01],\n",
            "        [-2.8013e-02,  4.5913e-03],\n",
            "        [-1.4760e-02,  1.0294e-02],\n",
            "        [ 9.4050e-01,  1.0991e-01],\n",
            "        [ 9.5480e-01,  9.2555e-01],\n",
            "        [ 9.6799e-01,  1.1780e-01],\n",
            "        [ 6.0078e-02,  1.1108e+00],\n",
            "        [ 9.7137e-01,  1.0121e+00],\n",
            "        [-4.6693e-02,  9.9159e-01],\n",
            "        [ 1.0160e+00,  9.6045e-01],\n",
            "        [-2.0172e-01,  9.7492e-01],\n",
            "        [ 1.0347e+00,  1.2967e-01],\n",
            "        [ 8.8443e-02,  1.0008e+00],\n",
            "        [-2.8388e-02, -6.5744e-02],\n",
            "        [ 1.0004e+00,  1.0789e+00],\n",
            "        [ 9.9951e-01,  9.6690e-01],\n",
            "        [ 9.9209e-02, -1.4003e-01],\n",
            "        [ 9.5050e-01,  8.0276e-02],\n",
            "        [-2.1935e-01, -1.7241e-01],\n",
            "        [-5.4907e-02, -1.0876e-01],\n",
            "        [ 6.0788e-02,  9.1750e-01],\n",
            "        [ 9.5281e-01,  9.0171e-01],\n",
            "        [ 1.0428e+00,  1.0384e+00],\n",
            "        [-2.2974e-01, -9.3739e-02],\n",
            "        [ 9.1034e-01,  9.1546e-01],\n",
            "        [ 7.5717e-02,  1.0592e+00],\n",
            "        [ 1.8931e-01,  1.0949e+00],\n",
            "        [ 9.1091e-01, -2.0895e-01],\n",
            "        [ 1.6272e-01, -1.0429e-01],\n",
            "        [ 1.0456e+00,  1.1789e+00],\n",
            "        [ 2.2023e-01, -5.3415e-02],\n",
            "        [ 1.1045e+00,  8.3213e-01],\n",
            "        [ 1.2552e-01,  1.0462e+00],\n",
            "        [ 5.9257e-02,  1.0735e+00],\n",
            "        [ 8.6388e-01, -2.5765e-02],\n",
            "        [ 1.0795e+00,  1.0858e+00],\n",
            "        [-1.1589e-01,  1.5081e-01],\n",
            "        [ 1.0202e+00, -1.0328e-01],\n",
            "        [ 1.1356e+00,  9.8969e-01],\n",
            "        [ 2.9432e-02,  9.6409e-01],\n",
            "        [ 9.0501e-01,  1.1863e+00],\n",
            "        [ 8.6189e-02,  9.3124e-01],\n",
            "        [ 9.8325e-01,  4.6201e-02],\n",
            "        [ 9.4691e-01, -3.4104e-02],\n",
            "        [ 4.8963e-02, -6.3402e-02],\n",
            "        [ 6.5874e-02,  9.7052e-01],\n",
            "        [-4.4500e-02,  1.1621e+00],\n",
            "        [-1.1273e-01,  8.3729e-01],\n",
            "        [-1.2256e-01, -2.7729e-02],\n",
            "        [-2.3122e-02, -2.5621e-02],\n",
            "        [-1.4377e-01,  5.3644e-02],\n",
            "        [ 5.0359e-02,  9.8268e-01],\n",
            "        [ 6.9231e-03,  1.1636e+00],\n",
            "        [ 1.1845e+00,  9.4601e-01],\n",
            "        [-1.3577e-04,  1.0380e+00],\n",
            "        [ 1.1428e+00,  1.0258e+00],\n",
            "        [-3.8882e-02,  1.0823e+00],\n",
            "        [ 1.1268e+00,  1.1349e+00],\n",
            "        [ 8.7816e-01, -9.4379e-02],\n",
            "        [-1.6316e-01,  8.1943e-01],\n",
            "        [-8.4890e-02, -1.2582e-01],\n",
            "        [ 1.1591e+00,  8.2029e-02],\n",
            "        [ 9.6671e-01,  1.8997e-02],\n",
            "        [ 1.1253e+00,  2.1065e-01],\n",
            "        [ 9.5834e-01,  9.9551e-01],\n",
            "        [ 8.7319e-01, -2.2399e-01],\n",
            "        [ 1.3384e-02,  9.1977e-01],\n",
            "        [ 9.3077e-01,  9.9235e-01],\n",
            "        [-1.0610e-01, -1.8459e-01],\n",
            "        [ 8.2466e-02, -7.7769e-02],\n",
            "        [ 8.3387e-01,  4.7224e-02],\n",
            "        [ 9.1892e-01,  6.9436e-02],\n",
            "        [-1.7041e-01, -5.6419e-02],\n",
            "        [-1.0584e-02,  6.2477e-02],\n",
            "        [ 3.1258e-02,  9.7797e-01],\n",
            "        [ 1.6647e-01,  1.0677e+00],\n",
            "        [ 1.2281e+00,  9.4729e-02],\n",
            "        [ 1.0255e+00,  1.0321e+00],\n",
            "        [ 1.1136e+00,  9.5459e-01],\n",
            "        [ 3.0666e-02,  1.0213e+00],\n",
            "        [ 3.6082e-02,  1.2411e+00],\n",
            "        [-1.6982e-02,  5.8975e-03],\n",
            "        [ 7.2850e-02,  8.2438e-01],\n",
            "        [ 2.2821e-01, -7.9097e-02],\n",
            "        [ 1.0227e+00, -7.1753e-02],\n",
            "        [ 8.1437e-02,  1.6067e-02],\n",
            "        [ 1.0338e+00,  9.5205e-01],\n",
            "        [ 1.0274e+00,  9.4640e-01],\n",
            "        [ 9.1180e-01,  5.3207e-02],\n",
            "        [ 1.0819e+00,  8.0817e-02],\n",
            "        [-2.7387e-02, -6.9225e-02],\n",
            "        [-4.3025e-03,  1.0355e+00],\n",
            "        [ 9.4075e-01,  9.7657e-01],\n",
            "        [ 8.3959e-01, -1.2491e-01],\n",
            "        [ 9.3457e-01, -1.0001e-01],\n",
            "        [ 7.8020e-01,  8.6630e-01],\n",
            "        [ 1.0102e+00,  9.8521e-01],\n",
            "        [-6.3756e-02,  2.4505e-02],\n",
            "        [ 1.0389e+00,  1.0497e-01],\n",
            "        [ 1.8788e-01,  1.0947e+00],\n",
            "        [ 1.0481e+00,  1.0528e+00],\n",
            "        [ 9.1108e-03, -1.1722e-01],\n",
            "        [-1.3276e-01,  9.6761e-01],\n",
            "        [ 6.6875e-02, -1.3442e-01],\n",
            "        [ 1.5849e-01, -3.8762e-02],\n",
            "        [ 8.3303e-01,  1.0323e+00],\n",
            "        [ 1.0531e+00,  1.1153e+00],\n",
            "        [ 9.3304e-01, -9.0565e-03],\n",
            "        [ 9.7828e-01,  9.9534e-01],\n",
            "        [-7.6657e-02,  9.3890e-01]])\n",
            "tensor([[1.],\n",
            "        [1.],\n",
            "        [0.],\n",
            "        [1.],\n",
            "        [1.],\n",
            "        [1.],\n",
            "        [1.],\n",
            "        [1.],\n",
            "        [0.],\n",
            "        [1.],\n",
            "        [1.],\n",
            "        [1.],\n",
            "        [0.],\n",
            "        [1.],\n",
            "        [1.],\n",
            "        [0.],\n",
            "        [0.],\n",
            "        [0.],\n",
            "        [0.],\n",
            "        [1.],\n",
            "        [1.],\n",
            "        [1.],\n",
            "        [1.],\n",
            "        [1.],\n",
            "        [0.],\n",
            "        [0.],\n",
            "        [1.],\n",
            "        [0.],\n",
            "        [1.],\n",
            "        [1.],\n",
            "        [1.],\n",
            "        [0.],\n",
            "        [0.],\n",
            "        [0.],\n",
            "        [0.],\n",
            "        [1.],\n",
            "        [1.],\n",
            "        [0.],\n",
            "        [0.],\n",
            "        [1.],\n",
            "        [1.],\n",
            "        [1.],\n",
            "        [0.],\n",
            "        [1.],\n",
            "        [1.],\n",
            "        [1.],\n",
            "        [0.],\n",
            "        [0.],\n",
            "        [1.],\n",
            "        [1.],\n",
            "        [0.],\n",
            "        [1.],\n",
            "        [0.],\n",
            "        [0.],\n",
            "        [1.],\n",
            "        [1.],\n",
            "        [0.],\n",
            "        [0.],\n",
            "        [0.],\n",
            "        [1.],\n",
            "        [1.],\n",
            "        [0.],\n",
            "        [1.],\n",
            "        [0.],\n",
            "        [1.],\n",
            "        [0.],\n",
            "        [1.],\n",
            "        [0.],\n",
            "        [1.],\n",
            "        [0.],\n",
            "        [0.],\n",
            "        [1.],\n",
            "        [1.],\n",
            "        [0.],\n",
            "        [0.],\n",
            "        [1.],\n",
            "        [1.],\n",
            "        [1.],\n",
            "        [1.],\n",
            "        [1.],\n",
            "        [0.],\n",
            "        [1.],\n",
            "        [0.],\n",
            "        [0.],\n",
            "        [0.],\n",
            "        [0.],\n",
            "        [0.],\n",
            "        [0.],\n",
            "        [1.],\n",
            "        [0.],\n",
            "        [0.],\n",
            "        [0.],\n",
            "        [0.],\n",
            "        [1.],\n",
            "        [0.],\n",
            "        [1.],\n",
            "        [1.],\n",
            "        [0.],\n",
            "        [1.],\n",
            "        [0.],\n",
            "        [1.],\n",
            "        [1.],\n",
            "        [1.],\n",
            "        [0.],\n",
            "        [0.],\n",
            "        [0.],\n",
            "        [0.],\n",
            "        [1.],\n",
            "        [0.],\n",
            "        [0.],\n",
            "        [1.],\n",
            "        [0.],\n",
            "        [0.],\n",
            "        [0.],\n",
            "        [0.],\n",
            "        [1.],\n",
            "        [1.],\n",
            "        [1.],\n",
            "        [0.],\n",
            "        [0.],\n",
            "        [0.],\n",
            "        [0.],\n",
            "        [1.],\n",
            "        [1.],\n",
            "        [1.],\n",
            "        [0.],\n",
            "        [0.],\n",
            "        [1.],\n",
            "        [0.],\n",
            "        [1.],\n",
            "        [0.],\n",
            "        [1.],\n",
            "        [1.],\n",
            "        [1.],\n",
            "        [0.],\n",
            "        [1.],\n",
            "        [1.],\n",
            "        [1.],\n",
            "        [0.],\n",
            "        [0.],\n",
            "        [0.],\n",
            "        [1.],\n",
            "        [1.],\n",
            "        [0.],\n",
            "        [1.],\n",
            "        [0.],\n",
            "        [1.],\n",
            "        [0.],\n",
            "        [1.],\n",
            "        [1.],\n",
            "        [0.],\n",
            "        [1.],\n",
            "        [1.],\n",
            "        [1.],\n",
            "        [0.],\n",
            "        [1.],\n",
            "        [1.],\n",
            "        [0.],\n",
            "        [0.],\n",
            "        [0.],\n",
            "        [1.],\n",
            "        [1.],\n",
            "        [0.],\n",
            "        [0.],\n",
            "        [1.],\n",
            "        [1.],\n",
            "        [1.],\n",
            "        [0.],\n",
            "        [0.],\n",
            "        [1.],\n",
            "        [1.],\n",
            "        [0.],\n",
            "        [1.],\n",
            "        [0.],\n",
            "        [1.],\n",
            "        [0.],\n",
            "        [0.],\n",
            "        [0.],\n",
            "        [1.],\n",
            "        [1.],\n",
            "        [0.],\n",
            "        [1.],\n",
            "        [0.],\n",
            "        [1.],\n",
            "        [1.],\n",
            "        [0.],\n",
            "        [0.],\n",
            "        [0.],\n",
            "        [1.],\n",
            "        [1.],\n",
            "        [0.],\n",
            "        [0.],\n",
            "        [1.],\n",
            "        [0.],\n",
            "        [0.],\n",
            "        [0.],\n",
            "        [0.],\n",
            "        [1.],\n",
            "        [0.],\n",
            "        [1.]])\n"
          ]
        }
      ]
    },
    {
      "cell_type": "code",
      "source": [
        "class XORModel(nn.Module):\n",
        "    def __init__(self):\n",
        "        super(XORModel, self).__init__()\n",
        "        self.fc = nn.Linear(2, 1)  # Вход: 2, Выход: 1\n",
        "\n",
        "    def forward(self, x):\n",
        "        return torch.sigmoid(self.fc(x))"
      ],
      "metadata": {
        "id": "wTPVaRtaqUgQ"
      },
      "execution_count": null,
      "outputs": []
    },
    {
      "cell_type": "code",
      "source": [
        "import torch.optim as optim"
      ],
      "metadata": {
        "id": "eQhDdq0nqeRG"
      },
      "execution_count": null,
      "outputs": []
    },
    {
      "cell_type": "code",
      "source": [
        "# Инициализация модели, функции потерь и оптимизатора\n",
        "model = XORModel()\n",
        "criterion = nn.BCELoss()\n",
        "optimizer = optim.SGD(model.parameters(), lr=0.1)\n",
        "\n",
        "# Обучение\n",
        "num_epochs = 10000\n",
        "for epoch in range(num_epochs):\n",
        "    model.train()\n",
        "    optimizer.zero_grad()\n",
        "    output = model(X)\n",
        "    loss = criterion(output, y)\n",
        "    loss.backward()\n",
        "    optimizer.step()\n",
        "\n",
        "    if (epoch+1) % 1000 == 0:\n",
        "        print(f'Epoch [{epoch+1}/{num_epochs}], Loss: {loss.item():.4f}')"
      ],
      "metadata": {
        "colab": {
          "base_uri": "https://localhost:8080/"
        },
        "id": "olnsys3DqWhu",
        "outputId": "41893e54-4677-45eb-e00e-a5854881364f"
      },
      "execution_count": null,
      "outputs": [
        {
          "output_type": "stream",
          "name": "stdout",
          "text": [
            "Epoch [1000/10000], Loss: 0.6916\n",
            "Epoch [2000/10000], Loss: 0.6916\n",
            "Epoch [3000/10000], Loss: 0.6916\n",
            "Epoch [4000/10000], Loss: 0.6916\n",
            "Epoch [5000/10000], Loss: 0.6916\n",
            "Epoch [6000/10000], Loss: 0.6916\n",
            "Epoch [7000/10000], Loss: 0.6916\n",
            "Epoch [8000/10000], Loss: 0.6916\n",
            "Epoch [9000/10000], Loss: 0.6916\n",
            "Epoch [10000/10000], Loss: 0.6916\n"
          ]
        }
      ]
    },
    {
      "cell_type": "code",
      "source": [
        "# Визуализация\n",
        "def plot_decision_boundary(model, X, y):\n",
        "    x_min, x_max = X[:, 0].min() - 0.5, X[:, 0].max() + 0.5\n",
        "    y_min, y_max = X[:, 1].min() - 0.5, X[:, 1].max() + 0.5\n",
        "    xx, yy = np.meshgrid(np.arange(x_min, x_max, 0.01),\n",
        "                         np.arange(y_min, y_max, 0.01))\n",
        "    Z = model(torch.tensor(np.c_[xx.ravel(), yy.ravel()]).float()).detach().numpy()\n",
        "    Z = Z.reshape(xx.shape)\n",
        "\n",
        "    plt.contourf(xx, yy, Z, alpha=0.8)\n",
        "    plt.scatter(X[:, 0], X[:, 1], c=y, edgecolors='k', marker='o')\n",
        "    plt.xlabel('Input 1')\n",
        "    plt.ylabel('Input 2')\n",
        "    plt.title('Decision Boundary for XOR Problem')\n",
        "    plt.colorbar()\n",
        "    plt.show()\n",
        "\n",
        "plot_decision_boundary(model, X.numpy(), y.numpy())"
      ],
      "metadata": {
        "colab": {
          "base_uri": "https://localhost:8080/",
          "height": 463
        },
        "id": "WBbX9bCvql46",
        "outputId": "753c557c-f5c5-4788-f2a7-949c5d7cae6f"
      },
      "execution_count": null,
      "outputs": [
        {
          "output_type": "display_data",
          "data": {
            "text/plain": [
              "<Figure size 640x480 with 2 Axes>"
            ],
            "image/svg+xml": "<?xml version=\"1.0\" encoding=\"utf-8\" standalone=\"no\"?>\n<!DOCTYPE svg PUBLIC \"-//W3C//DTD SVG 1.1//EN\"\n  \"http://www.w3.org/Graphics/SVG/1.1/DTD/svg11.dtd\">\n<svg xmlns:xlink=\"http://www.w3.org/1999/xlink\" width=\"410.075881pt\" height=\"331.389812pt\" viewBox=\"0 0 410.075881 331.389812\" xmlns=\"http://www.w3.org/2000/svg\" version=\"1.1\">\n <metadata>\n  <rdf:RDF xmlns:dc=\"http://purl.org/dc/elements/1.1/\" xmlns:cc=\"http://creativecommons.org/ns#\" xmlns:rdf=\"http://www.w3.org/1999/02/22-rdf-syntax-ns#\">\n   <cc:Work>\n    <dc:type rdf:resource=\"http://purl.org/dc/dcmitype/StillImage\"/>\n    <dc:date>2024-09-11T17:23:07.383752</dc:date>\n    <dc:format>image/svg+xml</dc:format>\n    <dc:creator>\n     <cc:Agent>\n      <dc:title>Matplotlib v3.7.1, https://matplotlib.org/</dc:title>\n     </cc:Agent>\n    </dc:creator>\n   </cc:Work>\n  </rdf:RDF>\n </metadata>\n <defs>\n  <style type=\"text/css\">*{stroke-linejoin: round; stroke-linecap: butt}</style>\n </defs>\n <g id=\"figure_1\">\n  <g id=\"patch_1\">\n   <path d=\"M 0 331.389812 \nL 410.075881 331.389812 \nL 410.075881 0 \nL 0 0 \nz\n\" style=\"fill: #ffffff\"/>\n  </g>\n  <g id=\"axes_1\">\n   <g id=\"patch_2\">\n    <path d=\"M 59.024844 288.430125 \nL 344.720844 288.430125 \nL 344.720844 22.318125 \nL 59.024844 22.318125 \nz\n\" style=\"fill: #eaeaf2\"/>\n   </g>\n   <g id=\"matplotlib.axis_1\">\n    <g id=\"xtick_1\">\n     <g id=\"line2d_1\">\n      <path d=\"M 91.034685 288.430125 \nL 91.034685 22.318125 \n\" clip-path=\"url(#pd5b7aef74c)\" style=\"fill: none; stroke: #ffffff; stroke-linecap: round\"/>\n     </g>\n     <g id=\"text_1\">\n      <!-- −0.5 -->\n      <g style=\"fill: #262626\" transform=\"translate(77.679139 306.288406) scale(0.11 -0.11)\">\n       <defs>\n        <path id=\"DejaVuSans-2212\" d=\"M 678 2272 \nL 4684 2272 \nL 4684 1741 \nL 678 1741 \nL 678 2272 \nz\n\" transform=\"scale(0.015625)\"/>\n        <path id=\"DejaVuSans-30\" d=\"M 2034 4250 \nQ 1547 4250 1301 3770 \nQ 1056 3291 1056 2328 \nQ 1056 1369 1301 889 \nQ 1547 409 2034 409 \nQ 2525 409 2770 889 \nQ 3016 1369 3016 2328 \nQ 3016 3291 2770 3770 \nQ 2525 4250 2034 4250 \nz\nM 2034 4750 \nQ 2819 4750 3233 4129 \nQ 3647 3509 3647 2328 \nQ 3647 1150 3233 529 \nQ 2819 -91 2034 -91 \nQ 1250 -91 836 529 \nQ 422 1150 422 2328 \nQ 422 3509 836 4129 \nQ 1250 4750 2034 4750 \nz\n\" transform=\"scale(0.015625)\"/>\n        <path id=\"DejaVuSans-2e\" d=\"M 684 794 \nL 1344 794 \nL 1344 0 \nL 684 0 \nL 684 794 \nz\n\" transform=\"scale(0.015625)\"/>\n        <path id=\"DejaVuSans-35\" d=\"M 691 4666 \nL 3169 4666 \nL 3169 4134 \nL 1269 4134 \nL 1269 2991 \nQ 1406 3038 1543 3061 \nQ 1681 3084 1819 3084 \nQ 2600 3084 3056 2656 \nQ 3513 2228 3513 1497 \nQ 3513 744 3044 326 \nQ 2575 -91 1722 -91 \nQ 1428 -91 1123 -41 \nQ 819 9 494 109 \nL 494 744 \nQ 775 591 1075 516 \nQ 1375 441 1709 441 \nQ 2250 441 2565 725 \nQ 2881 1009 2881 1497 \nQ 2881 1984 2565 2268 \nQ 2250 2553 1709 2553 \nQ 1456 2553 1204 2497 \nQ 953 2441 691 2322 \nL 691 4666 \nz\n\" transform=\"scale(0.015625)\"/>\n       </defs>\n       <use xlink:href=\"#DejaVuSans-2212\"/>\n       <use xlink:href=\"#DejaVuSans-30\" x=\"83.789062\"/>\n       <use xlink:href=\"#DejaVuSans-2e\" x=\"147.412109\"/>\n       <use xlink:href=\"#DejaVuSans-35\" x=\"179.199219\"/>\n      </g>\n     </g>\n    </g>\n    <g id=\"xtick_2\">\n     <g id=\"line2d_2\">\n      <path d=\"M 148.173885 288.430125 \nL 148.173885 22.318125 \n\" clip-path=\"url(#pd5b7aef74c)\" style=\"fill: none; stroke: #ffffff; stroke-linecap: round\"/>\n     </g>\n     <g id=\"text_2\">\n      <!-- 0.0 -->\n      <g style=\"fill: #262626\" transform=\"translate(139.427167 306.288406) scale(0.11 -0.11)\">\n       <use xlink:href=\"#DejaVuSans-30\"/>\n       <use xlink:href=\"#DejaVuSans-2e\" x=\"63.623047\"/>\n       <use xlink:href=\"#DejaVuSans-30\" x=\"95.410156\"/>\n      </g>\n     </g>\n    </g>\n    <g id=\"xtick_3\">\n     <g id=\"line2d_3\">\n      <path d=\"M 205.313085 288.430125 \nL 205.313085 22.318125 \n\" clip-path=\"url(#pd5b7aef74c)\" style=\"fill: none; stroke: #ffffff; stroke-linecap: round\"/>\n     </g>\n     <g id=\"text_3\">\n      <!-- 0.5 -->\n      <g style=\"fill: #262626\" transform=\"translate(196.566367 306.288406) scale(0.11 -0.11)\">\n       <use xlink:href=\"#DejaVuSans-30\"/>\n       <use xlink:href=\"#DejaVuSans-2e\" x=\"63.623047\"/>\n       <use xlink:href=\"#DejaVuSans-35\" x=\"95.410156\"/>\n      </g>\n     </g>\n    </g>\n    <g id=\"xtick_4\">\n     <g id=\"line2d_4\">\n      <path d=\"M 262.452285 288.430125 \nL 262.452285 22.318125 \n\" clip-path=\"url(#pd5b7aef74c)\" style=\"fill: none; stroke: #ffffff; stroke-linecap: round\"/>\n     </g>\n     <g id=\"text_4\">\n      <!-- 1.0 -->\n      <g style=\"fill: #262626\" transform=\"translate(253.705567 306.288406) scale(0.11 -0.11)\">\n       <defs>\n        <path id=\"DejaVuSans-31\" d=\"M 794 531 \nL 1825 531 \nL 1825 4091 \nL 703 3866 \nL 703 4441 \nL 1819 4666 \nL 2450 4666 \nL 2450 531 \nL 3481 531 \nL 3481 0 \nL 794 0 \nL 794 531 \nz\n\" transform=\"scale(0.015625)\"/>\n       </defs>\n       <use xlink:href=\"#DejaVuSans-31\"/>\n       <use xlink:href=\"#DejaVuSans-2e\" x=\"63.623047\"/>\n       <use xlink:href=\"#DejaVuSans-30\" x=\"95.410156\"/>\n      </g>\n     </g>\n    </g>\n    <g id=\"xtick_5\">\n     <g id=\"line2d_5\">\n      <path d=\"M 319.591485 288.430125 \nL 319.591485 22.318125 \n\" clip-path=\"url(#pd5b7aef74c)\" style=\"fill: none; stroke: #ffffff; stroke-linecap: round\"/>\n     </g>\n     <g id=\"text_5\">\n      <!-- 1.5 -->\n      <g style=\"fill: #262626\" transform=\"translate(310.844767 306.288406) scale(0.11 -0.11)\">\n       <use xlink:href=\"#DejaVuSans-31\"/>\n       <use xlink:href=\"#DejaVuSans-2e\" x=\"63.623047\"/>\n       <use xlink:href=\"#DejaVuSans-35\" x=\"95.410156\"/>\n      </g>\n     </g>\n    </g>\n    <g id=\"text_6\">\n     <!-- Input 1 -->\n     <g style=\"fill: #262626\" transform=\"translate(180.612219 321.694187) scale(0.12 -0.12)\">\n      <defs>\n       <path id=\"DejaVuSans-49\" d=\"M 628 4666 \nL 1259 4666 \nL 1259 0 \nL 628 0 \nL 628 4666 \nz\n\" transform=\"scale(0.015625)\"/>\n       <path id=\"DejaVuSans-6e\" d=\"M 3513 2113 \nL 3513 0 \nL 2938 0 \nL 2938 2094 \nQ 2938 2591 2744 2837 \nQ 2550 3084 2163 3084 \nQ 1697 3084 1428 2787 \nQ 1159 2491 1159 1978 \nL 1159 0 \nL 581 0 \nL 581 3500 \nL 1159 3500 \nL 1159 2956 \nQ 1366 3272 1645 3428 \nQ 1925 3584 2291 3584 \nQ 2894 3584 3203 3211 \nQ 3513 2838 3513 2113 \nz\n\" transform=\"scale(0.015625)\"/>\n       <path id=\"DejaVuSans-70\" d=\"M 1159 525 \nL 1159 -1331 \nL 581 -1331 \nL 581 3500 \nL 1159 3500 \nL 1159 2969 \nQ 1341 3281 1617 3432 \nQ 1894 3584 2278 3584 \nQ 2916 3584 3314 3078 \nQ 3713 2572 3713 1747 \nQ 3713 922 3314 415 \nQ 2916 -91 2278 -91 \nQ 1894 -91 1617 61 \nQ 1341 213 1159 525 \nz\nM 3116 1747 \nQ 3116 2381 2855 2742 \nQ 2594 3103 2138 3103 \nQ 1681 3103 1420 2742 \nQ 1159 2381 1159 1747 \nQ 1159 1113 1420 752 \nQ 1681 391 2138 391 \nQ 2594 391 2855 752 \nQ 3116 1113 3116 1747 \nz\n\" transform=\"scale(0.015625)\"/>\n       <path id=\"DejaVuSans-75\" d=\"M 544 1381 \nL 544 3500 \nL 1119 3500 \nL 1119 1403 \nQ 1119 906 1312 657 \nQ 1506 409 1894 409 \nQ 2359 409 2629 706 \nQ 2900 1003 2900 1516 \nL 2900 3500 \nL 3475 3500 \nL 3475 0 \nL 2900 0 \nL 2900 538 \nQ 2691 219 2414 64 \nQ 2138 -91 1772 -91 \nQ 1169 -91 856 284 \nQ 544 659 544 1381 \nz\nM 1991 3584 \nL 1991 3584 \nz\n\" transform=\"scale(0.015625)\"/>\n       <path id=\"DejaVuSans-74\" d=\"M 1172 4494 \nL 1172 3500 \nL 2356 3500 \nL 2356 3053 \nL 1172 3053 \nL 1172 1153 \nQ 1172 725 1289 603 \nQ 1406 481 1766 481 \nL 2356 481 \nL 2356 0 \nL 1766 0 \nQ 1100 0 847 248 \nQ 594 497 594 1153 \nL 594 3053 \nL 172 3053 \nL 172 3500 \nL 594 3500 \nL 594 4494 \nL 1172 4494 \nz\n\" transform=\"scale(0.015625)\"/>\n       <path id=\"DejaVuSans-20\" transform=\"scale(0.015625)\"/>\n      </defs>\n      <use xlink:href=\"#DejaVuSans-49\"/>\n      <use xlink:href=\"#DejaVuSans-6e\" x=\"29.492188\"/>\n      <use xlink:href=\"#DejaVuSans-70\" x=\"92.871094\"/>\n      <use xlink:href=\"#DejaVuSans-75\" x=\"156.347656\"/>\n      <use xlink:href=\"#DejaVuSans-74\" x=\"219.726562\"/>\n      <use xlink:href=\"#DejaVuSans-20\" x=\"258.935547\"/>\n      <use xlink:href=\"#DejaVuSans-31\" x=\"290.722656\"/>\n     </g>\n    </g>\n   </g>\n   <g id=\"matplotlib.axis_2\">\n    <g id=\"ytick_1\">\n     <g id=\"line2d_6\">\n      <path d=\"M 59.024844 264.20024 \nL 344.720844 264.20024 \n\" clip-path=\"url(#pd5b7aef74c)\" style=\"fill: none; stroke: #ffffff; stroke-linecap: round\"/>\n     </g>\n     <g id=\"text_7\">\n      <!-- −0.5 -->\n      <g style=\"fill: #262626\" transform=\"translate(22.81375 268.379381) scale(0.11 -0.11)\">\n       <use xlink:href=\"#DejaVuSans-2212\"/>\n       <use xlink:href=\"#DejaVuSans-30\" x=\"83.789062\"/>\n       <use xlink:href=\"#DejaVuSans-2e\" x=\"147.412109\"/>\n       <use xlink:href=\"#DejaVuSans-35\" x=\"179.199219\"/>\n      </g>\n     </g>\n    </g>\n    <g id=\"ytick_2\">\n     <g id=\"line2d_7\">\n      <path d=\"M 59.024844 210.112435 \nL 344.720844 210.112435 \n\" clip-path=\"url(#pd5b7aef74c)\" style=\"fill: none; stroke: #ffffff; stroke-linecap: round\"/>\n     </g>\n     <g id=\"text_8\">\n      <!-- 0.0 -->\n      <g style=\"fill: #262626\" transform=\"translate(32.031406 214.291576) scale(0.11 -0.11)\">\n       <use xlink:href=\"#DejaVuSans-30\"/>\n       <use xlink:href=\"#DejaVuSans-2e\" x=\"63.623047\"/>\n       <use xlink:href=\"#DejaVuSans-30\" x=\"95.410156\"/>\n      </g>\n     </g>\n    </g>\n    <g id=\"ytick_3\">\n     <g id=\"line2d_8\">\n      <path d=\"M 59.024844 156.02463 \nL 344.720844 156.02463 \n\" clip-path=\"url(#pd5b7aef74c)\" style=\"fill: none; stroke: #ffffff; stroke-linecap: round\"/>\n     </g>\n     <g id=\"text_9\">\n      <!-- 0.5 -->\n      <g style=\"fill: #262626\" transform=\"translate(32.031406 160.203771) scale(0.11 -0.11)\">\n       <use xlink:href=\"#DejaVuSans-30\"/>\n       <use xlink:href=\"#DejaVuSans-2e\" x=\"63.623047\"/>\n       <use xlink:href=\"#DejaVuSans-35\" x=\"95.410156\"/>\n      </g>\n     </g>\n    </g>\n    <g id=\"ytick_4\">\n     <g id=\"line2d_9\">\n      <path d=\"M 59.024844 101.936825 \nL 344.720844 101.936825 \n\" clip-path=\"url(#pd5b7aef74c)\" style=\"fill: none; stroke: #ffffff; stroke-linecap: round\"/>\n     </g>\n     <g id=\"text_10\">\n      <!-- 1.0 -->\n      <g style=\"fill: #262626\" transform=\"translate(32.031406 106.115966) scale(0.11 -0.11)\">\n       <use xlink:href=\"#DejaVuSans-31\"/>\n       <use xlink:href=\"#DejaVuSans-2e\" x=\"63.623047\"/>\n       <use xlink:href=\"#DejaVuSans-30\" x=\"95.410156\"/>\n      </g>\n     </g>\n    </g>\n    <g id=\"ytick_5\">\n     <g id=\"line2d_10\">\n      <path d=\"M 59.024844 47.849021 \nL 344.720844 47.849021 \n\" clip-path=\"url(#pd5b7aef74c)\" style=\"fill: none; stroke: #ffffff; stroke-linecap: round\"/>\n     </g>\n     <g id=\"text_11\">\n      <!-- 1.5 -->\n      <g style=\"fill: #262626\" transform=\"translate(32.031406 52.028161) scale(0.11 -0.11)\">\n       <use xlink:href=\"#DejaVuSans-31\"/>\n       <use xlink:href=\"#DejaVuSans-2e\" x=\"63.623047\"/>\n       <use xlink:href=\"#DejaVuSans-35\" x=\"95.410156\"/>\n      </g>\n     </g>\n    </g>\n    <g id=\"text_12\">\n     <!-- Input 2 -->\n     <g style=\"fill: #262626\" transform=\"translate(16.318125 176.63475) rotate(-90) scale(0.12 -0.12)\">\n      <defs>\n       <path id=\"DejaVuSans-32\" d=\"M 1228 531 \nL 3431 531 \nL 3431 0 \nL 469 0 \nL 469 531 \nQ 828 903 1448 1529 \nQ 2069 2156 2228 2338 \nQ 2531 2678 2651 2914 \nQ 2772 3150 2772 3378 \nQ 2772 3750 2511 3984 \nQ 2250 4219 1831 4219 \nQ 1534 4219 1204 4116 \nQ 875 4013 500 3803 \nL 500 4441 \nQ 881 4594 1212 4672 \nQ 1544 4750 1819 4750 \nQ 2544 4750 2975 4387 \nQ 3406 4025 3406 3419 \nQ 3406 3131 3298 2873 \nQ 3191 2616 2906 2266 \nQ 2828 2175 2409 1742 \nQ 1991 1309 1228 531 \nz\n\" transform=\"scale(0.015625)\"/>\n      </defs>\n      <use xlink:href=\"#DejaVuSans-49\"/>\n      <use xlink:href=\"#DejaVuSans-6e\" x=\"29.492188\"/>\n      <use xlink:href=\"#DejaVuSans-70\" x=\"92.871094\"/>\n      <use xlink:href=\"#DejaVuSans-75\" x=\"156.347656\"/>\n      <use xlink:href=\"#DejaVuSans-74\" x=\"219.726562\"/>\n      <use xlink:href=\"#DejaVuSans-20\" x=\"258.935547\"/>\n      <use xlink:href=\"#DejaVuSans-32\" x=\"290.722656\"/>\n     </g>\n    </g>\n   </g>\n   <g id=\"PathCollection_1\">\n    <path d=\"M 344.720844 115.583304 \nL 344.720844 115.349149 \nL 344.720844 114.267393 \nL 344.720844 113.185637 \nL 344.720844 112.103881 \nL 344.720844 111.022125 \nL 344.720844 109.940369 \nL 344.720844 108.858613 \nL 344.720844 107.776857 \nL 344.720844 106.695101 \nL 344.720844 105.613345 \nL 344.720844 104.531588 \nL 344.720844 103.449832 \nL 344.720844 102.368076 \nL 344.720844 101.28632 \nL 344.720844 100.204564 \nL 344.720844 99.122808 \nL 344.720844 98.041052 \nL 344.720844 96.959296 \nL 344.720844 95.87754 \nL 344.720844 94.795784 \nL 344.720844 93.714027 \nL 344.720844 92.632271 \nL 344.720844 91.550515 \nL 344.720844 90.468759 \nL 344.720844 89.387003 \nL 344.720844 88.305247 \nL 344.720844 87.223491 \nL 344.720844 86.141735 \nL 344.720844 85.059979 \nL 344.720844 83.978223 \nL 344.720844 82.896466 \nL 344.720844 81.81471 \nL 344.720844 80.732954 \nL 344.720844 79.651198 \nL 344.720844 78.569442 \nL 344.720844 77.487686 \nL 344.720844 76.40593 \nL 344.720844 75.324174 \nL 344.720844 74.242418 \nL 344.720844 73.160662 \nL 344.720844 72.078905 \nL 344.720844 70.997149 \nL 344.720844 69.915393 \nL 344.720844 68.833637 \nL 344.720844 67.751881 \nL 344.720844 66.670125 \nL 344.720844 65.588369 \nL 344.720844 64.506613 \nL 344.720844 63.424857 \nL 344.720844 62.343101 \nL 344.720844 61.261345 \nL 344.720844 60.179588 \nL 344.720844 59.097832 \nL 344.720844 58.016076 \nL 344.720844 56.93432 \nL 344.720844 55.852564 \nL 344.720844 54.770808 \nL 344.720844 53.689052 \nL 344.720844 52.607296 \nL 344.720844 51.52554 \nL 344.720844 50.443784 \nL 344.720844 49.362027 \nL 344.720844 48.280271 \nL 344.720844 47.198515 \nL 344.720844 46.116759 \nL 344.720844 45.035003 \nL 344.720844 43.953247 \nL 344.720844 42.871491 \nL 344.720844 41.789735 \nL 344.720844 40.707979 \nL 344.720844 39.626223 \nL 344.720844 38.544466 \nL 344.720844 37.46271 \nL 344.720844 36.380954 \nL 344.720844 35.299198 \nL 344.720844 34.217442 \nL 344.720844 33.135686 \nL 344.720844 32.05393 \nL 344.720844 30.972174 \nL 344.720844 29.890418 \nL 344.720844 28.808662 \nL 344.720844 27.726905 \nL 344.720844 26.645149 \nL 344.720844 25.563393 \nL 344.720844 24.481637 \nL 344.720844 23.399881 \nL 344.720844 22.318125 \nL 343.57806 22.318125 \nL 342.435276 22.318125 \nL 341.292492 22.318125 \nL 340.149708 22.318125 \nL 339.006924 22.318125 \nL 337.86414 22.318125 \nL 336.721356 22.318125 \nL 335.578572 22.318125 \nL 334.435788 22.318125 \nL 333.293004 22.318125 \nL 332.15022 22.318125 \nL 331.007436 22.318125 \nL 329.864652 22.318125 \nL 328.721868 22.318125 \nL 327.579084 22.318125 \nL 326.4363 22.318125 \nL 325.293516 22.318125 \nL 324.150732 22.318125 \nL 323.007948 22.318125 \nL 321.865164 22.318125 \nL 320.72238 22.318125 \nL 319.579596 22.318125 \nL 318.436812 22.318125 \nL 317.294028 22.318125 \nL 316.151244 22.318125 \nL 315.00846 22.318125 \nL 313.865676 22.318125 \nL 312.722892 22.318125 \nL 311.580108 22.318125 \nL 310.437324 22.318125 \nL 309.29454 22.318125 \nL 308.151756 22.318125 \nL 307.008972 22.318125 \nL 305.866188 22.318125 \nL 304.723404 22.318125 \nL 303.58062 22.318125 \nL 302.437836 22.318125 \nL 301.295052 22.318125 \nL 300.152268 22.318125 \nL 299.009484 22.318125 \nL 297.8667 22.318125 \nL 296.723916 22.318125 \nL 295.581132 22.318125 \nL 294.438348 22.318125 \nL 293.295564 22.318125 \nL 292.15278 22.318125 \nL 291.009996 22.318125 \nL 289.867212 22.318125 \nL 288.724428 22.318125 \nL 287.581644 22.318125 \nL 286.43886 22.318125 \nL 285.296076 22.318125 \nL 284.153292 22.318125 \nL 283.010508 22.318125 \nL 281.867724 22.318125 \nL 280.72494 22.318125 \nL 280.230852 22.318125 \nL 280.72494 23.032693 \nL 280.97885 23.399881 \nL 281.726894 24.481637 \nL 281.867724 24.68531 \nL 282.474874 25.563393 \nL 283.010508 26.338046 \nL 283.222885 26.645149 \nL 283.970779 27.726905 \nL 284.153292 27.990842 \nL 284.718937 28.808662 \nL 285.296076 29.643372 \nL 285.466877 29.890418 \nL 286.214857 30.972174 \nL 286.43886 31.296099 \nL 286.962919 32.05393 \nL 287.581644 32.948751 \nL 287.710909 33.135686 \nL 288.45888 34.217442 \nL 288.724428 34.601445 \nL 289.206908 35.299198 \nL 289.867212 36.254118 \nL 289.954929 36.380954 \nL 290.702962 37.46271 \nL 291.009996 37.906721 \nL 291.450965 38.544466 \nL 292.15278 39.559568 \nL 292.19887 39.626223 \nL 292.9469 40.707979 \nL 293.295564 41.212137 \nL 293.694987 41.789735 \nL 294.438348 42.864927 \nL 294.442887 42.871491 \nL 295.190866 43.953247 \nL 295.581132 44.517663 \nL 295.938872 45.035003 \nL 296.686832 46.116759 \nL 296.723916 46.170393 \nL 297.43494 47.198515 \nL 297.8667 47.822966 \nL 298.182914 48.280271 \nL 298.930855 49.362027 \nL 299.009484 49.475751 \nL 299.678878 50.443784 \nL 300.152268 51.128368 \nL 300.426892 51.52554 \nL 301.174945 52.607296 \nL 301.295052 52.781005 \nL 301.922852 53.689052 \nL 302.437836 54.433839 \nL 302.670866 54.770808 \nL 303.418895 55.852564 \nL 303.58062 56.086457 \nL 304.166917 56.93432 \nL 304.723404 57.739162 \nL 304.914896 58.016076 \nL 305.662903 59.097832 \nL 305.866188 59.391809 \nL 306.410937 60.179588 \nL 307.008972 61.044521 \nL 307.158889 61.261345 \nL 307.906858 62.343101 \nL 308.151756 62.697241 \nL 308.654956 63.424857 \nL 309.29454 64.34988 \nL 309.402916 64.506613 \nL 310.150942 65.588369 \nL 310.437324 66.002515 \nL 310.898943 66.670125 \nL 311.580108 67.65525 \nL 311.646933 67.751881 \nL 312.394938 68.833637 \nL 312.722892 69.307868 \nL 313.142995 69.915393 \nL 313.865676 70.960713 \nL 313.890868 70.997149 \nL 314.6389 72.078905 \nL 315.00846 72.61328 \nL 315.386988 73.160662 \nL 316.134888 74.242418 \nL 316.151244 74.266074 \nL 316.882867 75.324174 \nL 317.294028 75.918679 \nL 317.630987 76.40593 \nL 318.378832 77.487686 \nL 318.436812 77.571545 \nL 319.126907 78.569442 \nL 319.579596 79.224115 \nL 319.874912 79.651198 \nL 320.622932 80.732954 \nL 320.72238 80.876795 \nL 321.37097 81.81471 \nL 321.865164 82.529434 \nL 322.118893 82.896466 \nL 322.866945 83.978223 \nL 323.007948 84.182154 \nL 323.614853 85.059979 \nL 324.150732 85.834985 \nL 324.362864 86.141735 \nL 325.110896 87.223491 \nL 325.293516 87.487603 \nL 325.858916 88.305247 \nL 326.4363 89.140311 \nL 326.606881 89.387003 \nL 327.354902 90.468759 \nL 327.579084 90.792955 \nL 328.102973 91.550515 \nL 328.721868 92.44565 \nL 328.850888 92.632271 \nL 329.598859 93.714027 \nL 329.864652 94.098384 \nL 330.346956 94.795784 \nL 331.007436 95.75103 \nL 331.094914 95.87754 \nL 331.84292 96.959296 \nL 332.15022 97.403709 \nL 332.590894 98.041052 \nL 333.293004 99.056396 \nL 333.338931 99.122808 \nL 334.086986 100.204564 \nL 334.435788 100.709069 \nL 334.834942 101.28632 \nL 335.578572 102.361631 \nL 335.583029 102.368076 \nL 336.330927 103.449832 \nL 336.721356 104.014484 \nL 337.078933 104.531588 \nL 337.826888 105.613345 \nL 337.86414 105.667226 \nL 338.574837 106.695101 \nL 339.006924 107.319887 \nL 339.322953 107.776857 \nL 340.070834 108.858613 \nL 340.149708 108.972666 \nL 340.818972 109.940369 \nL 341.292492 110.625115 \nL 341.567054 111.022125 \nL 342.314924 112.103881 \nL 342.435276 112.277944 \nL 343.062876 113.185637 \nL 343.57806 113.930661 \nL 343.81091 114.267393 \nL 344.558944 115.349149 \nz\n\" clip-path=\"url(#pd5b7aef74c)\" style=\"fill: #1b112b; fill-opacity: 0.8\"/>\n   </g>\n   <g id=\"PathCollection_2\">\n    <path d=\"M 344.720844 214.193992 \nL 344.720844 213.788954 \nL 344.720844 212.707198 \nL 344.720844 211.625442 \nL 344.720844 210.543686 \nL 344.720844 209.46193 \nL 344.720844 208.380174 \nL 344.720844 207.298418 \nL 344.720844 206.216662 \nL 344.720844 205.134905 \nL 344.720844 204.053149 \nL 344.720844 202.971393 \nL 344.720844 201.889637 \nL 344.720844 200.807881 \nL 344.720844 199.726125 \nL 344.720844 198.644369 \nL 344.720844 197.562613 \nL 344.720844 196.480857 \nL 344.720844 195.399101 \nL 344.720844 194.317345 \nL 344.720844 193.235588 \nL 344.720844 192.153832 \nL 344.720844 191.072076 \nL 344.720844 189.99032 \nL 344.720844 188.908564 \nL 344.720844 187.826808 \nL 344.720844 186.745052 \nL 344.720844 185.663296 \nL 344.720844 184.58154 \nL 344.720844 183.499784 \nL 344.720844 182.418027 \nL 344.720844 181.336271 \nL 344.720844 180.254515 \nL 344.720844 179.172759 \nL 344.720844 178.091003 \nL 344.720844 177.009247 \nL 344.720844 175.927491 \nL 344.720844 174.845735 \nL 344.720844 173.763979 \nL 344.720844 172.682223 \nL 344.720844 171.600466 \nL 344.720844 170.51871 \nL 344.720844 169.436954 \nL 344.720844 168.355198 \nL 344.720844 167.273442 \nL 344.720844 166.191686 \nL 344.720844 165.10993 \nL 344.720844 164.028174 \nL 344.720844 162.946418 \nL 344.720844 161.864662 \nL 344.720844 160.782905 \nL 344.720844 159.701149 \nL 344.720844 158.619393 \nL 344.720844 157.537637 \nL 344.720844 156.455881 \nL 344.720844 155.374125 \nL 344.720844 154.292369 \nL 344.720844 153.210613 \nL 344.720844 152.128857 \nL 344.720844 151.047101 \nL 344.720844 149.965345 \nL 344.720844 148.883588 \nL 344.720844 147.801832 \nL 344.720844 146.720076 \nL 344.720844 145.63832 \nL 344.720844 144.556564 \nL 344.720844 143.474808 \nL 344.720844 142.393052 \nL 344.720844 141.311296 \nL 344.720844 140.22954 \nL 344.720844 139.147784 \nL 344.720844 138.066027 \nL 344.720844 136.984271 \nL 344.720844 135.902515 \nL 344.720844 134.820759 \nL 344.720844 133.739003 \nL 344.720844 132.657247 \nL 344.720844 131.575491 \nL 344.720844 130.493735 \nL 344.720844 129.411979 \nL 344.720844 128.330223 \nL 344.720844 127.248466 \nL 344.720844 126.16671 \nL 344.720844 125.084954 \nL 344.720844 124.003198 \nL 344.720844 122.921442 \nL 344.720844 121.839686 \nL 344.720844 120.75793 \nL 344.720844 119.676174 \nL 344.720844 118.594418 \nL 344.720844 117.512662 \nL 344.720844 116.430905 \nL 344.720844 115.583304 \nL 344.558944 115.349149 \nL 343.81091 114.267393 \nL 343.57806 113.930661 \nL 343.062876 113.185637 \nL 342.435276 112.277944 \nL 342.314924 112.103881 \nL 341.567054 111.022125 \nL 341.292492 110.625115 \nL 340.818972 109.940369 \nL 340.149708 108.972666 \nL 340.070834 108.858613 \nL 339.322953 107.776857 \nL 339.006924 107.319887 \nL 338.574837 106.695101 \nL 337.86414 105.667226 \nL 337.826888 105.613345 \nL 337.078933 104.531588 \nL 336.721356 104.014484 \nL 336.330927 103.449832 \nL 335.583029 102.368076 \nL 335.578572 102.361631 \nL 334.834942 101.28632 \nL 334.435788 100.709069 \nL 334.086986 100.204564 \nL 333.338931 99.122808 \nL 333.293004 99.056396 \nL 332.590894 98.041052 \nL 332.15022 97.403709 \nL 331.84292 96.959296 \nL 331.094914 95.87754 \nL 331.007436 95.75103 \nL 330.346956 94.795784 \nL 329.864652 94.098384 \nL 329.598859 93.714027 \nL 328.850888 92.632271 \nL 328.721868 92.44565 \nL 328.102973 91.550515 \nL 327.579084 90.792955 \nL 327.354902 90.468759 \nL 326.606881 89.387003 \nL 326.4363 89.140311 \nL 325.858916 88.305247 \nL 325.293516 87.487603 \nL 325.110896 87.223491 \nL 324.362864 86.141735 \nL 324.150732 85.834985 \nL 323.614853 85.059979 \nL 323.007948 84.182154 \nL 322.866945 83.978223 \nL 322.118893 82.896466 \nL 321.865164 82.529434 \nL 321.37097 81.81471 \nL 320.72238 80.876795 \nL 320.622932 80.732954 \nL 319.874912 79.651198 \nL 319.579596 79.224115 \nL 319.126907 78.569442 \nL 318.436812 77.571545 \nL 318.378832 77.487686 \nL 317.630987 76.40593 \nL 317.294028 75.918679 \nL 316.882867 75.324174 \nL 316.151244 74.266074 \nL 316.134888 74.242418 \nL 315.386988 73.160662 \nL 315.00846 72.61328 \nL 314.6389 72.078905 \nL 313.890868 70.997149 \nL 313.865676 70.960713 \nL 313.142995 69.915393 \nL 312.722892 69.307868 \nL 312.394938 68.833637 \nL 311.646933 67.751881 \nL 311.580108 67.65525 \nL 310.898943 66.670125 \nL 310.437324 66.002515 \nL 310.150942 65.588369 \nL 309.402916 64.506613 \nL 309.29454 64.34988 \nL 308.654956 63.424857 \nL 308.151756 62.697241 \nL 307.906858 62.343101 \nL 307.158889 61.261345 \nL 307.008972 61.044521 \nL 306.410937 60.179588 \nL 305.866188 59.391809 \nL 305.662903 59.097832 \nL 304.914896 58.016076 \nL 304.723404 57.739162 \nL 304.166917 56.93432 \nL 303.58062 56.086457 \nL 303.418895 55.852564 \nL 302.670866 54.770808 \nL 302.437836 54.433839 \nL 301.922852 53.689052 \nL 301.295052 52.781005 \nL 301.174945 52.607296 \nL 300.426892 51.52554 \nL 300.152268 51.128368 \nL 299.678878 50.443784 \nL 299.009484 49.475751 \nL 298.930855 49.362027 \nL 298.182914 48.280271 \nL 297.8667 47.822966 \nL 297.43494 47.198515 \nL 296.723916 46.170393 \nL 296.686832 46.116759 \nL 295.938872 45.035003 \nL 295.581132 44.517663 \nL 295.190866 43.953247 \nL 294.442887 42.871491 \nL 294.438348 42.864927 \nL 293.694987 41.789735 \nL 293.295564 41.212137 \nL 292.9469 40.707979 \nL 292.19887 39.626223 \nL 292.15278 39.559568 \nL 291.450965 38.544466 \nL 291.009996 37.906721 \nL 290.702962 37.46271 \nL 289.954929 36.380954 \nL 289.867212 36.254118 \nL 289.206908 35.299198 \nL 288.724428 34.601445 \nL 288.45888 34.217442 \nL 287.710909 33.135686 \nL 287.581644 32.948751 \nL 286.962919 32.05393 \nL 286.43886 31.296099 \nL 286.214857 30.972174 \nL 285.466877 29.890418 \nL 285.296076 29.643372 \nL 284.718937 28.808662 \nL 284.153292 27.990842 \nL 283.970779 27.726905 \nL 283.222885 26.645149 \nL 283.010508 26.338046 \nL 282.474874 25.563393 \nL 281.867724 24.68531 \nL 281.726894 24.481637 \nL 280.97885 23.399881 \nL 280.72494 23.032693 \nL 280.230852 22.318125 \nL 279.582156 22.318125 \nL 278.439372 22.318125 \nL 277.296588 22.318125 \nL 276.153804 22.318125 \nL 275.01102 22.318125 \nL 273.868236 22.318125 \nL 272.725452 22.318125 \nL 271.582668 22.318125 \nL 270.439884 22.318125 \nL 269.2971 22.318125 \nL 268.154316 22.318125 \nL 267.011532 22.318125 \nL 265.868748 22.318125 \nL 264.725964 22.318125 \nL 263.58318 22.318125 \nL 262.440396 22.318125 \nL 261.297612 22.318125 \nL 260.154828 22.318125 \nL 259.012044 22.318125 \nL 257.86926 22.318125 \nL 256.726476 22.318125 \nL 255.583692 22.318125 \nL 254.440908 22.318125 \nL 253.298124 22.318125 \nL 252.15534 22.318125 \nL 251.012556 22.318125 \nL 249.869772 22.318125 \nL 248.726988 22.318125 \nL 247.584204 22.318125 \nL 246.44142 22.318125 \nL 245.298636 22.318125 \nL 244.155852 22.318125 \nL 243.013068 22.318125 \nL 241.870284 22.318125 \nL 240.7275 22.318125 \nL 239.584716 22.318125 \nL 238.441932 22.318125 \nL 237.299148 22.318125 \nL 236.156364 22.318125 \nL 235.01358 22.318125 \nL 233.870796 22.318125 \nL 232.728012 22.318125 \nL 231.585228 22.318125 \nL 230.442444 22.318125 \nL 229.29966 22.318125 \nL 228.156876 22.318125 \nL 227.014092 22.318125 \nL 225.871308 22.318125 \nL 224.728524 22.318125 \nL 223.58574 22.318125 \nL 222.442956 22.318125 \nL 221.300172 22.318125 \nL 220.157388 22.318125 \nL 219.014604 22.318125 \nL 217.87182 22.318125 \nL 216.729036 22.318125 \nL 215.586252 22.318125 \nL 214.443468 22.318125 \nL 213.300684 22.318125 \nL 212.1579 22.318125 \nL 212.044715 22.318125 \nL 212.1579 22.481806 \nL 212.792746 23.399881 \nL 213.300684 24.13443 \nL 213.540759 24.481637 \nL 214.288715 25.563393 \nL 214.443468 25.787172 \nL 215.036714 26.645149 \nL 215.586252 27.439999 \nL 215.784653 27.726905 \nL 216.53279 28.808662 \nL 216.729036 29.092451 \nL 217.280767 29.890418 \nL 217.87182 30.745255 \nL 218.028728 30.972174 \nL 218.776666 32.05393 \nL 219.014604 32.397983 \nL 219.524778 33.135686 \nL 220.157388 34.050627 \nL 220.272727 34.217442 \nL 221.020596 35.299198 \nL 221.300172 35.703416 \nL 221.768789 36.380954 \nL 222.442956 37.356211 \nL 222.516592 37.46271 \nL 223.264665 38.544466 \nL 223.58574 39.008803 \nL 224.012668 39.626223 \nL 224.728524 40.661489 \nL 224.760672 40.707979 \nL 225.508673 41.789735 \nL 225.871308 42.314175 \nL 226.256703 42.871491 \nL 227.004679 43.953247 \nL 227.014092 43.96686 \nL 227.752762 45.035003 \nL 228.156876 45.619493 \nL 228.500732 46.116759 \nL 229.248767 47.198515 \nL 229.29966 47.272116 \nL 229.99672 48.280271 \nL 230.442444 48.92492 \nL 230.744669 49.362027 \nL 231.492775 50.443784 \nL 231.585228 50.577489 \nL 232.240684 51.52554 \nL 232.728012 52.230257 \nL 232.988761 52.607296 \nL 233.736792 53.689052 \nL 233.870796 53.882861 \nL 234.484741 54.770808 \nL 235.01358 55.535747 \nL 235.232657 55.852564 \nL 235.980734 56.93432 \nL 236.156364 57.188323 \nL 236.728793 58.016076 \nL 237.299148 58.841098 \nL 237.476658 59.097832 \nL 238.224667 60.179588 \nL 238.441932 60.493772 \nL 238.972763 61.261345 \nL 239.584716 62.146505 \nL 239.720651 62.343101 \nL 240.46868 63.424857 \nL 240.7275 63.799131 \nL 241.216739 64.506613 \nL 241.870284 65.451796 \nL 241.964737 65.588369 \nL 242.712754 66.670125 \nL 243.013068 67.104515 \nL 243.460686 67.751881 \nL 244.155852 68.757154 \nL 244.208734 68.833637 \nL 244.956797 69.915393 \nL 245.298636 70.40983 \nL 245.704719 70.997149 \nL 246.44142 72.062524 \nL 246.452746 72.078905 \nL 247.200748 73.160662 \nL 247.584204 73.715272 \nL 247.948696 74.242418 \nL 248.696832 75.324174 \nL 248.726988 75.367786 \nL 249.444654 76.40593 \nL 249.869772 77.020753 \nL 250.192677 77.487686 \nL 250.940685 78.569442 \nL 251.012556 78.673377 \nL 251.688716 79.651198 \nL 252.15534 80.326074 \nL 252.436705 80.732954 \nL 253.184761 81.81471 \nL 253.298124 81.978643 \nL 253.932772 82.896466 \nL 254.440908 83.631409 \nL 254.680693 83.978223 \nL 255.428718 85.059979 \nL 255.583692 85.284133 \nL 256.176698 86.141735 \nL 256.726476 86.936733 \nL 256.924768 87.223491 \nL 257.672717 88.305247 \nL 257.86926 88.589505 \nL 258.420667 89.387003 \nL 259.012044 90.242123 \nL 259.16879 90.468759 \nL 259.916792 91.550515 \nL 260.154828 91.894798 \nL 260.664714 92.632271 \nL 261.297612 93.547465 \nL 261.412789 93.714027 \nL 262.16078 94.795784 \nL 262.440396 95.200177 \nL 262.908755 95.87754 \nL 263.58318 96.852819 \nL 263.6568 96.959296 \nL 264.404727 98.041052 \nL 264.725964 98.505622 \nL 265.15279 99.122808 \nL 265.868748 100.158298 \nL 265.900734 100.204564 \nL 266.648731 101.28632 \nL 267.011532 101.811055 \nL 267.39671 102.368076 \nL 268.144741 103.449832 \nL 268.154316 103.463679 \nL 268.892771 104.531588 \nL 269.2971 105.116304 \nL 269.640802 105.613345 \nL 270.388674 106.695101 \nL 270.439884 106.769154 \nL 271.136782 107.776857 \nL 271.582668 108.42167 \nL 271.884834 108.858613 \nL 272.632688 109.940369 \nL 272.725452 110.074514 \nL 273.380839 111.022125 \nL 273.868236 111.726995 \nL 274.128823 112.103881 \nL 274.876763 113.185637 \nL 275.01102 113.379777 \nL 275.624803 114.267393 \nL 276.153804 115.032401 \nL 276.372834 115.349149 \nL 277.120771 116.430905 \nL 277.296588 116.685143 \nL 277.868774 117.512662 \nL 278.439372 118.337974 \nL 278.61672 118.594418 \nL 279.364844 119.676174 \nL 279.582156 119.990426 \nL 280.112825 120.75793 \nL 280.72494 121.643229 \nL 280.860784 121.839686 \nL 281.608768 122.921442 \nL 281.867724 123.295874 \nL 282.35687 124.003198 \nL 283.010508 124.948586 \nL 283.104785 125.084954 \nL 283.852654 126.16671 \nL 284.153292 126.601475 \nL 284.600748 127.248466 \nL 285.296076 128.254191 \nL 285.348649 128.330223 \nL 286.096721 129.411979 \nL 286.43886 129.906777 \nL 286.844724 130.493735 \nL 287.581644 131.559463 \nL 287.592726 131.575491 \nL 288.340756 132.657247 \nL 288.724428 133.212092 \nL 289.088757 133.739003 \nL 289.836736 134.820759 \nL 289.867212 134.864831 \nL 290.584818 135.902515 \nL 291.009996 136.517471 \nL 291.332739 136.984271 \nL 292.080823 138.066027 \nL 292.15278 138.170091 \nL 292.828778 139.147784 \nL 293.295564 139.822894 \nL 293.576727 140.22954 \nL 294.324839 141.311296 \nL 294.438348 141.475463 \nL 295.072744 142.393052 \nL 295.581132 143.128384 \nL 295.820708 143.474808 \nL 296.56878 144.556564 \nL 296.723916 144.780977 \nL 297.316721 145.63832 \nL 297.8667 146.433725 \nL 298.064696 146.720076 \nL 298.812779 147.801832 \nL 299.009484 148.086294 \nL 299.560849 148.883588 \nL 300.152268 149.739079 \nL 300.30869 149.965345 \nL 301.056726 151.047101 \nL 301.295052 151.39174 \nL 301.804821 152.128857 \nL 302.437836 153.044483 \nL 302.552706 153.210613 \nL 303.300801 154.292369 \nL 303.58062 154.697026 \nL 304.048798 155.374125 \nL 304.723404 156.349767 \nL 304.796786 156.455881 \nL 305.544789 157.537637 \nL 305.866188 158.002392 \nL 306.292842 158.619393 \nL 307.008972 159.655128 \nL 307.040792 159.701149 \nL 307.788852 160.782905 \nL 308.151756 161.307811 \nL 308.536718 161.864662 \nL 309.284882 162.946418 \nL 309.29454 162.960385 \nL 310.032804 164.028174 \nL 310.437324 164.61325 \nL 310.780702 165.10993 \nL 311.528732 166.191686 \nL 311.580108 166.265982 \nL 312.276763 167.273442 \nL 312.722892 167.918676 \nL 313.024734 168.355198 \nL 313.772811 169.436954 \nL 313.865676 169.571245 \nL 314.520774 170.51871 \nL 315.00846 171.224049 \nL 315.26876 171.600466 \nL 316.016673 172.682223 \nL 316.151244 172.876831 \nL 316.76479 173.763979 \nL 317.294028 174.529387 \nL 317.512765 174.845735 \nL 318.260765 175.927491 \nL 318.436812 176.182107 \nL 319.008755 177.009247 \nL 319.579596 177.834704 \nL 319.756826 178.091003 \nL 320.504775 179.172759 \nL 320.72238 179.48748 \nL 321.252725 180.254515 \nL 321.865164 181.140091 \nL 322.000846 181.336271 \nL 322.74883 182.418027 \nL 323.007948 182.792775 \nL 323.49677 183.499784 \nL 324.150732 184.445436 \nL 324.244841 184.58154 \nL 324.992775 185.663296 \nL 325.293516 186.098224 \nL 325.74081 186.745052 \nL 326.4363 187.750902 \nL 326.488781 187.826808 \nL 327.236832 188.908564 \nL 327.579084 189.403597 \nL 327.984786 189.99032 \nL 328.721868 191.056283 \nL 328.732789 191.072076 \nL 329.480764 192.153832 \nL 329.864652 192.709026 \nL 330.228768 193.235588 \nL 330.97672 194.317345 \nL 331.007436 194.361763 \nL 331.724829 195.399101 \nL 332.15022 196.014341 \nL 332.472801 196.480857 \nL 333.220733 197.562613 \nL 333.293004 197.667122 \nL 333.968888 198.644369 \nL 334.435788 199.319597 \nL 334.71687 199.726125 \nL 335.464747 200.807881 \nL 335.578572 200.972481 \nL 336.21285 201.889637 \nL 336.721356 202.625006 \nL 336.960864 202.971393 \nL 337.70882 204.053149 \nL 337.86414 204.277748 \nL 338.456819 205.134905 \nL 339.006924 205.930576 \nL 339.204758 206.216662 \nL 339.952827 207.298418 \nL 340.149708 207.583114 \nL 340.700833 208.380174 \nL 341.292492 209.235948 \nL 341.448752 209.46193 \nL 342.196754 210.543686 \nL 342.435276 210.888559 \nL 342.944883 211.625442 \nL 343.57806 212.541203 \nL 343.692832 212.707198 \nL 344.440701 213.788954 \nz\n\" clip-path=\"url(#pd5b7aef74c)\" style=\"fill: #511e4d; fill-opacity: 0.8\"/>\n   </g>\n   <g id=\"PathCollection_3\">\n    <path d=\"M 327.579084 287.520403 \nL 328.208092 288.430125 \nL 328.721868 288.430125 \nL 329.864652 288.430125 \nL 331.007436 288.430125 \nL 332.15022 288.430125 \nL 333.293004 288.430125 \nL 334.435788 288.430125 \nL 335.578572 288.430125 \nL 336.721356 288.430125 \nL 337.86414 288.430125 \nL 339.006924 288.430125 \nL 340.149708 288.430125 \nL 341.292492 288.430125 \nL 342.435276 288.430125 \nL 343.57806 288.430125 \nL 344.720844 288.430125 \nL 344.720844 287.348369 \nL 344.720844 286.266613 \nL 344.720844 285.184857 \nL 344.720844 284.103101 \nL 344.720844 283.021345 \nL 344.720844 281.939588 \nL 344.720844 280.857832 \nL 344.720844 279.776076 \nL 344.720844 278.69432 \nL 344.720844 277.612564 \nL 344.720844 276.530808 \nL 344.720844 275.449052 \nL 344.720844 274.367296 \nL 344.720844 273.28554 \nL 344.720844 272.203784 \nL 344.720844 271.122027 \nL 344.720844 270.040271 \nL 344.720844 268.958515 \nL 344.720844 267.876759 \nL 344.720844 266.795003 \nL 344.720844 265.713247 \nL 344.720844 264.631491 \nL 344.720844 263.549735 \nL 344.720844 262.467979 \nL 344.720844 261.386223 \nL 344.720844 260.304466 \nL 344.720844 259.22271 \nL 344.720844 258.140954 \nL 344.720844 257.059198 \nL 344.720844 255.977442 \nL 344.720844 254.895686 \nL 344.720844 253.81393 \nL 344.720844 252.732174 \nL 344.720844 251.650418 \nL 344.720844 250.568662 \nL 344.720844 249.486905 \nL 344.720844 248.405149 \nL 344.720844 247.323393 \nL 344.720844 246.241637 \nL 344.720844 245.159881 \nL 344.720844 244.078125 \nL 344.720844 242.996369 \nL 344.720844 241.914613 \nL 344.720844 240.832857 \nL 344.720844 239.751101 \nL 344.720844 238.669345 \nL 344.720844 237.587588 \nL 344.720844 236.505832 \nL 344.720844 235.424076 \nL 344.720844 234.34232 \nL 344.720844 233.260564 \nL 344.720844 232.178808 \nL 344.720844 231.097052 \nL 344.720844 230.015296 \nL 344.720844 228.93354 \nL 344.720844 227.851784 \nL 344.720844 226.770027 \nL 344.720844 225.688271 \nL 344.720844 224.606515 \nL 344.720844 223.524759 \nL 344.720844 222.443003 \nL 344.720844 221.361247 \nL 344.720844 220.279491 \nL 344.720844 219.197735 \nL 344.720844 218.115979 \nL 344.720844 217.034223 \nL 344.720844 215.952466 \nL 344.720844 214.87071 \nL 344.720844 214.193992 \nL 344.440701 213.788954 \nL 343.692832 212.707198 \nL 343.57806 212.541203 \nL 342.944883 211.625442 \nL 342.435276 210.888559 \nL 342.196754 210.543686 \nL 341.448752 209.46193 \nL 341.292492 209.235948 \nL 340.700833 208.380174 \nL 340.149708 207.583114 \nL 339.952827 207.298418 \nL 339.204758 206.216662 \nL 339.006924 205.930576 \nL 338.456819 205.134905 \nL 337.86414 204.277748 \nL 337.70882 204.053149 \nL 336.960864 202.971393 \nL 336.721356 202.625006 \nL 336.21285 201.889637 \nL 335.578572 200.972481 \nL 335.464747 200.807881 \nL 334.71687 199.726125 \nL 334.435788 199.319597 \nL 333.968888 198.644369 \nL 333.293004 197.667122 \nL 333.220733 197.562613 \nL 332.472801 196.480857 \nL 332.15022 196.014341 \nL 331.724829 195.399101 \nL 331.007436 194.361763 \nL 330.97672 194.317345 \nL 330.228768 193.235588 \nL 329.864652 192.709026 \nL 329.480764 192.153832 \nL 328.732789 191.072076 \nL 328.721868 191.056283 \nL 327.984786 189.99032 \nL 327.579084 189.403597 \nL 327.236832 188.908564 \nL 326.488781 187.826808 \nL 326.4363 187.750902 \nL 325.74081 186.745052 \nL 325.293516 186.098224 \nL 324.992775 185.663296 \nL 324.244841 184.58154 \nL 324.150732 184.445436 \nL 323.49677 183.499784 \nL 323.007948 182.792775 \nL 322.74883 182.418027 \nL 322.000846 181.336271 \nL 321.865164 181.140091 \nL 321.252725 180.254515 \nL 320.72238 179.48748 \nL 320.504775 179.172759 \nL 319.756826 178.091003 \nL 319.579596 177.834704 \nL 319.008755 177.009247 \nL 318.436812 176.182107 \nL 318.260765 175.927491 \nL 317.512765 174.845735 \nL 317.294028 174.529387 \nL 316.76479 173.763979 \nL 316.151244 172.876831 \nL 316.016673 172.682223 \nL 315.26876 171.600466 \nL 315.00846 171.224049 \nL 314.520774 170.51871 \nL 313.865676 169.571245 \nL 313.772811 169.436954 \nL 313.024734 168.355198 \nL 312.722892 167.918676 \nL 312.276763 167.273442 \nL 311.580108 166.265982 \nL 311.528732 166.191686 \nL 310.780702 165.10993 \nL 310.437324 164.61325 \nL 310.032804 164.028174 \nL 309.29454 162.960385 \nL 309.284882 162.946418 \nL 308.536718 161.864662 \nL 308.151756 161.307811 \nL 307.788852 160.782905 \nL 307.040792 159.701149 \nL 307.008972 159.655128 \nL 306.292842 158.619393 \nL 305.866188 158.002392 \nL 305.544789 157.537637 \nL 304.796786 156.455881 \nL 304.723404 156.349767 \nL 304.048798 155.374125 \nL 303.58062 154.697026 \nL 303.300801 154.292369 \nL 302.552706 153.210613 \nL 302.437836 153.044483 \nL 301.804821 152.128857 \nL 301.295052 151.39174 \nL 301.056726 151.047101 \nL 300.30869 149.965345 \nL 300.152268 149.739079 \nL 299.560849 148.883588 \nL 299.009484 148.086294 \nL 298.812779 147.801832 \nL 298.064696 146.720076 \nL 297.8667 146.433725 \nL 297.316721 145.63832 \nL 296.723916 144.780977 \nL 296.56878 144.556564 \nL 295.820708 143.474808 \nL 295.581132 143.128384 \nL 295.072744 142.393052 \nL 294.438348 141.475463 \nL 294.324839 141.311296 \nL 293.576727 140.22954 \nL 293.295564 139.822894 \nL 292.828778 139.147784 \nL 292.15278 138.170091 \nL 292.080823 138.066027 \nL 291.332739 136.984271 \nL 291.009996 136.517471 \nL 290.584818 135.902515 \nL 289.867212 134.864831 \nL 289.836736 134.820759 \nL 289.088757 133.739003 \nL 288.724428 133.212092 \nL 288.340756 132.657247 \nL 287.592726 131.575491 \nL 287.581644 131.559463 \nL 286.844724 130.493735 \nL 286.43886 129.906777 \nL 286.096721 129.411979 \nL 285.348649 128.330223 \nL 285.296076 128.254191 \nL 284.600748 127.248466 \nL 284.153292 126.601475 \nL 283.852654 126.16671 \nL 283.104785 125.084954 \nL 283.010508 124.948586 \nL 282.35687 124.003198 \nL 281.867724 123.295874 \nL 281.608768 122.921442 \nL 280.860784 121.839686 \nL 280.72494 121.643229 \nL 280.112825 120.75793 \nL 279.582156 119.990426 \nL 279.364844 119.676174 \nL 278.61672 118.594418 \nL 278.439372 118.337974 \nL 277.868774 117.512662 \nL 277.296588 116.685143 \nL 277.120771 116.430905 \nL 276.372834 115.349149 \nL 276.153804 115.032401 \nL 275.624803 114.267393 \nL 275.01102 113.379777 \nL 274.876763 113.185637 \nL 274.128823 112.103881 \nL 273.868236 111.726995 \nL 273.380839 111.022125 \nL 272.725452 110.074514 \nL 272.632688 109.940369 \nL 271.884834 108.858613 \nL 271.582668 108.42167 \nL 271.136782 107.776857 \nL 270.439884 106.769154 \nL 270.388674 106.695101 \nL 269.640802 105.613345 \nL 269.2971 105.116304 \nL 268.892771 104.531588 \nL 268.154316 103.463679 \nL 268.144741 103.449832 \nL 267.39671 102.368076 \nL 267.011532 101.811055 \nL 266.648731 101.28632 \nL 265.900734 100.204564 \nL 265.868748 100.158298 \nL 265.15279 99.122808 \nL 264.725964 98.505622 \nL 264.404727 98.041052 \nL 263.6568 96.959296 \nL 263.58318 96.852819 \nL 262.908755 95.87754 \nL 262.440396 95.200177 \nL 262.16078 94.795784 \nL 261.412789 93.714027 \nL 261.297612 93.547465 \nL 260.664714 92.632271 \nL 260.154828 91.894798 \nL 259.916792 91.550515 \nL 259.16879 90.468759 \nL 259.012044 90.242123 \nL 258.420667 89.387003 \nL 257.86926 88.589505 \nL 257.672717 88.305247 \nL 256.924768 87.223491 \nL 256.726476 86.936733 \nL 256.176698 86.141735 \nL 255.583692 85.284133 \nL 255.428718 85.059979 \nL 254.680693 83.978223 \nL 254.440908 83.631409 \nL 253.932772 82.896466 \nL 253.298124 81.978643 \nL 253.184761 81.81471 \nL 252.436705 80.732954 \nL 252.15534 80.326074 \nL 251.688716 79.651198 \nL 251.012556 78.673377 \nL 250.940685 78.569442 \nL 250.192677 77.487686 \nL 249.869772 77.020753 \nL 249.444654 76.40593 \nL 248.726988 75.367786 \nL 248.696832 75.324174 \nL 247.948696 74.242418 \nL 247.584204 73.715272 \nL 247.200748 73.160662 \nL 246.452746 72.078905 \nL 246.44142 72.062524 \nL 245.704719 70.997149 \nL 245.298636 70.40983 \nL 244.956797 69.915393 \nL 244.208734 68.833637 \nL 244.155852 68.757154 \nL 243.460686 67.751881 \nL 243.013068 67.104515 \nL 242.712754 66.670125 \nL 241.964737 65.588369 \nL 241.870284 65.451796 \nL 241.216739 64.506613 \nL 240.7275 63.799131 \nL 240.46868 63.424857 \nL 239.720651 62.343101 \nL 239.584716 62.146505 \nL 238.972763 61.261345 \nL 238.441932 60.493772 \nL 238.224667 60.179588 \nL 237.476658 59.097832 \nL 237.299148 58.841098 \nL 236.728793 58.016076 \nL 236.156364 57.188323 \nL 235.980734 56.93432 \nL 235.232657 55.852564 \nL 235.01358 55.535747 \nL 234.484741 54.770808 \nL 233.870796 53.882861 \nL 233.736792 53.689052 \nL 232.988761 52.607296 \nL 232.728012 52.230257 \nL 232.240684 51.52554 \nL 231.585228 50.577489 \nL 231.492775 50.443784 \nL 230.744669 49.362027 \nL 230.442444 48.92492 \nL 229.99672 48.280271 \nL 229.29966 47.272116 \nL 229.248767 47.198515 \nL 228.500732 46.116759 \nL 228.156876 45.619493 \nL 227.752762 45.035003 \nL 227.014092 43.96686 \nL 227.004679 43.953247 \nL 226.256703 42.871491 \nL 225.871308 42.314175 \nL 225.508673 41.789735 \nL 224.760672 40.707979 \nL 224.728524 40.661489 \nL 224.012668 39.626223 \nL 223.58574 39.008803 \nL 223.264665 38.544466 \nL 222.516592 37.46271 \nL 222.442956 37.356211 \nL 221.768789 36.380954 \nL 221.300172 35.703416 \nL 221.020596 35.299198 \nL 220.272727 34.217442 \nL 220.157388 34.050627 \nL 219.524778 33.135686 \nL 219.014604 32.397983 \nL 218.776666 32.05393 \nL 218.028728 30.972174 \nL 217.87182 30.745255 \nL 217.280767 29.890418 \nL 216.729036 29.092451 \nL 216.53279 28.808662 \nL 215.784653 27.726905 \nL 215.586252 27.439999 \nL 215.036714 26.645149 \nL 214.443468 25.787172 \nL 214.288715 25.563393 \nL 213.540759 24.481637 \nL 213.300684 24.13443 \nL 212.792746 23.399881 \nL 212.1579 22.481806 \nL 212.044715 22.318125 \nL 211.015116 22.318125 \nL 209.872332 22.318125 \nL 208.729548 22.318125 \nL 207.586764 22.318125 \nL 206.44398 22.318125 \nL 205.301196 22.318125 \nL 204.158412 22.318125 \nL 203.015628 22.318125 \nL 201.872844 22.318125 \nL 200.73006 22.318125 \nL 199.587276 22.318125 \nL 198.444492 22.318125 \nL 197.301708 22.318125 \nL 196.158924 22.318125 \nL 195.01614 22.318125 \nL 193.873356 22.318125 \nL 192.730572 22.318125 \nL 191.587788 22.318125 \nL 190.445004 22.318125 \nL 189.30222 22.318125 \nL 188.159436 22.318125 \nL 187.016652 22.318125 \nL 185.873868 22.318125 \nL 184.731084 22.318125 \nL 183.5883 22.318125 \nL 182.445516 22.318125 \nL 181.302732 22.318125 \nL 180.159948 22.318125 \nL 179.017164 22.318125 \nL 177.87438 22.318125 \nL 176.731596 22.318125 \nL 175.588812 22.318125 \nL 174.446028 22.318125 \nL 173.303244 22.318125 \nL 172.16046 22.318125 \nL 171.017676 22.318125 \nL 169.874892 22.318125 \nL 168.732108 22.318125 \nL 167.589324 22.318125 \nL 166.44654 22.318125 \nL 165.303756 22.318125 \nL 164.160972 22.318125 \nL 163.018188 22.318125 \nL 161.875404 22.318125 \nL 160.73262 22.318125 \nL 159.589836 22.318125 \nL 158.447052 22.318125 \nL 157.304268 22.318125 \nL 156.161484 22.318125 \nL 155.0187 22.318125 \nL 153.875916 22.318125 \nL 152.733132 22.318125 \nL 151.590348 22.318125 \nL 150.447564 22.318125 \nL 149.30478 22.318125 \nL 148.161996 22.318125 \nL 147.019212 22.318125 \nL 145.876428 22.318125 \nL 144.733644 22.318125 \nL 144.200032 22.318125 \nL 144.733644 23.089906 \nL 144.947976 23.399881 \nL 145.696065 24.481637 \nL 145.876428 24.742493 \nL 146.444062 25.563393 \nL 147.019212 26.395253 \nL 147.191991 26.645149 \nL 147.939936 27.726905 \nL 148.161996 28.047997 \nL 148.688017 28.808662 \nL 149.30478 29.70064 \nL 149.436002 29.890418 \nL 150.184068 30.972174 \nL 150.447564 31.353248 \nL 150.932087 32.05393 \nL 151.590348 33.005959 \nL 151.680044 33.135686 \nL 152.428061 34.217442 \nL 152.733132 34.658677 \nL 153.176021 35.299198 \nL 153.875916 36.311299 \nL 153.924081 36.380954 \nL 154.671978 37.46271 \nL 155.0187 37.964149 \nL 155.42002 38.544466 \nL 156.161484 39.61664 \nL 156.16811 39.626223 \nL 156.916014 40.707979 \nL 157.304268 41.269482 \nL 157.664024 41.789735 \nL 158.412138 42.871491 \nL 158.447052 42.92199 \nL 159.160039 43.953247 \nL 159.589836 44.574766 \nL 159.908057 45.035003 \nL 160.656014 46.116759 \nL 160.73262 46.227553 \nL 161.403971 47.198515 \nL 161.875404 47.880339 \nL 162.151987 48.280271 \nL 162.900047 49.362027 \nL 163.018188 49.532893 \nL 163.648004 50.443784 \nL 164.160972 51.185679 \nL 164.395994 51.52554 \nL 165.144057 52.607296 \nL 165.303756 52.838232 \nL 165.892078 53.689052 \nL 166.44654 54.490989 \nL 166.639994 54.770808 \nL 167.387979 55.852564 \nL 167.589324 56.143743 \nL 168.136031 56.93432 \nL 168.732108 57.796383 \nL 168.884037 58.016076 \nL 169.632047 59.097832 \nL 169.874892 59.448991 \nL 170.380102 60.179588 \nL 171.017676 61.101699 \nL 171.128075 61.261345 \nL 171.876077 62.343101 \nL 172.16046 62.754413 \nL 172.624039 63.424857 \nL 173.303244 64.407039 \nL 173.372097 64.506613 \nL 174.119991 65.588369 \nL 174.446028 66.059892 \nL 174.868036 66.670125 \nL 175.588812 67.712383 \nL 175.616123 67.751881 \nL 176.364027 68.833637 \nL 176.731596 69.365225 \nL 177.112012 69.915393 \nL 177.860156 70.997149 \nL 177.87438 71.017723 \nL 178.608057 72.078905 \nL 179.017164 72.670505 \nL 179.356072 73.160662 \nL 180.104029 74.242418 \nL 180.159948 74.323292 \nL 180.851986 75.324174 \nL 181.302732 75.976079 \nL 181.600006 76.40593 \nL 182.348062 77.487686 \nL 182.445516 77.628632 \nL 183.096019 78.569442 \nL 183.5883 79.281419 \nL 183.843994 79.651198 \nL 184.592094 80.732954 \nL 184.731084 80.933972 \nL 185.340094 81.81471 \nL 185.873868 82.586725 \nL 186.088008 82.896466 \nL 186.835965 83.978223 \nL 187.016652 84.239546 \nL 187.583963 85.059979 \nL 188.159436 85.892126 \nL 188.332053 86.141735 \nL 189.079998 87.223491 \nL 189.30222 87.544886 \nL 189.827993 88.305247 \nL 190.445004 89.197459 \nL 190.576083 89.387003 \nL 191.324093 90.468759 \nL 191.587788 90.85015 \nL 192.072057 91.550515 \nL 192.730572 92.502778 \nL 192.820107 92.632271 \nL 193.568005 93.714027 \nL 193.873356 94.155634 \nL 194.316021 94.795784 \nL 195.01614 95.808133 \nL 195.064136 95.87754 \nL 195.812153 96.959296 \nL 196.158924 97.460843 \nL 196.560025 98.041052 \nL 197.301708 99.113693 \nL 197.308011 99.122808 \nL 198.056076 100.204564 \nL 198.444492 100.766301 \nL 198.804137 101.28632 \nL 199.552044 102.368076 \nL 199.587276 102.419032 \nL 200.300001 103.449832 \nL 200.73006 104.071819 \nL 201.048003 104.531588 \nL 201.796076 105.613345 \nL 201.872844 105.724372 \nL 202.544128 106.695101 \nL 203.015628 107.377072 \nL 203.29201 107.776857 \nL 204.040109 108.858613 \nL 204.158412 109.029712 \nL 204.788066 109.940369 \nL 205.301196 110.682498 \nL 205.536023 111.022125 \nL 206.28398 112.103881 \nL 206.44398 112.335235 \nL 207.032057 113.185637 \nL 207.586764 113.987869 \nL 207.780056 114.267393 \nL 208.528146 115.349149 \nL 208.729548 115.640454 \nL 209.276009 116.430905 \nL 209.872332 117.293202 \nL 210.0241 117.512662 \nL 210.772109 118.594418 \nL 211.015116 118.945886 \nL 211.520074 119.676174 \nL 212.1579 120.598518 \nL 212.268122 120.75793 \nL 213.016018 121.839686 \nL 213.300684 122.251377 \nL 213.764036 122.921442 \nL 214.443468 123.903879 \nL 214.51215 124.003198 \nL 215.260169 125.084954 \nL 215.586252 125.556579 \nL 216.008098 126.16671 \nL 216.729036 127.209427 \nL 216.756027 127.248466 \nL 217.504089 128.330223 \nL 217.87182 128.862044 \nL 218.252128 129.411979 \nL 219.000058 130.493735 \nL 219.014604 130.514771 \nL 219.748015 131.575491 \nL 220.157388 132.16743 \nL 220.496134 132.657247 \nL 221.244091 133.739003 \nL 221.300172 133.820111 \nL 221.992146 134.820759 \nL 222.442956 135.472805 \nL 222.740026 135.902515 \nL 223.488124 136.984271 \nL 223.58574 137.125451 \nL 224.236081 138.066027 \nL 224.728524 138.778238 \nL 224.984056 139.147784 \nL 225.732015 140.22954 \nL 225.871308 140.430981 \nL 226.480071 141.311296 \nL 227.014092 142.083611 \nL 227.228071 142.393052 \nL 227.976028 143.474808 \nL 228.156876 143.736365 \nL 228.724025 144.556564 \nL 229.29966 145.388945 \nL 229.472116 145.63832 \nL 230.220061 146.720076 \nL 230.442444 147.041705 \nL 230.968055 147.801832 \nL 231.585228 148.694278 \nL 231.716127 148.883588 \nL 232.464031 149.965345 \nL 232.728012 150.34712 \nL 233.212051 151.047101 \nL 233.870796 151.999626 \nL 233.960157 152.128857 \nL 234.708185 153.210613 \nL 235.01358 153.652315 \nL 235.456083 154.292369 \nL 236.156364 155.305171 \nL 236.204044 155.374125 \nL 236.952054 156.455881 \nL 237.299148 156.957787 \nL 237.700144 157.537637 \nL 238.441932 158.61051 \nL 238.448074 158.619393 \nL 239.196032 159.701149 \nL 239.584716 160.263233 \nL 239.944149 160.782905 \nL 240.692106 161.864662 \nL 240.7275 161.915851 \nL 241.440164 162.946418 \nL 241.870284 163.568538 \nL 242.18802 164.028174 \nL 242.936139 165.10993 \nL 243.013068 165.221191 \nL 243.684096 166.191686 \nL 244.155852 166.873978 \nL 244.432072 167.273442 \nL 245.18001 168.355198 \nL 245.298636 168.526727 \nL 245.92804 169.436954 \nL 246.44142 170.179391 \nL 246.676119 170.51871 \nL 247.424182 171.600466 \nL 247.584204 171.831871 \nL 248.172203 172.682223 \nL 248.726988 173.484627 \nL 248.920118 173.763979 \nL 249.668075 174.845735 \nL 249.869772 175.137444 \nL 250.416071 175.927491 \nL 251.012556 176.790021 \nL 251.16414 177.009247 \nL 251.912045 178.091003 \nL 252.15534 178.442863 \nL 252.660065 179.172759 \nL 253.298124 180.095372 \nL 253.408184 180.254515 \nL 254.156161 181.336271 \nL 254.440908 181.748052 \nL 254.904098 182.418027 \nL 255.583692 183.400911 \nL 255.65206 183.499784 \nL 256.400116 184.58154 \nL 256.726476 185.05353 \nL 257.148161 185.663296 \nL 257.86926 186.706247 \nL 257.89609 186.745052 \nL 258.6441 187.826808 \nL 259.012044 188.358863 \nL 259.392137 188.908564 \nL 260.140121 189.99032 \nL 260.154828 190.011591 \nL 260.888181 191.072076 \nL 261.297612 191.664144 \nL 261.636149 192.153832 \nL 262.384146 193.235588 \nL 262.440396 193.31693 \nL 263.132111 194.317345 \nL 263.58318 194.969717 \nL 263.880089 195.399101 \nL 264.628025 196.480857 \nL 264.725964 196.622474 \nL 265.376143 197.562613 \nL 265.868748 198.275057 \nL 266.124118 198.644369 \nL 266.872077 199.726125 \nL 267.011532 199.9278 \nL 267.620219 200.807881 \nL 268.154316 201.580364 \nL 268.368133 201.889637 \nL 269.11609 202.971393 \nL 269.2971 203.233184 \nL 269.864087 204.053149 \nL 270.439884 204.885764 \nL 270.612154 205.134905 \nL 271.360123 206.216662 \nL 271.582668 206.538524 \nL 272.108043 207.298418 \nL 272.725452 208.191138 \nL 272.85619 208.380174 \nL 273.604218 209.46193 \nL 273.868236 209.843788 \nL 274.352113 210.543686 \nL 275.01102 211.49665 \nL 275.100083 211.625442 \nL 275.848086 212.707198 \nL 276.153804 213.149273 \nL 276.596146 213.788954 \nL 277.296588 214.80199 \nL 277.344106 214.87071 \nL 278.092116 215.952466 \nL 278.439372 216.454606 \nL 278.84015 217.034223 \nL 279.582156 218.107331 \nL 279.588136 218.115979 \nL 280.336146 219.197735 \nL 280.72494 219.759939 \nL 281.084211 220.279491 \nL 281.832168 221.361247 \nL 281.867724 221.41267 \nL 282.580125 222.443003 \nL 283.010508 223.065457 \nL 283.328127 223.524759 \nL 284.076039 224.606515 \nL 284.153292 224.71822 \nL 284.824158 225.688271 \nL 285.296076 226.370797 \nL 285.572135 226.770027 \nL 286.320217 227.851784 \nL 286.43886 228.02335 \nL 287.068191 228.93354 \nL 287.581644 229.676137 \nL 287.816148 230.015296 \nL 288.564105 231.097052 \nL 288.724428 231.328873 \nL 289.312182 232.178808 \nL 289.867212 232.981507 \nL 290.060181 233.260564 \nL 290.808138 234.34232 \nL 291.009996 234.634263 \nL 291.556134 235.424076 \nL 292.15278 236.28684 \nL 292.304203 236.505832 \nL 293.052234 237.587588 \nL 293.295564 237.939524 \nL 293.800199 238.669345 \nL 294.438348 239.592356 \nL 294.5481 239.751101 \nL 295.296102 240.832857 \nL 295.581132 241.245015 \nL 296.04416 241.914613 \nL 296.723916 242.89773 \nL 296.792122 242.996369 \nL 297.540132 244.078125 \nL 297.8667 244.550349 \nL 298.288163 245.159881 \nL 299.009484 246.203074 \nL 299.036148 246.241637 \nL 299.784162 247.323393 \nL 300.152268 247.855682 \nL 300.532199 248.405149 \nL 301.280183 249.486905 \nL 301.295052 249.508414 \nL 302.028082 250.568662 \nL 302.437836 251.161069 \nL 302.776259 251.650418 \nL 303.524054 252.732174 \nL 303.58062 252.813966 \nL 304.272173 253.81393 \nL 304.723404 254.466536 \nL 305.020151 254.895686 \nL 305.768235 255.977442 \nL 305.866188 256.119089 \nL 306.516206 257.059198 \nL 307.008972 257.771876 \nL 307.264145 258.140954 \nL 308.01212 259.22271 \nL 308.151756 259.424663 \nL 308.76012 260.304466 \nL 309.29454 261.077417 \nL 309.508064 261.386223 \nL 310.256153 262.467979 \nL 310.437324 262.730003 \nL 311.00407 263.549735 \nL 311.580108 264.382817 \nL 311.752103 264.631491 \nL 312.500185 265.713247 \nL 312.722892 266.035343 \nL 313.24818 266.795003 \nL 313.865676 267.688109 \nL 313.996109 267.876759 \nL 314.744156 268.958515 \nL 315.00846 269.340758 \nL 315.492175 270.040271 \nL 316.151244 270.99347 \nL 316.240132 271.122027 \nL 316.988149 272.203784 \nL 317.294028 272.646092 \nL 317.736146 273.28554 \nL 318.436812 274.298824 \nL 318.484162 274.367296 \nL 319.232178 275.449052 \nL 319.579596 275.951425 \nL 319.980213 276.530808 \nL 320.72238 277.60415 \nL 320.728198 277.612564 \nL 321.476102 278.69432 \nL 321.865164 279.256992 \nL 322.224163 279.776076 \nL 322.972074 280.857832 \nL 323.007948 280.909723 \nL 323.720127 281.939588 \nL 324.150732 282.562276 \nL 324.468145 283.021345 \nL 325.216102 284.103101 \nL 325.293516 284.215039 \nL 325.964221 285.184857 \nL 326.4363 285.867616 \nL 326.712158 286.266613 \nL 327.460135 287.348369 \nz\n\" clip-path=\"url(#pd5b7aef74c)\" style=\"fill: #8e1d5b; fill-opacity: 0.8\"/>\n   </g>\n   <g id=\"PathCollection_4\">\n    <path d=\"M 260.154828 288.128377 \nL 260.363455 288.430125 \nL 261.297612 288.430125 \nL 262.440396 288.430125 \nL 263.58318 288.430125 \nL 264.725964 288.430125 \nL 265.868748 288.430125 \nL 267.011532 288.430125 \nL 268.154316 288.430125 \nL 269.2971 288.430125 \nL 270.439884 288.430125 \nL 271.582668 288.430125 \nL 272.725452 288.430125 \nL 273.868236 288.430125 \nL 275.01102 288.430125 \nL 276.153804 288.430125 \nL 277.296588 288.430125 \nL 278.439372 288.430125 \nL 279.582156 288.430125 \nL 280.72494 288.430125 \nL 281.867724 288.430125 \nL 283.010508 288.430125 \nL 284.153292 288.430125 \nL 285.296076 288.430125 \nL 286.43886 288.430125 \nL 287.581644 288.430125 \nL 288.724428 288.430125 \nL 289.867212 288.430125 \nL 291.009996 288.430125 \nL 292.15278 288.430125 \nL 293.295564 288.430125 \nL 294.438348 288.430125 \nL 295.581132 288.430125 \nL 296.723916 288.430125 \nL 297.8667 288.430125 \nL 299.009484 288.430125 \nL 300.152268 288.430125 \nL 301.295052 288.430125 \nL 302.437836 288.430125 \nL 303.58062 288.430125 \nL 304.723404 288.430125 \nL 305.866188 288.430125 \nL 307.008972 288.430125 \nL 308.151756 288.430125 \nL 309.29454 288.430125 \nL 310.437324 288.430125 \nL 311.580108 288.430125 \nL 312.722892 288.430125 \nL 313.865676 288.430125 \nL 315.00846 288.430125 \nL 316.151244 288.430125 \nL 317.294028 288.430125 \nL 318.436812 288.430125 \nL 319.579596 288.430125 \nL 320.72238 288.430125 \nL 321.865164 288.430125 \nL 323.007948 288.430125 \nL 324.150732 288.430125 \nL 325.293516 288.430125 \nL 326.4363 288.430125 \nL 327.579084 288.430125 \nL 328.208092 288.430125 \nL 327.579084 287.520403 \nL 327.460135 287.348369 \nL 326.712158 286.266613 \nL 326.4363 285.867616 \nL 325.964221 285.184857 \nL 325.293516 284.215039 \nL 325.216102 284.103101 \nL 324.468145 283.021345 \nL 324.150732 282.562276 \nL 323.720127 281.939588 \nL 323.007948 280.909723 \nL 322.972074 280.857832 \nL 322.224163 279.776076 \nL 321.865164 279.256992 \nL 321.476102 278.69432 \nL 320.728198 277.612564 \nL 320.72238 277.60415 \nL 319.980213 276.530808 \nL 319.579596 275.951425 \nL 319.232178 275.449052 \nL 318.484162 274.367296 \nL 318.436812 274.298824 \nL 317.736146 273.28554 \nL 317.294028 272.646092 \nL 316.988149 272.203784 \nL 316.240132 271.122027 \nL 316.151244 270.99347 \nL 315.492175 270.040271 \nL 315.00846 269.340758 \nL 314.744156 268.958515 \nL 313.996109 267.876759 \nL 313.865676 267.688109 \nL 313.24818 266.795003 \nL 312.722892 266.035343 \nL 312.500185 265.713247 \nL 311.752103 264.631491 \nL 311.580108 264.382817 \nL 311.00407 263.549735 \nL 310.437324 262.730003 \nL 310.256153 262.467979 \nL 309.508064 261.386223 \nL 309.29454 261.077417 \nL 308.76012 260.304466 \nL 308.151756 259.424663 \nL 308.01212 259.22271 \nL 307.264145 258.140954 \nL 307.008972 257.771876 \nL 306.516206 257.059198 \nL 305.866188 256.119089 \nL 305.768235 255.977442 \nL 305.020151 254.895686 \nL 304.723404 254.466536 \nL 304.272173 253.81393 \nL 303.58062 252.813966 \nL 303.524054 252.732174 \nL 302.776259 251.650418 \nL 302.437836 251.161069 \nL 302.028082 250.568662 \nL 301.295052 249.508414 \nL 301.280183 249.486905 \nL 300.532199 248.405149 \nL 300.152268 247.855682 \nL 299.784162 247.323393 \nL 299.036148 246.241637 \nL 299.009484 246.203074 \nL 298.288163 245.159881 \nL 297.8667 244.550349 \nL 297.540132 244.078125 \nL 296.792122 242.996369 \nL 296.723916 242.89773 \nL 296.04416 241.914613 \nL 295.581132 241.245015 \nL 295.296102 240.832857 \nL 294.5481 239.751101 \nL 294.438348 239.592356 \nL 293.800199 238.669345 \nL 293.295564 237.939524 \nL 293.052234 237.587588 \nL 292.304203 236.505832 \nL 292.15278 236.28684 \nL 291.556134 235.424076 \nL 291.009996 234.634263 \nL 290.808138 234.34232 \nL 290.060181 233.260564 \nL 289.867212 232.981507 \nL 289.312182 232.178808 \nL 288.724428 231.328873 \nL 288.564105 231.097052 \nL 287.816148 230.015296 \nL 287.581644 229.676137 \nL 287.068191 228.93354 \nL 286.43886 228.02335 \nL 286.320217 227.851784 \nL 285.572135 226.770027 \nL 285.296076 226.370797 \nL 284.824158 225.688271 \nL 284.153292 224.71822 \nL 284.076039 224.606515 \nL 283.328127 223.524759 \nL 283.010508 223.065457 \nL 282.580125 222.443003 \nL 281.867724 221.41267 \nL 281.832168 221.361247 \nL 281.084211 220.279491 \nL 280.72494 219.759939 \nL 280.336146 219.197735 \nL 279.588136 218.115979 \nL 279.582156 218.107331 \nL 278.84015 217.034223 \nL 278.439372 216.454606 \nL 278.092116 215.952466 \nL 277.344106 214.87071 \nL 277.296588 214.80199 \nL 276.596146 213.788954 \nL 276.153804 213.149273 \nL 275.848086 212.707198 \nL 275.100083 211.625442 \nL 275.01102 211.49665 \nL 274.352113 210.543686 \nL 273.868236 209.843788 \nL 273.604218 209.46193 \nL 272.85619 208.380174 \nL 272.725452 208.191138 \nL 272.108043 207.298418 \nL 271.582668 206.538524 \nL 271.360123 206.216662 \nL 270.612154 205.134905 \nL 270.439884 204.885764 \nL 269.864087 204.053149 \nL 269.2971 203.233184 \nL 269.11609 202.971393 \nL 268.368133 201.889637 \nL 268.154316 201.580364 \nL 267.620219 200.807881 \nL 267.011532 199.9278 \nL 266.872077 199.726125 \nL 266.124118 198.644369 \nL 265.868748 198.275057 \nL 265.376143 197.562613 \nL 264.725964 196.622474 \nL 264.628025 196.480857 \nL 263.880089 195.399101 \nL 263.58318 194.969717 \nL 263.132111 194.317345 \nL 262.440396 193.31693 \nL 262.384146 193.235588 \nL 261.636149 192.153832 \nL 261.297612 191.664144 \nL 260.888181 191.072076 \nL 260.154828 190.011591 \nL 260.140121 189.99032 \nL 259.392137 188.908564 \nL 259.012044 188.358863 \nL 258.6441 187.826808 \nL 257.89609 186.745052 \nL 257.86926 186.706247 \nL 257.148161 185.663296 \nL 256.726476 185.05353 \nL 256.400116 184.58154 \nL 255.65206 183.499784 \nL 255.583692 183.400911 \nL 254.904098 182.418027 \nL 254.440908 181.748052 \nL 254.156161 181.336271 \nL 253.408184 180.254515 \nL 253.298124 180.095372 \nL 252.660065 179.172759 \nL 252.15534 178.442863 \nL 251.912045 178.091003 \nL 251.16414 177.009247 \nL 251.012556 176.790021 \nL 250.416071 175.927491 \nL 249.869772 175.137444 \nL 249.668075 174.845735 \nL 248.920118 173.763979 \nL 248.726988 173.484627 \nL 248.172203 172.682223 \nL 247.584204 171.831871 \nL 247.424182 171.600466 \nL 246.676119 170.51871 \nL 246.44142 170.179391 \nL 245.92804 169.436954 \nL 245.298636 168.526727 \nL 245.18001 168.355198 \nL 244.432072 167.273442 \nL 244.155852 166.873978 \nL 243.684096 166.191686 \nL 243.013068 165.221191 \nL 242.936139 165.10993 \nL 242.18802 164.028174 \nL 241.870284 163.568538 \nL 241.440164 162.946418 \nL 240.7275 161.915851 \nL 240.692106 161.864662 \nL 239.944149 160.782905 \nL 239.584716 160.263233 \nL 239.196032 159.701149 \nL 238.448074 158.619393 \nL 238.441932 158.61051 \nL 237.700144 157.537637 \nL 237.299148 156.957787 \nL 236.952054 156.455881 \nL 236.204044 155.374125 \nL 236.156364 155.305171 \nL 235.456083 154.292369 \nL 235.01358 153.652315 \nL 234.708185 153.210613 \nL 233.960157 152.128857 \nL 233.870796 151.999626 \nL 233.212051 151.047101 \nL 232.728012 150.34712 \nL 232.464031 149.965345 \nL 231.716127 148.883588 \nL 231.585228 148.694278 \nL 230.968055 147.801832 \nL 230.442444 147.041705 \nL 230.220061 146.720076 \nL 229.472116 145.63832 \nL 229.29966 145.388945 \nL 228.724025 144.556564 \nL 228.156876 143.736365 \nL 227.976028 143.474808 \nL 227.228071 142.393052 \nL 227.014092 142.083611 \nL 226.480071 141.311296 \nL 225.871308 140.430981 \nL 225.732015 140.22954 \nL 224.984056 139.147784 \nL 224.728524 138.778238 \nL 224.236081 138.066027 \nL 223.58574 137.125451 \nL 223.488124 136.984271 \nL 222.740026 135.902515 \nL 222.442956 135.472805 \nL 221.992146 134.820759 \nL 221.300172 133.820111 \nL 221.244091 133.739003 \nL 220.496134 132.657247 \nL 220.157388 132.16743 \nL 219.748015 131.575491 \nL 219.014604 130.514771 \nL 219.000058 130.493735 \nL 218.252128 129.411979 \nL 217.87182 128.862044 \nL 217.504089 128.330223 \nL 216.756027 127.248466 \nL 216.729036 127.209427 \nL 216.008098 126.16671 \nL 215.586252 125.556579 \nL 215.260169 125.084954 \nL 214.51215 124.003198 \nL 214.443468 123.903879 \nL 213.764036 122.921442 \nL 213.300684 122.251377 \nL 213.016018 121.839686 \nL 212.268122 120.75793 \nL 212.1579 120.598518 \nL 211.520074 119.676174 \nL 211.015116 118.945886 \nL 210.772109 118.594418 \nL 210.0241 117.512662 \nL 209.872332 117.293202 \nL 209.276009 116.430905 \nL 208.729548 115.640454 \nL 208.528146 115.349149 \nL 207.780056 114.267393 \nL 207.586764 113.987869 \nL 207.032057 113.185637 \nL 206.44398 112.335235 \nL 206.28398 112.103881 \nL 205.536023 111.022125 \nL 205.301196 110.682498 \nL 204.788066 109.940369 \nL 204.158412 109.029712 \nL 204.040109 108.858613 \nL 203.29201 107.776857 \nL 203.015628 107.377072 \nL 202.544128 106.695101 \nL 201.872844 105.724372 \nL 201.796076 105.613345 \nL 201.048003 104.531588 \nL 200.73006 104.071819 \nL 200.300001 103.449832 \nL 199.587276 102.419032 \nL 199.552044 102.368076 \nL 198.804137 101.28632 \nL 198.444492 100.766301 \nL 198.056076 100.204564 \nL 197.308011 99.122808 \nL 197.301708 99.113693 \nL 196.560025 98.041052 \nL 196.158924 97.460843 \nL 195.812153 96.959296 \nL 195.064136 95.87754 \nL 195.01614 95.808133 \nL 194.316021 94.795784 \nL 193.873356 94.155634 \nL 193.568005 93.714027 \nL 192.820107 92.632271 \nL 192.730572 92.502778 \nL 192.072057 91.550515 \nL 191.587788 90.85015 \nL 191.324093 90.468759 \nL 190.576083 89.387003 \nL 190.445004 89.197459 \nL 189.827993 88.305247 \nL 189.30222 87.544886 \nL 189.079998 87.223491 \nL 188.332053 86.141735 \nL 188.159436 85.892126 \nL 187.583963 85.059979 \nL 187.016652 84.239546 \nL 186.835965 83.978223 \nL 186.088008 82.896466 \nL 185.873868 82.586725 \nL 185.340094 81.81471 \nL 184.731084 80.933972 \nL 184.592094 80.732954 \nL 183.843994 79.651198 \nL 183.5883 79.281419 \nL 183.096019 78.569442 \nL 182.445516 77.628632 \nL 182.348062 77.487686 \nL 181.600006 76.40593 \nL 181.302732 75.976079 \nL 180.851986 75.324174 \nL 180.159948 74.323292 \nL 180.104029 74.242418 \nL 179.356072 73.160662 \nL 179.017164 72.670505 \nL 178.608057 72.078905 \nL 177.87438 71.017723 \nL 177.860156 70.997149 \nL 177.112012 69.915393 \nL 176.731596 69.365225 \nL 176.364027 68.833637 \nL 175.616123 67.751881 \nL 175.588812 67.712383 \nL 174.868036 66.670125 \nL 174.446028 66.059892 \nL 174.119991 65.588369 \nL 173.372097 64.506613 \nL 173.303244 64.407039 \nL 172.624039 63.424857 \nL 172.16046 62.754413 \nL 171.876077 62.343101 \nL 171.128075 61.261345 \nL 171.017676 61.101699 \nL 170.380102 60.179588 \nL 169.874892 59.448991 \nL 169.632047 59.097832 \nL 168.884037 58.016076 \nL 168.732108 57.796383 \nL 168.136031 56.93432 \nL 167.589324 56.143743 \nL 167.387979 55.852564 \nL 166.639994 54.770808 \nL 166.44654 54.490989 \nL 165.892078 53.689052 \nL 165.303756 52.838232 \nL 165.144057 52.607296 \nL 164.395994 51.52554 \nL 164.160972 51.185679 \nL 163.648004 50.443784 \nL 163.018188 49.532893 \nL 162.900047 49.362027 \nL 162.151987 48.280271 \nL 161.875404 47.880339 \nL 161.403971 47.198515 \nL 160.73262 46.227553 \nL 160.656014 46.116759 \nL 159.908057 45.035003 \nL 159.589836 44.574766 \nL 159.160039 43.953247 \nL 158.447052 42.92199 \nL 158.412138 42.871491 \nL 157.664024 41.789735 \nL 157.304268 41.269482 \nL 156.916014 40.707979 \nL 156.16811 39.626223 \nL 156.161484 39.61664 \nL 155.42002 38.544466 \nL 155.0187 37.964149 \nL 154.671978 37.46271 \nL 153.924081 36.380954 \nL 153.875916 36.311299 \nL 153.176021 35.299198 \nL 152.733132 34.658677 \nL 152.428061 34.217442 \nL 151.680044 33.135686 \nL 151.590348 33.005959 \nL 150.932087 32.05393 \nL 150.447564 31.353248 \nL 150.184068 30.972174 \nL 149.436002 29.890418 \nL 149.30478 29.70064 \nL 148.688017 28.808662 \nL 148.161996 28.047997 \nL 147.939936 27.726905 \nL 147.191991 26.645149 \nL 147.019212 26.395253 \nL 146.444062 25.563393 \nL 145.876428 24.742493 \nL 145.696065 24.481637 \nL 144.947976 23.399881 \nL 144.733644 23.089906 \nL 144.200032 22.318125 \nL 143.59086 22.318125 \nL 142.448076 22.318125 \nL 141.305292 22.318125 \nL 140.162508 22.318125 \nL 139.019724 22.318125 \nL 137.87694 22.318125 \nL 136.734156 22.318125 \nL 135.591372 22.318125 \nL 134.448588 22.318125 \nL 133.305804 22.318125 \nL 132.16302 22.318125 \nL 131.020236 22.318125 \nL 129.877452 22.318125 \nL 128.734668 22.318125 \nL 127.591884 22.318125 \nL 126.4491 22.318125 \nL 125.306316 22.318125 \nL 124.163532 22.318125 \nL 123.020748 22.318125 \nL 121.877964 22.318125 \nL 120.73518 22.318125 \nL 119.592396 22.318125 \nL 118.449612 22.318125 \nL 117.306828 22.318125 \nL 116.164044 22.318125 \nL 115.02126 22.318125 \nL 113.878476 22.318125 \nL 112.735692 22.318125 \nL 111.592908 22.318125 \nL 110.450124 22.318125 \nL 109.30734 22.318125 \nL 108.164556 22.318125 \nL 107.021772 22.318125 \nL 105.878988 22.318125 \nL 104.736204 22.318125 \nL 103.59342 22.318125 \nL 102.450636 22.318125 \nL 101.307852 22.318125 \nL 100.165068 22.318125 \nL 99.022284 22.318125 \nL 97.8795 22.318125 \nL 96.736716 22.318125 \nL 95.593932 22.318125 \nL 94.451148 22.318125 \nL 93.308364 22.318125 \nL 92.16558 22.318125 \nL 91.022796 22.318125 \nL 89.880012 22.318125 \nL 88.737228 22.318125 \nL 87.594444 22.318125 \nL 86.45166 22.318125 \nL 85.308876 22.318125 \nL 84.166092 22.318125 \nL 83.023308 22.318125 \nL 81.880524 22.318125 \nL 80.73774 22.318125 \nL 79.594956 22.318125 \nL 78.452172 22.318125 \nL 77.309388 22.318125 \nL 76.355302 22.318125 \nL 77.103385 23.399881 \nL 77.309388 23.697833 \nL 77.851307 24.481637 \nL 78.452172 25.35051 \nL 78.59937 25.563393 \nL 79.347312 26.645149 \nL 79.594956 27.003251 \nL 80.095396 27.726905 \nL 80.73774 28.655758 \nL 80.843464 28.808662 \nL 81.591401 29.890418 \nL 81.880524 30.30859 \nL 82.339322 30.972174 \nL 83.023308 31.961241 \nL 83.087397 32.05393 \nL 83.835328 33.135686 \nL 84.166092 33.613983 \nL 84.583411 34.217442 \nL 85.308876 35.266717 \nL 85.331333 35.299198 \nL 86.079416 36.380954 \nL 86.45166 36.919348 \nL 86.827338 37.46271 \nL 87.575422 38.544466 \nL 87.594444 38.571979 \nL 88.323343 39.626223 \nL 88.737228 40.224715 \nL 89.071379 40.707979 \nL 89.819348 41.789735 \nL 89.880012 41.877456 \nL 90.567335 42.871491 \nL 91.022796 43.530198 \nL 91.315354 43.953247 \nL 92.063437 45.035003 \nL 92.16558 45.182737 \nL 92.811359 46.116759 \nL 93.308364 46.835446 \nL 93.559407 47.198515 \nL 94.307364 48.280271 \nL 94.451148 48.488188 \nL 95.055362 49.362027 \nL 95.593932 50.140929 \nL 95.803369 50.443784 \nL 96.551427 51.52554 \nL 96.736716 51.793495 \nL 97.299374 52.607296 \nL 97.8795 53.44636 \nL 98.047296 53.689052 \nL 98.79538 54.770808 \nL 99.022284 55.098991 \nL 99.543301 55.852564 \nL 100.165068 56.751661 \nL 100.291385 56.93432 \nL 101.039344 58.016076 \nL 101.307852 58.404403 \nL 101.78739 59.097832 \nL 102.450636 60.05691 \nL 102.535462 60.179588 \nL 103.283395 61.261345 \nL 103.59342 61.709748 \nL 104.031317 62.343101 \nL 104.736204 63.362393 \nL 104.7794 63.424857 \nL 105.527434 64.506613 \nL 105.878988 65.01501 \nL 106.275406 65.588369 \nL 107.021772 66.667875 \nL 107.023327 66.670125 \nL 107.771411 67.751881 \nL 108.164556 68.320506 \nL 108.519332 68.833637 \nL 109.26741 69.915393 \nL 109.30734 69.973137 \nL 110.015338 70.997149 \nL 110.450124 71.625866 \nL 110.763421 72.078905 \nL 111.511343 73.160662 \nL 111.592908 73.278607 \nL 112.259332 74.242418 \nL 112.735692 74.931349 \nL 113.007348 75.324174 \nL 113.755432 76.40593 \nL 113.878476 76.583895 \nL 114.503353 77.487686 \nL 115.02126 78.236598 \nL 115.251404 78.569442 \nL 115.999497 79.651198 \nL 116.164044 79.889156 \nL 116.747442 80.732954 \nL 117.306828 81.542022 \nL 117.495364 81.81471 \nL 118.243447 82.896466 \nL 118.449612 83.194652 \nL 118.991369 83.978223 \nL 119.592396 84.847518 \nL 119.73929 85.059979 \nL 120.487374 86.141735 \nL 120.73518 86.500071 \nL 121.235458 87.223491 \nL 121.877964 88.152779 \nL 121.983379 88.305247 \nL 122.731301 89.387003 \nL 123.020748 89.805554 \nL 123.479384 90.468759 \nL 124.163532 91.458061 \nL 124.227459 91.550515 \nL 124.97539 92.632271 \nL 125.306316 93.110803 \nL 125.723473 93.714027 \nL 126.4491 94.763537 \nL 126.471395 94.795784 \nL 127.219426 95.87754 \nL 127.591884 96.416168 \nL 127.9674 96.959296 \nL 128.715481 98.041052 \nL 128.734668 98.068799 \nL 129.463405 99.122808 \nL 129.877452 99.721664 \nL 130.211327 100.204564 \nL 130.95941 101.28632 \nL 131.020236 101.374276 \nL 131.707397 102.368076 \nL 132.16302 103.027017 \nL 132.455416 103.449832 \nL 133.203337 104.531588 \nL 133.305804 104.679759 \nL 133.951421 105.613345 \nL 134.448588 106.332422 \nL 134.699342 106.695101 \nL 135.447426 107.776857 \nL 135.591372 107.985053 \nL 136.195348 108.858613 \nL 136.734156 109.637749 \nL 136.943431 109.940369 \nL 137.691489 111.022125 \nL 137.87694 111.290314 \nL 138.439436 112.103881 \nL 139.019724 112.943179 \nL 139.187358 113.185637 \nL 139.935442 114.267393 \nL 140.162508 114.59581 \nL 140.683363 115.349149 \nL 141.305292 116.248481 \nL 141.431447 116.430905 \nL 142.179368 117.512662 \nL 142.448076 117.901222 \nL 142.927384 118.594418 \nL 143.59086 119.553964 \nL 143.675374 119.676174 \nL 144.423413 120.75793 \nL 144.733644 121.206568 \nL 145.171379 121.839686 \nL 145.876428 122.859212 \nL 145.919462 122.921442 \nL 146.667384 124.003198 \nL 147.019212 124.511954 \nL 147.415468 125.084954 \nL 148.161996 126.164695 \nL 148.163389 126.16671 \nL 148.911473 127.248466 \nL 149.30478 127.817326 \nL 149.659394 128.330223 \nL 150.407472 129.411979 \nL 150.447564 129.469957 \nL 151.1554 130.493735 \nL 151.590348 131.122686 \nL 151.903439 131.575491 \nL 152.651405 132.657247 \nL 152.733132 132.775453 \nL 153.399326 133.739003 \nL 153.875916 134.428169 \nL 154.14741 134.820759 \nL 154.895332 135.902515 \nL 155.0187 136.08091 \nL 155.643415 136.984271 \nL 156.161484 137.733417 \nL 156.391466 138.066027 \nL 157.13942 139.147784 \nL 157.304268 139.386159 \nL 157.887421 140.22954 \nL 158.447052 141.0389 \nL 158.635426 141.311296 \nL 159.383509 142.393052 \nL 159.589836 142.691472 \nL 160.131431 143.474808 \nL 160.73262 144.344337 \nL 160.879352 144.556564 \nL 161.627436 145.63832 \nL 161.875404 145.996968 \nL 162.375358 146.720076 \nL 163.018188 147.649632 \nL 163.123441 147.801832 \nL 163.871363 148.883588 \nL 164.160972 149.302374 \nL 164.619446 149.965345 \nL 165.303756 150.955095 \nL 165.367368 151.047101 \nL 166.115452 152.128857 \nL 166.44654 152.607726 \nL 166.863373 153.210613 \nL 167.589324 154.260364 \nL 167.611454 154.292369 \nL 168.359488 155.374125 \nL 168.732108 155.912988 \nL 169.107462 156.455881 \nL 169.855384 157.537637 \nL 169.874892 157.565847 \nL 170.603467 158.619393 \nL 171.017676 159.218484 \nL 171.351389 159.701149 \nL 172.099472 160.782905 \nL 172.16046 160.871115 \nL 172.847394 161.864662 \nL 173.303244 162.523837 \nL 173.595478 162.946418 \nL 174.343399 164.028174 \nL 174.446028 164.176578 \nL 175.091391 165.10993 \nL 175.588812 165.82932 \nL 175.839404 166.191686 \nL 176.587488 167.273442 \nL 176.731596 167.481872 \nL 177.33541 168.355198 \nL 177.87438 169.134569 \nL 178.083493 169.436954 \nL 178.831415 170.51871 \nL 179.017164 170.78731 \nL 179.579419 171.600466 \nL 180.159948 172.440052 \nL 180.32742 172.682223 \nL 181.075471 173.763979 \nL 181.302732 174.09263 \nL 181.823425 174.845735 \nL 182.445516 175.7453 \nL 182.571491 175.927491 \nL 183.31943 177.009247 \nL 183.5883 177.398042 \nL 184.067446 178.091003 \nL 184.731084 179.050783 \nL 184.815436 179.172759 \nL 185.563357 180.254515 \nL 185.873868 180.703525 \nL 186.311441 181.336271 \nL 187.016652 182.356253 \nL 187.059362 182.418027 \nL 187.807446 183.499784 \nL 188.159436 184.008774 \nL 188.55553 184.58154 \nL 189.30222 185.661515 \nL 189.303451 185.663296 \nL 190.051479 186.745052 \nL 190.445004 187.314146 \nL 190.799456 187.826808 \nL 191.547378 188.908564 \nL 191.587788 188.966998 \nL 192.295462 189.99032 \nL 192.730572 190.619642 \nL 193.043383 191.072076 \nL 193.791467 192.153832 \nL 193.873356 192.272272 \nL 194.539388 193.235588 \nL 195.01614 193.924988 \nL 195.287472 194.317345 \nL 196.035394 195.399101 \nL 196.158924 195.57773 \nL 196.783477 196.480857 \nL 197.301708 197.230399 \nL 197.531399 197.562613 \nL 198.279482 198.644369 \nL 198.444492 198.88303 \nL 199.027404 199.726125 \nL 199.587276 200.53572 \nL 199.775488 200.807881 \nL 200.523571 201.889637 \nL 200.73006 202.188292 \nL 201.271416 202.971393 \nL 201.872844 203.841203 \nL 202.019414 204.053149 \nL 202.767463 205.134905 \nL 203.015628 205.493788 \nL 203.51542 206.216662 \nL 204.158412 207.146452 \nL 204.263503 207.298418 \nL 205.011425 208.380174 \nL 205.301196 208.799193 \nL 205.759443 209.46193 \nL 206.44398 210.451935 \nL 206.50743 210.543686 \nL 207.255399 211.625442 \nL 207.586764 212.104676 \nL 208.003435 212.707198 \nL 208.729548 213.757411 \nL 208.751357 213.788954 \nL 209.49944 214.87071 \nL 209.872332 215.409925 \nL 210.247471 215.952466 \nL 210.995446 217.034223 \nL 211.015116 217.062666 \nL 211.743529 218.115979 \nL 212.1579 218.715303 \nL 212.491451 219.197735 \nL 213.239534 220.279491 \nL 213.300684 220.367934 \nL 213.987456 221.361247 \nL 214.443468 222.020657 \nL 214.73554 222.443003 \nL 215.483461 223.524759 \nL 215.586252 223.673398 \nL 216.231453 224.606515 \nL 216.729036 225.32614 \nL 216.979466 225.688271 \nL 217.727408 226.770027 \nL 217.87182 226.978881 \nL 218.475472 227.851784 \nL 219.014604 228.631557 \nL 219.223393 228.93354 \nL 219.97145 230.015296 \nL 220.157388 230.28413 \nL 220.719481 231.097052 \nL 221.300172 231.936871 \nL 221.467482 232.178808 \nL 222.215533 233.260564 \nL 222.442956 233.58945 \nL 222.963413 234.34232 \nL 223.58574 235.242354 \nL 223.711409 235.424076 \nL 224.459492 236.505832 \nL 224.728524 236.894862 \nL 225.207508 237.587588 \nL 225.871308 238.547603 \nL 225.955486 238.669345 \nL 226.703419 239.751101 \nL 227.014092 240.200345 \nL 227.451503 240.832857 \nL 228.156876 241.853073 \nL 228.199424 241.914613 \nL 228.947508 242.996369 \nL 229.29966 243.505704 \nL 229.69543 244.078125 \nL 230.442444 245.158569 \nL 230.443351 245.159881 \nL 231.191435 246.241637 \nL 231.585228 246.811076 \nL 231.939468 247.323393 \nL 232.68744 248.405149 \nL 232.728012 248.463818 \nL 233.435524 249.486905 \nL 233.870796 250.116461 \nL 234.183445 250.568662 \nL 234.931529 251.650418 \nL 235.01358 251.769092 \nL 235.67945 252.732174 \nL 236.156364 253.421808 \nL 236.427534 253.81393 \nL 237.175456 254.895686 \nL 237.299148 255.074549 \nL 237.923451 255.977442 \nL 238.441932 256.727291 \nL 238.671461 257.059198 \nL 239.419544 258.140954 \nL 239.584716 258.37985 \nL 240.167466 259.22271 \nL 240.7275 260.03254 \nL 240.915523 260.304466 \nL 241.663471 261.386223 \nL 241.870284 261.685281 \nL 242.411478 262.467979 \nL 243.013068 263.338023 \nL 243.159476 263.549735 \nL 243.907525 264.631491 \nL 244.155852 264.990608 \nL 244.655411 265.713247 \nL 245.298636 266.643304 \nL 245.40355 266.795003 \nL 246.151487 267.876759 \nL 246.44142 268.296013 \nL 246.899505 268.958515 \nL 247.584204 269.948754 \nL 247.647483 270.040271 \nL 248.395414 271.122027 \nL 248.726988 271.601496 \nL 249.143497 272.203784 \nL 249.869772 273.254231 \nL 249.891419 273.28554 \nL 250.639502 274.367296 \nL 251.012556 274.906745 \nL 251.387533 275.449052 \nL 252.135348 276.530808 \nL 252.15534 276.55972 \nL 252.883429 277.612564 \nL 253.298124 278.212228 \nL 253.631465 278.69432 \nL 254.379588 279.776076 \nL 254.440908 279.864754 \nL 255.127518 280.857832 \nL 255.583692 281.517619 \nL 255.875439 281.939588 \nL 256.623523 283.021345 \nL 256.726476 283.170218 \nL 257.371515 284.103101 \nL 257.86926 284.822959 \nL 258.119493 285.184857 \nL 258.86745 286.266613 \nL 259.012044 286.475701 \nL 259.615534 287.348369 \nz\n\" clip-path=\"url(#pd5b7aef74c)\" style=\"fill: #ca1a50; fill-opacity: 0.8\"/>\n   </g>\n   <g id=\"PathCollection_5\">\n    <path d=\"M 191.587788 287.577563 \nL 192.177334 288.430125 \nL 192.730572 288.430125 \nL 193.873356 288.430125 \nL 195.01614 288.430125 \nL 196.158924 288.430125 \nL 197.301708 288.430125 \nL 198.444492 288.430125 \nL 199.587276 288.430125 \nL 200.73006 288.430125 \nL 201.872844 288.430125 \nL 203.015628 288.430125 \nL 204.158412 288.430125 \nL 205.301196 288.430125 \nL 206.44398 288.430125 \nL 207.586764 288.430125 \nL 208.729548 288.430125 \nL 209.872332 288.430125 \nL 211.015116 288.430125 \nL 212.1579 288.430125 \nL 213.300684 288.430125 \nL 214.443468 288.430125 \nL 215.586252 288.430125 \nL 216.729036 288.430125 \nL 217.87182 288.430125 \nL 219.014604 288.430125 \nL 220.157388 288.430125 \nL 221.300172 288.430125 \nL 222.442956 288.430125 \nL 223.58574 288.430125 \nL 224.728524 288.430125 \nL 225.871308 288.430125 \nL 227.014092 288.430125 \nL 228.156876 288.430125 \nL 229.29966 288.430125 \nL 230.442444 288.430125 \nL 231.585228 288.430125 \nL 232.728012 288.430125 \nL 233.870796 288.430125 \nL 235.01358 288.430125 \nL 236.156364 288.430125 \nL 237.299148 288.430125 \nL 238.441932 288.430125 \nL 239.584716 288.430125 \nL 240.7275 288.430125 \nL 241.870284 288.430125 \nL 243.013068 288.430125 \nL 244.155852 288.430125 \nL 245.298636 288.430125 \nL 246.44142 288.430125 \nL 247.584204 288.430125 \nL 248.726988 288.430125 \nL 249.869772 288.430125 \nL 251.012556 288.430125 \nL 252.15534 288.430125 \nL 253.298124 288.430125 \nL 254.440908 288.430125 \nL 255.583692 288.430125 \nL 256.726476 288.430125 \nL 257.86926 288.430125 \nL 259.012044 288.430125 \nL 260.154828 288.430125 \nL 260.363455 288.430125 \nL 260.154828 288.128377 \nL 259.615534 287.348369 \nL 259.012044 286.475701 \nL 258.86745 286.266613 \nL 258.119493 285.184857 \nL 257.86926 284.822959 \nL 257.371515 284.103101 \nL 256.726476 283.170218 \nL 256.623523 283.021345 \nL 255.875439 281.939588 \nL 255.583692 281.517619 \nL 255.127518 280.857832 \nL 254.440908 279.864754 \nL 254.379588 279.776076 \nL 253.631465 278.69432 \nL 253.298124 278.212228 \nL 252.883429 277.612564 \nL 252.15534 276.55972 \nL 252.135348 276.530808 \nL 251.387533 275.449052 \nL 251.012556 274.906745 \nL 250.639502 274.367296 \nL 249.891419 273.28554 \nL 249.869772 273.254231 \nL 249.143497 272.203784 \nL 248.726988 271.601496 \nL 248.395414 271.122027 \nL 247.647483 270.040271 \nL 247.584204 269.948754 \nL 246.899505 268.958515 \nL 246.44142 268.296013 \nL 246.151487 267.876759 \nL 245.40355 266.795003 \nL 245.298636 266.643304 \nL 244.655411 265.713247 \nL 244.155852 264.990608 \nL 243.907525 264.631491 \nL 243.159476 263.549735 \nL 243.013068 263.338023 \nL 242.411478 262.467979 \nL 241.870284 261.685281 \nL 241.663471 261.386223 \nL 240.915523 260.304466 \nL 240.7275 260.03254 \nL 240.167466 259.22271 \nL 239.584716 258.37985 \nL 239.419544 258.140954 \nL 238.671461 257.059198 \nL 238.441932 256.727291 \nL 237.923451 255.977442 \nL 237.299148 255.074549 \nL 237.175456 254.895686 \nL 236.427534 253.81393 \nL 236.156364 253.421808 \nL 235.67945 252.732174 \nL 235.01358 251.769092 \nL 234.931529 251.650418 \nL 234.183445 250.568662 \nL 233.870796 250.116461 \nL 233.435524 249.486905 \nL 232.728012 248.463818 \nL 232.68744 248.405149 \nL 231.939468 247.323393 \nL 231.585228 246.811076 \nL 231.191435 246.241637 \nL 230.443351 245.159881 \nL 230.442444 245.158569 \nL 229.69543 244.078125 \nL 229.29966 243.505704 \nL 228.947508 242.996369 \nL 228.199424 241.914613 \nL 228.156876 241.853073 \nL 227.451503 240.832857 \nL 227.014092 240.200345 \nL 226.703419 239.751101 \nL 225.955486 238.669345 \nL 225.871308 238.547603 \nL 225.207508 237.587588 \nL 224.728524 236.894862 \nL 224.459492 236.505832 \nL 223.711409 235.424076 \nL 223.58574 235.242354 \nL 222.963413 234.34232 \nL 222.442956 233.58945 \nL 222.215533 233.260564 \nL 221.467482 232.178808 \nL 221.300172 231.936871 \nL 220.719481 231.097052 \nL 220.157388 230.28413 \nL 219.97145 230.015296 \nL 219.223393 228.93354 \nL 219.014604 228.631557 \nL 218.475472 227.851784 \nL 217.87182 226.978881 \nL 217.727408 226.770027 \nL 216.979466 225.688271 \nL 216.729036 225.32614 \nL 216.231453 224.606515 \nL 215.586252 223.673398 \nL 215.483461 223.524759 \nL 214.73554 222.443003 \nL 214.443468 222.020657 \nL 213.987456 221.361247 \nL 213.300684 220.367934 \nL 213.239534 220.279491 \nL 212.491451 219.197735 \nL 212.1579 218.715303 \nL 211.743529 218.115979 \nL 211.015116 217.062666 \nL 210.995446 217.034223 \nL 210.247471 215.952466 \nL 209.872332 215.409925 \nL 209.49944 214.87071 \nL 208.751357 213.788954 \nL 208.729548 213.757411 \nL 208.003435 212.707198 \nL 207.586764 212.104676 \nL 207.255399 211.625442 \nL 206.50743 210.543686 \nL 206.44398 210.451935 \nL 205.759443 209.46193 \nL 205.301196 208.799193 \nL 205.011425 208.380174 \nL 204.263503 207.298418 \nL 204.158412 207.146452 \nL 203.51542 206.216662 \nL 203.015628 205.493788 \nL 202.767463 205.134905 \nL 202.019414 204.053149 \nL 201.872844 203.841203 \nL 201.271416 202.971393 \nL 200.73006 202.188292 \nL 200.523571 201.889637 \nL 199.775488 200.807881 \nL 199.587276 200.53572 \nL 199.027404 199.726125 \nL 198.444492 198.88303 \nL 198.279482 198.644369 \nL 197.531399 197.562613 \nL 197.301708 197.230399 \nL 196.783477 196.480857 \nL 196.158924 195.57773 \nL 196.035394 195.399101 \nL 195.287472 194.317345 \nL 195.01614 193.924988 \nL 194.539388 193.235588 \nL 193.873356 192.272272 \nL 193.791467 192.153832 \nL 193.043383 191.072076 \nL 192.730572 190.619642 \nL 192.295462 189.99032 \nL 191.587788 188.966998 \nL 191.547378 188.908564 \nL 190.799456 187.826808 \nL 190.445004 187.314146 \nL 190.051479 186.745052 \nL 189.303451 185.663296 \nL 189.30222 185.661515 \nL 188.55553 184.58154 \nL 188.159436 184.008774 \nL 187.807446 183.499784 \nL 187.059362 182.418027 \nL 187.016652 182.356253 \nL 186.311441 181.336271 \nL 185.873868 180.703525 \nL 185.563357 180.254515 \nL 184.815436 179.172759 \nL 184.731084 179.050783 \nL 184.067446 178.091003 \nL 183.5883 177.398042 \nL 183.31943 177.009247 \nL 182.571491 175.927491 \nL 182.445516 175.7453 \nL 181.823425 174.845735 \nL 181.302732 174.09263 \nL 181.075471 173.763979 \nL 180.32742 172.682223 \nL 180.159948 172.440052 \nL 179.579419 171.600466 \nL 179.017164 170.78731 \nL 178.831415 170.51871 \nL 178.083493 169.436954 \nL 177.87438 169.134569 \nL 177.33541 168.355198 \nL 176.731596 167.481872 \nL 176.587488 167.273442 \nL 175.839404 166.191686 \nL 175.588812 165.82932 \nL 175.091391 165.10993 \nL 174.446028 164.176578 \nL 174.343399 164.028174 \nL 173.595478 162.946418 \nL 173.303244 162.523837 \nL 172.847394 161.864662 \nL 172.16046 160.871115 \nL 172.099472 160.782905 \nL 171.351389 159.701149 \nL 171.017676 159.218484 \nL 170.603467 158.619393 \nL 169.874892 157.565847 \nL 169.855384 157.537637 \nL 169.107462 156.455881 \nL 168.732108 155.912988 \nL 168.359488 155.374125 \nL 167.611454 154.292369 \nL 167.589324 154.260364 \nL 166.863373 153.210613 \nL 166.44654 152.607726 \nL 166.115452 152.128857 \nL 165.367368 151.047101 \nL 165.303756 150.955095 \nL 164.619446 149.965345 \nL 164.160972 149.302374 \nL 163.871363 148.883588 \nL 163.123441 147.801832 \nL 163.018188 147.649632 \nL 162.375358 146.720076 \nL 161.875404 145.996968 \nL 161.627436 145.63832 \nL 160.879352 144.556564 \nL 160.73262 144.344337 \nL 160.131431 143.474808 \nL 159.589836 142.691472 \nL 159.383509 142.393052 \nL 158.635426 141.311296 \nL 158.447052 141.0389 \nL 157.887421 140.22954 \nL 157.304268 139.386159 \nL 157.13942 139.147784 \nL 156.391466 138.066027 \nL 156.161484 137.733417 \nL 155.643415 136.984271 \nL 155.0187 136.08091 \nL 154.895332 135.902515 \nL 154.14741 134.820759 \nL 153.875916 134.428169 \nL 153.399326 133.739003 \nL 152.733132 132.775453 \nL 152.651405 132.657247 \nL 151.903439 131.575491 \nL 151.590348 131.122686 \nL 151.1554 130.493735 \nL 150.447564 129.469957 \nL 150.407472 129.411979 \nL 149.659394 128.330223 \nL 149.30478 127.817326 \nL 148.911473 127.248466 \nL 148.163389 126.16671 \nL 148.161996 126.164695 \nL 147.415468 125.084954 \nL 147.019212 124.511954 \nL 146.667384 124.003198 \nL 145.919462 122.921442 \nL 145.876428 122.859212 \nL 145.171379 121.839686 \nL 144.733644 121.206568 \nL 144.423413 120.75793 \nL 143.675374 119.676174 \nL 143.59086 119.553964 \nL 142.927384 118.594418 \nL 142.448076 117.901222 \nL 142.179368 117.512662 \nL 141.431447 116.430905 \nL 141.305292 116.248481 \nL 140.683363 115.349149 \nL 140.162508 114.59581 \nL 139.935442 114.267393 \nL 139.187358 113.185637 \nL 139.019724 112.943179 \nL 138.439436 112.103881 \nL 137.87694 111.290314 \nL 137.691489 111.022125 \nL 136.943431 109.940369 \nL 136.734156 109.637749 \nL 136.195348 108.858613 \nL 135.591372 107.985053 \nL 135.447426 107.776857 \nL 134.699342 106.695101 \nL 134.448588 106.332422 \nL 133.951421 105.613345 \nL 133.305804 104.679759 \nL 133.203337 104.531588 \nL 132.455416 103.449832 \nL 132.16302 103.027017 \nL 131.707397 102.368076 \nL 131.020236 101.374276 \nL 130.95941 101.28632 \nL 130.211327 100.204564 \nL 129.877452 99.721664 \nL 129.463405 99.122808 \nL 128.734668 98.068799 \nL 128.715481 98.041052 \nL 127.9674 96.959296 \nL 127.591884 96.416168 \nL 127.219426 95.87754 \nL 126.471395 94.795784 \nL 126.4491 94.763537 \nL 125.723473 93.714027 \nL 125.306316 93.110803 \nL 124.97539 92.632271 \nL 124.227459 91.550515 \nL 124.163532 91.458061 \nL 123.479384 90.468759 \nL 123.020748 89.805554 \nL 122.731301 89.387003 \nL 121.983379 88.305247 \nL 121.877964 88.152779 \nL 121.235458 87.223491 \nL 120.73518 86.500071 \nL 120.487374 86.141735 \nL 119.73929 85.059979 \nL 119.592396 84.847518 \nL 118.991369 83.978223 \nL 118.449612 83.194652 \nL 118.243447 82.896466 \nL 117.495364 81.81471 \nL 117.306828 81.542022 \nL 116.747442 80.732954 \nL 116.164044 79.889156 \nL 115.999497 79.651198 \nL 115.251404 78.569442 \nL 115.02126 78.236598 \nL 114.503353 77.487686 \nL 113.878476 76.583895 \nL 113.755432 76.40593 \nL 113.007348 75.324174 \nL 112.735692 74.931349 \nL 112.259332 74.242418 \nL 111.592908 73.278607 \nL 111.511343 73.160662 \nL 110.763421 72.078905 \nL 110.450124 71.625866 \nL 110.015338 70.997149 \nL 109.30734 69.973137 \nL 109.26741 69.915393 \nL 108.519332 68.833637 \nL 108.164556 68.320506 \nL 107.771411 67.751881 \nL 107.023327 66.670125 \nL 107.021772 66.667875 \nL 106.275406 65.588369 \nL 105.878988 65.01501 \nL 105.527434 64.506613 \nL 104.7794 63.424857 \nL 104.736204 63.362393 \nL 104.031317 62.343101 \nL 103.59342 61.709748 \nL 103.283395 61.261345 \nL 102.535462 60.179588 \nL 102.450636 60.05691 \nL 101.78739 59.097832 \nL 101.307852 58.404403 \nL 101.039344 58.016076 \nL 100.291385 56.93432 \nL 100.165068 56.751661 \nL 99.543301 55.852564 \nL 99.022284 55.098991 \nL 98.79538 54.770808 \nL 98.047296 53.689052 \nL 97.8795 53.44636 \nL 97.299374 52.607296 \nL 96.736716 51.793495 \nL 96.551427 51.52554 \nL 95.803369 50.443784 \nL 95.593932 50.140929 \nL 95.055362 49.362027 \nL 94.451148 48.488188 \nL 94.307364 48.280271 \nL 93.559407 47.198515 \nL 93.308364 46.835446 \nL 92.811359 46.116759 \nL 92.16558 45.182737 \nL 92.063437 45.035003 \nL 91.315354 43.953247 \nL 91.022796 43.530198 \nL 90.567335 42.871491 \nL 89.880012 41.877456 \nL 89.819348 41.789735 \nL 89.071379 40.707979 \nL 88.737228 40.224715 \nL 88.323343 39.626223 \nL 87.594444 38.571979 \nL 87.575422 38.544466 \nL 86.827338 37.46271 \nL 86.45166 36.919348 \nL 86.079416 36.380954 \nL 85.331333 35.299198 \nL 85.308876 35.266717 \nL 84.583411 34.217442 \nL 84.166092 33.613983 \nL 83.835328 33.135686 \nL 83.087397 32.05393 \nL 83.023308 31.961241 \nL 82.339322 30.972174 \nL 81.880524 30.30859 \nL 81.591401 29.890418 \nL 80.843464 28.808662 \nL 80.73774 28.655758 \nL 80.095396 27.726905 \nL 79.594956 27.003251 \nL 79.347312 26.645149 \nL 78.59937 25.563393 \nL 78.452172 25.35051 \nL 77.851307 24.481637 \nL 77.309388 23.697833 \nL 77.103385 23.399881 \nL 76.355302 22.318125 \nL 76.166604 22.318125 \nL 75.02382 22.318125 \nL 73.881036 22.318125 \nL 72.738252 22.318125 \nL 71.595468 22.318125 \nL 70.452684 22.318125 \nL 69.3099 22.318125 \nL 68.167116 22.318125 \nL 67.024332 22.318125 \nL 65.881548 22.318125 \nL 64.738764 22.318125 \nL 63.59598 22.318125 \nL 62.453196 22.318125 \nL 61.310412 22.318125 \nL 60.167628 22.318125 \nL 59.024844 22.318125 \nL 59.024844 23.399881 \nL 59.024844 24.481637 \nL 59.024844 25.563393 \nL 59.024844 26.645149 \nL 59.024844 27.726905 \nL 59.024844 28.808662 \nL 59.024844 29.890418 \nL 59.024844 30.972174 \nL 59.024844 32.05393 \nL 59.024844 33.135686 \nL 59.024844 34.217442 \nL 59.024844 35.299198 \nL 59.024844 36.380954 \nL 59.024844 37.46271 \nL 59.024844 38.544466 \nL 59.024844 39.626223 \nL 59.024844 40.707979 \nL 59.024844 41.789735 \nL 59.024844 42.871491 \nL 59.024844 43.953247 \nL 59.024844 45.035003 \nL 59.024844 46.116759 \nL 59.024844 47.198515 \nL 59.024844 48.280271 \nL 59.024844 49.362027 \nL 59.024844 50.443784 \nL 59.024844 51.52554 \nL 59.024844 52.607296 \nL 59.024844 53.689052 \nL 59.024844 54.770808 \nL 59.024844 55.852564 \nL 59.024844 56.93432 \nL 59.024844 58.016076 \nL 59.024844 59.097832 \nL 59.024844 60.179588 \nL 59.024844 61.261345 \nL 59.024844 62.343101 \nL 59.024844 63.424857 \nL 59.024844 64.506613 \nL 59.024844 65.588369 \nL 59.024844 66.670125 \nL 59.024844 67.751881 \nL 59.024844 68.833637 \nL 59.024844 69.915393 \nL 59.024844 70.997149 \nL 59.024844 72.078905 \nL 59.024844 73.160662 \nL 59.024844 74.242418 \nL 59.024844 75.324174 \nL 59.024844 76.40593 \nL 59.024844 77.487686 \nL 59.024844 78.569442 \nL 59.024844 79.651198 \nL 59.024844 80.732954 \nL 59.024844 81.81471 \nL 59.024844 82.896466 \nL 59.024844 83.978223 \nL 59.024844 85.059979 \nL 59.024844 86.141735 \nL 59.024844 87.223491 \nL 59.024844 88.305247 \nL 59.024844 89.387003 \nL 59.024844 90.468759 \nL 59.024844 91.550515 \nL 59.024844 92.632271 \nL 59.024844 93.714027 \nL 59.024844 94.795784 \nL 59.024844 95.865452 \nL 59.033201 95.87754 \nL 59.781236 96.959296 \nL 60.167628 97.518069 \nL 60.52927 98.041052 \nL 61.277299 99.122808 \nL 61.310412 99.170697 \nL 62.025174 100.204564 \nL 62.453196 100.82354 \nL 62.773208 101.28632 \nL 63.521231 102.368076 \nL 63.59598 102.476181 \nL 64.269208 103.449832 \nL 64.738764 104.128923 \nL 65.017146 104.531588 \nL 65.76518 105.613345 \nL 65.881548 105.781628 \nL 66.513213 106.695101 \nL 67.024332 107.434246 \nL 67.261247 107.776857 \nL 68.009258 108.858613 \nL 68.167116 109.086863 \nL 68.757315 109.940369 \nL 69.3099 110.739655 \nL 69.505185 111.022125 \nL 70.253219 112.103881 \nL 70.452684 112.392334 \nL 71.001174 113.185637 \nL 71.595468 114.045 \nL 71.749265 114.267393 \nL 72.497286 115.349149 \nL 72.738252 115.697644 \nL 73.245191 116.430905 \nL 73.881036 117.350422 \nL 73.993208 117.512662 \nL 74.741218 118.594418 \nL 75.02382 119.003039 \nL 75.489226 119.676174 \nL 76.166604 120.655893 \nL 76.237162 120.75793 \nL 76.985196 121.839686 \nL 77.309388 122.30851 \nL 77.733169 122.921442 \nL 78.452172 123.961136 \nL 78.48126 124.003198 \nL 79.229245 125.084954 \nL 79.594956 125.61386 \nL 79.977168 126.16671 \nL 80.725202 127.248466 \nL 80.73774 127.266598 \nL 81.473236 128.330223 \nL 81.880524 128.919215 \nL 82.221269 129.411979 \nL 82.969295 130.493735 \nL 83.023308 130.57185 \nL 83.717273 131.575491 \nL 84.166092 132.224592 \nL 84.465165 132.657247 \nL 85.213241 133.739003 \nL 85.308876 133.877304 \nL 85.961182 134.820759 \nL 86.45166 135.530002 \nL 86.709272 135.902515 \nL 87.457199 136.984271 \nL 87.594444 137.182774 \nL 88.205213 138.066027 \nL 88.737228 138.835392 \nL 88.953247 139.147784 \nL 89.701255 140.22954 \nL 89.880012 140.488065 \nL 90.449151 141.311296 \nL 91.022796 142.140681 \nL 91.197323 142.393052 \nL 91.945218 143.474808 \nL 92.16558 143.79348 \nL 92.693177 144.556564 \nL 93.308364 145.446333 \nL 93.441123 145.63832 \nL 94.189156 146.720076 \nL 94.451148 147.098868 \nL 94.937284 147.801832 \nL 95.593932 148.751568 \nL 95.685211 148.883588 \nL 96.433258 149.965345 \nL 96.736716 150.404185 \nL 97.181228 151.047101 \nL 97.8795 152.057039 \nL 97.929162 152.128857 \nL 98.677196 153.210613 \nL 99.022284 153.709656 \nL 99.425229 154.292369 \nL 100.165068 155.362273 \nL 100.173262 155.374125 \nL 100.921297 156.455881 \nL 101.307852 157.014891 \nL 101.669279 157.537637 \nL 102.41736 158.619393 \nL 102.450636 158.667519 \nL 103.165235 159.701149 \nL 103.59342 160.320362 \nL 103.913223 160.782905 \nL 104.661139 161.864662 \nL 104.736204 161.973215 \nL 105.409173 162.946418 \nL 105.878988 163.625832 \nL 106.157207 164.028174 \nL 106.90524 165.10993 \nL 107.021772 165.27845 \nL 107.653184 166.191686 \nL 108.164556 166.931142 \nL 108.401308 167.273442 \nL 109.149319 168.355198 \nL 109.30734 168.583734 \nL 109.897212 169.436954 \nL 110.450124 170.236538 \nL 110.645246 170.51871 \nL 111.39328 171.600466 \nL 111.592908 171.889218 \nL 112.14115 172.682223 \nL 112.735692 173.542009 \nL 112.889184 173.763979 \nL 113.637218 174.845735 \nL 113.878476 175.194626 \nL 114.385251 175.927491 \nL 115.02126 176.847243 \nL 115.133269 177.009247 \nL 115.881279 178.091003 \nL 116.164044 178.49995 \nL 116.629189 179.172759 \nL 117.306828 180.152714 \nL 117.377223 180.254515 \nL 118.125257 181.336271 \nL 118.449612 181.805331 \nL 118.87323 182.418027 \nL 119.592396 183.457958 \nL 119.62132 183.499784 \nL 120.369306 184.58154 \nL 120.73518 185.110682 \nL 121.117229 185.663296 \nL 121.865263 186.745052 \nL 121.877964 186.763419 \nL 122.613191 187.826808 \nL 123.020748 188.416273 \nL 123.361167 188.908564 \nL 124.109201 189.99032 \nL 124.163532 190.06889 \nL 124.857234 191.072076 \nL 125.306316 191.721508 \nL 125.605225 192.153832 \nL 126.353302 193.235588 \nL 126.4491 193.374125 \nL 127.101242 194.317345 \nL 127.591884 195.026978 \nL 127.849206 195.399101 \nL 128.59724 196.480857 \nL 128.734668 196.679596 \nL 129.345274 197.562613 \nL 129.877452 198.332213 \nL 130.093276 198.644369 \nL 130.841178 199.726125 \nL 131.020236 199.985067 \nL 131.589212 200.807881 \nL 132.16302 201.637684 \nL 132.33722 201.889637 \nL 133.085279 202.971393 \nL 133.305804 203.290301 \nL 133.833313 204.053149 \nL 134.448588 204.942919 \nL 134.581328 205.134905 \nL 135.329217 206.216662 \nL 135.591372 206.595772 \nL 136.077251 207.298418 \nL 136.734156 208.248389 \nL 136.825285 208.380174 \nL 137.573275 209.46193 \nL 137.87694 209.901007 \nL 138.321289 210.543686 \nL 139.019724 211.55386 \nL 139.069223 211.625442 \nL 139.817256 212.707198 \nL 140.162508 213.206477 \nL 140.56529 213.788954 \nL 141.305292 214.859095 \nL 141.313323 214.87071 \nL 142.06125 215.952466 \nL 142.448076 216.511826 \nL 142.80934 217.034223 \nL 143.557262 218.115979 \nL 143.59086 218.164566 \nL 144.305296 219.197735 \nL 144.733644 219.817183 \nL 145.053284 220.279491 \nL 145.8012 221.361247 \nL 145.876428 221.470036 \nL 146.549234 222.443003 \nL 147.019212 223.122654 \nL 147.297267 223.524759 \nL 148.045285 224.606515 \nL 148.161996 224.775308 \nL 148.793172 225.688271 \nL 149.30478 226.427963 \nL 149.541335 226.770027 \nL 150.289239 227.851784 \nL 150.447564 228.080742 \nL 151.037273 228.93354 \nL 151.590348 229.733359 \nL 151.785279 230.015296 \nL 152.533312 231.097052 \nL 152.733132 231.38604 \nL 153.281211 232.178808 \nL 153.875916 233.03883 \nL 154.029223 233.260564 \nL 154.777278 234.34232 \nL 155.0187 234.691524 \nL 155.525221 235.424076 \nL 156.161484 236.344065 \nL 156.27333 236.505832 \nL 157.021339 237.587588 \nL 157.304268 237.996771 \nL 157.76925 238.669345 \nL 158.447052 239.649535 \nL 158.517284 239.751101 \nL 159.265318 240.832857 \nL 159.589836 241.302153 \nL 160.013291 241.914613 \nL 160.73262 242.954779 \nL 160.761381 242.996369 \nL 161.509256 244.078125 \nL 161.875404 244.607624 \nL 162.25729 245.159881 \nL 163.005321 246.241637 \nL 163.018188 246.260245 \nL 163.753194 247.323393 \nL 164.160972 247.913094 \nL 164.501228 248.405149 \nL 165.249261 249.486905 \nL 165.303756 249.565712 \nL 165.997295 250.568662 \nL 166.44654 251.218329 \nL 166.745286 251.650418 \nL 167.493363 252.732174 \nL 167.589324 252.870946 \nL 168.241303 253.81393 \nL 168.732108 254.5238 \nL 168.989267 254.895686 \nL 169.737281 255.977442 \nL 169.874892 256.176417 \nL 170.485334 257.059198 \nL 171.017676 257.829203 \nL 171.233205 258.140954 \nL 171.981239 259.22271 \nL 172.16046 259.481888 \nL 172.729272 260.304466 \nL 173.303244 261.134505 \nL 173.477281 261.386223 \nL 174.22534 262.467979 \nL 174.446028 262.787123 \nL 174.973298 263.549735 \nL 175.588812 264.439782 \nL 175.721388 264.631491 \nL 176.469278 265.713247 \nL 176.731596 266.092593 \nL 177.217312 266.795003 \nL 177.87438 267.745211 \nL 177.965332 267.876759 \nL 178.713216 268.958515 \nL 179.017164 269.398064 \nL 179.46125 270.040271 \nL 180.159948 271.050682 \nL 180.209283 271.122027 \nL 180.957317 272.203784 \nL 181.302732 272.703299 \nL 181.705293 273.28554 \nL 182.445516 274.356152 \nL 182.453221 274.367296 \nL 183.201255 275.449052 \nL 183.5883 276.00877 \nL 183.949289 276.530808 \nL 184.697323 277.612564 \nL 184.731084 277.661387 \nL 185.445356 278.69432 \nL 185.873868 279.314004 \nL 186.193345 279.776076 \nL 186.941261 280.857832 \nL 187.016652 280.966858 \nL 187.689294 281.939588 \nL 188.159436 282.619475 \nL 188.437328 283.021345 \nL 189.185345 284.103101 \nL 189.30222 284.272129 \nL 189.933232 285.184857 \nL 190.445004 285.924784 \nL 190.681396 286.266613 \nL 191.4293 287.348369 \nz\n\" clip-path=\"url(#pd5b7aef74c)\" style=\"fill: #ee543f; fill-opacity: 0.8\"/>\n   </g>\n   <g id=\"PathCollection_6\">\n    <path d=\"M 123.020748 288.029655 \nL 123.297648 288.430125 \nL 124.163532 288.430125 \nL 125.306316 288.430125 \nL 126.4491 288.430125 \nL 127.591884 288.430125 \nL 128.734668 288.430125 \nL 129.877452 288.430125 \nL 131.020236 288.430125 \nL 132.16302 288.430125 \nL 133.305804 288.430125 \nL 134.448588 288.430125 \nL 135.591372 288.430125 \nL 136.734156 288.430125 \nL 137.87694 288.430125 \nL 139.019724 288.430125 \nL 140.162508 288.430125 \nL 141.305292 288.430125 \nL 142.448076 288.430125 \nL 143.59086 288.430125 \nL 144.733644 288.430125 \nL 145.876428 288.430125 \nL 147.019212 288.430125 \nL 148.161996 288.430125 \nL 149.30478 288.430125 \nL 150.447564 288.430125 \nL 151.590348 288.430125 \nL 152.733132 288.430125 \nL 153.875916 288.430125 \nL 155.0187 288.430125 \nL 156.161484 288.430125 \nL 157.304268 288.430125 \nL 158.447052 288.430125 \nL 159.589836 288.430125 \nL 160.73262 288.430125 \nL 161.875404 288.430125 \nL 163.018188 288.430125 \nL 164.160972 288.430125 \nL 165.303756 288.430125 \nL 166.44654 288.430125 \nL 167.589324 288.430125 \nL 168.732108 288.430125 \nL 169.874892 288.430125 \nL 171.017676 288.430125 \nL 172.16046 288.430125 \nL 173.303244 288.430125 \nL 174.446028 288.430125 \nL 175.588812 288.430125 \nL 176.731596 288.430125 \nL 177.87438 288.430125 \nL 179.017164 288.430125 \nL 180.159948 288.430125 \nL 181.302732 288.430125 \nL 182.445516 288.430125 \nL 183.5883 288.430125 \nL 184.731084 288.430125 \nL 185.873868 288.430125 \nL 187.016652 288.430125 \nL 188.159436 288.430125 \nL 189.30222 288.430125 \nL 190.445004 288.430125 \nL 191.587788 288.430125 \nL 192.177334 288.430125 \nL 191.587788 287.577563 \nL 191.4293 287.348369 \nL 190.681396 286.266613 \nL 190.445004 285.924784 \nL 189.933232 285.184857 \nL 189.30222 284.272129 \nL 189.185345 284.103101 \nL 188.437328 283.021345 \nL 188.159436 282.619475 \nL 187.689294 281.939588 \nL 187.016652 280.966858 \nL 186.941261 280.857832 \nL 186.193345 279.776076 \nL 185.873868 279.314004 \nL 185.445356 278.69432 \nL 184.731084 277.661387 \nL 184.697323 277.612564 \nL 183.949289 276.530808 \nL 183.5883 276.00877 \nL 183.201255 275.449052 \nL 182.453221 274.367296 \nL 182.445516 274.356152 \nL 181.705293 273.28554 \nL 181.302732 272.703299 \nL 180.957317 272.203784 \nL 180.209283 271.122027 \nL 180.159948 271.050682 \nL 179.46125 270.040271 \nL 179.017164 269.398064 \nL 178.713216 268.958515 \nL 177.965332 267.876759 \nL 177.87438 267.745211 \nL 177.217312 266.795003 \nL 176.731596 266.092593 \nL 176.469278 265.713247 \nL 175.721388 264.631491 \nL 175.588812 264.439782 \nL 174.973298 263.549735 \nL 174.446028 262.787123 \nL 174.22534 262.467979 \nL 173.477281 261.386223 \nL 173.303244 261.134505 \nL 172.729272 260.304466 \nL 172.16046 259.481888 \nL 171.981239 259.22271 \nL 171.233205 258.140954 \nL 171.017676 257.829203 \nL 170.485334 257.059198 \nL 169.874892 256.176417 \nL 169.737281 255.977442 \nL 168.989267 254.895686 \nL 168.732108 254.5238 \nL 168.241303 253.81393 \nL 167.589324 252.870946 \nL 167.493363 252.732174 \nL 166.745286 251.650418 \nL 166.44654 251.218329 \nL 165.997295 250.568662 \nL 165.303756 249.565712 \nL 165.249261 249.486905 \nL 164.501228 248.405149 \nL 164.160972 247.913094 \nL 163.753194 247.323393 \nL 163.018188 246.260245 \nL 163.005321 246.241637 \nL 162.25729 245.159881 \nL 161.875404 244.607624 \nL 161.509256 244.078125 \nL 160.761381 242.996369 \nL 160.73262 242.954779 \nL 160.013291 241.914613 \nL 159.589836 241.302153 \nL 159.265318 240.832857 \nL 158.517284 239.751101 \nL 158.447052 239.649535 \nL 157.76925 238.669345 \nL 157.304268 237.996771 \nL 157.021339 237.587588 \nL 156.27333 236.505832 \nL 156.161484 236.344065 \nL 155.525221 235.424076 \nL 155.0187 234.691524 \nL 154.777278 234.34232 \nL 154.029223 233.260564 \nL 153.875916 233.03883 \nL 153.281211 232.178808 \nL 152.733132 231.38604 \nL 152.533312 231.097052 \nL 151.785279 230.015296 \nL 151.590348 229.733359 \nL 151.037273 228.93354 \nL 150.447564 228.080742 \nL 150.289239 227.851784 \nL 149.541335 226.770027 \nL 149.30478 226.427963 \nL 148.793172 225.688271 \nL 148.161996 224.775308 \nL 148.045285 224.606515 \nL 147.297267 223.524759 \nL 147.019212 223.122654 \nL 146.549234 222.443003 \nL 145.876428 221.470036 \nL 145.8012 221.361247 \nL 145.053284 220.279491 \nL 144.733644 219.817183 \nL 144.305296 219.197735 \nL 143.59086 218.164566 \nL 143.557262 218.115979 \nL 142.80934 217.034223 \nL 142.448076 216.511826 \nL 142.06125 215.952466 \nL 141.313323 214.87071 \nL 141.305292 214.859095 \nL 140.56529 213.788954 \nL 140.162508 213.206477 \nL 139.817256 212.707198 \nL 139.069223 211.625442 \nL 139.019724 211.55386 \nL 138.321289 210.543686 \nL 137.87694 209.901007 \nL 137.573275 209.46193 \nL 136.825285 208.380174 \nL 136.734156 208.248389 \nL 136.077251 207.298418 \nL 135.591372 206.595772 \nL 135.329217 206.216662 \nL 134.581328 205.134905 \nL 134.448588 204.942919 \nL 133.833313 204.053149 \nL 133.305804 203.290301 \nL 133.085279 202.971393 \nL 132.33722 201.889637 \nL 132.16302 201.637684 \nL 131.589212 200.807881 \nL 131.020236 199.985067 \nL 130.841178 199.726125 \nL 130.093276 198.644369 \nL 129.877452 198.332213 \nL 129.345274 197.562613 \nL 128.734668 196.679596 \nL 128.59724 196.480857 \nL 127.849206 195.399101 \nL 127.591884 195.026978 \nL 127.101242 194.317345 \nL 126.4491 193.374125 \nL 126.353302 193.235588 \nL 125.605225 192.153832 \nL 125.306316 191.721508 \nL 124.857234 191.072076 \nL 124.163532 190.06889 \nL 124.109201 189.99032 \nL 123.361167 188.908564 \nL 123.020748 188.416273 \nL 122.613191 187.826808 \nL 121.877964 186.763419 \nL 121.865263 186.745052 \nL 121.117229 185.663296 \nL 120.73518 185.110682 \nL 120.369306 184.58154 \nL 119.62132 183.499784 \nL 119.592396 183.457958 \nL 118.87323 182.418027 \nL 118.449612 181.805331 \nL 118.125257 181.336271 \nL 117.377223 180.254515 \nL 117.306828 180.152714 \nL 116.629189 179.172759 \nL 116.164044 178.49995 \nL 115.881279 178.091003 \nL 115.133269 177.009247 \nL 115.02126 176.847243 \nL 114.385251 175.927491 \nL 113.878476 175.194626 \nL 113.637218 174.845735 \nL 112.889184 173.763979 \nL 112.735692 173.542009 \nL 112.14115 172.682223 \nL 111.592908 171.889218 \nL 111.39328 171.600466 \nL 110.645246 170.51871 \nL 110.450124 170.236538 \nL 109.897212 169.436954 \nL 109.30734 168.583734 \nL 109.149319 168.355198 \nL 108.401308 167.273442 \nL 108.164556 166.931142 \nL 107.653184 166.191686 \nL 107.021772 165.27845 \nL 106.90524 165.10993 \nL 106.157207 164.028174 \nL 105.878988 163.625832 \nL 105.409173 162.946418 \nL 104.736204 161.973215 \nL 104.661139 161.864662 \nL 103.913223 160.782905 \nL 103.59342 160.320362 \nL 103.165235 159.701149 \nL 102.450636 158.667519 \nL 102.41736 158.619393 \nL 101.669279 157.537637 \nL 101.307852 157.014891 \nL 100.921297 156.455881 \nL 100.173262 155.374125 \nL 100.165068 155.362273 \nL 99.425229 154.292369 \nL 99.022284 153.709656 \nL 98.677196 153.210613 \nL 97.929162 152.128857 \nL 97.8795 152.057039 \nL 97.181228 151.047101 \nL 96.736716 150.404185 \nL 96.433258 149.965345 \nL 95.685211 148.883588 \nL 95.593932 148.751568 \nL 94.937284 147.801832 \nL 94.451148 147.098868 \nL 94.189156 146.720076 \nL 93.441123 145.63832 \nL 93.308364 145.446333 \nL 92.693177 144.556564 \nL 92.16558 143.79348 \nL 91.945218 143.474808 \nL 91.197323 142.393052 \nL 91.022796 142.140681 \nL 90.449151 141.311296 \nL 89.880012 140.488065 \nL 89.701255 140.22954 \nL 88.953247 139.147784 \nL 88.737228 138.835392 \nL 88.205213 138.066027 \nL 87.594444 137.182774 \nL 87.457199 136.984271 \nL 86.709272 135.902515 \nL 86.45166 135.530002 \nL 85.961182 134.820759 \nL 85.308876 133.877304 \nL 85.213241 133.739003 \nL 84.465165 132.657247 \nL 84.166092 132.224592 \nL 83.717273 131.575491 \nL 83.023308 130.57185 \nL 82.969295 130.493735 \nL 82.221269 129.411979 \nL 81.880524 128.919215 \nL 81.473236 128.330223 \nL 80.73774 127.266598 \nL 80.725202 127.248466 \nL 79.977168 126.16671 \nL 79.594956 125.61386 \nL 79.229245 125.084954 \nL 78.48126 124.003198 \nL 78.452172 123.961136 \nL 77.733169 122.921442 \nL 77.309388 122.30851 \nL 76.985196 121.839686 \nL 76.237162 120.75793 \nL 76.166604 120.655893 \nL 75.489226 119.676174 \nL 75.02382 119.003039 \nL 74.741218 118.594418 \nL 73.993208 117.512662 \nL 73.881036 117.350422 \nL 73.245191 116.430905 \nL 72.738252 115.697644 \nL 72.497286 115.349149 \nL 71.749265 114.267393 \nL 71.595468 114.045 \nL 71.001174 113.185637 \nL 70.452684 112.392334 \nL 70.253219 112.103881 \nL 69.505185 111.022125 \nL 69.3099 110.739655 \nL 68.757315 109.940369 \nL 68.167116 109.086863 \nL 68.009258 108.858613 \nL 67.261247 107.776857 \nL 67.024332 107.434246 \nL 66.513213 106.695101 \nL 65.881548 105.781628 \nL 65.76518 105.613345 \nL 65.017146 104.531588 \nL 64.738764 104.128923 \nL 64.269208 103.449832 \nL 63.59598 102.476181 \nL 63.521231 102.368076 \nL 62.773208 101.28632 \nL 62.453196 100.82354 \nL 62.025174 100.204564 \nL 61.310412 99.170697 \nL 61.277299 99.122808 \nL 60.52927 98.041052 \nL 60.167628 97.518069 \nL 59.781236 96.959296 \nL 59.033201 95.87754 \nL 59.024844 95.865452 \nL 59.024844 95.87754 \nL 59.024844 96.959296 \nL 59.024844 98.041052 \nL 59.024844 99.122808 \nL 59.024844 100.204564 \nL 59.024844 101.28632 \nL 59.024844 102.368076 \nL 59.024844 103.449832 \nL 59.024844 104.531588 \nL 59.024844 105.613345 \nL 59.024844 106.695101 \nL 59.024844 107.776857 \nL 59.024844 108.858613 \nL 59.024844 109.940369 \nL 59.024844 111.022125 \nL 59.024844 112.103881 \nL 59.024844 113.185637 \nL 59.024844 114.267393 \nL 59.024844 115.349149 \nL 59.024844 116.430905 \nL 59.024844 117.512662 \nL 59.024844 118.594418 \nL 59.024844 119.676174 \nL 59.024844 120.75793 \nL 59.024844 121.839686 \nL 59.024844 122.921442 \nL 59.024844 124.003198 \nL 59.024844 125.084954 \nL 59.024844 126.16671 \nL 59.024844 127.248466 \nL 59.024844 128.330223 \nL 59.024844 129.411979 \nL 59.024844 130.493735 \nL 59.024844 131.575491 \nL 59.024844 132.657247 \nL 59.024844 133.739003 \nL 59.024844 134.820759 \nL 59.024844 135.902515 \nL 59.024844 136.984271 \nL 59.024844 138.066027 \nL 59.024844 139.147784 \nL 59.024844 140.22954 \nL 59.024844 141.311296 \nL 59.024844 142.393052 \nL 59.024844 143.474808 \nL 59.024844 144.556564 \nL 59.024844 145.63832 \nL 59.024844 146.720076 \nL 59.024844 147.801832 \nL 59.024844 148.883588 \nL 59.024844 149.965345 \nL 59.024844 151.047101 \nL 59.024844 152.128857 \nL 59.024844 153.210613 \nL 59.024844 154.292369 \nL 59.024844 155.374125 \nL 59.024844 156.455881 \nL 59.024844 157.537637 \nL 59.024844 158.619393 \nL 59.024844 159.701149 \nL 59.024844 160.782905 \nL 59.024844 161.864662 \nL 59.024844 162.946418 \nL 59.024844 164.028174 \nL 59.024844 165.10993 \nL 59.024844 166.191686 \nL 59.024844 167.273442 \nL 59.024844 168.355198 \nL 59.024844 169.436954 \nL 59.024844 170.51871 \nL 59.024844 171.600466 \nL 59.024844 172.682223 \nL 59.024844 173.763979 \nL 59.024844 174.845735 \nL 59.024844 175.927491 \nL 59.024844 177.009247 \nL 59.024844 178.091003 \nL 59.024844 179.172759 \nL 59.024844 180.254515 \nL 59.024844 181.336271 \nL 59.024844 182.418027 \nL 59.024844 183.499784 \nL 59.024844 184.58154 \nL 59.024844 185.663296 \nL 59.024844 186.745052 \nL 59.024844 187.826808 \nL 59.024844 188.908564 \nL 59.024844 189.99032 \nL 59.024844 191.072076 \nL 59.024844 192.153832 \nL 59.024844 193.235588 \nL 59.024844 194.317345 \nL 59.024844 195.399101 \nL 59.024844 195.478791 \nL 59.717658 196.480857 \nL 60.167628 197.131536 \nL 60.465648 197.562613 \nL 61.213645 198.644369 \nL 61.310412 198.784299 \nL 61.961627 199.726125 \nL 62.453196 200.437062 \nL 62.709595 200.807881 \nL 63.457708 201.889637 \nL 63.59598 202.089629 \nL 64.205531 202.971393 \nL 64.738764 203.742416 \nL 64.953664 204.053149 \nL 65.701632 205.134905 \nL 65.881548 205.39511 \nL 66.4496 206.216662 \nL 67.024332 207.047689 \nL 67.197708 207.298418 \nL 67.945669 208.380174 \nL 68.167116 208.700397 \nL 68.693669 209.46193 \nL 69.3099 210.353159 \nL 69.441637 210.543686 \nL 70.189605 211.625442 \nL 70.452684 212.005922 \nL 70.937573 212.707198 \nL 71.595468 213.658474 \nL 71.685707 213.788954 \nL 72.433631 214.87071 \nL 72.738252 215.311208 \nL 73.181643 215.952466 \nL 73.881036 216.963971 \nL 73.929611 217.034223 \nL 74.677694 218.115979 \nL 75.02382 218.616494 \nL 75.425712 219.197735 \nL 76.166604 220.269257 \nL 76.173679 220.279491 \nL 76.921648 221.361247 \nL 77.309388 221.922019 \nL 77.669616 222.443003 \nL 78.417739 223.524759 \nL 78.452172 223.574554 \nL 79.165655 224.606515 \nL 79.594956 225.227306 \nL 79.913685 225.688271 \nL 80.661642 226.770027 \nL 80.73774 226.880068 \nL 81.409621 227.851784 \nL 81.880524 228.532831 \nL 82.157589 228.93354 \nL 82.905706 230.015296 \nL 83.023308 230.185354 \nL 83.653691 231.097052 \nL 84.166092 231.838117 \nL 84.401659 232.178808 \nL 85.149604 233.260564 \nL 85.308876 233.49088 \nL 85.89768 234.34232 \nL 86.45166 235.143403 \nL 86.6457 235.424076 \nL 87.393667 236.505832 \nL 87.594444 236.796166 \nL 88.141664 237.587588 \nL 88.737228 238.448928 \nL 88.889632 238.669345 \nL 89.63773 239.751101 \nL 89.880012 240.101529 \nL 90.385568 240.832857 \nL 91.022796 241.75425 \nL 91.133685 241.914613 \nL 91.881794 242.996369 \nL 92.16558 243.406829 \nL 92.629637 244.078125 \nL 93.308364 245.05974 \nL 93.377605 245.159881 \nL 94.125692 246.241637 \nL 94.451148 246.712263 \nL 94.873707 247.323393 \nL 95.593932 248.365026 \nL 95.621675 248.405149 \nL 96.369755 249.486905 \nL 96.736716 250.017667 \nL 97.117611 250.568662 \nL 97.86574 251.650418 \nL 97.8795 251.670316 \nL 98.613653 252.732174 \nL 99.022284 253.323075 \nL 99.36168 253.81393 \nL 100.10964 254.895686 \nL 100.165068 254.975837 \nL 100.857716 255.977442 \nL 101.307852 256.628505 \nL 101.605584 257.059198 \nL 102.353703 258.140954 \nL 102.450636 258.281123 \nL 103.101685 259.22271 \nL 103.59342 259.933886 \nL 103.849653 260.304466 \nL 104.597767 261.386223 \nL 104.736204 261.586454 \nL 105.345678 262.467979 \nL 105.878988 263.239172 \nL 106.093692 263.549735 \nL 106.841665 264.631491 \nL 107.021772 264.891935 \nL 107.589659 265.713247 \nL 108.164556 266.544698 \nL 108.337627 266.795003 \nL 109.085728 267.876759 \nL 109.30734 268.197221 \nL 109.833728 268.958515 \nL 110.450124 269.849984 \nL 110.581677 270.040271 \nL 111.329626 271.122027 \nL 111.592908 271.502746 \nL 112.077632 272.203784 \nL 112.735692 273.155299 \nL 112.825752 273.28554 \nL 113.573689 274.367296 \nL 113.878476 274.808032 \nL 114.321701 275.449052 \nL 115.02126 276.460795 \nL 115.069669 276.530808 \nL 115.817637 277.612564 \nL 116.164044 278.113558 \nL 116.565605 278.69432 \nL 117.306828 279.766083 \nL 117.313738 279.776076 \nL 118.061651 280.857832 \nL 118.449612 281.418844 \nL 118.809675 281.939588 \nL 119.557643 283.021345 \nL 119.592396 283.071606 \nL 120.305714 284.103101 \nL 120.73518 284.724267 \nL 121.053625 285.184857 \nL 121.801701 286.266613 \nL 121.877964 286.376893 \nL 122.54968 287.348369 \nz\n\" clip-path=\"url(#pd5b7aef74c)\" style=\"fill: #f5976e; fill-opacity: 0.8\"/>\n   </g>\n   <g id=\"PathCollection_7\">\n    <path d=\"M 60.167628 288.430125 \nL 61.310412 288.430125 \nL 62.453196 288.430125 \nL 63.59598 288.430125 \nL 64.738764 288.430125 \nL 65.881548 288.430125 \nL 67.024332 288.430125 \nL 68.167116 288.430125 \nL 69.3099 288.430125 \nL 70.452684 288.430125 \nL 71.595468 288.430125 \nL 72.738252 288.430125 \nL 73.881036 288.430125 \nL 75.02382 288.430125 \nL 76.166604 288.430125 \nL 77.309388 288.430125 \nL 78.452172 288.430125 \nL 79.594956 288.430125 \nL 80.73774 288.430125 \nL 81.880524 288.430125 \nL 83.023308 288.430125 \nL 84.166092 288.430125 \nL 85.308876 288.430125 \nL 86.45166 288.430125 \nL 87.594444 288.430125 \nL 88.737228 288.430125 \nL 89.880012 288.430125 \nL 91.022796 288.430125 \nL 92.16558 288.430125 \nL 93.308364 288.430125 \nL 94.451148 288.430125 \nL 95.593932 288.430125 \nL 96.736716 288.430125 \nL 97.8795 288.430125 \nL 99.022284 288.430125 \nL 100.165068 288.430125 \nL 101.307852 288.430125 \nL 102.450636 288.430125 \nL 103.59342 288.430125 \nL 104.736204 288.430125 \nL 105.878988 288.430125 \nL 107.021772 288.430125 \nL 108.164556 288.430125 \nL 109.30734 288.430125 \nL 110.450124 288.430125 \nL 111.592908 288.430125 \nL 112.735692 288.430125 \nL 113.878476 288.430125 \nL 115.02126 288.430125 \nL 116.164044 288.430125 \nL 117.306828 288.430125 \nL 118.449612 288.430125 \nL 119.592396 288.430125 \nL 120.73518 288.430125 \nL 121.877964 288.430125 \nL 123.020748 288.430125 \nL 123.297648 288.430125 \nL 123.020748 288.029655 \nL 122.54968 287.348369 \nL 121.877964 286.376893 \nL 121.801701 286.266613 \nL 121.053625 285.184857 \nL 120.73518 284.724267 \nL 120.305714 284.103101 \nL 119.592396 283.071606 \nL 119.557643 283.021345 \nL 118.809675 281.939588 \nL 118.449612 281.418844 \nL 118.061651 280.857832 \nL 117.313738 279.776076 \nL 117.306828 279.766083 \nL 116.565605 278.69432 \nL 116.164044 278.113558 \nL 115.817637 277.612564 \nL 115.069669 276.530808 \nL 115.02126 276.460795 \nL 114.321701 275.449052 \nL 113.878476 274.808032 \nL 113.573689 274.367296 \nL 112.825752 273.28554 \nL 112.735692 273.155299 \nL 112.077632 272.203784 \nL 111.592908 271.502746 \nL 111.329626 271.122027 \nL 110.581677 270.040271 \nL 110.450124 269.849984 \nL 109.833728 268.958515 \nL 109.30734 268.197221 \nL 109.085728 267.876759 \nL 108.337627 266.795003 \nL 108.164556 266.544698 \nL 107.589659 265.713247 \nL 107.021772 264.891935 \nL 106.841665 264.631491 \nL 106.093692 263.549735 \nL 105.878988 263.239172 \nL 105.345678 262.467979 \nL 104.736204 261.586454 \nL 104.597767 261.386223 \nL 103.849653 260.304466 \nL 103.59342 259.933886 \nL 103.101685 259.22271 \nL 102.450636 258.281123 \nL 102.353703 258.140954 \nL 101.605584 257.059198 \nL 101.307852 256.628505 \nL 100.857716 255.977442 \nL 100.165068 254.975837 \nL 100.10964 254.895686 \nL 99.36168 253.81393 \nL 99.022284 253.323075 \nL 98.613653 252.732174 \nL 97.8795 251.670316 \nL 97.86574 251.650418 \nL 97.117611 250.568662 \nL 96.736716 250.017667 \nL 96.369755 249.486905 \nL 95.621675 248.405149 \nL 95.593932 248.365026 \nL 94.873707 247.323393 \nL 94.451148 246.712263 \nL 94.125692 246.241637 \nL 93.377605 245.159881 \nL 93.308364 245.05974 \nL 92.629637 244.078125 \nL 92.16558 243.406829 \nL 91.881794 242.996369 \nL 91.133685 241.914613 \nL 91.022796 241.75425 \nL 90.385568 240.832857 \nL 89.880012 240.101529 \nL 89.63773 239.751101 \nL 88.889632 238.669345 \nL 88.737228 238.448928 \nL 88.141664 237.587588 \nL 87.594444 236.796166 \nL 87.393667 236.505832 \nL 86.6457 235.424076 \nL 86.45166 235.143403 \nL 85.89768 234.34232 \nL 85.308876 233.49088 \nL 85.149604 233.260564 \nL 84.401659 232.178808 \nL 84.166092 231.838117 \nL 83.653691 231.097052 \nL 83.023308 230.185354 \nL 82.905706 230.015296 \nL 82.157589 228.93354 \nL 81.880524 228.532831 \nL 81.409621 227.851784 \nL 80.73774 226.880068 \nL 80.661642 226.770027 \nL 79.913685 225.688271 \nL 79.594956 225.227306 \nL 79.165655 224.606515 \nL 78.452172 223.574554 \nL 78.417739 223.524759 \nL 77.669616 222.443003 \nL 77.309388 221.922019 \nL 76.921648 221.361247 \nL 76.173679 220.279491 \nL 76.166604 220.269257 \nL 75.425712 219.197735 \nL 75.02382 218.616494 \nL 74.677694 218.115979 \nL 73.929611 217.034223 \nL 73.881036 216.963971 \nL 73.181643 215.952466 \nL 72.738252 215.311208 \nL 72.433631 214.87071 \nL 71.685707 213.788954 \nL 71.595468 213.658474 \nL 70.937573 212.707198 \nL 70.452684 212.005922 \nL 70.189605 211.625442 \nL 69.441637 210.543686 \nL 69.3099 210.353159 \nL 68.693669 209.46193 \nL 68.167116 208.700397 \nL 67.945669 208.380174 \nL 67.197708 207.298418 \nL 67.024332 207.047689 \nL 66.4496 206.216662 \nL 65.881548 205.39511 \nL 65.701632 205.134905 \nL 64.953664 204.053149 \nL 64.738764 203.742416 \nL 64.205531 202.971393 \nL 63.59598 202.089629 \nL 63.457708 201.889637 \nL 62.709595 200.807881 \nL 62.453196 200.437062 \nL 61.961627 199.726125 \nL 61.310412 198.784299 \nL 61.213645 198.644369 \nL 60.465648 197.562613 \nL 60.167628 197.131536 \nL 59.717658 196.480857 \nL 59.024844 195.478791 \nL 59.024844 196.480857 \nL 59.024844 197.562613 \nL 59.024844 198.644369 \nL 59.024844 199.726125 \nL 59.024844 200.807881 \nL 59.024844 201.889637 \nL 59.024844 202.971393 \nL 59.024844 204.053149 \nL 59.024844 205.134905 \nL 59.024844 206.216662 \nL 59.024844 207.298418 \nL 59.024844 208.380174 \nL 59.024844 209.46193 \nL 59.024844 210.543686 \nL 59.024844 211.625442 \nL 59.024844 212.707198 \nL 59.024844 213.788954 \nL 59.024844 214.87071 \nL 59.024844 215.952466 \nL 59.024844 217.034223 \nL 59.024844 218.115979 \nL 59.024844 219.197735 \nL 59.024844 220.279491 \nL 59.024844 221.361247 \nL 59.024844 222.443003 \nL 59.024844 223.524759 \nL 59.024844 224.606515 \nL 59.024844 225.688271 \nL 59.024844 226.770027 \nL 59.024844 227.851784 \nL 59.024844 228.93354 \nL 59.024844 230.015296 \nL 59.024844 231.097052 \nL 59.024844 232.178808 \nL 59.024844 233.260564 \nL 59.024844 234.34232 \nL 59.024844 235.424076 \nL 59.024844 236.505832 \nL 59.024844 237.587588 \nL 59.024844 238.669345 \nL 59.024844 239.751101 \nL 59.024844 240.832857 \nL 59.024844 241.914613 \nL 59.024844 242.996369 \nL 59.024844 244.078125 \nL 59.024844 245.159881 \nL 59.024844 246.241637 \nL 59.024844 247.323393 \nL 59.024844 248.405149 \nL 59.024844 249.486905 \nL 59.024844 250.568662 \nL 59.024844 251.650418 \nL 59.024844 252.732174 \nL 59.024844 253.81393 \nL 59.024844 254.895686 \nL 59.024844 255.977442 \nL 59.024844 257.059198 \nL 59.024844 258.140954 \nL 59.024844 259.22271 \nL 59.024844 260.304466 \nL 59.024844 261.386223 \nL 59.024844 262.467979 \nL 59.024844 263.549735 \nL 59.024844 264.631491 \nL 59.024844 265.713247 \nL 59.024844 266.795003 \nL 59.024844 267.876759 \nL 59.024844 268.958515 \nL 59.024844 270.040271 \nL 59.024844 271.122027 \nL 59.024844 272.203784 \nL 59.024844 273.28554 \nL 59.024844 274.367296 \nL 59.024844 275.449052 \nL 59.024844 276.530808 \nL 59.024844 277.612564 \nL 59.024844 278.69432 \nL 59.024844 279.776076 \nL 59.024844 280.857832 \nL 59.024844 281.939588 \nL 59.024844 283.021345 \nL 59.024844 284.103101 \nL 59.024844 285.184857 \nL 59.024844 286.266613 \nL 59.024844 287.348369 \nL 59.024844 288.430125 \nz\n\" clip-path=\"url(#pd5b7aef74c)\" style=\"fill: #f7d0b5; fill-opacity: 0.8\"/>\n   </g>\n   <g id=\"PathCollection_8\">\n    <defs>\n     <path id=\"C0_0_341ea72f40\" d=\"M 0 3 \nC 0.795609 3 1.55874 2.683901 2.12132 2.12132 \nC 2.683901 1.55874 3 0.795609 3 -0 \nC 3 -0.795609 2.683901 -1.55874 2.12132 -2.12132 \nC 1.55874 -2.683901 0.795609 -3 0 -3 \nC -0.795609 -3 -1.55874 -2.683901 -2.12132 -2.12132 \nC -2.683901 -1.55874 -3 -0.795609 -3 0 \nC -3 0.795609 -2.683901 1.55874 -2.12132 2.12132 \nC -1.55874 2.683901 -0.795609 3 0 3 \nz\n\"/>\n    </defs>\n    <g clip-path=\"url(#pd5b7aef74c)\">\n     <use xlink:href=\"#C0_0_341ea72f40\" x=\"243.542284\" y=\"206.778547\" style=\"fill: #faebdd; stroke: #1a1a1a\"/>\n    </g>\n    <g clip-path=\"url(#pd5b7aef74c)\">\n     <use xlink:href=\"#C0_0_341ea72f40\" x=\"139.018724\" y=\"99.212953\" style=\"fill: #faebdd; stroke: #1a1a1a\"/>\n    </g>\n    <g clip-path=\"url(#pd5b7aef74c)\">\n     <use xlink:href=\"#C0_0_341ea72f40\" x=\"267.016456\" y=\"93.908476\" style=\"fill: #03051a; stroke: #1a1a1a\"/>\n    </g>\n    <g clip-path=\"url(#pd5b7aef74c)\">\n     <use xlink:href=\"#C0_0_341ea72f40\" x=\"148.858595\" y=\"94.852713\" style=\"fill: #faebdd; stroke: #1a1a1a\"/>\n    </g>\n    <g clip-path=\"url(#pd5b7aef74c)\">\n     <use xlink:href=\"#C0_0_341ea72f40\" x=\"256.672599\" y=\"208.550178\" style=\"fill: #faebdd; stroke: #1a1a1a\"/>\n    </g>\n    <g clip-path=\"url(#pd5b7aef74c)\">\n     <use xlink:href=\"#C0_0_341ea72f40\" x=\"266.154921\" y=\"209.591651\" style=\"fill: #faebdd; stroke: #1a1a1a\"/>\n    </g>\n    <g clip-path=\"url(#pd5b7aef74c)\">\n     <use xlink:href=\"#C0_0_341ea72f40\" x=\"154.138487\" y=\"89.039147\" style=\"fill: #faebdd; stroke: #1a1a1a\"/>\n    </g>\n    <g clip-path=\"url(#pd5b7aef74c)\">\n     <use xlink:href=\"#C0_0_341ea72f40\" x=\"268.878263\" y=\"204.899861\" style=\"fill: #faebdd; stroke: #1a1a1a\"/>\n    </g>\n    <g clip-path=\"url(#pd5b7aef74c)\">\n     <use xlink:href=\"#C0_0_341ea72f40\" x=\"141.565764\" y=\"214.041753\" style=\"fill: #03051a; stroke: #1a1a1a\"/>\n    </g>\n    <g clip-path=\"url(#pd5b7aef74c)\">\n     <use xlink:href=\"#C0_0_341ea72f40\" x=\"262.821211\" y=\"202.990974\" style=\"fill: #faebdd; stroke: #1a1a1a\"/>\n    </g>\n    <g clip-path=\"url(#pd5b7aef74c)\">\n     <use xlink:href=\"#C0_0_341ea72f40\" x=\"257.228698\" y=\"225.806517\" style=\"fill: #faebdd; stroke: #1a1a1a\"/>\n    </g>\n    <g clip-path=\"url(#pd5b7aef74c)\">\n     <use xlink:href=\"#C0_0_341ea72f40\" x=\"124.284757\" y=\"100.450692\" style=\"fill: #faebdd; stroke: #1a1a1a\"/>\n    </g>\n    <g clip-path=\"url(#pd5b7aef74c)\">\n     <use xlink:href=\"#C0_0_341ea72f40\" x=\"273.172574\" y=\"101.803924\" style=\"fill: #03051a; stroke: #1a1a1a\"/>\n    </g>\n    <g clip-path=\"url(#pd5b7aef74c)\">\n     <use xlink:href=\"#C0_0_341ea72f40\" x=\"139.433751\" y=\"93.804255\" style=\"fill: #faebdd; stroke: #1a1a1a\"/>\n    </g>\n    <g clip-path=\"url(#pd5b7aef74c)\">\n     <use xlink:href=\"#C0_0_341ea72f40\" x=\"268.281683\" y=\"219.05682\" style=\"fill: #faebdd; stroke: #1a1a1a\"/>\n    </g>\n    <g clip-path=\"url(#pd5b7aef74c)\">\n     <use xlink:href=\"#C0_0_341ea72f40\" x=\"260.137396\" y=\"102.705915\" style=\"fill: #03051a; stroke: #1a1a1a\"/>\n    </g>\n    <g clip-path=\"url(#pd5b7aef74c)\">\n     <use xlink:href=\"#C0_0_341ea72f40\" x=\"275.759536\" y=\"117.791476\" style=\"fill: #03051a; stroke: #1a1a1a\"/>\n    </g>\n    <g clip-path=\"url(#pd5b7aef74c)\">\n     <use xlink:href=\"#C0_0_341ea72f40\" x=\"273.275633\" y=\"86.501679\" style=\"fill: #03051a; stroke: #1a1a1a\"/>\n    </g>\n    <g clip-path=\"url(#pd5b7aef74c)\">\n     <use xlink:href=\"#C0_0_341ea72f40\" x=\"274.254558\" y=\"111.640866\" style=\"fill: #03051a; stroke: #1a1a1a\"/>\n    </g>\n    <g clip-path=\"url(#pd5b7aef74c)\">\n     <use xlink:href=\"#C0_0_341ea72f40\" x=\"258.250924\" y=\"198.02646\" style=\"fill: #faebdd; stroke: #1a1a1a\"/>\n    </g>\n    <g clip-path=\"url(#pd5b7aef74c)\">\n     <use xlink:href=\"#C0_0_341ea72f40\" x=\"280.909593\" y=\"206.608961\" style=\"fill: #faebdd; stroke: #1a1a1a\"/>\n    </g>\n    <g clip-path=\"url(#pd5b7aef74c)\">\n     <use xlink:href=\"#C0_0_341ea72f40\" x=\"268.181648\" y=\"204.564388\" style=\"fill: #faebdd; stroke: #1a1a1a\"/>\n    </g>\n    <g clip-path=\"url(#pd5b7aef74c)\">\n     <use xlink:href=\"#C0_0_341ea72f40\" x=\"166.402682\" y=\"94.817612\" style=\"fill: #faebdd; stroke: #1a1a1a\"/>\n    </g>\n    <g clip-path=\"url(#pd5b7aef74c)\">\n     <use xlink:href=\"#C0_0_341ea72f40\" x=\"274.571879\" y=\"214.237819\" style=\"fill: #faebdd; stroke: #1a1a1a\"/>\n    </g>\n    <g clip-path=\"url(#pd5b7aef74c)\">\n     <use xlink:href=\"#C0_0_341ea72f40\" x=\"116.164044\" y=\"212.721781\" style=\"fill: #03051a; stroke: #1a1a1a\"/>\n    </g>\n    <g clip-path=\"url(#pd5b7aef74c)\">\n     <use xlink:href=\"#C0_0_341ea72f40\" x=\"278.413183\" y=\"90.25009\" style=\"fill: #03051a; stroke: #1a1a1a\"/>\n    </g>\n    <g clip-path=\"url(#pd5b7aef74c)\">\n     <use xlink:href=\"#C0_0_341ea72f40\" x=\"139.462746\" y=\"112.684972\" style=\"fill: #faebdd; stroke: #1a1a1a\"/>\n    </g>\n    <g clip-path=\"url(#pd5b7aef74c)\">\n     <use xlink:href=\"#C0_0_341ea72f40\" x=\"281.404491\" y=\"106.231484\" style=\"fill: #03051a; stroke: #1a1a1a\"/>\n    </g>\n    <g clip-path=\"url(#pd5b7aef74c)\">\n     <use xlink:href=\"#C0_0_341ea72f40\" x=\"260.021396\" y=\"210.895397\" style=\"fill: #faebdd; stroke: #1a1a1a\"/>\n    </g>\n    <g clip-path=\"url(#pd5b7aef74c)\">\n     <use xlink:href=\"#C0_0_341ea72f40\" x=\"147.244694\" y=\"91.316164\" style=\"fill: #faebdd; stroke: #1a1a1a\"/>\n    </g>\n    <g clip-path=\"url(#pd5b7aef74c)\">\n     <use xlink:href=\"#C0_0_341ea72f40\" x=\"271.072377\" y=\"233.287555\" style=\"fill: #faebdd; stroke: #1a1a1a\"/>\n    </g>\n    <g clip-path=\"url(#pd5b7aef74c)\">\n     <use xlink:href=\"#C0_0_341ea72f40\" x=\"157.764964\" y=\"216.439845\" style=\"fill: #03051a; stroke: #1a1a1a\"/>\n    </g>\n    <g clip-path=\"url(#pd5b7aef74c)\">\n     <use xlink:href=\"#C0_0_341ea72f40\" x=\"141.055962\" y=\"202.177056\" style=\"fill: #03051a; stroke: #1a1a1a\"/>\n    </g>\n    <g clip-path=\"url(#pd5b7aef74c)\">\n     <use xlink:href=\"#C0_0_341ea72f40\" x=\"171.552067\" y=\"216.145826\" style=\"fill: #03051a; stroke: #1a1a1a\"/>\n    </g>\n    <g clip-path=\"url(#pd5b7aef74c)\">\n     <use xlink:href=\"#C0_0_341ea72f40\" x=\"267.181376\" y=\"98.762705\" style=\"fill: #03051a; stroke: #1a1a1a\"/>\n    </g>\n    <g clip-path=\"url(#pd5b7aef74c)\">\n     <use xlink:href=\"#C0_0_341ea72f40\" x=\"245.002688\" y=\"201.666151\" style=\"fill: #faebdd; stroke: #1a1a1a\"/>\n    </g>\n    <g clip-path=\"url(#pd5b7aef74c)\">\n     <use xlink:href=\"#C0_0_341ea72f40\" x=\"251.933039\" y=\"222.032885\" style=\"fill: #faebdd; stroke: #1a1a1a\"/>\n    </g>\n    <g clip-path=\"url(#pd5b7aef74c)\">\n     <use xlink:href=\"#C0_0_341ea72f40\" x=\"268.690987\" y=\"108.302907\" style=\"fill: #03051a; stroke: #1a1a1a\"/>\n    </g>\n    <g clip-path=\"url(#pd5b7aef74c)\">\n     <use xlink:href=\"#C0_0_341ea72f40\" x=\"149.198078\" y=\"197.739093\" style=\"fill: #03051a; stroke: #1a1a1a\"/>\n    </g>\n    <g clip-path=\"url(#pd5b7aef74c)\">\n     <use xlink:href=\"#C0_0_341ea72f40\" x=\"122.187103\" y=\"91.174107\" style=\"fill: #faebdd; stroke: #1a1a1a\"/>\n    </g>\n    <g clip-path=\"url(#pd5b7aef74c)\">\n     <use xlink:href=\"#C0_0_341ea72f40\" x=\"155.626464\" y=\"100.568635\" style=\"fill: #faebdd; stroke: #1a1a1a\"/>\n    </g>\n    <g clip-path=\"url(#pd5b7aef74c)\">\n     <use xlink:href=\"#C0_0_341ea72f40\" x=\"149.189803\" y=\"119.500728\" style=\"fill: #faebdd; stroke: #1a1a1a\"/>\n    </g>\n    <g clip-path=\"url(#pd5b7aef74c)\">\n     <use xlink:href=\"#C0_0_341ea72f40\" x=\"271.912729\" y=\"92.295735\" style=\"fill: #03051a; stroke: #1a1a1a\"/>\n    </g>\n    <g clip-path=\"url(#pd5b7aef74c)\">\n     <use xlink:href=\"#C0_0_341ea72f40\" x=\"147.775185\" y=\"89.234231\" style=\"fill: #faebdd; stroke: #1a1a1a\"/>\n    </g>\n    <g clip-path=\"url(#pd5b7aef74c)\">\n     <use xlink:href=\"#C0_0_341ea72f40\" x=\"142.087344\" y=\"106.12892\" style=\"fill: #faebdd; stroke: #1a1a1a\"/>\n    </g>\n    <g clip-path=\"url(#pd5b7aef74c)\">\n     <use xlink:href=\"#C0_0_341ea72f40\" x=\"276.488778\" y=\"201.338583\" style=\"fill: #faebdd; stroke: #1a1a1a\"/>\n    </g>\n    <g clip-path=\"url(#pd5b7aef74c)\">\n     <use xlink:href=\"#C0_0_341ea72f40\" x=\"155.729574\" y=\"204.343434\" style=\"fill: #03051a; stroke: #1a1a1a\"/>\n    </g>\n    <g clip-path=\"url(#pd5b7aef74c)\">\n     <use xlink:href=\"#C0_0_341ea72f40\" x=\"278.583172\" y=\"81.483858\" style=\"fill: #03051a; stroke: #1a1a1a\"/>\n    </g>\n    <g clip-path=\"url(#pd5b7aef74c)\">\n     <use xlink:href=\"#C0_0_341ea72f40\" x=\"268.664626\" y=\"211.247543\" style=\"fill: #faebdd; stroke: #1a1a1a\"/>\n    </g>\n    <g clip-path=\"url(#pd5b7aef74c)\">\n     <use xlink:href=\"#C0_0_341ea72f40\" x=\"244.638333\" y=\"200.957147\" style=\"fill: #faebdd; stroke: #1a1a1a\"/>\n    </g>\n    <g clip-path=\"url(#pd5b7aef74c)\">\n     <use xlink:href=\"#C0_0_341ea72f40\" x=\"265.546461\" y=\"94.955143\" style=\"fill: #03051a; stroke: #1a1a1a\"/>\n    </g>\n    <g clip-path=\"url(#pd5b7aef74c)\">\n     <use xlink:href=\"#C0_0_341ea72f40\" x=\"156.920858\" y=\"102.688132\" style=\"fill: #faebdd; stroke: #1a1a1a\"/>\n    </g>\n    <g clip-path=\"url(#pd5b7aef74c)\">\n     <use xlink:href=\"#C0_0_341ea72f40\" x=\"277.033673\" y=\"96.88701\" style=\"fill: #03051a; stroke: #1a1a1a\"/>\n    </g>\n    <g clip-path=\"url(#pd5b7aef74c)\">\n     <use xlink:href=\"#C0_0_341ea72f40\" x=\"151.800386\" y=\"211.924754\" style=\"fill: #03051a; stroke: #1a1a1a\"/>\n    </g>\n    <g clip-path=\"url(#pd5b7aef74c)\">\n     <use xlink:href=\"#C0_0_341ea72f40\" x=\"260.427138\" y=\"223.700152\" style=\"fill: #faebdd; stroke: #1a1a1a\"/>\n    </g>\n    <g clip-path=\"url(#pd5b7aef74c)\">\n     <use xlink:href=\"#C0_0_341ea72f40\" x=\"279.847295\" y=\"213.409318\" style=\"fill: #faebdd; stroke: #1a1a1a\"/>\n    </g>\n    <g clip-path=\"url(#pd5b7aef74c)\">\n     <use xlink:href=\"#C0_0_341ea72f40\" x=\"134.680505\" y=\"215.527703\" style=\"fill: #03051a; stroke: #1a1a1a\"/>\n    </g>\n    <g clip-path=\"url(#pd5b7aef74c)\">\n     <use xlink:href=\"#C0_0_341ea72f40\" x=\"257.750604\" y=\"94.742805\" style=\"fill: #03051a; stroke: #1a1a1a\"/>\n    </g>\n    <g clip-path=\"url(#pd5b7aef74c)\">\n     <use xlink:href=\"#C0_0_341ea72f40\" x=\"265.11085\" y=\"92.601346\" style=\"fill: #03051a; stroke: #1a1a1a\"/>\n    </g>\n    <g clip-path=\"url(#pd5b7aef74c)\">\n     <use xlink:href=\"#C0_0_341ea72f40\" x=\"272.793622\" y=\"211.50135\" style=\"fill: #faebdd; stroke: #1a1a1a\"/>\n    </g>\n    <g clip-path=\"url(#pd5b7aef74c)\">\n     <use xlink:href=\"#C0_0_341ea72f40\" x=\"251.717406\" y=\"204.144344\" style=\"fill: #faebdd; stroke: #1a1a1a\"/>\n    </g>\n    <g clip-path=\"url(#pd5b7aef74c)\">\n     <use xlink:href=\"#C0_0_341ea72f40\" x=\"254.450496\" y=\"116.499298\" style=\"fill: #03051a; stroke: #1a1a1a\"/>\n    </g>\n    <g clip-path=\"url(#pd5b7aef74c)\">\n     <use xlink:href=\"#C0_0_341ea72f40\" x=\"251.344353\" y=\"226.328205\" style=\"fill: #faebdd; stroke: #1a1a1a\"/>\n    </g>\n    <g clip-path=\"url(#pd5b7aef74c)\">\n     <use xlink:href=\"#C0_0_341ea72f40\" x=\"135.609886\" y=\"220.195765\" style=\"fill: #03051a; stroke: #1a1a1a\"/>\n    </g>\n    <g clip-path=\"url(#pd5b7aef74c)\">\n     <use xlink:href=\"#C0_0_341ea72f40\" x=\"162.722276\" y=\"85.954173\" style=\"fill: #faebdd; stroke: #1a1a1a\"/>\n    </g>\n    <g clip-path=\"url(#pd5b7aef74c)\">\n     <use xlink:href=\"#C0_0_341ea72f40\" x=\"252.580488\" y=\"105.932469\" style=\"fill: #03051a; stroke: #1a1a1a\"/>\n    </g>\n    <g clip-path=\"url(#pd5b7aef74c)\">\n     <use xlink:href=\"#C0_0_341ea72f40\" x=\"261.807786\" y=\"207.036175\" style=\"fill: #faebdd; stroke: #1a1a1a\"/>\n    </g>\n    <g clip-path=\"url(#pd5b7aef74c)\">\n     <use xlink:href=\"#C0_0_341ea72f40\" x=\"270.011156\" y=\"103.234168\" style=\"fill: #03051a; stroke: #1a1a1a\"/>\n    </g>\n    <g clip-path=\"url(#pd5b7aef74c)\">\n     <use xlink:href=\"#C0_0_341ea72f40\" x=\"141.084342\" y=\"98.822437\" style=\"fill: #faebdd; stroke: #1a1a1a\"/>\n    </g>\n    <g clip-path=\"url(#pd5b7aef74c)\">\n     <use xlink:href=\"#C0_0_341ea72f40\" x=\"145.511441\" y=\"217.391827\" style=\"fill: #03051a; stroke: #1a1a1a\"/>\n    </g>\n    <g clip-path=\"url(#pd5b7aef74c)\">\n     <use xlink:href=\"#C0_0_341ea72f40\" x=\"267.974537\" y=\"106.229608\" style=\"fill: #03051a; stroke: #1a1a1a\"/>\n    </g>\n    <g clip-path=\"url(#pd5b7aef74c)\">\n     <use xlink:href=\"#C0_0_341ea72f40\" x=\"259.280213\" y=\"196.267494\" style=\"fill: #faebdd; stroke: #1a1a1a\"/>\n    </g>\n    <g clip-path=\"url(#pd5b7aef74c)\">\n     <use xlink:href=\"#C0_0_341ea72f40\" x=\"127.00953\" y=\"103.566654\" style=\"fill: #faebdd; stroke: #1a1a1a\"/>\n    </g>\n    <g clip-path=\"url(#pd5b7aef74c)\">\n     <use xlink:href=\"#C0_0_341ea72f40\" x=\"147.310304\" y=\"211.78656\" style=\"fill: #03051a; stroke: #1a1a1a\"/>\n    </g>\n    <g clip-path=\"url(#pd5b7aef74c)\">\n     <use xlink:href=\"#C0_0_341ea72f40\" x=\"247.231269\" y=\"101.416942\" style=\"fill: #03051a; stroke: #1a1a1a\"/>\n    </g>\n    <g clip-path=\"url(#pd5b7aef74c)\">\n     <use xlink:href=\"#C0_0_341ea72f40\" x=\"146.488482\" y=\"108.065127\" style=\"fill: #faebdd; stroke: #1a1a1a\"/>\n    </g>\n    <g clip-path=\"url(#pd5b7aef74c)\">\n     <use xlink:href=\"#C0_0_341ea72f40\" x=\"262.52006\" y=\"213.656773\" style=\"fill: #faebdd; stroke: #1a1a1a\"/>\n    </g>\n    <g clip-path=\"url(#pd5b7aef74c)\">\n     <use xlink:href=\"#C0_0_341ea72f40\" x=\"260.136415\" y=\"210.31478\" style=\"fill: #faebdd; stroke: #1a1a1a\"/>\n    </g>\n    <g clip-path=\"url(#pd5b7aef74c)\">\n     <use xlink:href=\"#C0_0_341ea72f40\" x=\"153.710896\" y=\"98.860401\" style=\"fill: #faebdd; stroke: #1a1a1a\"/>\n    </g>\n    <g clip-path=\"url(#pd5b7aef74c)\">\n     <use xlink:href=\"#C0_0_341ea72f40\" x=\"269.167698\" y=\"200.33521\" style=\"fill: #faebdd; stroke: #1a1a1a\"/>\n    </g>\n    <g clip-path=\"url(#pd5b7aef74c)\">\n     <use xlink:href=\"#C0_0_341ea72f40\" x=\"163.22249\" y=\"216.856685\" style=\"fill: #03051a; stroke: #1a1a1a\"/>\n    </g>\n    <g clip-path=\"url(#pd5b7aef74c)\">\n     <use xlink:href=\"#C0_0_341ea72f40\" x=\"160.158054\" y=\"116.173879\" style=\"fill: #faebdd; stroke: #1a1a1a\"/>\n    </g>\n    <g clip-path=\"url(#pd5b7aef74c)\">\n     <use xlink:href=\"#C0_0_341ea72f40\" x=\"254.441362\" y=\"109.39692\" style=\"fill: #03051a; stroke: #1a1a1a\"/>\n    </g>\n    <g clip-path=\"url(#pd5b7aef74c)\">\n     <use xlink:href=\"#C0_0_341ea72f40\" x=\"271.037216\" y=\"104.454318\" style=\"fill: #03051a; stroke: #1a1a1a\"/>\n    </g>\n    <g clip-path=\"url(#pd5b7aef74c)\">\n     <use xlink:href=\"#C0_0_341ea72f40\" x=\"266.854982\" y=\"109.390498\" style=\"fill: #03051a; stroke: #1a1a1a\"/>\n    </g>\n    <g clip-path=\"url(#pd5b7aef74c)\">\n     <use xlink:href=\"#C0_0_341ea72f40\" x=\"153.075422\" y=\"192.087549\" style=\"fill: #03051a; stroke: #1a1a1a\"/>\n    </g>\n    <g clip-path=\"url(#pd5b7aef74c)\">\n     <use xlink:href=\"#C0_0_341ea72f40\" x=\"147.621185\" y=\"205.206797\" style=\"fill: #03051a; stroke: #1a1a1a\"/>\n    </g>\n    <g clip-path=\"url(#pd5b7aef74c)\">\n     <use xlink:href=\"#C0_0_341ea72f40\" x=\"140.007494\" y=\"189.180305\" style=\"fill: #03051a; stroke: #1a1a1a\"/>\n    </g>\n    <g clip-path=\"url(#pd5b7aef74c)\">\n     <use xlink:href=\"#C0_0_341ea72f40\" x=\"147.049148\" y=\"124.37833\" style=\"fill: #faebdd; stroke: #1a1a1a\"/>\n    </g>\n    <g clip-path=\"url(#pd5b7aef74c)\">\n     <use xlink:href=\"#C0_0_341ea72f40\" x=\"159.442405\" y=\"232.614413\" style=\"fill: #03051a; stroke: #1a1a1a\"/>\n    </g>\n    <g clip-path=\"url(#pd5b7aef74c)\">\n     <use xlink:href=\"#C0_0_341ea72f40\" x=\"153.131613\" y=\"221.205873\" style=\"fill: #03051a; stroke: #1a1a1a\"/>\n    </g>\n    <g clip-path=\"url(#pd5b7aef74c)\">\n     <use xlink:href=\"#C0_0_341ea72f40\" x=\"144.972563\" y=\"209.615766\" style=\"fill: #03051a; stroke: #1a1a1a\"/>\n    </g>\n    <g clip-path=\"url(#pd5b7aef74c)\">\n     <use xlink:href=\"#C0_0_341ea72f40\" x=\"146.487082\" y=\"208.998846\" style=\"fill: #03051a; stroke: #1a1a1a\"/>\n    </g>\n    <g clip-path=\"url(#pd5b7aef74c)\">\n     <use xlink:href=\"#C0_0_341ea72f40\" x=\"255.653036\" y=\"198.222999\" style=\"fill: #faebdd; stroke: #1a1a1a\"/>\n    </g>\n    <g clip-path=\"url(#pd5b7aef74c)\">\n     <use xlink:href=\"#C0_0_341ea72f40\" x=\"257.287066\" y=\"109.990385\" style=\"fill: #03051a; stroke: #1a1a1a\"/>\n    </g>\n    <g clip-path=\"url(#pd5b7aef74c)\">\n     <use xlink:href=\"#C0_0_341ea72f40\" x=\"258.794055\" y=\"197.368962\" style=\"fill: #faebdd; stroke: #1a1a1a\"/>\n    </g>\n    <g clip-path=\"url(#pd5b7aef74c)\">\n     <use xlink:href=\"#C0_0_341ea72f40\" x=\"155.039468\" y=\"89.952706\" style=\"fill: #faebdd; stroke: #1a1a1a\"/>\n    </g>\n    <g clip-path=\"url(#pd5b7aef74c)\">\n     <use xlink:href=\"#C0_0_341ea72f40\" x=\"259.180874\" y=\"100.625053\" style=\"fill: #03051a; stroke: #1a1a1a\"/>\n    </g>\n    <g clip-path=\"url(#pd5b7aef74c)\">\n     <use xlink:href=\"#C0_0_341ea72f40\" x=\"142.837837\" y=\"102.847025\" style=\"fill: #faebdd; stroke: #1a1a1a\"/>\n    </g>\n    <g clip-path=\"url(#pd5b7aef74c)\">\n     <use xlink:href=\"#C0_0_341ea72f40\" x=\"264.286438\" y=\"106.215281\" style=\"fill: #03051a; stroke: #1a1a1a\"/>\n    </g>\n    <g clip-path=\"url(#pd5b7aef74c)\">\n     <use xlink:href=\"#C0_0_341ea72f40\" x=\"125.121798\" y=\"104.650021\" style=\"fill: #faebdd; stroke: #1a1a1a\"/>\n    </g>\n    <g clip-path=\"url(#pd5b7aef74c)\">\n     <use xlink:href=\"#C0_0_341ea72f40\" x=\"266.414004\" y=\"196.085277\" style=\"fill: #faebdd; stroke: #1a1a1a\"/>\n    </g>\n    <g clip-path=\"url(#pd5b7aef74c)\">\n     <use xlink:href=\"#C0_0_341ea72f40\" x=\"158.280959\" y=\"101.845564\" style=\"fill: #faebdd; stroke: #1a1a1a\"/>\n    </g>\n    <g clip-path=\"url(#pd5b7aef74c)\">\n     <use xlink:href=\"#C0_0_341ea72f40\" x=\"144.929739\" y=\"217.224331\" style=\"fill: #03051a; stroke: #1a1a1a\"/>\n    </g>\n    <g clip-path=\"url(#pd5b7aef74c)\">\n     <use xlink:href=\"#C0_0_341ea72f40\" x=\"262.500143\" y=\"93.404403\" style=\"fill: #03051a; stroke: #1a1a1a\"/>\n    </g>\n    <g clip-path=\"url(#pd5b7aef74c)\">\n     <use xlink:href=\"#C0_0_341ea72f40\" x=\"262.395872\" y=\"105.517033\" style=\"fill: #03051a; stroke: #1a1a1a\"/>\n    </g>\n    <g clip-path=\"url(#pd5b7aef74c)\">\n     <use xlink:href=\"#C0_0_341ea72f40\" x=\"159.511338\" y=\"225.260699\" style=\"fill: #03051a; stroke: #1a1a1a\"/>\n    </g>\n    <g clip-path=\"url(#pd5b7aef74c)\">\n     <use xlink:href=\"#C0_0_341ea72f40\" x=\"256.795887\" y=\"201.428483\" style=\"fill: #faebdd; stroke: #1a1a1a\"/>\n    </g>\n    <g clip-path=\"url(#pd5b7aef74c)\">\n     <use xlink:href=\"#C0_0_341ea72f40\" x=\"123.106885\" y=\"228.763035\" style=\"fill: #03051a; stroke: #1a1a1a\"/>\n    </g>\n    <g clip-path=\"url(#pd5b7aef74c)\">\n     <use xlink:href=\"#C0_0_341ea72f40\" x=\"141.89925\" y=\"221.87802\" style=\"fill: #03051a; stroke: #1a1a1a\"/>\n    </g>\n    <g clip-path=\"url(#pd5b7aef74c)\">\n     <use xlink:href=\"#C0_0_341ea72f40\" x=\"155.120642\" y=\"110.861782\" style=\"fill: #faebdd; stroke: #1a1a1a\"/>\n    </g>\n    <g clip-path=\"url(#pd5b7aef74c)\">\n     <use xlink:href=\"#C0_0_341ea72f40\" x=\"257.059739\" y=\"112.569596\" style=\"fill: #03051a; stroke: #1a1a1a\"/>\n    </g>\n    <g clip-path=\"url(#pd5b7aef74c)\">\n     <use xlink:href=\"#C0_0_341ea72f40\" x=\"267.339894\" y=\"97.778208\" style=\"fill: #03051a; stroke: #1a1a1a\"/>\n    </g>\n    <g clip-path=\"url(#pd5b7aef74c)\">\n     <use xlink:href=\"#C0_0_341ea72f40\" x=\"121.919756\" y=\"220.252686\" style=\"fill: #03051a; stroke: #1a1a1a\"/>\n    </g>\n    <g clip-path=\"url(#pd5b7aef74c)\">\n     <use xlink:href=\"#C0_0_341ea72f40\" x=\"252.206242\" y=\"111.082502\" style=\"fill: #03051a; stroke: #1a1a1a\"/>\n    </g>\n    <g clip-path=\"url(#pd5b7aef74c)\">\n     <use xlink:href=\"#C0_0_341ea72f40\" x=\"156.826668\" y=\"95.532463\" style=\"fill: #faebdd; stroke: #1a1a1a\"/>\n    </g>\n    <g clip-path=\"url(#pd5b7aef74c)\">\n     <use xlink:href=\"#C0_0_341ea72f40\" x=\"169.80803\" y=\"91.672184\" style=\"fill: #faebdd; stroke: #1a1a1a\"/>\n    </g>\n    <g clip-path=\"url(#pd5b7aef74c)\">\n     <use xlink:href=\"#C0_0_341ea72f40\" x=\"252.271755\" y=\"232.716017\" style=\"fill: #faebdd; stroke: #1a1a1a\"/>\n    </g>\n    <g clip-path=\"url(#pd5b7aef74c)\">\n     <use xlink:href=\"#C0_0_341ea72f40\" x=\"166.769218\" y=\"221.394524\" style=\"fill: #03051a; stroke: #1a1a1a\"/>\n    </g>\n    <g clip-path=\"url(#pd5b7aef74c)\">\n     <use xlink:href=\"#C0_0_341ea72f40\" x=\"267.65945\" y=\"82.586891\" style=\"fill: #03051a; stroke: #1a1a1a\"/>\n    </g>\n    <g clip-path=\"url(#pd5b7aef74c)\">\n     <use xlink:href=\"#C0_0_341ea72f40\" x=\"173.34147\" y=\"215.890654\" style=\"fill: #03051a; stroke: #1a1a1a\"/>\n    </g>\n    <g clip-path=\"url(#pd5b7aef74c)\">\n     <use xlink:href=\"#C0_0_341ea72f40\" x=\"274.391169\" y=\"120.096431\" style=\"fill: #03051a; stroke: #1a1a1a\"/>\n    </g>\n    <g clip-path=\"url(#pd5b7aef74c)\">\n     <use xlink:href=\"#C0_0_341ea72f40\" x=\"162.518482\" y=\"96.934195\" style=\"fill: #faebdd; stroke: #1a1a1a\"/>\n    </g>\n    <g clip-path=\"url(#pd5b7aef74c)\">\n     <use xlink:href=\"#C0_0_341ea72f40\" x=\"154.945684\" y=\"93.991279\" style=\"fill: #faebdd; stroke: #1a1a1a\"/>\n    </g>\n    <g clip-path=\"url(#pd5b7aef74c)\">\n     <use xlink:href=\"#C0_0_341ea72f40\" x=\"246.897068\" y=\"212.89959\" style=\"fill: #faebdd; stroke: #1a1a1a\"/>\n    </g>\n    <g clip-path=\"url(#pd5b7aef74c)\">\n     <use xlink:href=\"#C0_0_341ea72f40\" x=\"271.53943\" y=\"92.653895\" style=\"fill: #03051a; stroke: #1a1a1a\"/>\n    </g>\n    <g clip-path=\"url(#pd5b7aef74c)\">\n     <use xlink:href=\"#C0_0_341ea72f40\" x=\"134.930556\" y=\"193.797971\" style=\"fill: #03051a; stroke: #1a1a1a\"/>\n    </g>\n    <g clip-path=\"url(#pd5b7aef74c)\">\n     <use xlink:href=\"#C0_0_341ea72f40\" x=\"264.762591\" y=\"221.284918\" style=\"fill: #faebdd; stroke: #1a1a1a\"/>\n    </g>\n    <g clip-path=\"url(#pd5b7aef74c)\">\n     <use xlink:href=\"#C0_0_341ea72f40\" x=\"277.946076\" y=\"103.052405\" style=\"fill: #03051a; stroke: #1a1a1a\"/>\n    </g>\n    <g clip-path=\"url(#pd5b7aef74c)\">\n     <use xlink:href=\"#C0_0_341ea72f40\" x=\"151.537297\" y=\"105.821877\" style=\"fill: #faebdd; stroke: #1a1a1a\"/>\n    </g>\n    <g clip-path=\"url(#pd5b7aef74c)\">\n     <use xlink:href=\"#C0_0_341ea72f40\" x=\"251.597094\" y=\"81.786078\" style=\"fill: #03051a; stroke: #1a1a1a\"/>\n    </g>\n    <g clip-path=\"url(#pd5b7aef74c)\">\n     <use xlink:href=\"#C0_0_341ea72f40\" x=\"158.023463\" y=\"109.374656\" style=\"fill: #faebdd; stroke: #1a1a1a\"/>\n    </g>\n    <g clip-path=\"url(#pd5b7aef74c)\">\n     <use xlink:href=\"#C0_0_341ea72f40\" x=\"260.537668\" y=\"205.114654\" style=\"fill: #faebdd; stroke: #1a1a1a\"/>\n    </g>\n    <g clip-path=\"url(#pd5b7aef74c)\">\n     <use xlink:href=\"#C0_0_341ea72f40\" x=\"256.385261\" y=\"213.801613\" style=\"fill: #faebdd; stroke: #1a1a1a\"/>\n    </g>\n    <g clip-path=\"url(#pd5b7aef74c)\">\n     <use xlink:href=\"#C0_0_341ea72f40\" x=\"153.769271\" y=\"216.971015\" style=\"fill: #03051a; stroke: #1a1a1a\"/>\n    </g>\n    <g clip-path=\"url(#pd5b7aef74c)\">\n     <use xlink:href=\"#C0_0_341ea72f40\" x=\"155.701807\" y=\"105.126163\" style=\"fill: #faebdd; stroke: #1a1a1a\"/>\n    </g>\n    <g clip-path=\"url(#pd5b7aef74c)\">\n     <use xlink:href=\"#C0_0_341ea72f40\" x=\"143.088548\" y=\"84.40021\" style=\"fill: #faebdd; stroke: #1a1a1a\"/>\n    </g>\n    <g clip-path=\"url(#pd5b7aef74c)\">\n     <use xlink:href=\"#C0_0_341ea72f40\" x=\"135.291381\" y=\"119.53759\" style=\"fill: #faebdd; stroke: #1a1a1a\"/>\n    </g>\n    <g clip-path=\"url(#pd5b7aef74c)\">\n     <use xlink:href=\"#C0_0_341ea72f40\" x=\"134.1684\" y=\"213.111989\" style=\"fill: #03051a; stroke: #1a1a1a\"/>\n    </g>\n    <g clip-path=\"url(#pd5b7aef74c)\">\n     <use xlink:href=\"#C0_0_341ea72f40\" x=\"145.531504\" y=\"212.884023\" style=\"fill: #03051a; stroke: #1a1a1a\"/>\n    </g>\n    <g clip-path=\"url(#pd5b7aef74c)\">\n     <use xlink:href=\"#C0_0_341ea72f40\" x=\"131.744515\" y=\"204.30945\" style=\"fill: #03051a; stroke: #1a1a1a\"/>\n    </g>\n    <g clip-path=\"url(#pd5b7aef74c)\">\n     <use xlink:href=\"#C0_0_341ea72f40\" x=\"153.928781\" y=\"103.810792\" style=\"fill: #faebdd; stroke: #1a1a1a\"/>\n    </g>\n    <g clip-path=\"url(#pd5b7aef74c)\">\n     <use xlink:href=\"#C0_0_341ea72f40\" x=\"148.965042\" y=\"84.236694\" style=\"fill: #faebdd; stroke: #1a1a1a\"/>\n    </g>\n    <g clip-path=\"url(#pd5b7aef74c)\">\n     <use xlink:href=\"#C0_0_341ea72f40\" x=\"283.53237\" y=\"107.777021\" style=\"fill: #03051a; stroke: #1a1a1a\"/>\n    </g>\n    <g clip-path=\"url(#pd5b7aef74c)\">\n     <use xlink:href=\"#C0_0_341ea72f40\" x=\"148.158369\" y=\"97.830989\" style=\"fill: #faebdd; stroke: #1a1a1a\"/>\n    </g>\n    <g clip-path=\"url(#pd5b7aef74c)\">\n     <use xlink:href=\"#C0_0_341ea72f40\" x=\"278.776851\" y=\"99.143162\" style=\"fill: #03051a; stroke: #1a1a1a\"/>\n    </g>\n    <g clip-path=\"url(#pd5b7aef74c)\">\n     <use xlink:href=\"#C0_0_341ea72f40\" x=\"143.730567\" y=\"93.03737\" style=\"fill: #faebdd; stroke: #1a1a1a\"/>\n    </g>\n    <g clip-path=\"url(#pd5b7aef74c)\">\n     <use xlink:href=\"#C0_0_341ea72f40\" x=\"276.944374\" y=\"87.3443\" style=\"fill: #03051a; stroke: #1a1a1a\"/>\n    </g>\n    <g clip-path=\"url(#pd5b7aef74c)\">\n     <use xlink:href=\"#C0_0_341ea72f40\" x=\"248.528619\" y=\"220.321973\" style=\"fill: #faebdd; stroke: #1a1a1a\"/>\n    </g>\n    <g clip-path=\"url(#pd5b7aef74c)\">\n     <use xlink:href=\"#C0_0_341ea72f40\" x=\"129.527851\" y=\"121.470521\" style=\"fill: #faebdd; stroke: #1a1a1a\"/>\n    </g>\n    <g clip-path=\"url(#pd5b7aef74c)\">\n     <use xlink:href=\"#C0_0_341ea72f40\" x=\"138.472841\" y=\"223.723019\" style=\"fill: #03051a; stroke: #1a1a1a\"/>\n    </g>\n    <g clip-path=\"url(#pd5b7aef74c)\">\n     <use xlink:href=\"#C0_0_341ea72f40\" x=\"280.637486\" y=\"201.238933\" style=\"fill: #faebdd; stroke: #1a1a1a\"/>\n    </g>\n    <g clip-path=\"url(#pd5b7aef74c)\">\n     <use xlink:href=\"#C0_0_341ea72f40\" x=\"258.648472\" y=\"208.057452\" style=\"fill: #faebdd; stroke: #1a1a1a\"/>\n    </g>\n    <g clip-path=\"url(#pd5b7aef74c)\">\n     <use xlink:href=\"#C0_0_341ea72f40\" x=\"276.775434\" y=\"187.325651\" style=\"fill: #faebdd; stroke: #1a1a1a\"/>\n    </g>\n    <g clip-path=\"url(#pd5b7aef74c)\">\n     <use xlink:href=\"#C0_0_341ea72f40\" x=\"257.691998\" y=\"102.422329\" style=\"fill: #03051a; stroke: #1a1a1a\"/>\n    </g>\n    <g clip-path=\"url(#pd5b7aef74c)\">\n     <use xlink:href=\"#C0_0_341ea72f40\" x=\"247.961042\" y=\"234.34232\" style=\"fill: #faebdd; stroke: #1a1a1a\"/>\n    </g>\n    <g clip-path=\"url(#pd5b7aef74c)\">\n     <use xlink:href=\"#C0_0_341ea72f40\" x=\"149.703386\" y=\"110.615948\" style=\"fill: #faebdd; stroke: #1a1a1a\"/>\n    </g>\n    <g clip-path=\"url(#pd5b7aef74c)\">\n     <use xlink:href=\"#C0_0_341ea72f40\" x=\"254.541116\" y=\"102.764558\" style=\"fill: #03051a; stroke: #1a1a1a\"/>\n    </g>\n    <g clip-path=\"url(#pd5b7aef74c)\">\n     <use xlink:href=\"#C0_0_341ea72f40\" x=\"136.048543\" y=\"230.080106\" style=\"fill: #03051a; stroke: #1a1a1a\"/>\n    </g>\n    <g clip-path=\"url(#pd5b7aef74c)\">\n     <use xlink:href=\"#C0_0_341ea72f40\" x=\"157.597992\" y=\"218.525195\" style=\"fill: #03051a; stroke: #1a1a1a\"/>\n    </g>\n    <g clip-path=\"url(#pd5b7aef74c)\">\n     <use xlink:href=\"#C0_0_341ea72f40\" x=\"243.467207\" y=\"205.003995\" style=\"fill: #faebdd; stroke: #1a1a1a\"/>\n    </g>\n    <g clip-path=\"url(#pd5b7aef74c)\">\n     <use xlink:href=\"#C0_0_341ea72f40\" x=\"253.186243\" y=\"202.601161\" style=\"fill: #faebdd; stroke: #1a1a1a\"/>\n    </g>\n    <g clip-path=\"url(#pd5b7aef74c)\">\n     <use xlink:href=\"#C0_0_341ea72f40\" x=\"128.699408\" y=\"216.215577\" style=\"fill: #03051a; stroke: #1a1a1a\"/>\n    </g>\n    <g clip-path=\"url(#pd5b7aef74c)\">\n     <use xlink:href=\"#C0_0_341ea72f40\" x=\"146.964399\" y=\"203.353923\" style=\"fill: #03051a; stroke: #1a1a1a\"/>\n    </g>\n    <g clip-path=\"url(#pd5b7aef74c)\">\n     <use xlink:href=\"#C0_0_341ea72f40\" x=\"151.746043\" y=\"104.320159\" style=\"fill: #faebdd; stroke: #1a1a1a\"/>\n    </g>\n    <g clip-path=\"url(#pd5b7aef74c)\">\n     <use xlink:href=\"#C0_0_341ea72f40\" x=\"167.197449\" y=\"94.613708\" style=\"fill: #faebdd; stroke: #1a1a1a\"/>\n    </g>\n    <g clip-path=\"url(#pd5b7aef74c)\">\n     <use xlink:href=\"#C0_0_341ea72f40\" x=\"288.520558\" y=\"199.86505\" style=\"fill: #faebdd; stroke: #1a1a1a\"/>\n    </g>\n    <g clip-path=\"url(#pd5b7aef74c)\">\n     <use xlink:href=\"#C0_0_341ea72f40\" x=\"265.363067\" y=\"98.464392\" style=\"fill: #03051a; stroke: #1a1a1a\"/>\n    </g>\n    <g clip-path=\"url(#pd5b7aef74c)\">\n     <use xlink:href=\"#C0_0_341ea72f40\" x=\"275.432842\" y=\"106.849464\" style=\"fill: #03051a; stroke: #1a1a1a\"/>\n    </g>\n    <g clip-path=\"url(#pd5b7aef74c)\">\n     <use xlink:href=\"#C0_0_341ea72f40\" x=\"151.678305\" y=\"99.627351\" style=\"fill: #faebdd; stroke: #1a1a1a\"/>\n    </g>\n    <g clip-path=\"url(#pd5b7aef74c)\">\n     <use xlink:href=\"#C0_0_341ea72f40\" x=\"152.297284\" y=\"75.860101\" style=\"fill: #faebdd; stroke: #1a1a1a\"/>\n    </g>\n    <g clip-path=\"url(#pd5b7aef74c)\">\n     <use xlink:href=\"#C0_0_341ea72f40\" x=\"146.233232\" y=\"209.474472\" style=\"fill: #03051a; stroke: #1a1a1a\"/>\n    </g>\n    <g clip-path=\"url(#pd5b7aef74c)\">\n     <use xlink:href=\"#C0_0_341ea72f40\" x=\"156.499097\" y=\"120.934499\" style=\"fill: #faebdd; stroke: #1a1a1a\"/>\n    </g>\n    <g clip-path=\"url(#pd5b7aef74c)\">\n     <use xlink:href=\"#C0_0_341ea72f40\" x=\"174.253324\" y=\"218.668797\" style=\"fill: #03051a; stroke: #1a1a1a\"/>\n    </g>\n    <g clip-path=\"url(#pd5b7aef74c)\">\n     <use xlink:href=\"#C0_0_341ea72f40\" x=\"265.043307\" y=\"217.874372\" style=\"fill: #faebdd; stroke: #1a1a1a\"/>\n    </g>\n    <g clip-path=\"url(#pd5b7aef74c)\">\n     <use xlink:href=\"#C0_0_341ea72f40\" x=\"157.48038\" y=\"208.374376\" style=\"fill: #03051a; stroke: #1a1a1a\"/>\n    </g>\n    <g clip-path=\"url(#pd5b7aef74c)\">\n     <use xlink:href=\"#C0_0_341ea72f40\" x=\"266.314596\" y=\"107.123656\" style=\"fill: #03051a; stroke: #1a1a1a\"/>\n    </g>\n    <g clip-path=\"url(#pd5b7aef74c)\">\n     <use xlink:href=\"#C0_0_341ea72f40\" x=\"265.578529\" y=\"107.734627\" style=\"fill: #03051a; stroke: #1a1a1a\"/>\n    </g>\n    <g clip-path=\"url(#pd5b7aef74c)\">\n     <use xlink:href=\"#C0_0_341ea72f40\" x=\"252.372804\" y=\"204.356759\" style=\"fill: #faebdd; stroke: #1a1a1a\"/>\n    </g>\n    <g clip-path=\"url(#pd5b7aef74c)\">\n     <use xlink:href=\"#C0_0_341ea72f40\" x=\"271.814752\" y=\"201.369963\" style=\"fill: #faebdd; stroke: #1a1a1a\"/>\n    </g>\n    <g clip-path=\"url(#pd5b7aef74c)\">\n     <use xlink:href=\"#C0_0_341ea72f40\" x=\"145.044192\" y=\"217.600935\" style=\"fill: #03051a; stroke: #1a1a1a\"/>\n    </g>\n    <g clip-path=\"url(#pd5b7aef74c)\">\n     <use xlink:href=\"#C0_0_341ea72f40\" x=\"147.682207\" y=\"98.099101\" style=\"fill: #faebdd; stroke: #1a1a1a\"/>\n    </g>\n    <g clip-path=\"url(#pd5b7aef74c)\">\n     <use xlink:href=\"#C0_0_341ea72f40\" x=\"255.681754\" y=\"104.471269\" style=\"fill: #03051a; stroke: #1a1a1a\"/>\n    </g>\n    <g clip-path=\"url(#pd5b7aef74c)\">\n     <use xlink:href=\"#C0_0_341ea72f40\" x=\"244.120691\" y=\"223.625089\" style=\"fill: #faebdd; stroke: #1a1a1a\"/>\n    </g>\n    <g clip-path=\"url(#pd5b7aef74c)\">\n     <use xlink:href=\"#C0_0_341ea72f40\" x=\"254.97469\" y=\"220.930768\" style=\"fill: #faebdd; stroke: #1a1a1a\"/>\n    </g>\n    <g clip-path=\"url(#pd5b7aef74c)\">\n     <use xlink:href=\"#C0_0_341ea72f40\" x=\"237.333676\" y=\"116.400022\" style=\"fill: #03051a; stroke: #1a1a1a\"/>\n    </g>\n    <g clip-path=\"url(#pd5b7aef74c)\">\n     <use xlink:href=\"#C0_0_341ea72f40\" x=\"263.616266\" y=\"103.537046\" style=\"fill: #03051a; stroke: #1a1a1a\"/>\n    </g>\n    <g clip-path=\"url(#pd5b7aef74c)\">\n     <use xlink:href=\"#C0_0_341ea72f40\" x=\"140.887921\" y=\"207.461574\" style=\"fill: #03051a; stroke: #1a1a1a\"/>\n    </g>\n    <g clip-path=\"url(#pd5b7aef74c)\">\n     <use xlink:href=\"#C0_0_341ea72f40\" x=\"266.896682\" y=\"198.757506\" style=\"fill: #faebdd; stroke: #1a1a1a\"/>\n    </g>\n    <g clip-path=\"url(#pd5b7aef74c)\">\n     <use xlink:href=\"#C0_0_341ea72f40\" x=\"169.644684\" y=\"91.695602\" style=\"fill: #faebdd; stroke: #1a1a1a\"/>\n    </g>\n    <g clip-path=\"url(#pd5b7aef74c)\">\n     <use xlink:href=\"#C0_0_341ea72f40\" x=\"267.95101\" y=\"96.228126\" style=\"fill: #03051a; stroke: #1a1a1a\"/>\n    </g>\n    <g clip-path=\"url(#pd5b7aef74c)\">\n     <use xlink:href=\"#C0_0_341ea72f40\" x=\"149.215048\" y=\"222.792242\" style=\"fill: #03051a; stroke: #1a1a1a\"/>\n    </g>\n    <g clip-path=\"url(#pd5b7aef74c)\">\n     <use xlink:href=\"#C0_0_341ea72f40\" x=\"133.002789\" y=\"105.441052\" style=\"fill: #faebdd; stroke: #1a1a1a\"/>\n    </g>\n    <g clip-path=\"url(#pd5b7aef74c)\">\n     <use xlink:href=\"#C0_0_341ea72f40\" x=\"155.816246\" y=\"224.653522\" style=\"fill: #03051a; stroke: #1a1a1a\"/>\n    </g>\n    <g clip-path=\"url(#pd5b7aef74c)\">\n     <use xlink:href=\"#C0_0_341ea72f40\" x=\"166.286312\" y=\"214.305533\" style=\"fill: #03051a; stroke: #1a1a1a\"/>\n    </g>\n    <g clip-path=\"url(#pd5b7aef74c)\">\n     <use xlink:href=\"#C0_0_341ea72f40\" x=\"243.371226\" y=\"98.442393\" style=\"fill: #03051a; stroke: #1a1a1a\"/>\n    </g>\n    <g clip-path=\"url(#pd5b7aef74c)\">\n     <use xlink:href=\"#C0_0_341ea72f40\" x=\"268.520413\" y=\"89.46176\" style=\"fill: #03051a; stroke: #1a1a1a\"/>\n    </g>\n    <g clip-path=\"url(#pd5b7aef74c)\">\n     <use xlink:href=\"#C0_0_341ea72f40\" x=\"254.800206\" y=\"211.092129\" style=\"fill: #faebdd; stroke: #1a1a1a\"/>\n    </g>\n    <g clip-path=\"url(#pd5b7aef74c)\">\n     <use xlink:href=\"#C0_0_341ea72f40\" x=\"259.969676\" y=\"102.440822\" style=\"fill: #03051a; stroke: #1a1a1a\"/>\n    </g>\n    <g clip-path=\"url(#pd5b7aef74c)\">\n     <use xlink:href=\"#C0_0_341ea72f40\" x=\"139.413687\" y=\"108.546511\" style=\"fill: #faebdd; stroke: #1a1a1a\"/>\n    </g>\n   </g>\n   <g id=\"patch_3\">\n    <path d=\"M 59.024844 288.430125 \nL 59.024844 22.318125 \n\" style=\"fill: none; stroke: #ffffff; stroke-width: 1.25; stroke-linejoin: miter; stroke-linecap: square\"/>\n   </g>\n   <g id=\"patch_4\">\n    <path d=\"M 344.720844 288.430125 \nL 344.720844 22.318125 \n\" style=\"fill: none; stroke: #ffffff; stroke-width: 1.25; stroke-linejoin: miter; stroke-linecap: square\"/>\n   </g>\n   <g id=\"patch_5\">\n    <path d=\"M 59.024844 288.430125 \nL 344.720844 288.430125 \n\" style=\"fill: none; stroke: #ffffff; stroke-width: 1.25; stroke-linejoin: miter; stroke-linecap: square\"/>\n   </g>\n   <g id=\"patch_6\">\n    <path d=\"M 59.024844 22.318125 \nL 344.720844 22.318125 \n\" style=\"fill: none; stroke: #ffffff; stroke-width: 1.25; stroke-linejoin: miter; stroke-linecap: square\"/>\n   </g>\n   <g id=\"text_13\">\n    <!-- Decision Boundary for XOR Problem -->\n    <g style=\"fill: #262626\" transform=\"translate(94.407219 16.318125) scale(0.12 -0.12)\">\n     <defs>\n      <path id=\"DejaVuSans-44\" d=\"M 1259 4147 \nL 1259 519 \nL 2022 519 \nQ 2988 519 3436 956 \nQ 3884 1394 3884 2338 \nQ 3884 3275 3436 3711 \nQ 2988 4147 2022 4147 \nL 1259 4147 \nz\nM 628 4666 \nL 1925 4666 \nQ 3281 4666 3915 4102 \nQ 4550 3538 4550 2338 \nQ 4550 1131 3912 565 \nQ 3275 0 1925 0 \nL 628 0 \nL 628 4666 \nz\n\" transform=\"scale(0.015625)\"/>\n      <path id=\"DejaVuSans-65\" d=\"M 3597 1894 \nL 3597 1613 \nL 953 1613 \nQ 991 1019 1311 708 \nQ 1631 397 2203 397 \nQ 2534 397 2845 478 \nQ 3156 559 3463 722 \nL 3463 178 \nQ 3153 47 2828 -22 \nQ 2503 -91 2169 -91 \nQ 1331 -91 842 396 \nQ 353 884 353 1716 \nQ 353 2575 817 3079 \nQ 1281 3584 2069 3584 \nQ 2775 3584 3186 3129 \nQ 3597 2675 3597 1894 \nz\nM 3022 2063 \nQ 3016 2534 2758 2815 \nQ 2500 3097 2075 3097 \nQ 1594 3097 1305 2825 \nQ 1016 2553 972 2059 \nL 3022 2063 \nz\n\" transform=\"scale(0.015625)\"/>\n      <path id=\"DejaVuSans-63\" d=\"M 3122 3366 \nL 3122 2828 \nQ 2878 2963 2633 3030 \nQ 2388 3097 2138 3097 \nQ 1578 3097 1268 2742 \nQ 959 2388 959 1747 \nQ 959 1106 1268 751 \nQ 1578 397 2138 397 \nQ 2388 397 2633 464 \nQ 2878 531 3122 666 \nL 3122 134 \nQ 2881 22 2623 -34 \nQ 2366 -91 2075 -91 \nQ 1284 -91 818 406 \nQ 353 903 353 1747 \nQ 353 2603 823 3093 \nQ 1294 3584 2113 3584 \nQ 2378 3584 2631 3529 \nQ 2884 3475 3122 3366 \nz\n\" transform=\"scale(0.015625)\"/>\n      <path id=\"DejaVuSans-69\" d=\"M 603 3500 \nL 1178 3500 \nL 1178 0 \nL 603 0 \nL 603 3500 \nz\nM 603 4863 \nL 1178 4863 \nL 1178 4134 \nL 603 4134 \nL 603 4863 \nz\n\" transform=\"scale(0.015625)\"/>\n      <path id=\"DejaVuSans-73\" d=\"M 2834 3397 \nL 2834 2853 \nQ 2591 2978 2328 3040 \nQ 2066 3103 1784 3103 \nQ 1356 3103 1142 2972 \nQ 928 2841 928 2578 \nQ 928 2378 1081 2264 \nQ 1234 2150 1697 2047 \nL 1894 2003 \nQ 2506 1872 2764 1633 \nQ 3022 1394 3022 966 \nQ 3022 478 2636 193 \nQ 2250 -91 1575 -91 \nQ 1294 -91 989 -36 \nQ 684 19 347 128 \nL 347 722 \nQ 666 556 975 473 \nQ 1284 391 1588 391 \nQ 1994 391 2212 530 \nQ 2431 669 2431 922 \nQ 2431 1156 2273 1281 \nQ 2116 1406 1581 1522 \nL 1381 1569 \nQ 847 1681 609 1914 \nQ 372 2147 372 2553 \nQ 372 3047 722 3315 \nQ 1072 3584 1716 3584 \nQ 2034 3584 2315 3537 \nQ 2597 3491 2834 3397 \nz\n\" transform=\"scale(0.015625)\"/>\n      <path id=\"DejaVuSans-6f\" d=\"M 1959 3097 \nQ 1497 3097 1228 2736 \nQ 959 2375 959 1747 \nQ 959 1119 1226 758 \nQ 1494 397 1959 397 \nQ 2419 397 2687 759 \nQ 2956 1122 2956 1747 \nQ 2956 2369 2687 2733 \nQ 2419 3097 1959 3097 \nz\nM 1959 3584 \nQ 2709 3584 3137 3096 \nQ 3566 2609 3566 1747 \nQ 3566 888 3137 398 \nQ 2709 -91 1959 -91 \nQ 1206 -91 779 398 \nQ 353 888 353 1747 \nQ 353 2609 779 3096 \nQ 1206 3584 1959 3584 \nz\n\" transform=\"scale(0.015625)\"/>\n      <path id=\"DejaVuSans-42\" d=\"M 1259 2228 \nL 1259 519 \nL 2272 519 \nQ 2781 519 3026 730 \nQ 3272 941 3272 1375 \nQ 3272 1813 3026 2020 \nQ 2781 2228 2272 2228 \nL 1259 2228 \nz\nM 1259 4147 \nL 1259 2741 \nL 2194 2741 \nQ 2656 2741 2882 2914 \nQ 3109 3088 3109 3444 \nQ 3109 3797 2882 3972 \nQ 2656 4147 2194 4147 \nL 1259 4147 \nz\nM 628 4666 \nL 2241 4666 \nQ 2963 4666 3353 4366 \nQ 3744 4066 3744 3513 \nQ 3744 3084 3544 2831 \nQ 3344 2578 2956 2516 \nQ 3422 2416 3680 2098 \nQ 3938 1781 3938 1306 \nQ 3938 681 3513 340 \nQ 3088 0 2303 0 \nL 628 0 \nL 628 4666 \nz\n\" transform=\"scale(0.015625)\"/>\n      <path id=\"DejaVuSans-64\" d=\"M 2906 2969 \nL 2906 4863 \nL 3481 4863 \nL 3481 0 \nL 2906 0 \nL 2906 525 \nQ 2725 213 2448 61 \nQ 2172 -91 1784 -91 \nQ 1150 -91 751 415 \nQ 353 922 353 1747 \nQ 353 2572 751 3078 \nQ 1150 3584 1784 3584 \nQ 2172 3584 2448 3432 \nQ 2725 3281 2906 2969 \nz\nM 947 1747 \nQ 947 1113 1208 752 \nQ 1469 391 1925 391 \nQ 2381 391 2643 752 \nQ 2906 1113 2906 1747 \nQ 2906 2381 2643 2742 \nQ 2381 3103 1925 3103 \nQ 1469 3103 1208 2742 \nQ 947 2381 947 1747 \nz\n\" transform=\"scale(0.015625)\"/>\n      <path id=\"DejaVuSans-61\" d=\"M 2194 1759 \nQ 1497 1759 1228 1600 \nQ 959 1441 959 1056 \nQ 959 750 1161 570 \nQ 1363 391 1709 391 \nQ 2188 391 2477 730 \nQ 2766 1069 2766 1631 \nL 2766 1759 \nL 2194 1759 \nz\nM 3341 1997 \nL 3341 0 \nL 2766 0 \nL 2766 531 \nQ 2569 213 2275 61 \nQ 1981 -91 1556 -91 \nQ 1019 -91 701 211 \nQ 384 513 384 1019 \nQ 384 1609 779 1909 \nQ 1175 2209 1959 2209 \nL 2766 2209 \nL 2766 2266 \nQ 2766 2663 2505 2880 \nQ 2244 3097 1772 3097 \nQ 1472 3097 1187 3025 \nQ 903 2953 641 2809 \nL 641 3341 \nQ 956 3463 1253 3523 \nQ 1550 3584 1831 3584 \nQ 2591 3584 2966 3190 \nQ 3341 2797 3341 1997 \nz\n\" transform=\"scale(0.015625)\"/>\n      <path id=\"DejaVuSans-72\" d=\"M 2631 2963 \nQ 2534 3019 2420 3045 \nQ 2306 3072 2169 3072 \nQ 1681 3072 1420 2755 \nQ 1159 2438 1159 1844 \nL 1159 0 \nL 581 0 \nL 581 3500 \nL 1159 3500 \nL 1159 2956 \nQ 1341 3275 1631 3429 \nQ 1922 3584 2338 3584 \nQ 2397 3584 2469 3576 \nQ 2541 3569 2628 3553 \nL 2631 2963 \nz\n\" transform=\"scale(0.015625)\"/>\n      <path id=\"DejaVuSans-79\" d=\"M 2059 -325 \nQ 1816 -950 1584 -1140 \nQ 1353 -1331 966 -1331 \nL 506 -1331 \nL 506 -850 \nL 844 -850 \nQ 1081 -850 1212 -737 \nQ 1344 -625 1503 -206 \nL 1606 56 \nL 191 3500 \nL 800 3500 \nL 1894 763 \nL 2988 3500 \nL 3597 3500 \nL 2059 -325 \nz\n\" transform=\"scale(0.015625)\"/>\n      <path id=\"DejaVuSans-66\" d=\"M 2375 4863 \nL 2375 4384 \nL 1825 4384 \nQ 1516 4384 1395 4259 \nQ 1275 4134 1275 3809 \nL 1275 3500 \nL 2222 3500 \nL 2222 3053 \nL 1275 3053 \nL 1275 0 \nL 697 0 \nL 697 3053 \nL 147 3053 \nL 147 3500 \nL 697 3500 \nL 697 3744 \nQ 697 4328 969 4595 \nQ 1241 4863 1831 4863 \nL 2375 4863 \nz\n\" transform=\"scale(0.015625)\"/>\n      <path id=\"DejaVuSans-58\" d=\"M 403 4666 \nL 1081 4666 \nL 2241 2931 \nL 3406 4666 \nL 4084 4666 \nL 2584 2425 \nL 4184 0 \nL 3506 0 \nL 2194 1984 \nL 872 0 \nL 191 0 \nL 1856 2491 \nL 403 4666 \nz\n\" transform=\"scale(0.015625)\"/>\n      <path id=\"DejaVuSans-4f\" d=\"M 2522 4238 \nQ 1834 4238 1429 3725 \nQ 1025 3213 1025 2328 \nQ 1025 1447 1429 934 \nQ 1834 422 2522 422 \nQ 3209 422 3611 934 \nQ 4013 1447 4013 2328 \nQ 4013 3213 3611 3725 \nQ 3209 4238 2522 4238 \nz\nM 2522 4750 \nQ 3503 4750 4090 4092 \nQ 4678 3434 4678 2328 \nQ 4678 1225 4090 567 \nQ 3503 -91 2522 -91 \nQ 1538 -91 948 565 \nQ 359 1222 359 2328 \nQ 359 3434 948 4092 \nQ 1538 4750 2522 4750 \nz\n\" transform=\"scale(0.015625)\"/>\n      <path id=\"DejaVuSans-52\" d=\"M 2841 2188 \nQ 3044 2119 3236 1894 \nQ 3428 1669 3622 1275 \nL 4263 0 \nL 3584 0 \nL 2988 1197 \nQ 2756 1666 2539 1819 \nQ 2322 1972 1947 1972 \nL 1259 1972 \nL 1259 0 \nL 628 0 \nL 628 4666 \nL 2053 4666 \nQ 2853 4666 3247 4331 \nQ 3641 3997 3641 3322 \nQ 3641 2881 3436 2590 \nQ 3231 2300 2841 2188 \nz\nM 1259 4147 \nL 1259 2491 \nL 2053 2491 \nQ 2509 2491 2742 2702 \nQ 2975 2913 2975 3322 \nQ 2975 3731 2742 3939 \nQ 2509 4147 2053 4147 \nL 1259 4147 \nz\n\" transform=\"scale(0.015625)\"/>\n      <path id=\"DejaVuSans-50\" d=\"M 1259 4147 \nL 1259 2394 \nL 2053 2394 \nQ 2494 2394 2734 2622 \nQ 2975 2850 2975 3272 \nQ 2975 3691 2734 3919 \nQ 2494 4147 2053 4147 \nL 1259 4147 \nz\nM 628 4666 \nL 2053 4666 \nQ 2838 4666 3239 4311 \nQ 3641 3956 3641 3272 \nQ 3641 2581 3239 2228 \nQ 2838 1875 2053 1875 \nL 1259 1875 \nL 1259 0 \nL 628 0 \nL 628 4666 \nz\n\" transform=\"scale(0.015625)\"/>\n      <path id=\"DejaVuSans-62\" d=\"M 3116 1747 \nQ 3116 2381 2855 2742 \nQ 2594 3103 2138 3103 \nQ 1681 3103 1420 2742 \nQ 1159 2381 1159 1747 \nQ 1159 1113 1420 752 \nQ 1681 391 2138 391 \nQ 2594 391 2855 752 \nQ 3116 1113 3116 1747 \nz\nM 1159 2969 \nQ 1341 3281 1617 3432 \nQ 1894 3584 2278 3584 \nQ 2916 3584 3314 3078 \nQ 3713 2572 3713 1747 \nQ 3713 922 3314 415 \nQ 2916 -91 2278 -91 \nQ 1894 -91 1617 61 \nQ 1341 213 1159 525 \nL 1159 0 \nL 581 0 \nL 581 4863 \nL 1159 4863 \nL 1159 2969 \nz\n\" transform=\"scale(0.015625)\"/>\n      <path id=\"DejaVuSans-6c\" d=\"M 603 4863 \nL 1178 4863 \nL 1178 0 \nL 603 0 \nL 603 4863 \nz\n\" transform=\"scale(0.015625)\"/>\n      <path id=\"DejaVuSans-6d\" d=\"M 3328 2828 \nQ 3544 3216 3844 3400 \nQ 4144 3584 4550 3584 \nQ 5097 3584 5394 3201 \nQ 5691 2819 5691 2113 \nL 5691 0 \nL 5113 0 \nL 5113 2094 \nQ 5113 2597 4934 2840 \nQ 4756 3084 4391 3084 \nQ 3944 3084 3684 2787 \nQ 3425 2491 3425 1978 \nL 3425 0 \nL 2847 0 \nL 2847 2094 \nQ 2847 2600 2669 2842 \nQ 2491 3084 2119 3084 \nQ 1678 3084 1418 2786 \nQ 1159 2488 1159 1978 \nL 1159 0 \nL 581 0 \nL 581 3500 \nL 1159 3500 \nL 1159 2956 \nQ 1356 3278 1631 3431 \nQ 1906 3584 2284 3584 \nQ 2666 3584 2933 3390 \nQ 3200 3197 3328 2828 \nz\n\" transform=\"scale(0.015625)\"/>\n     </defs>\n     <use xlink:href=\"#DejaVuSans-44\"/>\n     <use xlink:href=\"#DejaVuSans-65\" x=\"77.001953\"/>\n     <use xlink:href=\"#DejaVuSans-63\" x=\"138.525391\"/>\n     <use xlink:href=\"#DejaVuSans-69\" x=\"193.505859\"/>\n     <use xlink:href=\"#DejaVuSans-73\" x=\"221.289062\"/>\n     <use xlink:href=\"#DejaVuSans-69\" x=\"273.388672\"/>\n     <use xlink:href=\"#DejaVuSans-6f\" x=\"301.171875\"/>\n     <use xlink:href=\"#DejaVuSans-6e\" x=\"362.353516\"/>\n     <use xlink:href=\"#DejaVuSans-20\" x=\"425.732422\"/>\n     <use xlink:href=\"#DejaVuSans-42\" x=\"457.519531\"/>\n     <use xlink:href=\"#DejaVuSans-6f\" x=\"526.123047\"/>\n     <use xlink:href=\"#DejaVuSans-75\" x=\"587.304688\"/>\n     <use xlink:href=\"#DejaVuSans-6e\" x=\"650.683594\"/>\n     <use xlink:href=\"#DejaVuSans-64\" x=\"714.0625\"/>\n     <use xlink:href=\"#DejaVuSans-61\" x=\"777.539062\"/>\n     <use xlink:href=\"#DejaVuSans-72\" x=\"838.818359\"/>\n     <use xlink:href=\"#DejaVuSans-79\" x=\"879.931641\"/>\n     <use xlink:href=\"#DejaVuSans-20\" x=\"939.111328\"/>\n     <use xlink:href=\"#DejaVuSans-66\" x=\"970.898438\"/>\n     <use xlink:href=\"#DejaVuSans-6f\" x=\"1006.103516\"/>\n     <use xlink:href=\"#DejaVuSans-72\" x=\"1067.285156\"/>\n     <use xlink:href=\"#DejaVuSans-20\" x=\"1108.398438\"/>\n     <use xlink:href=\"#DejaVuSans-58\" x=\"1140.185547\"/>\n     <use xlink:href=\"#DejaVuSans-4f\" x=\"1202.316406\"/>\n     <use xlink:href=\"#DejaVuSans-52\" x=\"1281.027344\"/>\n     <use xlink:href=\"#DejaVuSans-20\" x=\"1350.509766\"/>\n     <use xlink:href=\"#DejaVuSans-50\" x=\"1382.296875\"/>\n     <use xlink:href=\"#DejaVuSans-72\" x=\"1440.849609\"/>\n     <use xlink:href=\"#DejaVuSans-6f\" x=\"1479.712891\"/>\n     <use xlink:href=\"#DejaVuSans-62\" x=\"1540.894531\"/>\n     <use xlink:href=\"#DejaVuSans-6c\" x=\"1604.371094\"/>\n     <use xlink:href=\"#DejaVuSans-65\" x=\"1632.154297\"/>\n     <use xlink:href=\"#DejaVuSans-6d\" x=\"1693.677734\"/>\n    </g>\n   </g>\n  </g>\n  <g id=\"axes_2\">\n   <g id=\"patch_7\">\n    <path d=\"M 362.576844 288.430125 \nL 375.882444 288.430125 \nL 375.882444 22.318125 \nL 362.576844 22.318125 \nz\n\" style=\"fill: #eaeaf2\"/>\n   </g>\n   <g id=\"matplotlib.axis_3\"/>\n   <g id=\"matplotlib.axis_4\">\n    <g id=\"ytick_6\">\n     <g id=\"line2d_11\">\n      <defs>\n       <path id=\"m8d014459dd\" d=\"M 0 0 \nL 6 0 \n\" style=\"stroke: #262626; stroke-width: 1.25\"/>\n      </defs>\n      <g>\n       <use xlink:href=\"#m8d014459dd\" x=\"375.882444\" y=\"288.430125\" style=\"fill: #262626; stroke: #262626; stroke-width: 1.25\"/>\n      </g>\n     </g>\n     <g id=\"text_14\">\n      <!-- 0.0 -->\n      <g style=\"fill: #262626\" transform=\"translate(385.382444 292.609266) scale(0.11 -0.11)\">\n       <use xlink:href=\"#DejaVuSans-30\"/>\n       <use xlink:href=\"#DejaVuSans-2e\" x=\"63.623047\"/>\n       <use xlink:href=\"#DejaVuSans-30\" x=\"95.410156\"/>\n      </g>\n     </g>\n    </g>\n    <g id=\"ytick_7\">\n     <g id=\"line2d_12\">\n      <g>\n       <use xlink:href=\"#m8d014459dd\" x=\"375.882444\" y=\"235.207725\" style=\"fill: #262626; stroke: #262626; stroke-width: 1.25\"/>\n      </g>\n     </g>\n     <g id=\"text_15\">\n      <!-- 0.2 -->\n      <g style=\"fill: #262626\" transform=\"translate(385.382444 239.386866) scale(0.11 -0.11)\">\n       <use xlink:href=\"#DejaVuSans-30\"/>\n       <use xlink:href=\"#DejaVuSans-2e\" x=\"63.623047\"/>\n       <use xlink:href=\"#DejaVuSans-32\" x=\"95.410156\"/>\n      </g>\n     </g>\n    </g>\n    <g id=\"ytick_8\">\n     <g id=\"line2d_13\">\n      <g>\n       <use xlink:href=\"#m8d014459dd\" x=\"375.882444\" y=\"181.985325\" style=\"fill: #262626; stroke: #262626; stroke-width: 1.25\"/>\n      </g>\n     </g>\n     <g id=\"text_16\">\n      <!-- 0.4 -->\n      <g style=\"fill: #262626\" transform=\"translate(385.382444 186.164466) scale(0.11 -0.11)\">\n       <defs>\n        <path id=\"DejaVuSans-34\" d=\"M 2419 4116 \nL 825 1625 \nL 2419 1625 \nL 2419 4116 \nz\nM 2253 4666 \nL 3047 4666 \nL 3047 1625 \nL 3713 1625 \nL 3713 1100 \nL 3047 1100 \nL 3047 0 \nL 2419 0 \nL 2419 1100 \nL 313 1100 \nL 313 1709 \nL 2253 4666 \nz\n\" transform=\"scale(0.015625)\"/>\n       </defs>\n       <use xlink:href=\"#DejaVuSans-30\"/>\n       <use xlink:href=\"#DejaVuSans-2e\" x=\"63.623047\"/>\n       <use xlink:href=\"#DejaVuSans-34\" x=\"95.410156\"/>\n      </g>\n     </g>\n    </g>\n    <g id=\"ytick_9\">\n     <g id=\"line2d_14\">\n      <g>\n       <use xlink:href=\"#m8d014459dd\" x=\"375.882444\" y=\"128.762925\" style=\"fill: #262626; stroke: #262626; stroke-width: 1.25\"/>\n      </g>\n     </g>\n     <g id=\"text_17\">\n      <!-- 0.6 -->\n      <g style=\"fill: #262626\" transform=\"translate(385.382444 132.942066) scale(0.11 -0.11)\">\n       <defs>\n        <path id=\"DejaVuSans-36\" d=\"M 2113 2584 \nQ 1688 2584 1439 2293 \nQ 1191 2003 1191 1497 \nQ 1191 994 1439 701 \nQ 1688 409 2113 409 \nQ 2538 409 2786 701 \nQ 3034 994 3034 1497 \nQ 3034 2003 2786 2293 \nQ 2538 2584 2113 2584 \nz\nM 3366 4563 \nL 3366 3988 \nQ 3128 4100 2886 4159 \nQ 2644 4219 2406 4219 \nQ 1781 4219 1451 3797 \nQ 1122 3375 1075 2522 \nQ 1259 2794 1537 2939 \nQ 1816 3084 2150 3084 \nQ 2853 3084 3261 2657 \nQ 3669 2231 3669 1497 \nQ 3669 778 3244 343 \nQ 2819 -91 2113 -91 \nQ 1303 -91 875 529 \nQ 447 1150 447 2328 \nQ 447 3434 972 4092 \nQ 1497 4750 2381 4750 \nQ 2619 4750 2861 4703 \nQ 3103 4656 3366 4563 \nz\n\" transform=\"scale(0.015625)\"/>\n       </defs>\n       <use xlink:href=\"#DejaVuSans-30\"/>\n       <use xlink:href=\"#DejaVuSans-2e\" x=\"63.623047\"/>\n       <use xlink:href=\"#DejaVuSans-36\" x=\"95.410156\"/>\n      </g>\n     </g>\n    </g>\n    <g id=\"ytick_10\">\n     <g id=\"line2d_15\">\n      <g>\n       <use xlink:href=\"#m8d014459dd\" x=\"375.882444\" y=\"75.540525\" style=\"fill: #262626; stroke: #262626; stroke-width: 1.25\"/>\n      </g>\n     </g>\n     <g id=\"text_18\">\n      <!-- 0.8 -->\n      <g style=\"fill: #262626\" transform=\"translate(385.382444 79.719666) scale(0.11 -0.11)\">\n       <defs>\n        <path id=\"DejaVuSans-38\" d=\"M 2034 2216 \nQ 1584 2216 1326 1975 \nQ 1069 1734 1069 1313 \nQ 1069 891 1326 650 \nQ 1584 409 2034 409 \nQ 2484 409 2743 651 \nQ 3003 894 3003 1313 \nQ 3003 1734 2745 1975 \nQ 2488 2216 2034 2216 \nz\nM 1403 2484 \nQ 997 2584 770 2862 \nQ 544 3141 544 3541 \nQ 544 4100 942 4425 \nQ 1341 4750 2034 4750 \nQ 2731 4750 3128 4425 \nQ 3525 4100 3525 3541 \nQ 3525 3141 3298 2862 \nQ 3072 2584 2669 2484 \nQ 3125 2378 3379 2068 \nQ 3634 1759 3634 1313 \nQ 3634 634 3220 271 \nQ 2806 -91 2034 -91 \nQ 1263 -91 848 271 \nQ 434 634 434 1313 \nQ 434 1759 690 2068 \nQ 947 2378 1403 2484 \nz\nM 1172 3481 \nQ 1172 3119 1398 2916 \nQ 1625 2713 2034 2713 \nQ 2441 2713 2670 2916 \nQ 2900 3119 2900 3481 \nQ 2900 3844 2670 4047 \nQ 2441 4250 2034 4250 \nQ 1625 4250 1398 4047 \nQ 1172 3844 1172 3481 \nz\n\" transform=\"scale(0.015625)\"/>\n       </defs>\n       <use xlink:href=\"#DejaVuSans-30\"/>\n       <use xlink:href=\"#DejaVuSans-2e\" x=\"63.623047\"/>\n       <use xlink:href=\"#DejaVuSans-38\" x=\"95.410156\"/>\n      </g>\n     </g>\n    </g>\n    <g id=\"ytick_11\">\n     <g id=\"line2d_16\">\n      <g>\n       <use xlink:href=\"#m8d014459dd\" x=\"375.882444\" y=\"22.318125\" style=\"fill: #262626; stroke: #262626; stroke-width: 1.25\"/>\n      </g>\n     </g>\n     <g id=\"text_19\">\n      <!-- 1.0 -->\n      <g style=\"fill: #262626\" transform=\"translate(385.382444 26.497266) scale(0.11 -0.11)\">\n       <use xlink:href=\"#DejaVuSans-31\"/>\n       <use xlink:href=\"#DejaVuSans-2e\" x=\"63.623047\"/>\n       <use xlink:href=\"#DejaVuSans-30\" x=\"95.410156\"/>\n      </g>\n     </g>\n    </g>\n   </g>\n   <image xlink:href=\"data:image/png;base64,\niVBORw0KGgoAAAANSUhEUgAAABIAAAFxCAYAAAB+2fgXAAAB+klEQVR4nO2c243DQAwDtY7TRPrv0ylB/piPAUEVQJjiY/fgc87n+3sGmPsQKDNzQThzn8M8Ewg0DJBwRxcEBFKDlm2khqlWQ65A1BNxO6JUE1JraHeg5NByzmbY1dn7lNoLoFLbgXzX4+CTNpga52ydIX0nrXBHFFByZ/tUszlbqRozws7mjiOd/JhqQmdzoWVGGdruaAMSOpsC8l0iuFNEp5qOmjC04EnLjJCaT7VgQ3JV2x2tQL6TFuxsZox9hPyPRrqzmRHKb3Q2BQQ5O9iQRmdTfZTsbAgIdHbuKaLro2hnJ3c2w01Ytb7Qcqo9zJKid5Tr7OOjZgMiDSnLmlJ+akdQ/IPlJ19mYqrZDAm+zYJ2RC0bDC1HDcGps18MtuxoQ0I3LaOzOWrB8iM4xj6i5Df2Eebs7mgbso8oIF0fcdRyVZvgzubkZ4A4ahRUqe2jpAa9pqeeiAxtLLWhqFE7Ejqb2pHSkDIg4UcVPmqgarbv+6P7iFINukUkO/vkOpuS30itqu1AutBSWRNSC1aNyto9uk/zOGp19g6k62zuryPhSRurGlUjZLHpdlT5dyAftRpyB8o9jpKp2eQvtX181ITOPufDAPmo6eQvtX3uuShD5oYWo0alv87ex0cNy5rQ2b7QUr8xLqRWQ74AotLv+616XbH5biN/m4UuoYE2De8AAAAASUVORK5CYII=\" id=\"imageeb7fff7cb2\" transform=\"scale(1 -1) translate(0 -265.68)\" x=\"362.88\" y=\"-22.32\" width=\"12.96\" height=\"265.68\"/>\n   <g id=\"LineCollection_1\"/>\n   <g id=\"patch_8\">\n    <path d=\"M 362.576844 288.430125 \nL 369.229644 288.430125 \nL 375.882444 288.430125 \nL 375.882444 22.318125 \nL 369.229644 22.318125 \nL 362.576844 22.318125 \nL 362.576844 288.430125 \nz\n\" style=\"fill: none; stroke: #ffffff; stroke-width: 1.25; stroke-linejoin: miter; stroke-linecap: square\"/>\n   </g>\n  </g>\n </g>\n <defs>\n  <clipPath id=\"pd5b7aef74c\">\n   <rect x=\"59.024844\" y=\"22.318125\" width=\"285.696\" height=\"266.112\"/>\n  </clipPath>\n </defs>\n</svg>\n",
            "application/pdf": "[encoded data removed]"
          },
          "metadata": {}
        }
      ]
    }
  ]
}